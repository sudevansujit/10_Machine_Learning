{
 "cells": [
  {
   "cell_type": "markdown",
   "metadata": {},
   "source": [
    "### Accessing Geospatial Data Using APIs"
   ]
  },
  {
   "cell_type": "code",
   "execution_count": 2,
   "metadata": {},
   "outputs": [],
   "source": [
    "import pandas as pd\n",
    "import numpy as np\n",
    "import json"
   ]
  },
  {
   "cell_type": "code",
   "execution_count": 3,
   "metadata": {},
   "outputs": [
    {
     "data": {
      "text/html": [
       "<div>\n",
       "<style scoped>\n",
       "    .dataframe tbody tr th:only-of-type {\n",
       "        vertical-align: middle;\n",
       "    }\n",
       "\n",
       "    .dataframe tbody tr th {\n",
       "        vertical-align: top;\n",
       "    }\n",
       "\n",
       "    .dataframe thead th {\n",
       "        text-align: right;\n",
       "    }\n",
       "</style>\n",
       "<table border=\"1\" class=\"dataframe\">\n",
       "  <thead>\n",
       "    <tr style=\"text-align: right;\">\n",
       "      <th></th>\n",
       "      <th>county</th>\n",
       "      <th>fipscode</th>\n",
       "      <th>year</th>\n",
       "      <th>age</th>\n",
       "      <th>malepopulation</th>\n",
       "      <th>femalepopulation</th>\n",
       "      <th>totalpopulation</th>\n",
       "      <th>datatype</th>\n",
       "    </tr>\n",
       "  </thead>\n",
       "  <tbody>\n",
       "    <tr>\n",
       "      <th>0</th>\n",
       "      <td>Boulder</td>\n",
       "      <td>13</td>\n",
       "      <td>1990</td>\n",
       "      <td>0</td>\n",
       "      <td>1597</td>\n",
       "      <td>1630</td>\n",
       "      <td>3227</td>\n",
       "      <td>Estimate</td>\n",
       "    </tr>\n",
       "    <tr>\n",
       "      <th>1</th>\n",
       "      <td>Boulder</td>\n",
       "      <td>13</td>\n",
       "      <td>1990</td>\n",
       "      <td>1</td>\n",
       "      <td>1583</td>\n",
       "      <td>1581</td>\n",
       "      <td>3164</td>\n",
       "      <td>Estimate</td>\n",
       "    </tr>\n",
       "    <tr>\n",
       "      <th>2</th>\n",
       "      <td>Boulder</td>\n",
       "      <td>13</td>\n",
       "      <td>1990</td>\n",
       "      <td>2</td>\n",
       "      <td>1593</td>\n",
       "      <td>1564</td>\n",
       "      <td>3157</td>\n",
       "      <td>Estimate</td>\n",
       "    </tr>\n",
       "    <tr>\n",
       "      <th>3</th>\n",
       "      <td>Boulder</td>\n",
       "      <td>13</td>\n",
       "      <td>1990</td>\n",
       "      <td>3</td>\n",
       "      <td>1631</td>\n",
       "      <td>1530</td>\n",
       "      <td>3161</td>\n",
       "      <td>Estimate</td>\n",
       "    </tr>\n",
       "    <tr>\n",
       "      <th>4</th>\n",
       "      <td>Boulder</td>\n",
       "      <td>13</td>\n",
       "      <td>1990</td>\n",
       "      <td>4</td>\n",
       "      <td>1696</td>\n",
       "      <td>1594</td>\n",
       "      <td>3290</td>\n",
       "      <td>Estimate</td>\n",
       "    </tr>\n",
       "  </tbody>\n",
       "</table>\n",
       "</div>"
      ],
      "text/plain": [
       "    county  fipscode  year  age  malepopulation  femalepopulation  \\\n",
       "0  Boulder        13  1990    0            1597              1630   \n",
       "1  Boulder        13  1990    1            1583              1581   \n",
       "2  Boulder        13  1990    2            1593              1564   \n",
       "3  Boulder        13  1990    3            1631              1530   \n",
       "4  Boulder        13  1990    4            1696              1594   \n",
       "\n",
       "   totalpopulation  datatype  \n",
       "0             3227  Estimate  \n",
       "1             3164  Estimate  \n",
       "2             3157  Estimate  \n",
       "3             3161  Estimate  \n",
       "4             3290  Estimate  "
      ]
     },
     "execution_count": 3,
     "metadata": {},
     "output_type": "execute_result"
    }
   ],
   "source": [
    "data = pd.read_json('tv8u-hswn.json')\n",
    "data.head()"
   ]
  },
  {
   "cell_type": "code",
   "execution_count": 4,
   "metadata": {},
   "outputs": [
    {
     "data": {
      "text/plain": [
       "(1000, 8)"
      ]
     },
     "execution_count": 4,
     "metadata": {},
     "output_type": "execute_result"
    }
   ],
   "source": [
    "data.shape"
   ]
  },
  {
   "cell_type": "code",
   "execution_count": 5,
   "metadata": {},
   "outputs": [
    {
     "data": {
      "text/plain": [
       "county              0\n",
       "fipscode            0\n",
       "year                0\n",
       "age                 0\n",
       "malepopulation      0\n",
       "femalepopulation    0\n",
       "totalpopulation     0\n",
       "datatype            0\n",
       "dtype: int64"
      ]
     },
     "execution_count": 5,
     "metadata": {},
     "output_type": "execute_result"
    }
   ],
   "source": [
    "data.isnull().sum()"
   ]
  },
  {
   "cell_type": "code",
   "execution_count": 6,
   "metadata": {},
   "outputs": [
    {
     "data": {
      "text/plain": [
       "county                1\n",
       "fipscode              1\n",
       "year                 11\n",
       "age                  91\n",
       "malepopulation      830\n",
       "femalepopulation    801\n",
       "totalpopulation     907\n",
       "datatype              1\n",
       "dtype: int64"
      ]
     },
     "execution_count": 6,
     "metadata": {},
     "output_type": "execute_result"
    }
   ],
   "source": [
    "data.nunique()"
   ]
  },
  {
   "cell_type": "markdown",
   "metadata": {},
   "source": [
    "The Python library json is helpful to convert data from lists or dictonaries into JSON strings and JSON strings into lists or dictonaries. Pandas can also be used to convert JSON data (via a Python dictionary) into a Pandas DataFrame.\n",
    "\n",
    "In this lesson, you will use the json and Pandas libraries to create and convert JSON objects."
   ]
  },
  {
   "cell_type": "code",
   "execution_count": 7,
   "metadata": {},
   "outputs": [
    {
     "data": {
      "text/plain": [
       "{'name': 'Chaya', 'age': 12, 'city': 'Boulder', 'type': 'Canine'}"
      ]
     },
     "execution_count": 7,
     "metadata": {},
     "output_type": "execute_result"
    }
   ],
   "source": [
    "# Create and populate the dictionary\n",
    "dict = {}\n",
    "dict[\"name\"] = \"Chaya\"\n",
    "dict[\"age\"] = 12\n",
    "dict[\"city\"] = \"Boulder\"\n",
    "dict[\"type\"] = \"Canine\"\n",
    "\n",
    "dict"
   ]
  },
  {
   "cell_type": "code",
   "execution_count": 8,
   "metadata": {},
   "outputs": [
    {
     "data": {
      "text/plain": [
       "'{\"name\": \"Chaya\", \"age\": 12, \"city\": \"Boulder\", \"type\": \"Canine\"}'"
      ]
     },
     "execution_count": 8,
     "metadata": {},
     "output_type": "execute_result"
    }
   ],
   "source": [
    "json_example = json.dumps(dict, ensure_ascii=False)\n",
    "\n",
    "json_example"
   ]
  },
  {
   "cell_type": "code",
   "execution_count": 9,
   "metadata": {},
   "outputs": [
    {
     "data": {
      "text/plain": [
       "str"
      ]
     },
     "execution_count": 9,
     "metadata": {},
     "output_type": "execute_result"
    }
   ],
   "source": [
    "type(json_example)"
   ]
  },
  {
   "cell_type": "code",
   "execution_count": 10,
   "metadata": {},
   "outputs": [
    {
     "data": {
      "text/plain": [
       "str"
      ]
     },
     "execution_count": 10,
     "metadata": {},
     "output_type": "execute_result"
    }
   ],
   "source": [
    "json_sample =  '{ \"name\":\"Chaya\", \"age\":12, \"city\":\"Boulder\", \"type\":\"Canine\" }'\n",
    "\n",
    "type(json_sample)"
   ]
  },
  {
   "cell_type": "code",
   "execution_count": 11,
   "metadata": {},
   "outputs": [
    {
     "data": {
      "text/plain": [
       "{'name': 'Chaya', 'age': 12, 'city': 'Boulder', 'type': 'Canine'}"
      ]
     },
     "execution_count": 11,
     "metadata": {},
     "output_type": "execute_result"
    }
   ],
   "source": [
    "# Load JSON into dictionary\n",
    "data_sample = json.loads(json_sample)\n",
    "data_sample"
   ]
  },
  {
   "cell_type": "code",
   "execution_count": 12,
   "metadata": {},
   "outputs": [
    {
     "data": {
      "text/plain": [
       "dict"
      ]
     },
     "execution_count": 12,
     "metadata": {},
     "output_type": "execute_result"
    }
   ],
   "source": [
    "type(data_sample)"
   ]
  },
  {
   "cell_type": "code",
   "execution_count": 13,
   "metadata": {},
   "outputs": [
    {
     "data": {
      "text/plain": [
       "{'name': 'Chaya', 'age': 12, 'city': 'Boulder', 'type': 'Canine'}"
      ]
     },
     "execution_count": 13,
     "metadata": {},
     "output_type": "execute_result"
    }
   ],
   "source": [
    "data_sample = json.loads(json_example)\n",
    "data_sample"
   ]
  },
  {
   "cell_type": "code",
   "execution_count": 14,
   "metadata": {},
   "outputs": [
    {
     "data": {
      "text/plain": [
       "dict"
      ]
     },
     "execution_count": 14,
     "metadata": {},
     "output_type": "execute_result"
    }
   ],
   "source": [
    "type(data_sample)"
   ]
  },
  {
   "cell_type": "code",
   "execution_count": 15,
   "metadata": {},
   "outputs": [
    {
     "data": {
      "text/html": [
       "<div>\n",
       "<style scoped>\n",
       "    .dataframe tbody tr th:only-of-type {\n",
       "        vertical-align: middle;\n",
       "    }\n",
       "\n",
       "    .dataframe tbody tr th {\n",
       "        vertical-align: top;\n",
       "    }\n",
       "\n",
       "    .dataframe thead th {\n",
       "        text-align: right;\n",
       "    }\n",
       "</style>\n",
       "<table border=\"1\" class=\"dataframe\">\n",
       "  <thead>\n",
       "    <tr style=\"text-align: right;\">\n",
       "      <th></th>\n",
       "      <th>0</th>\n",
       "    </tr>\n",
       "  </thead>\n",
       "  <tbody>\n",
       "    <tr>\n",
       "      <th>name</th>\n",
       "      <td>Chaya</td>\n",
       "    </tr>\n",
       "    <tr>\n",
       "      <th>age</th>\n",
       "      <td>12</td>\n",
       "    </tr>\n",
       "    <tr>\n",
       "      <th>city</th>\n",
       "      <td>Boulder</td>\n",
       "    </tr>\n",
       "    <tr>\n",
       "      <th>type</th>\n",
       "      <td>Canine</td>\n",
       "    </tr>\n",
       "  </tbody>\n",
       "</table>\n",
       "</div>"
      ],
      "text/plain": [
       "            0\n",
       "name    Chaya\n",
       "age        12\n",
       "city  Boulder\n",
       "type   Canine"
      ]
     },
     "execution_count": 15,
     "metadata": {},
     "output_type": "execute_result"
    }
   ],
   "source": [
    "df = pd.DataFrame.from_dict(data_sample, orient='index')\n",
    "df"
   ]
  },
  {
   "cell_type": "code",
   "execution_count": 16,
   "metadata": {},
   "outputs": [
    {
     "data": {
      "text/plain": [
       "str"
      ]
     },
     "execution_count": 16,
     "metadata": {},
     "output_type": "execute_result"
    }
   ],
   "source": [
    "sample_json = df.to_json(orient='split')\n",
    "\n",
    "type(sample_json)"
   ]
  },
  {
   "cell_type": "markdown",
   "metadata": {},
   "source": [
    "### Programmatically Accessing Geospatial Data Using APIs"
   ]
  },
  {
   "cell_type": "code",
   "execution_count": 17,
   "metadata": {},
   "outputs": [],
   "source": [
    "import requests\n",
    "\n",
    "import urllib\n",
    "from pandas.io.json import json_normalize\n",
    "import pandas as pd\n",
    "import folium\n",
    "from geopandas import GeoDataFrame\n",
    "from shapely.geometry import Point"
   ]
  },
  {
   "cell_type": "code",
   "execution_count": 18,
   "metadata": {},
   "outputs": [
    {
     "data": {
      "text/plain": [
       "'https://data.colorado.gov/resource/j5pc-4t32.json?station_status=Active&county=BOULDER'"
      ]
     },
     "execution_count": 18,
     "metadata": {},
     "output_type": "execute_result"
    }
   ],
   "source": [
    "# Get URL\n",
    "water_base_url = \"https://data.colorado.gov/resource/j5pc-4t32.json?\"\n",
    "water_full_url = water_base_url + \"station_status=Active\" + \"&county=BOULDER\"\n",
    "water_full_url"
   ]
  },
  {
   "cell_type": "code",
   "execution_count": 19,
   "metadata": {},
   "outputs": [
    {
     "data": {
      "text/plain": [
       "requests.models.Response"
      ]
     },
     "execution_count": 19,
     "metadata": {},
     "output_type": "execute_result"
    }
   ],
   "source": [
    "data = requests.get(water_full_url)\n",
    "type(data)"
   ]
  },
  {
   "cell_type": "code",
   "execution_count": 20,
   "metadata": {},
   "outputs": [
    {
     "data": {
      "text/plain": [
       "list"
      ]
     },
     "execution_count": 20,
     "metadata": {},
     "output_type": "execute_result"
    }
   ],
   "source": [
    "type(data.json())"
   ]
  },
  {
   "cell_type": "markdown",
   "metadata": {},
   "source": [
    "Remember that the JSON structure supports hierarchical data and can be NESTED. If you look at the structure of the .json file below, you can see that the location object, is nested with three sub objects:\n",
    "\n",
    "latitude\n",
    "\n",
    "longitude\n",
    "\n",
    "needs_recoding\n",
    "\n",
    "Since data.json() is a list you can print out just the first few items of the list to look at your data as a sanity check."
   ]
  },
  {
   "cell_type": "code",
   "execution_count": 21,
   "metadata": {},
   "outputs": [
    {
     "data": {
      "text/plain": [
       "[{'station_name': 'PALMERTON DITCH',\n",
       "  'div': '1',\n",
       "  'location': {'latitude': '40.212505',\n",
       "   'needs_recoding': False,\n",
       "   'longitude': '-105.251826'},\n",
       "  'dwr_abbrev': 'PALDITCO',\n",
       "  'data_source': 'Cooperative Program of CDWR, NCWCD & SVLHWCD',\n",
       "  'amount': '1.08',\n",
       "  'station_type': 'Diversion',\n",
       "  'wd': '5',\n",
       "  'http_linkage': {'url': 'https://dwr.state.co.us/Tools/Stations/PALDITCO'},\n",
       "  'date_time': '2020-10-22T10:00:00.000',\n",
       "  'county': 'BOULDER',\n",
       "  'variable': 'DISCHRG',\n",
       "  'stage': '0.12',\n",
       "  'station_status': 'Active'}]"
      ]
     },
     "execution_count": 21,
     "metadata": {},
     "output_type": "execute_result"
    }
   ],
   "source": [
    "data.json()[:1]"
   ]
  },
  {
   "cell_type": "markdown",
   "metadata": {},
   "source": [
    "### Convert JSON to Pandas DataFrame"
   ]
  },
  {
   "cell_type": "code",
   "execution_count": 22,
   "metadata": {},
   "outputs": [],
   "source": [
    "from pandas.io.json import json_normalize"
   ]
  },
  {
   "cell_type": "code",
   "execution_count": 23,
   "metadata": {},
   "outputs": [],
   "source": [
    "result = pd.json_normalize(data.json())"
   ]
  },
  {
   "cell_type": "code",
   "execution_count": 24,
   "metadata": {},
   "outputs": [
    {
     "data": {
      "text/html": [
       "<div>\n",
       "<style scoped>\n",
       "    .dataframe tbody tr th:only-of-type {\n",
       "        vertical-align: middle;\n",
       "    }\n",
       "\n",
       "    .dataframe tbody tr th {\n",
       "        vertical-align: top;\n",
       "    }\n",
       "\n",
       "    .dataframe thead th {\n",
       "        text-align: right;\n",
       "    }\n",
       "</style>\n",
       "<table border=\"1\" class=\"dataframe\">\n",
       "  <thead>\n",
       "    <tr style=\"text-align: right;\">\n",
       "      <th></th>\n",
       "      <th>station_name</th>\n",
       "      <th>div</th>\n",
       "      <th>dwr_abbrev</th>\n",
       "      <th>data_source</th>\n",
       "      <th>amount</th>\n",
       "      <th>station_type</th>\n",
       "      <th>wd</th>\n",
       "      <th>date_time</th>\n",
       "      <th>county</th>\n",
       "      <th>variable</th>\n",
       "      <th>stage</th>\n",
       "      <th>station_status</th>\n",
       "      <th>location.latitude</th>\n",
       "      <th>location.needs_recoding</th>\n",
       "      <th>location.longitude</th>\n",
       "      <th>http_linkage.url</th>\n",
       "      <th>usgs_station_id</th>\n",
       "      <th>flag</th>\n",
       "    </tr>\n",
       "  </thead>\n",
       "  <tbody>\n",
       "    <tr>\n",
       "      <th>0</th>\n",
       "      <td>PALMERTON DITCH</td>\n",
       "      <td>1</td>\n",
       "      <td>PALDITCO</td>\n",
       "      <td>Cooperative Program of CDWR, NCWCD &amp; SVLHWCD</td>\n",
       "      <td>1.08</td>\n",
       "      <td>Diversion</td>\n",
       "      <td>5</td>\n",
       "      <td>2020-10-22T10:00:00.000</td>\n",
       "      <td>BOULDER</td>\n",
       "      <td>DISCHRG</td>\n",
       "      <td>0.12</td>\n",
       "      <td>Active</td>\n",
       "      <td>40.212505</td>\n",
       "      <td>False</td>\n",
       "      <td>-105.251826</td>\n",
       "      <td>https://dwr.state.co.us/Tools/Stations/PALDITCO</td>\n",
       "      <td>NaN</td>\n",
       "      <td>NaN</td>\n",
       "    </tr>\n",
       "    <tr>\n",
       "      <th>1</th>\n",
       "      <td>LEFT HAND CREEK AT HOVER ROAD NEAR LONGMONT, CO</td>\n",
       "      <td>1</td>\n",
       "      <td>LEFTHOCO</td>\n",
       "      <td>U.S. Geological Survey</td>\n",
       "      <td>4.18</td>\n",
       "      <td>Stream</td>\n",
       "      <td>5</td>\n",
       "      <td>2020-10-22T10:10:00.000</td>\n",
       "      <td>BOULDER</td>\n",
       "      <td>DISCHRG</td>\n",
       "      <td>NaN</td>\n",
       "      <td>Active</td>\n",
       "      <td>40.134278</td>\n",
       "      <td>False</td>\n",
       "      <td>-105.130819</td>\n",
       "      <td>https://dwr.state.co.us/Tools/Stations/LEFTHOCO</td>\n",
       "      <td>06724970</td>\n",
       "      <td>NaN</td>\n",
       "    </tr>\n",
       "    <tr>\n",
       "      <th>2</th>\n",
       "      <td>CLOUGH AND TRUE DITCH</td>\n",
       "      <td>1</td>\n",
       "      <td>CLODITCO</td>\n",
       "      <td>Cooperative Program of CDWR, NCWCD &amp; SVLHWCD</td>\n",
       "      <td>0.00</td>\n",
       "      <td>Diversion</td>\n",
       "      <td>5</td>\n",
       "      <td>2020-10-22T10:00:00.000</td>\n",
       "      <td>BOULDER</td>\n",
       "      <td>DISCHRG</td>\n",
       "      <td>0.00</td>\n",
       "      <td>Active</td>\n",
       "      <td>40.193758</td>\n",
       "      <td>False</td>\n",
       "      <td>-105.21039</td>\n",
       "      <td>https://dwr.state.co.us/Tools/Stations/CLODITCO</td>\n",
       "      <td>NaN</td>\n",
       "      <td>NaN</td>\n",
       "    </tr>\n",
       "    <tr>\n",
       "      <th>3</th>\n",
       "      <td>MIDDLE SAINT VRAIN AT PEACEFUL VALLEY</td>\n",
       "      <td>1</td>\n",
       "      <td>MIDSTECO</td>\n",
       "      <td>Co. Division of Water Resources</td>\n",
       "      <td>3.61</td>\n",
       "      <td>Stream</td>\n",
       "      <td>5</td>\n",
       "      <td>2020-10-22T10:00:00.000</td>\n",
       "      <td>BOULDER</td>\n",
       "      <td>DISCHRG</td>\n",
       "      <td>2.28</td>\n",
       "      <td>Active</td>\n",
       "      <td>40.129806</td>\n",
       "      <td>False</td>\n",
       "      <td>-105.517111</td>\n",
       "      <td>https://dwr.state.co.us/Tools/Stations/MIDSTECO</td>\n",
       "      <td>NaN</td>\n",
       "      <td>NaN</td>\n",
       "    </tr>\n",
       "    <tr>\n",
       "      <th>4</th>\n",
       "      <td>MIDDLE BOULDER CREEK AT NEDERLAND, CO.</td>\n",
       "      <td>1</td>\n",
       "      <td>BOCMIDCO</td>\n",
       "      <td>Co. Division of Water Resources</td>\n",
       "      <td>4.30</td>\n",
       "      <td>Stream</td>\n",
       "      <td>6</td>\n",
       "      <td>2020-10-22T10:15:00.000</td>\n",
       "      <td>BOULDER</td>\n",
       "      <td>DISCHRG</td>\n",
       "      <td>0.39</td>\n",
       "      <td>Active</td>\n",
       "      <td>39.961655</td>\n",
       "      <td>False</td>\n",
       "      <td>-105.50444</td>\n",
       "      <td>https://dwr.state.co.us/Tools/Stations/BOCMIDCO</td>\n",
       "      <td>06725500</td>\n",
       "      <td>NaN</td>\n",
       "    </tr>\n",
       "  </tbody>\n",
       "</table>\n",
       "</div>"
      ],
      "text/plain": [
       "                                      station_name div dwr_abbrev  \\\n",
       "0                                  PALMERTON DITCH   1   PALDITCO   \n",
       "1  LEFT HAND CREEK AT HOVER ROAD NEAR LONGMONT, CO   1   LEFTHOCO   \n",
       "2                            CLOUGH AND TRUE DITCH   1   CLODITCO   \n",
       "3            MIDDLE SAINT VRAIN AT PEACEFUL VALLEY   1   MIDSTECO   \n",
       "4           MIDDLE BOULDER CREEK AT NEDERLAND, CO.   1   BOCMIDCO   \n",
       "\n",
       "                                    data_source amount station_type wd  \\\n",
       "0  Cooperative Program of CDWR, NCWCD & SVLHWCD   1.08    Diversion  5   \n",
       "1                        U.S. Geological Survey   4.18       Stream  5   \n",
       "2  Cooperative Program of CDWR, NCWCD & SVLHWCD   0.00    Diversion  5   \n",
       "3               Co. Division of Water Resources   3.61       Stream  5   \n",
       "4               Co. Division of Water Resources   4.30       Stream  6   \n",
       "\n",
       "                 date_time   county variable stage station_status  \\\n",
       "0  2020-10-22T10:00:00.000  BOULDER  DISCHRG  0.12         Active   \n",
       "1  2020-10-22T10:10:00.000  BOULDER  DISCHRG   NaN         Active   \n",
       "2  2020-10-22T10:00:00.000  BOULDER  DISCHRG  0.00         Active   \n",
       "3  2020-10-22T10:00:00.000  BOULDER  DISCHRG  2.28         Active   \n",
       "4  2020-10-22T10:15:00.000  BOULDER  DISCHRG  0.39         Active   \n",
       "\n",
       "  location.latitude  location.needs_recoding location.longitude  \\\n",
       "0         40.212505                    False        -105.251826   \n",
       "1         40.134278                    False        -105.130819   \n",
       "2         40.193758                    False         -105.21039   \n",
       "3         40.129806                    False        -105.517111   \n",
       "4         39.961655                    False         -105.50444   \n",
       "\n",
       "                                  http_linkage.url usgs_station_id flag  \n",
       "0  https://dwr.state.co.us/Tools/Stations/PALDITCO             NaN  NaN  \n",
       "1  https://dwr.state.co.us/Tools/Stations/LEFTHOCO        06724970  NaN  \n",
       "2  https://dwr.state.co.us/Tools/Stations/CLODITCO             NaN  NaN  \n",
       "3  https://dwr.state.co.us/Tools/Stations/MIDSTECO             NaN  NaN  \n",
       "4  https://dwr.state.co.us/Tools/Stations/BOCMIDCO        06725500  NaN  "
      ]
     },
     "execution_count": 24,
     "metadata": {},
     "output_type": "execute_result"
    }
   ],
   "source": [
    "result.head()"
   ]
  },
  {
   "cell_type": "code",
   "execution_count": 25,
   "metadata": {},
   "outputs": [],
   "source": [
    "import folium"
   ]
  },
  {
   "cell_type": "code",
   "execution_count": 26,
   "metadata": {},
   "outputs": [],
   "source": [
    "result['location.longitude'] = result['location.longitude'].astype(float)\n",
    "result['location.latitude'] = result['location.latitude'].astype(float)"
   ]
  },
  {
   "cell_type": "markdown",
   "metadata": {},
   "source": [
    "#### You will use the folium package to visualize the data. One approach you could take would be to convert your Pandas DataFrame to a Geopandas DataFrame for easy mapping"
   ]
  },
  {
   "cell_type": "code",
   "execution_count": 27,
   "metadata": {},
   "outputs": [
    {
     "name": "stderr",
     "output_type": "stream",
     "text": [
      "C:\\My_Programs\\Anaconda3\\envs\\tensorflow\\lib\\site-packages\\pyproj\\crs\\crs.py:53: FutureWarning: '+init=<authority>:<code>' syntax is deprecated. '<authority>:<code>' is the preferred initialization method. When making the change, be mindful of axis order changes: https://pyproj4.github.io/pyproj/stable/gotchas.html#axis-order-changes-in-proj-6\n",
      "  return _prepare_from_string(\" \".join(pjargs))\n"
     ]
    }
   ],
   "source": [
    "geometry = [Point(xy) for xy in zip(result['location.longitude'], result['location.latitude'])]\n",
    "crs = {'init': 'epsg:4326'}\n",
    "gdf = GeoDataFrame(result, crs=crs, geometry=geometry)"
   ]
  },
  {
   "cell_type": "code",
   "execution_count": 28,
   "metadata": {},
   "outputs": [
    {
     "data": {
      "text/html": [
       "<div>\n",
       "<style scoped>\n",
       "    .dataframe tbody tr th:only-of-type {\n",
       "        vertical-align: middle;\n",
       "    }\n",
       "\n",
       "    .dataframe tbody tr th {\n",
       "        vertical-align: top;\n",
       "    }\n",
       "\n",
       "    .dataframe thead th {\n",
       "        text-align: right;\n",
       "    }\n",
       "</style>\n",
       "<table border=\"1\" class=\"dataframe\">\n",
       "  <thead>\n",
       "    <tr style=\"text-align: right;\">\n",
       "      <th></th>\n",
       "      <th>station_name</th>\n",
       "      <th>div</th>\n",
       "      <th>dwr_abbrev</th>\n",
       "      <th>data_source</th>\n",
       "      <th>amount</th>\n",
       "      <th>station_type</th>\n",
       "      <th>wd</th>\n",
       "      <th>date_time</th>\n",
       "      <th>county</th>\n",
       "      <th>variable</th>\n",
       "      <th>stage</th>\n",
       "      <th>station_status</th>\n",
       "      <th>location.latitude</th>\n",
       "      <th>location.needs_recoding</th>\n",
       "      <th>location.longitude</th>\n",
       "      <th>http_linkage.url</th>\n",
       "      <th>usgs_station_id</th>\n",
       "      <th>flag</th>\n",
       "      <th>geometry</th>\n",
       "    </tr>\n",
       "  </thead>\n",
       "  <tbody>\n",
       "    <tr>\n",
       "      <th>0</th>\n",
       "      <td>PALMERTON DITCH</td>\n",
       "      <td>1</td>\n",
       "      <td>PALDITCO</td>\n",
       "      <td>Cooperative Program of CDWR, NCWCD &amp; SVLHWCD</td>\n",
       "      <td>1.08</td>\n",
       "      <td>Diversion</td>\n",
       "      <td>5</td>\n",
       "      <td>2020-10-22T10:00:00.000</td>\n",
       "      <td>BOULDER</td>\n",
       "      <td>DISCHRG</td>\n",
       "      <td>0.12</td>\n",
       "      <td>Active</td>\n",
       "      <td>40.212505</td>\n",
       "      <td>False</td>\n",
       "      <td>-105.251826</td>\n",
       "      <td>https://dwr.state.co.us/Tools/Stations/PALDITCO</td>\n",
       "      <td>NaN</td>\n",
       "      <td>NaN</td>\n",
       "      <td>POINT (-105.25183 40.21251)</td>\n",
       "    </tr>\n",
       "    <tr>\n",
       "      <th>1</th>\n",
       "      <td>LEFT HAND CREEK AT HOVER ROAD NEAR LONGMONT, CO</td>\n",
       "      <td>1</td>\n",
       "      <td>LEFTHOCO</td>\n",
       "      <td>U.S. Geological Survey</td>\n",
       "      <td>4.18</td>\n",
       "      <td>Stream</td>\n",
       "      <td>5</td>\n",
       "      <td>2020-10-22T10:10:00.000</td>\n",
       "      <td>BOULDER</td>\n",
       "      <td>DISCHRG</td>\n",
       "      <td>NaN</td>\n",
       "      <td>Active</td>\n",
       "      <td>40.134278</td>\n",
       "      <td>False</td>\n",
       "      <td>-105.130819</td>\n",
       "      <td>https://dwr.state.co.us/Tools/Stations/LEFTHOCO</td>\n",
       "      <td>06724970</td>\n",
       "      <td>NaN</td>\n",
       "      <td>POINT (-105.13082 40.13428)</td>\n",
       "    </tr>\n",
       "    <tr>\n",
       "      <th>2</th>\n",
       "      <td>CLOUGH AND TRUE DITCH</td>\n",
       "      <td>1</td>\n",
       "      <td>CLODITCO</td>\n",
       "      <td>Cooperative Program of CDWR, NCWCD &amp; SVLHWCD</td>\n",
       "      <td>0.00</td>\n",
       "      <td>Diversion</td>\n",
       "      <td>5</td>\n",
       "      <td>2020-10-22T10:00:00.000</td>\n",
       "      <td>BOULDER</td>\n",
       "      <td>DISCHRG</td>\n",
       "      <td>0.00</td>\n",
       "      <td>Active</td>\n",
       "      <td>40.193758</td>\n",
       "      <td>False</td>\n",
       "      <td>-105.210390</td>\n",
       "      <td>https://dwr.state.co.us/Tools/Stations/CLODITCO</td>\n",
       "      <td>NaN</td>\n",
       "      <td>NaN</td>\n",
       "      <td>POINT (-105.21039 40.19376)</td>\n",
       "    </tr>\n",
       "    <tr>\n",
       "      <th>3</th>\n",
       "      <td>MIDDLE SAINT VRAIN AT PEACEFUL VALLEY</td>\n",
       "      <td>1</td>\n",
       "      <td>MIDSTECO</td>\n",
       "      <td>Co. Division of Water Resources</td>\n",
       "      <td>3.61</td>\n",
       "      <td>Stream</td>\n",
       "      <td>5</td>\n",
       "      <td>2020-10-22T10:00:00.000</td>\n",
       "      <td>BOULDER</td>\n",
       "      <td>DISCHRG</td>\n",
       "      <td>2.28</td>\n",
       "      <td>Active</td>\n",
       "      <td>40.129806</td>\n",
       "      <td>False</td>\n",
       "      <td>-105.517111</td>\n",
       "      <td>https://dwr.state.co.us/Tools/Stations/MIDSTECO</td>\n",
       "      <td>NaN</td>\n",
       "      <td>NaN</td>\n",
       "      <td>POINT (-105.51711 40.12981)</td>\n",
       "    </tr>\n",
       "    <tr>\n",
       "      <th>4</th>\n",
       "      <td>MIDDLE BOULDER CREEK AT NEDERLAND, CO.</td>\n",
       "      <td>1</td>\n",
       "      <td>BOCMIDCO</td>\n",
       "      <td>Co. Division of Water Resources</td>\n",
       "      <td>4.30</td>\n",
       "      <td>Stream</td>\n",
       "      <td>6</td>\n",
       "      <td>2020-10-22T10:15:00.000</td>\n",
       "      <td>BOULDER</td>\n",
       "      <td>DISCHRG</td>\n",
       "      <td>0.39</td>\n",
       "      <td>Active</td>\n",
       "      <td>39.961655</td>\n",
       "      <td>False</td>\n",
       "      <td>-105.504440</td>\n",
       "      <td>https://dwr.state.co.us/Tools/Stations/BOCMIDCO</td>\n",
       "      <td>06725500</td>\n",
       "      <td>NaN</td>\n",
       "      <td>POINT (-105.50444 39.96166)</td>\n",
       "    </tr>\n",
       "  </tbody>\n",
       "</table>\n",
       "</div>"
      ],
      "text/plain": [
       "                                      station_name div dwr_abbrev  \\\n",
       "0                                  PALMERTON DITCH   1   PALDITCO   \n",
       "1  LEFT HAND CREEK AT HOVER ROAD NEAR LONGMONT, CO   1   LEFTHOCO   \n",
       "2                            CLOUGH AND TRUE DITCH   1   CLODITCO   \n",
       "3            MIDDLE SAINT VRAIN AT PEACEFUL VALLEY   1   MIDSTECO   \n",
       "4           MIDDLE BOULDER CREEK AT NEDERLAND, CO.   1   BOCMIDCO   \n",
       "\n",
       "                                    data_source amount station_type wd  \\\n",
       "0  Cooperative Program of CDWR, NCWCD & SVLHWCD   1.08    Diversion  5   \n",
       "1                        U.S. Geological Survey   4.18       Stream  5   \n",
       "2  Cooperative Program of CDWR, NCWCD & SVLHWCD   0.00    Diversion  5   \n",
       "3               Co. Division of Water Resources   3.61       Stream  5   \n",
       "4               Co. Division of Water Resources   4.30       Stream  6   \n",
       "\n",
       "                 date_time   county variable stage station_status  \\\n",
       "0  2020-10-22T10:00:00.000  BOULDER  DISCHRG  0.12         Active   \n",
       "1  2020-10-22T10:10:00.000  BOULDER  DISCHRG   NaN         Active   \n",
       "2  2020-10-22T10:00:00.000  BOULDER  DISCHRG  0.00         Active   \n",
       "3  2020-10-22T10:00:00.000  BOULDER  DISCHRG  2.28         Active   \n",
       "4  2020-10-22T10:15:00.000  BOULDER  DISCHRG  0.39         Active   \n",
       "\n",
       "   location.latitude  location.needs_recoding  location.longitude  \\\n",
       "0          40.212505                    False         -105.251826   \n",
       "1          40.134278                    False         -105.130819   \n",
       "2          40.193758                    False         -105.210390   \n",
       "3          40.129806                    False         -105.517111   \n",
       "4          39.961655                    False         -105.504440   \n",
       "\n",
       "                                  http_linkage.url usgs_station_id flag  \\\n",
       "0  https://dwr.state.co.us/Tools/Stations/PALDITCO             NaN  NaN   \n",
       "1  https://dwr.state.co.us/Tools/Stations/LEFTHOCO        06724970  NaN   \n",
       "2  https://dwr.state.co.us/Tools/Stations/CLODITCO             NaN  NaN   \n",
       "3  https://dwr.state.co.us/Tools/Stations/MIDSTECO             NaN  NaN   \n",
       "4  https://dwr.state.co.us/Tools/Stations/BOCMIDCO        06725500  NaN   \n",
       "\n",
       "                      geometry  \n",
       "0  POINT (-105.25183 40.21251)  \n",
       "1  POINT (-105.13082 40.13428)  \n",
       "2  POINT (-105.21039 40.19376)  \n",
       "3  POINT (-105.51711 40.12981)  \n",
       "4  POINT (-105.50444 39.96166)  "
      ]
     },
     "execution_count": 28,
     "metadata": {},
     "output_type": "execute_result"
    }
   ],
   "source": [
    "gdf.head()"
   ]
  },
  {
   "cell_type": "markdown",
   "metadata": {},
   "source": [
    "#### Then, you can plot the data using the folium functions GeoJson() and add_to() to add the data from the Geopandas DataFrame to the map object."
   ]
  },
  {
   "cell_type": "code",
   "execution_count": 29,
   "metadata": {},
   "outputs": [
    {
     "data": {
      "text/plain": [
       "<folium.features.GeoJson at 0x17a64d5d400>"
      ]
     },
     "execution_count": 29,
     "metadata": {},
     "output_type": "execute_result"
    }
   ],
   "source": [
    "m = folium.Map([40.01, -105.27], zoom_start= 10, tiles='cartodbpositron')\n",
    "folium.GeoJson(gdf).add_to(m)"
   ]
  },
  {
   "cell_type": "code",
   "execution_count": 30,
   "metadata": {},
   "outputs": [
    {
     "data": {
      "text/html": [
       "<div style=\"width:100%;\"><div style=\"position:relative;width:100%;height:0;padding-bottom:60%;\"><span style=\"color:#565656\">Make this Notebook Trusted to load map: File -> Trust Notebook</span><iframe src=\"about:blank\" style=\"position:absolute;width:100%;height:100%;left:0;top:0;border:none !important;\" data-html=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 onload=\"this.contentDocument.open();this.contentDocument.write(atob(this.getAttribute('data-html')));this.contentDocument.close();\" allowfullscreen webkitallowfullscreen mozallowfullscreen></iframe></div></div>"
      ],
      "text/plain": [
       "<folium.folium.Map at 0x17a64d5da90>"
      ]
     },
     "execution_count": 30,
     "metadata": {},
     "output_type": "execute_result"
    }
   ],
   "source": [
    "m"
   ]
  },
  {
   "cell_type": "markdown",
   "metadata": {},
   "source": [
    "#### Great! You now have an interactive map in your notebook!\n",
    "\n",
    "You can also cluster the markers, and add a popup to each marker, so you can give your viewers more information about station: such as its name and the amount of precipitation measured.\n",
    "\n",
    "For this example below, you will work with the Pandas DataFrame you originally created from the JSON, instead of the Geopandas GeoDataFrame"
   ]
  },
  {
   "cell_type": "code",
   "execution_count": 31,
   "metadata": {},
   "outputs": [
    {
     "name": "stdout",
     "output_type": "stream",
     "text": [
      "[[40.212505, -105.251826], [40.134278, -105.130819], [40.193758, -105.21039], [40.129806, -105.517111], [39.961655, -105.50444], [39.938324, -105.347953], [40.01398, -105.295737], [40.170998, -105.160876], [40.153341, -105.075695], [40.153363, -105.088695], [39.988481, -105.220477], [39.955864, -105.238049], [40.219387, -105.368966], [39.947704, -105.357308], [40.193019, -105.210388], [40.212658, -105.251826], [40.258367, -105.174957], [40.051652, -105.178875], [40.199321, -105.222639], [40.196422, -105.206592], [39.997437, -105.214424], [39.931659, -105.422985], [40.258038, -105.206386], [40.211389, -105.250952], [39.990643, -105.214555], [40.220381, -105.267193], [40.126407, -105.30451], [40.09603, -105.091059], [40.218335, -105.25811], [40.086278, -105.217519], [40.03628, -105.203176], [40.211083, -105.250927], [40.172925, -105.167622], [40.018666, -105.213178], [40.174844, -105.167873], [40.260827, -105.198567], [40.187524, -105.189132], [40.006534, -105.330525], [39.967726, -105.226498], [40.087583, -105.072502], [40.255776, -105.2095], [39.996506, -105.215745], [39.914612, -105.244587], [40.219046, -105.259795], [40.177423, -105.178145], [40.07856, -105.220497], [40.204193, -105.218777], [40.013218, -105.301065], [40.257844, -105.164397], [40.091391, -105.50848], [39.931597, -105.30499], [40.215658, -105.363422], [40.053661, -105.151143], [40.256276, -105.209416], [40.053035, -105.193048], [40.215043, -105.256017], [40.018667, -105.32625], [40.185033, -105.185789], [40.17708, -105.178567], [39.931982, -105.208555], [40.09082, -105.514442], [40.188579, -105.209282], [40.0208, -105.26627], [40.218043, -105.260001], [40.215904, -105.257736], [40.18188, -105.196775], [39.986166, -105.218676], [40.17395, -105.169374], [39.932589, -105.30819], [40.258726, -105.175817], [40.059809, -105.097872], [40.042028, -105.364917], [40.19328, -105.210424], [40.02168, -105.166113], [40.187578, -105.189191], [40.160705, -105.168471]]\n"
     ]
    }
   ],
   "source": [
    "# Get the latitude and longitude from result as a list\n",
    "locations = result[['location.latitude', 'location.longitude']]\n",
    "coords = locations.values.tolist()\n",
    "print(coords)"
   ]
  },
  {
   "cell_type": "code",
   "execution_count": 32,
   "metadata": {},
   "outputs": [
    {
     "data": {
      "text/html": [
       "<div style=\"width:100%;\"><div style=\"position:relative;width:100%;height:0;padding-bottom:60%;\"><span style=\"color:#565656\">Make this Notebook Trusted to load map: File -> Trust Notebook</span><iframe src=\"about:blank\" style=\"position:absolute;width:100%;height:100%;left:0;top:0;border:none !important;\" data-html=PCFET0NUWVBFIGh0bWw+CjxoZWFkPiAgICAKICAgIDxtZXRhIGh0dHAtZXF1aXY9ImNvbnRlbnQtdHlwZSIgY29udGVudD0idGV4dC9odG1sOyBjaGFyc2V0PVVURi04IiAvPgogICAgCiAgICAgICAgPHNjcmlwdD4KICAgICAgICAgICAgTF9OT19UT1VDSCA9IGZhbHNlOwogICAgICAgICAgICBMX0RJU0FCTEVfM0QgPSBmYWxzZTsKICAgICAgICA8L3NjcmlwdD4KICAgIAogICAgPHNjcmlwdCBzcmM9Imh0dHBzOi8vY2RuLmpzZGVsaXZyLm5ldC9ucG0vbGVhZmxldEAxLjYuMC9kaXN0L2xlYWZsZXQuanMiPjwvc2NyaXB0PgogICAgPHNjcmlwdCBzcmM9Imh0dHBzOi8vY29kZS5qcXVlcnkuY29tL2pxdWVyeS0xLjEyLjQubWluLmpzIj48L3NjcmlwdD4KICAgIDxzY3JpcHQgc3JjPSJodHRwczovL21heGNkbi5ib290c3RyYXBjZG4uY29tL2Jvb3RzdHJhcC8zLjIuMC9qcy9ib290c3RyYXAubWluLmpzIj48L3NjcmlwdD4KICAgIDxzY3JpcHQgc3JjPSJodHRwczovL2NkbmpzLmNsb3VkZmxhcmUuY29tL2FqYXgvbGlicy9MZWFmbGV0LmF3ZXNvbWUtbWFya2Vycy8yLjAuMi9sZWFmbGV0LmF3ZXNvbWUtbWFya2Vycy5qcyI+PC9zY3JpcHQ+CiAgICA8bGluayByZWw9InN0eWxlc2hlZXQiIGhyZWY9Imh0dHBzOi8vY2RuLmpzZGVsaXZyLm5ldC9ucG0vbGVhZmxldEAxLjYuMC9kaXN0L2xlYWZsZXQuY3NzIi8+CiAgICA8bGluayByZWw9InN0eWxlc2hlZXQiIGhyZWY9Imh0dHBzOi8vbWF4Y2RuLmJvb3RzdHJhcGNkbi5jb20vYm9vdHN0cmFwLzMuMi4wL2Nzcy9ib290c3RyYXAubWluLmNzcyIvPgogICAgPGxpbmsgcmVsPSJzdHlsZXNoZWV0IiBocmVmPSJodHRwczovL21heGNkbi5ib290c3RyYXBjZG4uY29tL2Jvb3RzdHJhcC8zLjIuMC9jc3MvYm9vdHN0cmFwLXRoZW1lLm1pbi5jc3MiLz4KICAgIDxsaW5rIHJlbD0ic3R5bGVzaGVldCIgaHJlZj0iaHR0cHM6Ly9tYXhjZG4uYm9vdHN0cmFwY2RuLmNvbS9mb250LWF3ZXNvbWUvNC42LjMvY3NzL2ZvbnQtYXdlc29tZS5taW4uY3NzIi8+CiAgICA8bGluayByZWw9InN0eWxlc2hlZXQiIGhyZWY9Imh0dHBzOi8vY2RuanMuY2xvdWRmbGFyZS5jb20vYWpheC9saWJzL0xlYWZsZXQuYXdlc29tZS1tYXJrZXJzLzIuMC4yL2xlYWZsZXQuYXdlc29tZS1tYXJrZXJzLmNzcyIvPgogICAgPGxpbmsgcmVsPSJzdHlsZXNoZWV0IiBocmVmPSJodHRwczovL3Jhd2Nkbi5naXRoYWNrLmNvbS9weXRob24tdmlzdWFsaXphdGlvbi9mb2xpdW0vbWFzdGVyL2ZvbGl1bS90ZW1wbGF0ZXMvbGVhZmxldC5hd2Vzb21lLnJvdGF0ZS5jc3MiLz4KICAgIDxzdHlsZT5odG1sLCBib2R5IHt3aWR0aDogMTAwJTtoZWlnaHQ6IDEwMCU7bWFyZ2luOiAwO3BhZGRpbmc6IDA7fTwvc3R5bGU+CiAgICA8c3R5bGU+I21hcCB7cG9zaXRpb246YWJzb2x1dGU7dG9wOjA7Ym90dG9tOjA7cmlnaHQ6MDtsZWZ0OjA7fTwvc3R5bGU+CiAgICAKICAgICAgICAgICAgPG1ldGEgbmFtZT0idmlld3BvcnQiIGNvbnRlbnQ9IndpZHRoPWRldmljZS13aWR0aCwKICAgICAgICAgICAgICAgIGluaXRpYWwtc2NhbGU9MS4wLCBtYXhpbXVtLXNjYWxlPTEuMCwgdXNlci1zY2FsYWJsZT1ubyIgLz4KICAgICAgICAgICAgPHN0eWxlPgogICAgICAgICAgICAgICAgI21hcF81OTAwZjU2MTQ4OTM0NTUzYWJjMTIwMjM2ZTczZGNmOSB7CiAgICAgICAgICAgICAgICAgICAgcG9zaXRpb246IHJlbGF0aXZlOwogICAgICAgICAgICAgICAgICAgIHdpZHRoOiAxMDAuMCU7CiAgICAgICAgICAgICAgICAgICAgaGVpZ2h0OiAxMDAuMCU7CiAgICAgICAgICAgICAgICAgICAgbGVmdDogMC4wJTsKICAgICAgICAgICAgICAgICAgICB0b3A6IDAuMCU7CiAgICAgICAgICAgICAgICB9CiAgICAgICAgICAgIDwvc3R5bGU+CiAgICAgICAgCiAgICA8c2NyaXB0IHNyYz0iaHR0cHM6Ly9jZG5qcy5jbG91ZGZsYXJlLmNvbS9hamF4L2xpYnMvbGVhZmxldC5tYXJrZXJjbHVzdGVyLzEuMS4wL2xlYWZsZXQubWFya2VyY2x1c3Rlci5qcyI+PC9zY3JpcHQ+CiAgICA8bGluayByZWw9InN0eWxlc2hlZXQiIGhyZWY9Imh0dHBzOi8vY2RuanMuY2xvdWRmbGFyZS5jb20vYWpheC9saWJzL2xlYWZsZXQubWFya2VyY2x1c3Rlci8xLjEuMC9NYXJrZXJDbHVzdGVyLmNzcyIvPgogICAgPGxpbmsgcmVsPSJzdHlsZXNoZWV0IiBocmVmPSJodHRwczovL2NkbmpzLmNsb3VkZmxhcmUuY29tL2FqYXgvbGlicy9sZWFmbGV0Lm1hcmtlcmNsdXN0ZXIvMS4xLjAvTWFya2VyQ2x1c3Rlci5EZWZhdWx0LmNzcyIvPgo8L2hlYWQ+Cjxib2R5PiAgICAKICAgIAogICAgICAgICAgICA8ZGl2IGNsYXNzPSJmb2xpdW0tbWFwIiBpZD0ibWFwXzU5MDBmNTYxNDg5MzQ1NTNhYmMxMjAyMzZlNzNkY2Y5IiA+PC9kaXY+CiAgICAgICAgCjwvYm9keT4KPHNjcmlwdD4gICAgCiAgICAKICAgICAgICAgICAgdmFyIG1hcF81OTAwZjU2MTQ4OTM0NTUzYWJjMTIwMjM2ZTczZGNmOSA9IEwubWFwKAogICAgICAgICAgICAgICAgIm1hcF81OTAwZjU2MTQ4OTM0NTUzYWJjMTIwMjM2ZTczZGNmOSIsCiAgICAgICAgICAgICAgICB7CiAgICAgICAgICAgICAgICAgICAgY2VudGVyOiBbNDAuMDEsIC0xMDUuMjddLAogICAgICAgICAgICAgICAgICAgIGNyczogTC5DUlMuRVBTRzM4NTcsCiAgICAgICAgICAgICAgICAgICAgem9vbTogMTAsCiAgICAgICAgICAgICAgICAgICAgem9vbUNvbnRyb2w6IHRydWUsCiAgICAgICAgICAgICAgICAgICAgcHJlZmVyQ2FudmFzOiBmYWxzZSwKICAgICAgICAgICAgICAgIH0KICAgICAgICAgICAgKTsKCiAgICAgICAgICAgIAoKICAgICAgICAKICAgIAogICAgICAgICAgICB2YXIgdGlsZV9sYXllcl9kZGRkYWMxZTllYmI0YjBkODcyMDk0ODlkZDM2OTBjYyA9IEwudGlsZUxheWVyKAogICAgICAgICAgICAgICAgImh0dHBzOi8vY2FydG9kYi1iYXNlbWFwcy17c30uZ2xvYmFsLnNzbC5mYXN0bHkubmV0L2xpZ2h0X2FsbC97en0ve3h9L3t5fS5wbmciLAogICAgICAgICAgICAgICAgeyJhdHRyaWJ1dGlvbiI6ICJcdTAwMjZjb3B5OyBcdTAwM2NhIGhyZWY9XCJodHRwOi8vd3d3Lm9wZW5zdHJlZXRtYXAub3JnL2NvcHlyaWdodFwiXHUwMDNlT3BlblN0cmVldE1hcFx1MDAzYy9hXHUwMDNlIGNvbnRyaWJ1dG9ycyBcdTAwMjZjb3B5OyBcdTAwM2NhIGhyZWY9XCJodHRwOi8vY2FydG9kYi5jb20vYXR0cmlidXRpb25zXCJcdTAwM2VDYXJ0b0RCXHUwMDNjL2FcdTAwM2UsIENhcnRvREIgXHUwMDNjYSBocmVmID1cImh0dHA6Ly9jYXJ0b2RiLmNvbS9hdHRyaWJ1dGlvbnNcIlx1MDAzZWF0dHJpYnV0aW9uc1x1MDAzYy9hXHUwMDNlIiwgImRldGVjdFJldGluYSI6IGZhbHNlLCAibWF4TmF0aXZlWm9vbSI6IDE4LCAibWF4Wm9vbSI6IDE4LCAibWluWm9vbSI6IDAsICJub1dyYXAiOiBmYWxzZSwgIm9wYWNpdHkiOiAxLCAic3ViZG9tYWlucyI6ICJhYmMiLCAidG1zIjogZmFsc2V9CiAgICAgICAgICAgICkuYWRkVG8obWFwXzU5MDBmNTYxNDg5MzQ1NTNhYmMxMjAyMzZlNzNkY2Y5KTsKICAgICAgICAKICAgIAogICAgICAgICAgICB2YXIgbWFya2VyX2NsdXN0ZXJfYWJjOWI2YTFkNGI1NGMyODhmMDhjMDI0YjNlNGFiMjcgPSBMLm1hcmtlckNsdXN0ZXJHcm91cCgKICAgICAgICAgICAgICAgIHt9CiAgICAgICAgICAgICk7CiAgICAgICAgICAgIG1hcF81OTAwZjU2MTQ4OTM0NTUzYWJjMTIwMjM2ZTczZGNmOS5hZGRMYXllcihtYXJrZXJfY2x1c3Rlcl9hYmM5YjZhMWQ0YjU0YzI4OGYwOGMwMjRiM2U0YWIyNyk7CiAgICAgICAgCiAgICAKICAgICAgICAgICAgdmFyIG1hcmtlcl85ZDdhN2MyMGEzNTA0N2Q4ODNhY2UzMTVkYzhlNDJkOSA9IEwubWFya2VyKAogICAgICAgICAgICAgICAgWzQwLjIxMjUwNSwgLTEwNS4yNTE4MjZdLAogICAgICAgICAgICAgICAge30KICAgICAgICAgICAgKS5hZGRUbyhtYXJrZXJfY2x1c3Rlcl9hYmM5YjZhMWQ0YjU0YzI4OGYwOGMwMjRiM2U0YWIyNyk7CiAgICAgICAgCiAgICAKICAgICAgICB2YXIgcG9wdXBfZmNhMTcxZmRlYzc1NDRhZDg5OGQ2NzkyMjQyNjE5YTEgPSBMLnBvcHVwKHsibWF4V2lkdGgiOiAiMTAwJSJ9KTsKCiAgICAgICAgCiAgICAgICAgICAgIHZhciBodG1sXzIyZWU3NjM1MTVmZDQ2ZmY4NTFkMGQ3Yzc1MzkwYjAwID0gJChgPGRpdiBpZD0iaHRtbF8yMmVlNzYzNTE1ZmQ0NmZmODUxZDBkN2M3NTM5MGIwMCIgc3R5bGU9IndpZHRoOiAxMDAuMCU7IGhlaWdodDogMTAwLjAlOyI+TmFtZTogUEFMTUVSVE9OIERJVENIIFByZWNpcDogMS4wODwvZGl2PmApWzBdOwogICAgICAgICAgICBwb3B1cF9mY2ExNzFmZGVjNzU0NGFkODk4ZDY3OTIyNDI2MTlhMS5zZXRDb250ZW50KGh0bWxfMjJlZTc2MzUxNWZkNDZmZjg1MWQwZDdjNzUzOTBiMDApOwogICAgICAgIAoKICAgICAgICBtYXJrZXJfOWQ3YTdjMjBhMzUwNDdkODgzYWNlMzE1ZGM4ZTQyZDkuYmluZFBvcHVwKHBvcHVwX2ZjYTE3MWZkZWM3NTQ0YWQ4OThkNjc5MjI0MjYxOWExKQogICAgICAgIDsKCiAgICAgICAgCiAgICAKICAgIAogICAgICAgICAgICB2YXIgbWFya2VyXzQ5ZjdmNjU2NDk2NTQ2M2U4ZjQwMzlmNjJjNDk3ZDk1ID0gTC5tYXJrZXIoCiAgICAgICAgICAgICAgICBbNDAuMTM0Mjc4LCAtMTA1LjEzMDgxOV0sCiAgICAgICAgICAgICAgICB7fQogICAgICAgICAgICApLmFkZFRvKG1hcmtlcl9jbHVzdGVyX2FiYzliNmExZDRiNTRjMjg4ZjA4YzAyNGIzZTRhYjI3KTsKICAgICAgICAKICAgIAogICAgICAgIHZhciBwb3B1cF9lMWRiNDQ2MjZlZjg0Y2ZhYmU2ZGEwNGE2ZjE4MzM3NyA9IEwucG9wdXAoeyJtYXhXaWR0aCI6ICIxMDAlIn0pOwoKICAgICAgICAKICAgICAgICAgICAgdmFyIGh0bWxfNDRhZTA5ODlkYmU1NGIxMjhmNDBmNzA5MDk2NmE0ZjEgPSAkKGA8ZGl2IGlkPSJodG1sXzQ0YWUwOTg5ZGJlNTRiMTI4ZjQwZjcwOTA5NjZhNGYxIiBzdHlsZT0id2lkdGg6IDEwMC4wJTsgaGVpZ2h0OiAxMDAuMCU7Ij5OYW1lOiBMRUZUIEhBTkQgQ1JFRUsgQVQgSE9WRVIgUk9BRCBORUFSIExPTkdNT05ULCBDTyBQcmVjaXA6IDQuMTg8L2Rpdj5gKVswXTsKICAgICAgICAgICAgcG9wdXBfZTFkYjQ0NjI2ZWY4NGNmYWJlNmRhMDRhNmYxODMzNzcuc2V0Q29udGVudChodG1sXzQ0YWUwOTg5ZGJlNTRiMTI4ZjQwZjcwOTA5NjZhNGYxKTsKICAgICAgICAKCiAgICAgICAgbWFya2VyXzQ5ZjdmNjU2NDk2NTQ2M2U4ZjQwMzlmNjJjNDk3ZDk1LmJpbmRQb3B1cChwb3B1cF9lMWRiNDQ2MjZlZjg0Y2ZhYmU2ZGEwNGE2ZjE4MzM3NykKICAgICAgICA7CgogICAgICAgIAogICAgCiAgICAKICAgICAgICAgICAgdmFyIG1hcmtlcl8yMWQ3MDBjYWFmMDg0NTJjYjdlM2E3ZmUyZjE5ZDU5NyA9IEwubWFya2VyKAogICAgICAgICAgICAgICAgWzQwLjE5Mzc1OCwgLTEwNS4yMTAzOV0sCiAgICAgICAgICAgICAgICB7fQogICAgICAgICAgICApLmFkZFRvKG1hcmtlcl9jbHVzdGVyX2FiYzliNmExZDRiNTRjMjg4ZjA4YzAyNGIzZTRhYjI3KTsKICAgICAgICAKICAgIAogICAgICAgIHZhciBwb3B1cF9mZWEzZjhhMjUzZWU0NzJjOGI5NmI1YTI1NDY1OGE1YSA9IEwucG9wdXAoeyJtYXhXaWR0aCI6ICIxMDAlIn0pOwoKICAgICAgICAKICAgICAgICAgICAgdmFyIGh0bWxfODBiNzJlZWM0OGQ1NGRhMTkyMDM5YTZkYjZjYzk2MDMgPSAkKGA8ZGl2IGlkPSJodG1sXzgwYjcyZWVjNDhkNTRkYTE5MjAzOWE2ZGI2Y2M5NjAzIiBzdHlsZT0id2lkdGg6IDEwMC4wJTsgaGVpZ2h0OiAxMDAuMCU7Ij5OYW1lOiBDTE9VR0ggQU5EIFRSVUUgRElUQ0ggUHJlY2lwOiAwLjAwPC9kaXY+YClbMF07CiAgICAgICAgICAgIHBvcHVwX2ZlYTNmOGEyNTNlZTQ3MmM4Yjk2YjVhMjU0NjU4YTVhLnNldENvbnRlbnQoaHRtbF84MGI3MmVlYzQ4ZDU0ZGExOTIwMzlhNmRiNmNjOTYwMyk7CiAgICAgICAgCgogICAgICAgIG1hcmtlcl8yMWQ3MDBjYWFmMDg0NTJjYjdlM2E3ZmUyZjE5ZDU5Ny5iaW5kUG9wdXAocG9wdXBfZmVhM2Y4YTI1M2VlNDcyYzhiOTZiNWEyNTQ2NThhNWEpCiAgICAgICAgOwoKICAgICAgICAKICAgIAogICAgCiAgICAgICAgICAgIHZhciBtYXJrZXJfOTQ0NDY3Y2ViZDg0NDY1MDlkNDZkYmJmYjQyNTMwNWIgPSBMLm1hcmtlcigKICAgICAgICAgICAgICAgIFs0MC4xMjk4MDYsIC0xMDUuNTE3MTExXSwKICAgICAgICAgICAgICAgIHt9CiAgICAgICAgICAgICkuYWRkVG8obWFya2VyX2NsdXN0ZXJfYWJjOWI2YTFkNGI1NGMyODhmMDhjMDI0YjNlNGFiMjcpOwogICAgICAgIAogICAgCiAgICAgICAgdmFyIHBvcHVwXzgzMDZhNDIxMzM3MTQ2OGQ5MjhlMzU5YTJiYTdmYWVkID0gTC5wb3B1cCh7Im1heFdpZHRoIjogIjEwMCUifSk7CgogICAgICAgIAogICAgICAgICAgICB2YXIgaHRtbF80ZjUwN2U1ZDY5NDM0ZTYxOTA3ZmE3NDA4MzU0OWVlMiA9ICQoYDxkaXYgaWQ9Imh0bWxfNGY1MDdlNWQ2OTQzNGU2MTkwN2ZhNzQwODM1NDllZTIiIHN0eWxlPSJ3aWR0aDogMTAwLjAlOyBoZWlnaHQ6IDEwMC4wJTsiPk5hbWU6IE1JRERMRSBTQUlOVCBWUkFJTiBBVCBQRUFDRUZVTCBWQUxMRVkgUHJlY2lwOiAzLjYxPC9kaXY+YClbMF07CiAgICAgICAgICAgIHBvcHVwXzgzMDZhNDIxMzM3MTQ2OGQ5MjhlMzU5YTJiYTdmYWVkLnNldENvbnRlbnQoaHRtbF80ZjUwN2U1ZDY5NDM0ZTYxOTA3ZmE3NDA4MzU0OWVlMik7CiAgICAgICAgCgogICAgICAgIG1hcmtlcl85NDQ0NjdjZWJkODQ0NjUwOWQ0NmRiYmZiNDI1MzA1Yi5iaW5kUG9wdXAocG9wdXBfODMwNmE0MjEzMzcxNDY4ZDkyOGUzNTlhMmJhN2ZhZWQpCiAgICAgICAgOwoKICAgICAgICAKICAgIAogICAgCiAgICAgICAgICAgIHZhciBtYXJrZXJfNDkxZGViYWM2NDlmNDAwNmJlYjAzYWExMzI0NWNhOTkgPSBMLm1hcmtlcigKICAgICAgICAgICAgICAgIFszOS45NjE2NTUsIC0xMDUuNTA0NDRdLAogICAgICAgICAgICAgICAge30KICAgICAgICAgICAgKS5hZGRUbyhtYXJrZXJfY2x1c3Rlcl9hYmM5YjZhMWQ0YjU0YzI4OGYwOGMwMjRiM2U0YWIyNyk7CiAgICAgICAgCiAgICAKICAgICAgICB2YXIgcG9wdXBfMjhmNmUwMzc5MDZmNDFkY2I2YWZkOGUwOWQzNjRmNzUgPSBMLnBvcHVwKHsibWF4V2lkdGgiOiAiMTAwJSJ9KTsKCiAgICAgICAgCiAgICAgICAgICAgIHZhciBodG1sX2Q0OTJkYTUxZDQ2NzQ2YzQ5ZDcyOGJkNzZhMzlkYThhID0gJChgPGRpdiBpZD0iaHRtbF9kNDkyZGE1MWQ0Njc0NmM0OWQ3MjhiZDc2YTM5ZGE4YSIgc3R5bGU9IndpZHRoOiAxMDAuMCU7IGhlaWdodDogMTAwLjAlOyI+TmFtZTogTUlERExFIEJPVUxERVIgQ1JFRUsgQVQgTkVERVJMQU5ELCBDTy4gUHJlY2lwOiA0LjMwPC9kaXY+YClbMF07CiAgICAgICAgICAgIHBvcHVwXzI4ZjZlMDM3OTA2ZjQxZGNiNmFmZDhlMDlkMzY0Zjc1LnNldENvbnRlbnQoaHRtbF9kNDkyZGE1MWQ0Njc0NmM0OWQ3MjhiZDc2YTM5ZGE4YSk7CiAgICAgICAgCgogICAgICAgIG1hcmtlcl80OTFkZWJhYzY0OWY0MDA2YmViMDNhYTEzMjQ1Y2E5OS5iaW5kUG9wdXAocG9wdXBfMjhmNmUwMzc5MDZmNDFkY2I2YWZkOGUwOWQzNjRmNzUpCiAgICAgICAgOwoKICAgICAgICAKICAgIAogICAgCiAgICAgICAgICAgIHZhciBtYXJrZXJfOTk2NWQzZDE1ZTViNGQ0ZWI4MmE0MmRmMTk2M2ZkODYgPSBMLm1hcmtlcigKICAgICAgICAgICAgICAgIFszOS45MzgzMjQsIC0xMDUuMzQ3OTUzXSwKICAgICAgICAgICAgICAgIHt9CiAgICAgICAgICAgICkuYWRkVG8obWFya2VyX2NsdXN0ZXJfYWJjOWI2YTFkNGI1NGMyODhmMDhjMDI0YjNlNGFiMjcpOwogICAgICAgIAogICAgCiAgICAgICAgdmFyIHBvcHVwXzAxNDEyYmFlODViYzQ2NmJiYzNmZTA2YjM3Y2VjNDczID0gTC5wb3B1cCh7Im1heFdpZHRoIjogIjEwMCUifSk7CgogICAgICAgIAogICAgICAgICAgICB2YXIgaHRtbF81M2YyMGNhMmVhYzg0ZjdlOGE5Mzg5MTM3NTU0ZThjNCA9ICQoYDxkaXYgaWQ9Imh0bWxfNTNmMjBjYTJlYWM4NGY3ZThhOTM4OTEzNzU1NGU4YzQiIHN0eWxlPSJ3aWR0aDogMTAwLjAlOyBoZWlnaHQ6IDEwMC4wJTsiPk5hbWU6IFNPVVRIIEJPVUxERVIgQ1JFRUsgQkVMT1cgR1JPU1MgUkVTRVJWT0lSIFByZWNpcDogNC4wNTwvZGl2PmApWzBdOwogICAgICAgICAgICBwb3B1cF8wMTQxMmJhZTg1YmM0NjZiYmMzZmUwNmIzN2NlYzQ3My5zZXRDb250ZW50KGh0bWxfNTNmMjBjYTJlYWM4NGY3ZThhOTM4OTEzNzU1NGU4YzQpOwogICAgICAgIAoKICAgICAgICBtYXJrZXJfOTk2NWQzZDE1ZTViNGQ0ZWI4MmE0MmRmMTk2M2ZkODYuYmluZFBvcHVwKHBvcHVwXzAxNDEyYmFlODViYzQ2NmJiYzNmZTA2YjM3Y2VjNDczKQogICAgICAgIDsKCiAgICAgICAgCiAgICAKICAgIAogICAgICAgICAgICB2YXIgbWFya2VyXzMyNDViNDU3YWNjNzRmYTBhMDQ0ODc3ZTE2OTRiNzEzID0gTC5tYXJrZXIoCiAgICAgICAgICAgICAgICBbNDAuMDEzOTgsIC0xMDUuMjk1NzM3XSwKICAgICAgICAgICAgICAgIHt9CiAgICAgICAgICAgICkuYWRkVG8obWFya2VyX2NsdXN0ZXJfYWJjOWI2YTFkNGI1NGMyODhmMDhjMDI0YjNlNGFiMjcpOwogICAgICAgIAogICAgCiAgICAgICAgdmFyIHBvcHVwXzZlZWM0YmY3NmY3YzRhYmRiMjczYWJiYjFlNzI3YTZkID0gTC5wb3B1cCh7Im1heFdpZHRoIjogIjEwMCUifSk7CgogICAgICAgIAogICAgICAgICAgICB2YXIgaHRtbF9mNDcyNDNjNTU4ZWI0NTM0OGU1NmFjOGE4ZDJlODU1NCA9ICQoYDxkaXYgaWQ9Imh0bWxfZjQ3MjQzYzU1OGViNDUzNDhlNTZhYzhhOGQyZTg1NTQiIHN0eWxlPSJ3aWR0aDogMTAwLjAlOyBoZWlnaHQ6IDEwMC4wJTsiPk5hbWU6IEZBUk1FUlMgRElUQ0ggUHJlY2lwOiAwLjAwPC9kaXY+YClbMF07CiAgICAgICAgICAgIHBvcHVwXzZlZWM0YmY3NmY3YzRhYmRiMjczYWJiYjFlNzI3YTZkLnNldENvbnRlbnQoaHRtbF9mNDcyNDNjNTU4ZWI0NTM0OGU1NmFjOGE4ZDJlODU1NCk7CiAgICAgICAgCgogICAgICAgIG1hcmtlcl8zMjQ1YjQ1N2FjYzc0ZmEwYTA0NDg3N2UxNjk0YjcxMy5iaW5kUG9wdXAocG9wdXBfNmVlYzRiZjc2ZjdjNGFiZGIyNzNhYmJiMWU3MjdhNmQpCiAgICAgICAgOwoKICAgICAgICAKICAgIAogICAgCiAgICAgICAgICAgIHZhciBtYXJrZXJfYjAwYTVmNjdjNmQ2NDI3YzhlMGM2YjNiYzRlMjRjODYgPSBMLm1hcmtlcigKICAgICAgICAgICAgICAgIFs0MC4xNzA5OTgsIC0xMDUuMTYwODc2XSwKICAgICAgICAgICAgICAgIHt9CiAgICAgICAgICAgICkuYWRkVG8obWFya2VyX2NsdXN0ZXJfYWJjOWI2YTFkNGI1NGMyODhmMDhjMDI0YjNlNGFiMjcpOwogICAgICAgIAogICAgCiAgICAgICAgdmFyIHBvcHVwXzE5OTc3M2EwNjQyYzRkMDliNWI1YTEwMzA2ZjNkNjg3ID0gTC5wb3B1cCh7Im1heFdpZHRoIjogIjEwMCUifSk7CgogICAgICAgIAogICAgICAgICAgICB2YXIgaHRtbF9lMTcxNTU0MmVjNGU0ZWIwYmY2ODdkMGI5MTRhZjkzMSA9ICQoYDxkaXYgaWQ9Imh0bWxfZTE3MTU1NDJlYzRlNGViMGJmNjg3ZDBiOTE0YWY5MzEiIHN0eWxlPSJ3aWR0aDogMTAwLjAlOyBoZWlnaHQ6IDEwMC4wJTsiPk5hbWU6IFNPVVRIIEZMQVQgRElUQ0ggUHJlY2lwOiAwLjU1PC9kaXY+YClbMF07CiAgICAgICAgICAgIHBvcHVwXzE5OTc3M2EwNjQyYzRkMDliNWI1YTEwMzA2ZjNkNjg3LnNldENvbnRlbnQoaHRtbF9lMTcxNTU0MmVjNGU0ZWIwYmY2ODdkMGI5MTRhZjkzMSk7CiAgICAgICAgCgogICAgICAgIG1hcmtlcl9iMDBhNWY2N2M2ZDY0MjdjOGUwYzZiM2JjNGUyNGM4Ni5iaW5kUG9wdXAocG9wdXBfMTk5NzczYTA2NDJjNGQwOWI1YjVhMTAzMDZmM2Q2ODcpCiAgICAgICAgOwoKICAgICAgICAKICAgIAogICAgCiAgICAgICAgICAgIHZhciBtYXJrZXJfODBkZDlhNTVhNDU3NGZhMzgzMTY5YmY5Y2MxYmQ4YTAgPSBMLm1hcmtlcigKICAgICAgICAgICAgICAgIFs0MC4xNTMzNDEsIC0xMDUuMDc1Njk1XSwKICAgICAgICAgICAgICAgIHt9CiAgICAgICAgICAgICkuYWRkVG8obWFya2VyX2NsdXN0ZXJfYWJjOWI2YTFkNGI1NGMyODhmMDhjMDI0YjNlNGFiMjcpOwogICAgICAgIAogICAgCiAgICAgICAgdmFyIHBvcHVwXzMyOGJlMmI1NTNjMjQ2N2Q5MDcxY2JjYWZjMGUxMGIyID0gTC5wb3B1cCh7Im1heFdpZHRoIjogIjEwMCUifSk7CgogICAgICAgIAogICAgICAgICAgICB2YXIgaHRtbF8yNzZjOTRhOTFhZTU0ZWEyYjgyZGQwOWUyNzY2ZmViYSA9ICQoYDxkaXYgaWQ9Imh0bWxfMjc2Yzk0YTkxYWU1NGVhMmI4MmRkMDllMjc2NmZlYmEiIHN0eWxlPSJ3aWR0aDogMTAwLjAlOyBoZWlnaHQ6IDEwMC4wJTsiPk5hbWU6IFNBSU5UIFZSQUlOIENSRUVLIEJFTE9XIEtFTiBQUkFUVCBCTFZEIEFUIExPTkdNT05ULCBDTyBQcmVjaXA6IDU5LjIwPC9kaXY+YClbMF07CiAgICAgICAgICAgIHBvcHVwXzMyOGJlMmI1NTNjMjQ2N2Q5MDcxY2JjYWZjMGUxMGIyLnNldENvbnRlbnQoaHRtbF8yNzZjOTRhOTFhZTU0ZWEyYjgyZGQwOWUyNzY2ZmViYSk7CiAgICAgICAgCgogICAgICAgIG1hcmtlcl84MGRkOWE1NWE0NTc0ZmEzODMxNjliZjljYzFiZDhhMC5iaW5kUG9wdXAocG9wdXBfMzI4YmUyYjU1M2MyNDY3ZDkwNzFjYmNhZmMwZTEwYjIpCiAgICAgICAgOwoKICAgICAgICAKICAgIAogICAgCiAgICAgICAgICAgIHZhciBtYXJrZXJfNzQwYWY4ZGQyZTJmNGY5NGEwNDRmYWJhMmJiNDQ3N2EgPSBMLm1hcmtlcigKICAgICAgICAgICAgICAgIFs0MC4xNTMzNjMsIC0xMDUuMDg4Njk1XSwKICAgICAgICAgICAgICAgIHt9CiAgICAgICAgICAgICkuYWRkVG8obWFya2VyX2NsdXN0ZXJfYWJjOWI2YTFkNGI1NGMyODhmMDhjMDI0YjNlNGFiMjcpOwogICAgICAgIAogICAgCiAgICAgICAgdmFyIHBvcHVwXzY2NmJhNWZmODhhYzQzNTQ5ZmM1YjFmYjI1MTA0N2ZhID0gTC5wb3B1cCh7Im1heFdpZHRoIjogIjEwMCUifSk7CgogICAgICAgIAogICAgICAgICAgICB2YXIgaHRtbF84MGYyODI3MThmZmQ0ZTg5OGJmZWI2NDJiNmU5OTlhYyA9ICQoYDxkaXYgaWQ9Imh0bWxfODBmMjgyNzE4ZmZkNGU4OThiZmViNjQyYjZlOTk5YWMiIHN0eWxlPSJ3aWR0aDogMTAwLjAlOyBoZWlnaHQ6IDEwMC4wJTsiPk5hbWU6IEJPTlVTIERJVENIIFByZWNpcDogMC4wMDwvZGl2PmApWzBdOwogICAgICAgICAgICBwb3B1cF82NjZiYTVmZjg4YWM0MzU0OWZjNWIxZmIyNTEwNDdmYS5zZXRDb250ZW50KGh0bWxfODBmMjgyNzE4ZmZkNGU4OThiZmViNjQyYjZlOTk5YWMpOwogICAgICAgIAoKICAgICAgICBtYXJrZXJfNzQwYWY4ZGQyZTJmNGY5NGEwNDRmYWJhMmJiNDQ3N2EuYmluZFBvcHVwKHBvcHVwXzY2NmJhNWZmODhhYzQzNTQ5ZmM1YjFmYjI1MTA0N2ZhKQogICAgICAgIDsKCiAgICAgICAgCiAgICAKICAgIAogICAgICAgICAgICB2YXIgbWFya2VyXzI0Zjk4NmZkMDc5MDQ1MzJiZWFkNjY2NGJkNmNjY2I3ID0gTC5tYXJrZXIoCiAgICAgICAgICAgICAgICBbMzkuOTg4NDgxLCAtMTA1LjIyMDQ3N10sCiAgICAgICAgICAgICAgICB7fQogICAgICAgICAgICApLmFkZFRvKG1hcmtlcl9jbHVzdGVyX2FiYzliNmExZDRiNTRjMjg4ZjA4YzAyNGIzZTRhYjI3KTsKICAgICAgICAKICAgIAogICAgICAgIHZhciBwb3B1cF9lODQyYzIxMTVjNTM0ZTRiYWU0OTM2YTVjMTQ5NzFlMiA9IEwucG9wdXAoeyJtYXhXaWR0aCI6ICIxMDAlIn0pOwoKICAgICAgICAKICAgICAgICAgICAgdmFyIGh0bWxfNzE1MTkyNTAxZDZmNGIxMjg1M2RiNTk3NGJhZjUzNWEgPSAkKGA8ZGl2IGlkPSJodG1sXzcxNTE5MjUwMWQ2ZjRiMTI4NTNkYjU5NzRiYWY1MzVhIiBzdHlsZT0id2lkdGg6IDEwMC4wJTsgaGVpZ2h0OiAxMDAuMCU7Ij5OYW1lOiBIT1dBUkQgRElUQ0ggUHJlY2lwOiAyLjI3PC9kaXY+YClbMF07CiAgICAgICAgICAgIHBvcHVwX2U4NDJjMjExNWM1MzRlNGJhZTQ5MzZhNWMxNDk3MWUyLnNldENvbnRlbnQoaHRtbF83MTUxOTI1MDFkNmY0YjEyODUzZGI1OTc0YmFmNTM1YSk7CiAgICAgICAgCgogICAgICAgIG1hcmtlcl8yNGY5ODZmZDA3OTA0NTMyYmVhZDY2NjRiZDZjY2NiNy5iaW5kUG9wdXAocG9wdXBfZTg0MmMyMTE1YzUzNGU0YmFlNDkzNmE1YzE0OTcxZTIpCiAgICAgICAgOwoKICAgICAgICAKICAgIAogICAgCiAgICAgICAgICAgIHZhciBtYXJrZXJfNjMyMjBmMGVjYWUyNGE3Yjk3OTk2Yjk5MTI3NDZlMTQgPSBMLm1hcmtlcigKICAgICAgICAgICAgICAgIFszOS45NTU4NjQsIC0xMDUuMjM4MDQ5XSwKICAgICAgICAgICAgICAgIHt9CiAgICAgICAgICAgICkuYWRkVG8obWFya2VyX2NsdXN0ZXJfYWJjOWI2YTFkNGI1NGMyODhmMDhjMDI0YjNlNGFiMjcpOwogICAgICAgIAogICAgCiAgICAgICAgdmFyIHBvcHVwXzkzZTVmMTY0YjU5MTQ1M2M4MTg2MGExOWY0MGY0MWUyID0gTC5wb3B1cCh7Im1heFdpZHRoIjogIjEwMCUifSk7CgogICAgICAgIAogICAgICAgICAgICB2YXIgaHRtbF85ZGUxNTg5Y2Y5ZjA0YjNmYWVlZDQyNWM0ODIzNmJiMyA9ICQoYDxkaXYgaWQ9Imh0bWxfOWRlMTU4OWNmOWYwNGIzZmFlZWQ0MjVjNDgyMzZiYjMiIHN0eWxlPSJ3aWR0aDogMTAwLjAlOyBoZWlnaHQ6IDEwMC4wJTsiPk5hbWU6IERSWSBDUkVFSyBOTyAyIERJVENIIFByZWNpcDogMC4wMDwvZGl2PmApWzBdOwogICAgICAgICAgICBwb3B1cF85M2U1ZjE2NGI1OTE0NTNjODE4NjBhMTlmNDBmNDFlMi5zZXRDb250ZW50KGh0bWxfOWRlMTU4OWNmOWYwNGIzZmFlZWQ0MjVjNDgyMzZiYjMpOwogICAgICAgIAoKICAgICAgICBtYXJrZXJfNjMyMjBmMGVjYWUyNGE3Yjk3OTk2Yjk5MTI3NDZlMTQuYmluZFBvcHVwKHBvcHVwXzkzZTVmMTY0YjU5MTQ1M2M4MTg2MGExOWY0MGY0MWUyKQogICAgICAgIDsKCiAgICAgICAgCiAgICAKICAgIAogICAgICAgICAgICB2YXIgbWFya2VyXzgxM2I5NjE0OTI5NjQwZGY4YTI5OGM3Mjc4MzYyYTM2ID0gTC5tYXJrZXIoCiAgICAgICAgICAgICAgICBbNDAuMjE5Mzg3LCAtMTA1LjM2ODk2Nl0sCiAgICAgICAgICAgICAgICB7fQogICAgICAgICAgICApLmFkZFRvKG1hcmtlcl9jbHVzdGVyX2FiYzliNmExZDRiNTRjMjg4ZjA4YzAyNGIzZTRhYjI3KTsKICAgICAgICAKICAgIAogICAgICAgIHZhciBwb3B1cF9lNTMyOTFmNTBlOTY0ZmViYTQxYzhhZTg3MWIwODY2NCA9IEwucG9wdXAoeyJtYXhXaWR0aCI6ICIxMDAlIn0pOwoKICAgICAgICAKICAgICAgICAgICAgdmFyIGh0bWxfMGUxZmRmYjJhYjc4NGY1MmI5ZWI3MDI3NGQxMjBiMDMgPSAkKGA8ZGl2IGlkPSJodG1sXzBlMWZkZmIyYWI3ODRmNTJiOWViNzAyNzRkMTIwYjAzIiBzdHlsZT0id2lkdGg6IDEwMC4wJTsgaGVpZ2h0OiAxMDAuMCU7Ij5OYW1lOiBCVVRUT05ST0NLIChSQUxQSCBQUklDRSkgUkVTRVJWT0lSIFByZWNpcDogMTYxODYuMDA8L2Rpdj5gKVswXTsKICAgICAgICAgICAgcG9wdXBfZTUzMjkxZjUwZTk2NGZlYmE0MWM4YWU4NzFiMDg2NjQuc2V0Q29udGVudChodG1sXzBlMWZkZmIyYWI3ODRmNTJiOWViNzAyNzRkMTIwYjAzKTsKICAgICAgICAKCiAgICAgICAgbWFya2VyXzgxM2I5NjE0OTI5NjQwZGY4YTI5OGM3Mjc4MzYyYTM2LmJpbmRQb3B1cChwb3B1cF9lNTMyOTFmNTBlOTY0ZmViYTQxYzhhZTg3MWIwODY2NCkKICAgICAgICA7CgogICAgICAgIAogICAgCiAgICAKICAgICAgICAgICAgdmFyIG1hcmtlcl9lYzljODIzYTk5YmY0MGIyYThkNDhkZjc4ZmZjYWNhOCA9IEwubWFya2VyKAogICAgICAgICAgICAgICAgWzM5Ljk0NzcwNCwgLTEwNS4zNTczMDhdLAogICAgICAgICAgICAgICAge30KICAgICAgICAgICAgKS5hZGRUbyhtYXJrZXJfY2x1c3Rlcl9hYmM5YjZhMWQ0YjU0YzI4OGYwOGMwMjRiM2U0YWIyNyk7CiAgICAgICAgCiAgICAKICAgICAgICB2YXIgcG9wdXBfOTVlOTQ5YjExMmQ1NDkwYTg1MmNlZTVlYTdlY2ZhZWYgPSBMLnBvcHVwKHsibWF4V2lkdGgiOiAiMTAwJSJ9KTsKCiAgICAgICAgCiAgICAgICAgICAgIHZhciBodG1sXzgxYzc3YzAzOGE4MDQ4MmVhY2YzNjU3YTE5ZTgyZjMwID0gJChgPGRpdiBpZD0iaHRtbF84MWM3N2MwMzhhODA0ODJlYWNmMzY1N2ExOWU4MmYzMCIgc3R5bGU9IndpZHRoOiAxMDAuMCU7IGhlaWdodDogMTAwLjAlOyI+TmFtZTogR1JPU1MgUkVTRVJWT0lSICBQcmVjaXA6IDExOTMxLjAwPC9kaXY+YClbMF07CiAgICAgICAgICAgIHBvcHVwXzk1ZTk0OWIxMTJkNTQ5MGE4NTJjZWU1ZWE3ZWNmYWVmLnNldENvbnRlbnQoaHRtbF84MWM3N2MwMzhhODA0ODJlYWNmMzY1N2ExOWU4MmYzMCk7CiAgICAgICAgCgogICAgICAgIG1hcmtlcl9lYzljODIzYTk5YmY0MGIyYThkNDhkZjc4ZmZjYWNhOC5iaW5kUG9wdXAocG9wdXBfOTVlOTQ5YjExMmQ1NDkwYTg1MmNlZTVlYTdlY2ZhZWYpCiAgICAgICAgOwoKICAgICAgICAKICAgIAogICAgCiAgICAgICAgICAgIHZhciBtYXJrZXJfZDk4Yjg3NmQ0ODI4NDc2YWEzYjk4MGYwYzhlOGRiY2YgPSBMLm1hcmtlcigKICAgICAgICAgICAgICAgIFs0MC4xOTMwMTksIC0xMDUuMjEwMzg4XSwKICAgICAgICAgICAgICAgIHt9CiAgICAgICAgICAgICkuYWRkVG8obWFya2VyX2NsdXN0ZXJfYWJjOWI2YTFkNGI1NGMyODhmMDhjMDI0YjNlNGFiMjcpOwogICAgICAgIAogICAgCiAgICAgICAgdmFyIHBvcHVwXzVlZmI3NWJiNDg0ZjQ1NWFhMGY0MjRhOGIwMWQzZjlhID0gTC5wb3B1cCh7Im1heFdpZHRoIjogIjEwMCUifSk7CgogICAgICAgIAogICAgICAgICAgICB2YXIgaHRtbF9iNTIxZGUwNThiMzM0YTQ5ODgwODM5N2YyODFkNjA5MiA9ICQoYDxkaXYgaWQ9Imh0bWxfYjUyMWRlMDU4YjMzNGE0OTg4MDgzOTdmMjgxZDYwOTIiIHN0eWxlPSJ3aWR0aDogMTAwLjAlOyBoZWlnaHQ6IDEwMC4wJTsiPk5hbWU6IFRSVUUgQU5EIFdFQlNURVIgRElUQ0ggUHJlY2lwOiAwLjIwPC9kaXY+YClbMF07CiAgICAgICAgICAgIHBvcHVwXzVlZmI3NWJiNDg0ZjQ1NWFhMGY0MjRhOGIwMWQzZjlhLnNldENvbnRlbnQoaHRtbF9iNTIxZGUwNThiMzM0YTQ5ODgwODM5N2YyODFkNjA5Mik7CiAgICAgICAgCgogICAgICAgIG1hcmtlcl9kOThiODc2ZDQ4Mjg0NzZhYTNiOTgwZjBjOGU4ZGJjZi5iaW5kUG9wdXAocG9wdXBfNWVmYjc1YmI0ODRmNDU1YWEwZjQyNGE4YjAxZDNmOWEpCiAgICAgICAgOwoKICAgICAgICAKICAgIAogICAgCiAgICAgICAgICAgIHZhciBtYXJrZXJfMTk3NjE3Yzg1YWI1NDY0YmEzYjJkNzJiNjUyNjhhZDEgPSBMLm1hcmtlcigKICAgICAgICAgICAgICAgIFs0MC4yMTI2NTgsIC0xMDUuMjUxODI2XSwKICAgICAgICAgICAgICAgIHt9CiAgICAgICAgICAgICkuYWRkVG8obWFya2VyX2NsdXN0ZXJfYWJjOWI2YTFkNGI1NGMyODhmMDhjMDI0YjNlNGFiMjcpOwogICAgICAgIAogICAgCiAgICAgICAgdmFyIHBvcHVwX2MzM2YxMzJkNTUyZTRiNDE5MGI2YTdkMWFhZTAyYmE0ID0gTC5wb3B1cCh7Im1heFdpZHRoIjogIjEwMCUifSk7CgogICAgICAgIAogICAgICAgICAgICB2YXIgaHRtbF8yMGI5OTBhOWE1MmM0ZmEyYTg1YmVjOGU3ZDkxMDczNyA9ICQoYDxkaXYgaWQ9Imh0bWxfMjBiOTkwYTlhNTJjNGZhMmE4NWJlYzhlN2Q5MTA3MzciIHN0eWxlPSJ3aWR0aDogMTAwLjAlOyBoZWlnaHQ6IDEwMC4wJTsiPk5hbWU6IFJPVUdIIEFORCBSRUFEWSBESVRDSCBQcmVjaXA6IDAuMDA8L2Rpdj5gKVswXTsKICAgICAgICAgICAgcG9wdXBfYzMzZjEzMmQ1NTJlNGI0MTkwYjZhN2QxYWFlMDJiYTQuc2V0Q29udGVudChodG1sXzIwYjk5MGE5YTUyYzRmYTJhODViZWM4ZTdkOTEwNzM3KTsKICAgICAgICAKCiAgICAgICAgbWFya2VyXzE5NzYxN2M4NWFiNTQ2NGJhM2IyZDcyYjY1MjY4YWQxLmJpbmRQb3B1cChwb3B1cF9jMzNmMTMyZDU1MmU0YjQxOTBiNmE3ZDFhYWUwMmJhNCkKICAgICAgICA7CgogICAgICAgIAogICAgCiAgICAKICAgICAgICAgICAgdmFyIG1hcmtlcl9mMjE2Y2MwMjAxMjE0NGYyOTExYmJhNDFkODBkMjI5NSA9IEwubWFya2VyKAogICAgICAgICAgICAgICAgWzQwLjI1ODM2NywgLTEwNS4xNzQ5NTddLAogICAgICAgICAgICAgICAge30KICAgICAgICAgICAgKS5hZGRUbyhtYXJrZXJfY2x1c3Rlcl9hYmM5YjZhMWQ0YjU0YzI4OGYwOGMwMjRiM2U0YWIyNyk7CiAgICAgICAgCiAgICAKICAgICAgICB2YXIgcG9wdXBfY2ZiZDI1MWUyZTQ0NDEyN2I3ZDUyZDM1MGM5YTJmMzkgPSBMLnBvcHVwKHsibWF4V2lkdGgiOiAiMTAwJSJ9KTsKCiAgICAgICAgCiAgICAgICAgICAgIHZhciBodG1sX2UxYWMyMmI2NzhjMDQwM2ZiOTY3ODY3NWUxNGNkMzNlID0gJChgPGRpdiBpZD0iaHRtbF9lMWFjMjJiNjc4YzA0MDNmYjk2Nzg2NzVlMTRjZDMzZSIgc3R5bGU9IndpZHRoOiAxMDAuMCU7IGhlaWdodDogMTAwLjAlOyI+TmFtZTogQk9VTERFUi1MQVJJTUVSIERJVENIIE5FQVIgQkVSVEhPVUQgUHJlY2lwOiAwLjAwPC9kaXY+YClbMF07CiAgICAgICAgICAgIHBvcHVwX2NmYmQyNTFlMmU0NDQxMjdiN2Q1MmQzNTBjOWEyZjM5LnNldENvbnRlbnQoaHRtbF9lMWFjMjJiNjc4YzA0MDNmYjk2Nzg2NzVlMTRjZDMzZSk7CiAgICAgICAgCgogICAgICAgIG1hcmtlcl9mMjE2Y2MwMjAxMjE0NGYyOTExYmJhNDFkODBkMjI5NS5iaW5kUG9wdXAocG9wdXBfY2ZiZDI1MWUyZTQ0NDEyN2I3ZDUyZDM1MGM5YTJmMzkpCiAgICAgICAgOwoKICAgICAgICAKICAgIAogICAgCiAgICAgICAgICAgIHZhciBtYXJrZXJfZGNmMjBlODM5ZDZmNDczOGE0NzM2ODEwMWJlZjY1MWQgPSBMLm1hcmtlcigKICAgICAgICAgICAgICAgIFs0MC4wNTE2NTIsIC0xMDUuMTc4ODc1XSwKICAgICAgICAgICAgICAgIHt9CiAgICAgICAgICAgICkuYWRkVG8obWFya2VyX2NsdXN0ZXJfYWJjOWI2YTFkNGI1NGMyODhmMDhjMDI0YjNlNGFiMjcpOwogICAgICAgIAogICAgCiAgICAgICAgdmFyIHBvcHVwX2Y1NDM1YjhlYmEwYTQzNDQ4NWE5ODllNmZlZGQ1NjM1ID0gTC5wb3B1cCh7Im1heFdpZHRoIjogIjEwMCUifSk7CgogICAgICAgIAogICAgICAgICAgICB2YXIgaHRtbF8yNGJiY2NhZDczMjg0N2YwODA2MWI5MTZkM2UxZjdiMSA9ICQoYDxkaXYgaWQ9Imh0bWxfMjRiYmNjYWQ3MzI4NDdmMDgwNjFiOTE2ZDNlMWY3YjEiIHN0eWxlPSJ3aWR0aDogMTAwLjAlOyBoZWlnaHQ6IDEwMC4wJTsiPk5hbWU6IEJPVUxERVIgQ1JFRUsgQVQgTk9SVEggNzVUSCBTVC4gTkVBUiBCT1VMREVSLCBDTyBQcmVjaXA6IDE0LjAwPC9kaXY+YClbMF07CiAgICAgICAgICAgIHBvcHVwX2Y1NDM1YjhlYmEwYTQzNDQ4NWE5ODllNmZlZGQ1NjM1LnNldENvbnRlbnQoaHRtbF8yNGJiY2NhZDczMjg0N2YwODA2MWI5MTZkM2UxZjdiMSk7CiAgICAgICAgCgogICAgICAgIG1hcmtlcl9kY2YyMGU4MzlkNmY0NzM4YTQ3MzY4MTAxYmVmNjUxZC5iaW5kUG9wdXAocG9wdXBfZjU0MzViOGViYTBhNDM0NDg1YTk4OWU2ZmVkZDU2MzUpCiAgICAgICAgOwoKICAgICAgICAKICAgIAogICAgCiAgICAgICAgICAgIHZhciBtYXJrZXJfNDIyMmQ3NmNmZjE1NGExZTg5OWU5ZGU3MDMxMGI3ZmIgPSBMLm1hcmtlcigKICAgICAgICAgICAgICAgIFs0MC4xOTkzMjEsIC0xMDUuMjIyNjM5XSwKICAgICAgICAgICAgICAgIHt9CiAgICAgICAgICAgICkuYWRkVG8obWFya2VyX2NsdXN0ZXJfYWJjOWI2YTFkNGI1NGMyODhmMDhjMDI0YjNlNGFiMjcpOwogICAgICAgIAogICAgCiAgICAgICAgdmFyIHBvcHVwXzczMTNhMzY3ZDJiMzRjZDdhNWVjYjI5N2QyNWZiNTMzID0gTC5wb3B1cCh7Im1heFdpZHRoIjogIjEwMCUifSk7CgogICAgICAgIAogICAgICAgICAgICB2YXIgaHRtbF85OGJiZjM4YTgyZTc0NGY5YTRiNWM5ZjkyMGYwY2EyMSA9ICQoYDxkaXYgaWQ9Imh0bWxfOThiYmYzOGE4MmU3NDRmOWE0YjVjOWY5MjBmMGNhMjEiIHN0eWxlPSJ3aWR0aDogMTAwLjAlOyBoZWlnaHQ6IDEwMC4wJTsiPk5hbWU6IEdPU1MgRElUQ0ggMSBQcmVjaXA6IDAuMDA8L2Rpdj5gKVswXTsKICAgICAgICAgICAgcG9wdXBfNzMxM2EzNjdkMmIzNGNkN2E1ZWNiMjk3ZDI1ZmI1MzMuc2V0Q29udGVudChodG1sXzk4YmJmMzhhODJlNzQ0ZjlhNGI1YzlmOTIwZjBjYTIxKTsKICAgICAgICAKCiAgICAgICAgbWFya2VyXzQyMjJkNzZjZmYxNTRhMWU4OTllOWRlNzAzMTBiN2ZiLmJpbmRQb3B1cChwb3B1cF83MzEzYTM2N2QyYjM0Y2Q3YTVlY2IyOTdkMjVmYjUzMykKICAgICAgICA7CgogICAgICAgIAogICAgCiAgICAKICAgICAgICAgICAgdmFyIG1hcmtlcl8yMGE5N2I0MTFhNGQ0NmQ1YjRlNTRhZWY1NDE3Y2Y5MyA9IEwubWFya2VyKAogICAgICAgICAgICAgICAgWzQwLjE5NjQyMiwgLTEwNS4yMDY1OTJdLAogICAgICAgICAgICAgICAge30KICAgICAgICAgICAgKS5hZGRUbyhtYXJrZXJfY2x1c3Rlcl9hYmM5YjZhMWQ0YjU0YzI4OGYwOGMwMjRiM2U0YWIyNyk7CiAgICAgICAgCiAgICAKICAgICAgICB2YXIgcG9wdXBfM2UwNjAyMmNmODVlNGM3M2IyMjE2ZTAwOGZhOGQ4ZTMgPSBMLnBvcHVwKHsibWF4V2lkdGgiOiAiMTAwJSJ9KTsKCiAgICAgICAgCiAgICAgICAgICAgIHZhciBodG1sX2JmZTY0Y2IzMGNkMjQyYTc4MzdhYjAzMDBmMjJkNzkyID0gJChgPGRpdiBpZD0iaHRtbF9iZmU2NGNiMzBjZDI0MmE3ODM3YWIwMzAwZjIyZDc5MiIgc3R5bGU9IndpZHRoOiAxMDAuMCU7IGhlaWdodDogMTAwLjAlOyI+TmFtZTogT0xJR0FSQ0hZIERJVENIIERJVkVSU0lPTiBQcmVjaXA6IDI3LjU1PC9kaXY+YClbMF07CiAgICAgICAgICAgIHBvcHVwXzNlMDYwMjJjZjg1ZTRjNzNiMjIxNmUwMDhmYThkOGUzLnNldENvbnRlbnQoaHRtbF9iZmU2NGNiMzBjZDI0MmE3ODM3YWIwMzAwZjIyZDc5Mik7CiAgICAgICAgCgogICAgICAgIG1hcmtlcl8yMGE5N2I0MTFhNGQ0NmQ1YjRlNTRhZWY1NDE3Y2Y5My5iaW5kUG9wdXAocG9wdXBfM2UwNjAyMmNmODVlNGM3M2IyMjE2ZTAwOGZhOGQ4ZTMpCiAgICAgICAgOwoKICAgICAgICAKICAgIAogICAgCiAgICAgICAgICAgIHZhciBtYXJrZXJfOTRkMDQxOTljZGZlNDdmZDgzYjhhYjdlYmUyNzM5N2UgPSBMLm1hcmtlcigKICAgICAgICAgICAgICAgIFszOS45OTc0MzcsIC0xMDUuMjE0NDI0XSwKICAgICAgICAgICAgICAgIHt9CiAgICAgICAgICAgICkuYWRkVG8obWFya2VyX2NsdXN0ZXJfYWJjOWI2YTFkNGI1NGMyODhmMDhjMDI0YjNlNGFiMjcpOwogICAgICAgIAogICAgCiAgICAgICAgdmFyIHBvcHVwX2EyYmE1YzcwOTJiZjRiY2JiZmQyODMxOTNlYjQ4YzhmID0gTC5wb3B1cCh7Im1heFdpZHRoIjogIjEwMCUifSk7CgogICAgICAgIAogICAgICAgICAgICB2YXIgaHRtbF8xYTc2NzU1ZDA4MWI0MGZlODQ1MGNmMDY1M2M4NjAyNCA9ICQoYDxkaXYgaWQ9Imh0bWxfMWE3Njc1NWQwODFiNDBmZTg0NTBjZjA2NTNjODYwMjQiIHN0eWxlPSJ3aWR0aDogMTAwLjAlOyBoZWlnaHQ6IDEwMC4wJTsiPk5hbWU6IEVBU1QgQk9VTERFUiBESVRDSCBQcmVjaXA6IDAuMDE8L2Rpdj5gKVswXTsKICAgICAgICAgICAgcG9wdXBfYTJiYTVjNzA5MmJmNGJjYmJmZDI4MzE5M2ViNDhjOGYuc2V0Q29udGVudChodG1sXzFhNzY3NTVkMDgxYjQwZmU4NDUwY2YwNjUzYzg2MDI0KTsKICAgICAgICAKCiAgICAgICAgbWFya2VyXzk0ZDA0MTk5Y2RmZTQ3ZmQ4M2I4YWI3ZWJlMjczOTdlLmJpbmRQb3B1cChwb3B1cF9hMmJhNWM3MDkyYmY0YmNiYmZkMjgzMTkzZWI0OGM4ZikKICAgICAgICA7CgogICAgICAgIAogICAgCiAgICAKICAgICAgICAgICAgdmFyIG1hcmtlcl84ZTc5NTZmYTllZGY0YjA1OWY5YjRkODc4YzNjYzg4YiA9IEwubWFya2VyKAogICAgICAgICAgICAgICAgWzM5LjkzMTY1OSwgLTEwNS40MjI5ODVdLAogICAgICAgICAgICAgICAge30KICAgICAgICAgICAgKS5hZGRUbyhtYXJrZXJfY2x1c3Rlcl9hYmM5YjZhMWQ0YjU0YzI4OGYwOGMwMjRiM2U0YWIyNyk7CiAgICAgICAgCiAgICAKICAgICAgICB2YXIgcG9wdXBfNGYyOWE2NzUxNDY3NDcxNWI5ZTIwYTgyYTM2NGUzOTAgPSBMLnBvcHVwKHsibWF4V2lkdGgiOiAiMTAwJSJ9KTsKCiAgICAgICAgCiAgICAgICAgICAgIHZhciBodG1sXzBiZDVlZTRjMmY5NTRlMTY4ZTFmZjQ0YTNiNTJmNmNiID0gJChgPGRpdiBpZD0iaHRtbF8wYmQ1ZWU0YzJmOTU0ZTE2OGUxZmY0NGEzYjUyZjZjYiIgc3R5bGU9IndpZHRoOiAxMDAuMCU7IGhlaWdodDogMTAwLjAlOyI+TmFtZTogU09VVEggQk9VTERFUiBDUkVFSyBBQk9WRSBHUk9TUyBSRVNFUlZPSVIgQVQgUElORUNMSUZGRSBQcmVjaXA6IDE3LjcwPC9kaXY+YClbMF07CiAgICAgICAgICAgIHBvcHVwXzRmMjlhNjc1MTQ2NzQ3MTViOWUyMGE4MmEzNjRlMzkwLnNldENvbnRlbnQoaHRtbF8wYmQ1ZWU0YzJmOTU0ZTE2OGUxZmY0NGEzYjUyZjZjYik7CiAgICAgICAgCgogICAgICAgIG1hcmtlcl84ZTc5NTZmYTllZGY0YjA1OWY5YjRkODc4YzNjYzg4Yi5iaW5kUG9wdXAocG9wdXBfNGYyOWE2NzUxNDY3NDcxNWI5ZTIwYTgyYTM2NGUzOTApCiAgICAgICAgOwoKICAgICAgICAKICAgIAogICAgCiAgICAgICAgICAgIHZhciBtYXJrZXJfNWI0MTMxZmM5NDI1NGE2N2IzYTg2MmYzYzNjZGNhY2IgPSBMLm1hcmtlcigKICAgICAgICAgICAgICAgIFs0MC4yNTgwMzgsIC0xMDUuMjA2Mzg2XSwKICAgICAgICAgICAgICAgIHt9CiAgICAgICAgICAgICkuYWRkVG8obWFya2VyX2NsdXN0ZXJfYWJjOWI2YTFkNGI1NGMyODhmMDhjMDI0YjNlNGFiMjcpOwogICAgICAgIAogICAgCiAgICAgICAgdmFyIHBvcHVwXzI5YzhiNGM3MTllODQ1NGE5M2IwMDZjNDAyMTg1NmIwID0gTC5wb3B1cCh7Im1heFdpZHRoIjogIjEwMCUifSk7CgogICAgICAgIAogICAgICAgICAgICB2YXIgaHRtbF9lODUxNzVhNmQ5ZDE0ZmRiOGNiMGI4YzM2MTViMmYxMyA9ICQoYDxkaXYgaWQ9Imh0bWxfZTg1MTc1YTZkOWQxNGZkYjhjYjBiOGMzNjE1YjJmMTMiIHN0eWxlPSJ3aWR0aDogMTAwLjAlOyBoZWlnaHQ6IDEwMC4wJTsiPk5hbWU6IExJVFRMRSBUSE9NUFNPTiBSSVZFUiBBVCBDQU5ZT04gTU9VVEggTkVBUiBCRVJUSE9VRCBQcmVjaXA6IDAuODA8L2Rpdj5gKVswXTsKICAgICAgICAgICAgcG9wdXBfMjljOGI0YzcxOWU4NDU0YTkzYjAwNmM0MDIxODU2YjAuc2V0Q29udGVudChodG1sX2U4NTE3NWE2ZDlkMTRmZGI4Y2IwYjhjMzYxNWIyZjEzKTsKICAgICAgICAKCiAgICAgICAgbWFya2VyXzViNDEzMWZjOTQyNTRhNjdiM2E4NjJmM2MzY2RjYWNiLmJpbmRQb3B1cChwb3B1cF8yOWM4YjRjNzE5ZTg0NTRhOTNiMDA2YzQwMjE4NTZiMCkKICAgICAgICA7CgogICAgICAgIAogICAgCiAgICAKICAgICAgICAgICAgdmFyIG1hcmtlcl85ZWMzMDBhZTQ1NjI0NGNkODE5MDg5OTE0YjBiYWY3ZiA9IEwubWFya2VyKAogICAgICAgICAgICAgICAgWzQwLjIxMTM4OSwgLTEwNS4yNTA5NTJdLAogICAgICAgICAgICAgICAge30KICAgICAgICAgICAgKS5hZGRUbyhtYXJrZXJfY2x1c3Rlcl9hYmM5YjZhMWQ0YjU0YzI4OGYwOGMwMjRiM2U0YWIyNyk7CiAgICAgICAgCiAgICAKICAgICAgICB2YXIgcG9wdXBfZjM5MDNjOGQ4ZDI2NDRhNDlmNDBhNWU1NmE2ZGI4OWMgPSBMLnBvcHVwKHsibWF4V2lkdGgiOiAiMTAwJSJ9KTsKCiAgICAgICAgCiAgICAgICAgICAgIHZhciBodG1sX2M4NmZiMDRiZWM4ZTQ3ZTZiYWJhMDE4ODBkMGE5ZmI0ID0gJChgPGRpdiBpZD0iaHRtbF9jODZmYjA0YmVjOGU0N2U2YmFiYTAxODgwZDBhOWZiNCIgc3R5bGU9IndpZHRoOiAxMDAuMCU7IGhlaWdodDogMTAwLjAlOyI+TmFtZTogU01FQUQgRElUQ0ggUHJlY2lwOiAyLjk1PC9kaXY+YClbMF07CiAgICAgICAgICAgIHBvcHVwX2YzOTAzYzhkOGQyNjQ0YTQ5ZjQwYTVlNTZhNmRiODljLnNldENvbnRlbnQoaHRtbF9jODZmYjA0YmVjOGU0N2U2YmFiYTAxODgwZDBhOWZiNCk7CiAgICAgICAgCgogICAgICAgIG1hcmtlcl85ZWMzMDBhZTQ1NjI0NGNkODE5MDg5OTE0YjBiYWY3Zi5iaW5kUG9wdXAocG9wdXBfZjM5MDNjOGQ4ZDI2NDRhNDlmNDBhNWU1NmE2ZGI4OWMpCiAgICAgICAgOwoKICAgICAgICAKICAgIAogICAgCiAgICAgICAgICAgIHZhciBtYXJrZXJfNjlmYjNiNDVjNDY4NDEwY2I4Y2E3MWQ2NmZiNGViYzMgPSBMLm1hcmtlcigKICAgICAgICAgICAgICAgIFszOS45OTA2NDMsIC0xMDUuMjE0NTU1XSwKICAgICAgICAgICAgICAgIHt9CiAgICAgICAgICAgICkuYWRkVG8obWFya2VyX2NsdXN0ZXJfYWJjOWI2YTFkNGI1NGMyODhmMDhjMDI0YjNlNGFiMjcpOwogICAgICAgIAogICAgCiAgICAgICAgdmFyIHBvcHVwXzFmODk2ODM0ZTlhYzQ1ODRiYmI5MDFlMGExNzA4OWM1ID0gTC5wb3B1cCh7Im1heFdpZHRoIjogIjEwMCUifSk7CgogICAgICAgIAogICAgICAgICAgICB2YXIgaHRtbF85ZWYzN2IwODUxMTA0YWE2OGY1YTU3NWI0MjBkNTY5MCA9ICQoYDxkaXYgaWQ9Imh0bWxfOWVmMzdiMDg1MTEwNGFhNjhmNWE1NzViNDIwZDU2OTAiIHN0eWxlPSJ3aWR0aDogMTAwLjAlOyBoZWlnaHQ6IDEwMC4wJTsiPk5hbWU6IEVOVEVSUFJJU0UgRElUQ0ggUHJlY2lwOiAwLjAwPC9kaXY+YClbMF07CiAgICAgICAgICAgIHBvcHVwXzFmODk2ODM0ZTlhYzQ1ODRiYmI5MDFlMGExNzA4OWM1LnNldENvbnRlbnQoaHRtbF85ZWYzN2IwODUxMTA0YWE2OGY1YTU3NWI0MjBkNTY5MCk7CiAgICAgICAgCgogICAgICAgIG1hcmtlcl82OWZiM2I0NWM0Njg0MTBjYjhjYTcxZDY2ZmI0ZWJjMy5iaW5kUG9wdXAocG9wdXBfMWY4OTY4MzRlOWFjNDU4NGJiYjkwMWUwYTE3MDg5YzUpCiAgICAgICAgOwoKICAgICAgICAKICAgIAogICAgCiAgICAgICAgICAgIHZhciBtYXJrZXJfOGYzNmFlNjFlM2QyNDVlNTg1ZmQ1Y2MxMjhjYTBmYWUgPSBMLm1hcmtlcigKICAgICAgICAgICAgICAgIFs0MC4yMjAzODEsIC0xMDUuMjY3MTkzXSwKICAgICAgICAgICAgICAgIHt9CiAgICAgICAgICAgICkuYWRkVG8obWFya2VyX2NsdXN0ZXJfYWJjOWI2YTFkNGI1NGMyODhmMDhjMDI0YjNlNGFiMjcpOwogICAgICAgIAogICAgCiAgICAgICAgdmFyIHBvcHVwXzNkNzliYzE4NTM3ZTQzNzg4MWQyNjllM2VlZDE3NDA0ID0gTC5wb3B1cCh7Im1heFdpZHRoIjogIjEwMCUifSk7CgogICAgICAgIAogICAgICAgICAgICB2YXIgaHRtbF82MTY5ZDk2MjZkOTg0NmUwYTZhY2M0YjQzYTU4M2MxNSA9ICQoYDxkaXYgaWQ9Imh0bWxfNjE2OWQ5NjI2ZDk4NDZlMGE2YWNjNGI0M2E1ODNjMTUiIHN0eWxlPSJ3aWR0aDogMTAwLjAlOyBoZWlnaHQ6IDEwMC4wJTsiPk5hbWU6IExZT05TIEJPSE4gUEFSSyBQVU1QIFNUQVRJT04gUHJlY2lwOiBuYW48L2Rpdj5gKVswXTsKICAgICAgICAgICAgcG9wdXBfM2Q3OWJjMTg1MzdlNDM3ODgxZDI2OWUzZWVkMTc0MDQuc2V0Q29udGVudChodG1sXzYxNjlkOTYyNmQ5ODQ2ZTBhNmFjYzRiNDNhNTgzYzE1KTsKICAgICAgICAKCiAgICAgICAgbWFya2VyXzhmMzZhZTYxZTNkMjQ1ZTU4NWZkNWNjMTI4Y2EwZmFlLmJpbmRQb3B1cChwb3B1cF8zZDc5YmMxODUzN2U0Mzc4ODFkMjY5ZTNlZWQxNzQwNCkKICAgICAgICA7CgogICAgICAgIAogICAgCiAgICAKICAgICAgICAgICAgdmFyIG1hcmtlcl9iZWFmYTY0NGFjMzk0ODA2YWFlZGZiNDIxMTJmZjk2YyA9IEwubWFya2VyKAogICAgICAgICAgICAgICAgWzQwLjEyNjQwNywgLTEwNS4zMDQ1MV0sCiAgICAgICAgICAgICAgICB7fQogICAgICAgICAgICApLmFkZFRvKG1hcmtlcl9jbHVzdGVyX2FiYzliNmExZDRiNTRjMjg4ZjA4YzAyNGIzZTRhYjI3KTsKICAgICAgICAKICAgIAogICAgICAgIHZhciBwb3B1cF8wZDgxNjIyNjc2NmU0MzYwYjFlNzEwYzZjY2U1NmIyOCA9IEwucG9wdXAoeyJtYXhXaWR0aCI6ICIxMDAlIn0pOwoKICAgICAgICAKICAgICAgICAgICAgdmFyIGh0bWxfYWZhZjMyZTIzZmQyNDIzODk4NzQ5ODZjZjY5YWEzYmUgPSAkKGA8ZGl2IGlkPSJodG1sX2FmYWYzMmUyM2ZkMjQyMzg5ODc0OTg2Y2Y2OWFhM2JlIiBzdHlsZT0id2lkdGg6IDEwMC4wJTsgaGVpZ2h0OiAxMDAuMCU7Ij5OYW1lOiBMRUZUIEhBTkQgQ1JFRUsgTkVBUiBCT1VMREVSLCBDTy4gUHJlY2lwOiAzLjAxPC9kaXY+YClbMF07CiAgICAgICAgICAgIHBvcHVwXzBkODE2MjI2NzY2ZTQzNjBiMWU3MTBjNmNjZTU2YjI4LnNldENvbnRlbnQoaHRtbF9hZmFmMzJlMjNmZDI0MjM4OTg3NDk4NmNmNjlhYTNiZSk7CiAgICAgICAgCgogICAgICAgIG1hcmtlcl9iZWFmYTY0NGFjMzk0ODA2YWFlZGZiNDIxMTJmZjk2Yy5iaW5kUG9wdXAocG9wdXBfMGQ4MTYyMjY3NjZlNDM2MGIxZTcxMGM2Y2NlNTZiMjgpCiAgICAgICAgOwoKICAgICAgICAKICAgIAogICAgCiAgICAgICAgICAgIHZhciBtYXJrZXJfZmE0ZTc0NTJjN2NhNDczZGIwZDdmMmE1MzQ0M2ZmYzYgPSBMLm1hcmtlcigKICAgICAgICAgICAgICAgIFs0MC4wOTYwMywgLTEwNS4wOTEwNTldLAogICAgICAgICAgICAgICAge30KICAgICAgICAgICAgKS5hZGRUbyhtYXJrZXJfY2x1c3Rlcl9hYmM5YjZhMWQ0YjU0YzI4OGYwOGMwMjRiM2U0YWIyNyk7CiAgICAgICAgCiAgICAKICAgICAgICB2YXIgcG9wdXBfYzg2MDRkYzg4NTQ3NDgwNzkyMGY5OWM1ZTRkMTM2YzAgPSBMLnBvcHVwKHsibWF4V2lkdGgiOiAiMTAwJSJ9KTsKCiAgICAgICAgCiAgICAgICAgICAgIHZhciBodG1sX2QwMGJkOTJiZTJiMzQ3ODE5MDk2MDk2Y2ExN2VlMjVmID0gJChgPGRpdiBpZD0iaHRtbF9kMDBiZDkyYmUyYjM0NzgxOTA5NjA5NmNhMTdlZTI1ZiIgc3R5bGU9IndpZHRoOiAxMDAuMCU7IGhlaWdodDogMTAwLjAlOyI+TmFtZTogUEFOQU1BIFJFU0VSVk9JUiBJTkxFVCBQcmVjaXA6IDguMDc8L2Rpdj5gKVswXTsKICAgICAgICAgICAgcG9wdXBfYzg2MDRkYzg4NTQ3NDgwNzkyMGY5OWM1ZTRkMTM2YzAuc2V0Q29udGVudChodG1sX2QwMGJkOTJiZTJiMzQ3ODE5MDk2MDk2Y2ExN2VlMjVmKTsKICAgICAgICAKCiAgICAgICAgbWFya2VyX2ZhNGU3NDUyYzdjYTQ3M2RiMGQ3ZjJhNTM0NDNmZmM2LmJpbmRQb3B1cChwb3B1cF9jODYwNGRjODg1NDc0ODA3OTIwZjk5YzVlNGQxMzZjMCkKICAgICAgICA7CgogICAgICAgIAogICAgCiAgICAKICAgICAgICAgICAgdmFyIG1hcmtlcl82ODY5YTA2OWZmN2I0MmU4YmRjOGQ1NGMyOWY5NGZiYiA9IEwubWFya2VyKAogICAgICAgICAgICAgICAgWzQwLjIxODMzNSwgLTEwNS4yNTgxMV0sCiAgICAgICAgICAgICAgICB7fQogICAgICAgICAgICApLmFkZFRvKG1hcmtlcl9jbHVzdGVyX2FiYzliNmExZDRiNTRjMjg4ZjA4YzAyNGIzZTRhYjI3KTsKICAgICAgICAKICAgIAogICAgICAgIHZhciBwb3B1cF9hZDhmYTgwNzk3YWI0ZDk5YTIyNzBkOWIyMjA3MWFmOSA9IEwucG9wdXAoeyJtYXhXaWR0aCI6ICIxMDAlIn0pOwoKICAgICAgICAKICAgICAgICAgICAgdmFyIGh0bWxfNWYwYWY5NzNiOGMzNGYxZDhhYzcwNmFjOTllYjBjMTEgPSAkKGA8ZGl2IGlkPSJodG1sXzVmMGFmOTczYjhjMzRmMWQ4YWM3MDZhYzk5ZWIwYzExIiBzdHlsZT0id2lkdGg6IDEwMC4wJTsgaGVpZ2h0OiAxMDAuMCU7Ij5OYW1lOiBTQUlOVCBWUkFJTiBTVVBQTFkgQ0FOQUwgTkVBUiBMWU9OUywgQ08gUHJlY2lwOiA0Mi41MDwvZGl2PmApWzBdOwogICAgICAgICAgICBwb3B1cF9hZDhmYTgwNzk3YWI0ZDk5YTIyNzBkOWIyMjA3MWFmOS5zZXRDb250ZW50KGh0bWxfNWYwYWY5NzNiOGMzNGYxZDhhYzcwNmFjOTllYjBjMTEpOwogICAgICAgIAoKICAgICAgICBtYXJrZXJfNjg2OWEwNjlmZjdiNDJlOGJkYzhkNTRjMjlmOTRmYmIuYmluZFBvcHVwKHBvcHVwX2FkOGZhODA3OTdhYjRkOTlhMjI3MGQ5YjIyMDcxYWY5KQogICAgICAgIDsKCiAgICAgICAgCiAgICAKICAgIAogICAgICAgICAgICB2YXIgbWFya2VyXzQzODM5Yjg5OWYyZjRmOTBhMmM2MDExYzdiOGY1NWRlID0gTC5tYXJrZXIoCiAgICAgICAgICAgICAgICBbNDAuMDg2Mjc4LCAtMTA1LjIxNzUxOV0sCiAgICAgICAgICAgICAgICB7fQogICAgICAgICAgICApLmFkZFRvKG1hcmtlcl9jbHVzdGVyX2FiYzliNmExZDRiNTRjMjg4ZjA4YzAyNGIzZTRhYjI3KTsKICAgICAgICAKICAgIAogICAgICAgIHZhciBwb3B1cF8wMDRjZjY3NzVhNjY0ODYxYjkwZTQyZmE1YzA5ZDgwZSA9IEwucG9wdXAoeyJtYXhXaWR0aCI6ICIxMDAlIn0pOwoKICAgICAgICAKICAgICAgICAgICAgdmFyIGh0bWxfNTUxNzNkOWM3ZTgzNGJkOWI1NDdlZTdlYThiMjNkZWQgPSAkKGA8ZGl2IGlkPSJodG1sXzU1MTczZDljN2U4MzRiZDliNTQ3ZWU3ZWE4YjIzZGVkIiBzdHlsZT0id2lkdGg6IDEwMC4wJTsgaGVpZ2h0OiAxMDAuMCU7Ij5OYW1lOiBCT1VMREVSIFJFU0VSVk9JUiBJTkxFVCBQcmVjaXA6IDAuMzA8L2Rpdj5gKVswXTsKICAgICAgICAgICAgcG9wdXBfMDA0Y2Y2Nzc1YTY2NDg2MWI5MGU0MmZhNWMwOWQ4MGUuc2V0Q29udGVudChodG1sXzU1MTczZDljN2U4MzRiZDliNTQ3ZWU3ZWE4YjIzZGVkKTsKICAgICAgICAKCiAgICAgICAgbWFya2VyXzQzODM5Yjg5OWYyZjRmOTBhMmM2MDExYzdiOGY1NWRlLmJpbmRQb3B1cChwb3B1cF8wMDRjZjY3NzVhNjY0ODYxYjkwZTQyZmE1YzA5ZDgwZSkKICAgICAgICA7CgogICAgICAgIAogICAgCiAgICAKICAgICAgICAgICAgdmFyIG1hcmtlcl82ZTc5ZGE5ZTM0YmM0NTc2YmFkMDkwMTAyNzM2YmVlYSA9IEwubWFya2VyKAogICAgICAgICAgICAgICAgWzQwLjAzNjI4LCAtMTA1LjIwMzE3Nl0sCiAgICAgICAgICAgICAgICB7fQogICAgICAgICAgICApLmFkZFRvKG1hcmtlcl9jbHVzdGVyX2FiYzliNmExZDRiNTRjMjg4ZjA4YzAyNGIzZTRhYjI3KTsKICAgICAgICAKICAgIAogICAgICAgIHZhciBwb3B1cF9jOTU4ODgzOGNmZGI0NWI2YmU2MGVlMzJmNjg0Mzc4NiA9IEwucG9wdXAoeyJtYXhXaWR0aCI6ICIxMDAlIn0pOwoKICAgICAgICAKICAgICAgICAgICAgdmFyIGh0bWxfZjc3YjI4NTA1YzEyNGNiZjllMjRkZWJhMTJlMzE0MGQgPSAkKGA8ZGl2IGlkPSJodG1sX2Y3N2IyODUwNWMxMjRjYmY5ZTI0ZGViYTEyZTMxNDBkIiBzdHlsZT0id2lkdGg6IDEwMC4wJTsgaGVpZ2h0OiAxMDAuMCU7Ij5OYW1lOiBHUkVFTiBESVRDSCBQcmVjaXA6IDEuNjg8L2Rpdj5gKVswXTsKICAgICAgICAgICAgcG9wdXBfYzk1ODg4MzhjZmRiNDViNmJlNjBlZTMyZjY4NDM3ODYuc2V0Q29udGVudChodG1sX2Y3N2IyODUwNWMxMjRjYmY5ZTI0ZGViYTEyZTMxNDBkKTsKICAgICAgICAKCiAgICAgICAgbWFya2VyXzZlNzlkYTllMzRiYzQ1NzZiYWQwOTAxMDI3MzZiZWVhLmJpbmRQb3B1cChwb3B1cF9jOTU4ODgzOGNmZGI0NWI2YmU2MGVlMzJmNjg0Mzc4NikKICAgICAgICA7CgogICAgICAgIAogICAgCiAgICAKICAgICAgICAgICAgdmFyIG1hcmtlcl9lMTUxMTZhNmU2Yjg0NWRmYjY4MWU5YTY1NzFlODUxZSA9IEwubWFya2VyKAogICAgICAgICAgICAgICAgWzQwLjIxMTA4MywgLTEwNS4yNTA5MjddLAogICAgICAgICAgICAgICAge30KICAgICAgICAgICAgKS5hZGRUbyhtYXJrZXJfY2x1c3Rlcl9hYmM5YjZhMWQ0YjU0YzI4OGYwOGMwMjRiM2U0YWIyNyk7CiAgICAgICAgCiAgICAKICAgICAgICB2YXIgcG9wdXBfNTIxM2NhYjA3ZWJhNDNkMWJkODRjZTYxNmE2YWQ3MDQgPSBMLnBvcHVwKHsibWF4V2lkdGgiOiAiMTAwJSJ9KTsKCiAgICAgICAgCiAgICAgICAgICAgIHZhciBodG1sX2IwMjEwNWYxNGY0ZTQ3OTI5ZmVlNjQ1NDg0NmUyMjJlID0gJChgPGRpdiBpZD0iaHRtbF9iMDIxMDVmMTRmNGU0NzkyOWZlZTY0NTQ4NDZlMjIyZSIgc3R5bGU9IndpZHRoOiAxMDAuMCU7IGhlaWdodDogMTAwLjAlOyI+TmFtZTogU1dFREUgRElUQ0ggUHJlY2lwOiAwLjAwPC9kaXY+YClbMF07CiAgICAgICAgICAgIHBvcHVwXzUyMTNjYWIwN2ViYTQzZDFiZDg0Y2U2MTZhNmFkNzA0LnNldENvbnRlbnQoaHRtbF9iMDIxMDVmMTRmNGU0NzkyOWZlZTY0NTQ4NDZlMjIyZSk7CiAgICAgICAgCgogICAgICAgIG1hcmtlcl9lMTUxMTZhNmU2Yjg0NWRmYjY4MWU5YTY1NzFlODUxZS5iaW5kUG9wdXAocG9wdXBfNTIxM2NhYjA3ZWJhNDNkMWJkODRjZTYxNmE2YWQ3MDQpCiAgICAgICAgOwoKICAgICAgICAKICAgIAogICAgCiAgICAgICAgICAgIHZhciBtYXJrZXJfODkxMjdkYTk5ZTYxNDRjNzg2OWQ2YWQ0MjJkZTQ4N2IgPSBMLm1hcmtlcigKICAgICAgICAgICAgICAgIFs0MC4xNzI5MjUsIC0xMDUuMTY3NjIyXSwKICAgICAgICAgICAgICAgIHt9CiAgICAgICAgICAgICkuYWRkVG8obWFya2VyX2NsdXN0ZXJfYWJjOWI2YTFkNGI1NGMyODhmMDhjMDI0YjNlNGFiMjcpOwogICAgICAgIAogICAgCiAgICAgICAgdmFyIHBvcHVwX2JlM2I2MjBiNTQxYzQxMWZiZDIxODM4ODBiOGI0ZjEwID0gTC5wb3B1cCh7Im1heFdpZHRoIjogIjEwMCUifSk7CgogICAgICAgIAogICAgICAgICAgICB2YXIgaHRtbF9lZDQxMDdlZmUxZGM0YTUzOGE5ZWY4NmY0Y2I2YjBjMCA9ICQoYDxkaXYgaWQ9Imh0bWxfZWQ0MTA3ZWZlMWRjNGE1MzhhOWVmODZmNGNiNmIwYzAiIHN0eWxlPSJ3aWR0aDogMTAwLjAlOyBoZWlnaHQ6IDEwMC4wJTsiPk5hbWU6IE5PUlRIV0VTVCBNVVRVQUwgRElUQ0ggUHJlY2lwOiAwLjAwPC9kaXY+YClbMF07CiAgICAgICAgICAgIHBvcHVwX2JlM2I2MjBiNTQxYzQxMWZiZDIxODM4ODBiOGI0ZjEwLnNldENvbnRlbnQoaHRtbF9lZDQxMDdlZmUxZGM0YTUzOGE5ZWY4NmY0Y2I2YjBjMCk7CiAgICAgICAgCgogICAgICAgIG1hcmtlcl84OTEyN2RhOTllNjE0NGM3ODY5ZDZhZDQyMmRlNDg3Yi5iaW5kUG9wdXAocG9wdXBfYmUzYjYyMGI1NDFjNDExZmJkMjE4Mzg4MGI4YjRmMTApCiAgICAgICAgOwoKICAgICAgICAKICAgIAogICAgCiAgICAgICAgICAgIHZhciBtYXJrZXJfODM1NTJiMGQ5OGYxNDE3OGFmN2FhNDFhMjBmMjY5NjEgPSBMLm1hcmtlcigKICAgICAgICAgICAgICAgIFs0MC4wMTg2NjYsIC0xMDUuMjEzMTc4XSwKICAgICAgICAgICAgICAgIHt9CiAgICAgICAgICAgICkuYWRkVG8obWFya2VyX2NsdXN0ZXJfYWJjOWI2YTFkNGI1NGMyODhmMDhjMDI0YjNlNGFiMjcpOwogICAgICAgIAogICAgCiAgICAgICAgdmFyIHBvcHVwXzRiZjY1NmVmMDZkYzRiZTFiZmI0NGI2NTJiOWUxZjMyID0gTC5wb3B1cCh7Im1heFdpZHRoIjogIjEwMCUifSk7CgogICAgICAgIAogICAgICAgICAgICB2YXIgaHRtbF84YTU0YWZjYjFjNzU0ODUyOWU1YjhiZDRlMDg1NTVkZCA9ICQoYDxkaXYgaWQ9Imh0bWxfOGE1NGFmY2IxYzc1NDg1MjllNWI4YmQ0ZTA4NTU1ZGQiIHN0eWxlPSJ3aWR0aDogMTAwLjAlOyBoZWlnaHQ6IDEwMC4wJTsiPk5hbWU6IEpPTkVTIERPTk5FTExZIERJVENIIE9GRiBMRUdHRVRUIElOTEVUIFByZWNpcDogMS42MzwvZGl2PmApWzBdOwogICAgICAgICAgICBwb3B1cF80YmY2NTZlZjA2ZGM0YmUxYmZiNDRiNjUyYjllMWYzMi5zZXRDb250ZW50KGh0bWxfOGE1NGFmY2IxYzc1NDg1MjllNWI4YmQ0ZTA4NTU1ZGQpOwogICAgICAgIAoKICAgICAgICBtYXJrZXJfODM1NTJiMGQ5OGYxNDE3OGFmN2FhNDFhMjBmMjY5NjEuYmluZFBvcHVwKHBvcHVwXzRiZjY1NmVmMDZkYzRiZTFiZmI0NGI2NTJiOWUxZjMyKQogICAgICAgIDsKCiAgICAgICAgCiAgICAKICAgIAogICAgICAgICAgICB2YXIgbWFya2VyXzg3MWU1NGIwN2Y0NTQ3ODE4ODk3OTQ5MTE2OWVkNTFjID0gTC5tYXJrZXIoCiAgICAgICAgICAgICAgICBbNDAuMTc0ODQ0LCAtMTA1LjE2Nzg3M10sCiAgICAgICAgICAgICAgICB7fQogICAgICAgICAgICApLmFkZFRvKG1hcmtlcl9jbHVzdGVyX2FiYzliNmExZDRiNTRjMjg4ZjA4YzAyNGIzZTRhYjI3KTsKICAgICAgICAKICAgIAogICAgICAgIHZhciBwb3B1cF9lNjYyNjE0NTM0YTY0OTdjODAzNTBhMDU4MzExMWExMCA9IEwucG9wdXAoeyJtYXhXaWR0aCI6ICIxMDAlIn0pOwoKICAgICAgICAKICAgICAgICAgICAgdmFyIGh0bWxfOWIwMWFhZGY0OTA5NGQ0YmE3ZWIyNDM1MmQ2ODUyZTIgPSAkKGA8ZGl2IGlkPSJodG1sXzliMDFhYWRmNDkwOTRkNGJhN2ViMjQzNTJkNjg1MmUyIiBzdHlsZT0id2lkdGg6IDEwMC4wJTsgaGVpZ2h0OiAxMDAuMCU7Ij5OYW1lOiBIQUdFUiBNRUFET1dTIERJVENIIFByZWNpcDogMC40NzwvZGl2PmApWzBdOwogICAgICAgICAgICBwb3B1cF9lNjYyNjE0NTM0YTY0OTdjODAzNTBhMDU4MzExMWExMC5zZXRDb250ZW50KGh0bWxfOWIwMWFhZGY0OTA5NGQ0YmE3ZWIyNDM1MmQ2ODUyZTIpOwogICAgICAgIAoKICAgICAgICBtYXJrZXJfODcxZTU0YjA3ZjQ1NDc4MTg4OTc5NDkxMTY5ZWQ1MWMuYmluZFBvcHVwKHBvcHVwX2U2NjI2MTQ1MzRhNjQ5N2M4MDM1MGEwNTgzMTExYTEwKQogICAgICAgIDsKCiAgICAgICAgCiAgICAKICAgIAogICAgICAgICAgICB2YXIgbWFya2VyXzJkNzI5MWYzNjRhYTRkMGI4YmRiZTlhZTI0ODllOTg0ID0gTC5tYXJrZXIoCiAgICAgICAgICAgICAgICBbNDAuMjYwODI3LCAtMTA1LjE5ODU2N10sCiAgICAgICAgICAgICAgICB7fQogICAgICAgICAgICApLmFkZFRvKG1hcmtlcl9jbHVzdGVyX2FiYzliNmExZDRiNTRjMjg4ZjA4YzAyNGIzZTRhYjI3KTsKICAgICAgICAKICAgIAogICAgICAgIHZhciBwb3B1cF8wODk0NjAwZDQ4MDc0ODU5Yjg0ZjRhM2QyMDE4ZWNmZSA9IEwucG9wdXAoeyJtYXhXaWR0aCI6ICIxMDAlIn0pOwoKICAgICAgICAKICAgICAgICAgICAgdmFyIGh0bWxfMzkzYTQwZTUwNjlhNGM0Mjg3NzlkYjM0YzZjMDBmYmYgPSAkKGA8ZGl2IGlkPSJodG1sXzM5M2E0MGU1MDY5YTRjNDI4Nzc5ZGIzNGM2YzAwZmJmIiBzdHlsZT0id2lkdGg6IDEwMC4wJTsgaGVpZ2h0OiAxMDAuMCU7Ij5OYW1lOiBDVUxWRVIgRElUQ0ggUHJlY2lwOiAwLjAwPC9kaXY+YClbMF07CiAgICAgICAgICAgIHBvcHVwXzA4OTQ2MDBkNDgwNzQ4NTliODRmNGEzZDIwMThlY2ZlLnNldENvbnRlbnQoaHRtbF8zOTNhNDBlNTA2OWE0YzQyODc3OWRiMzRjNmMwMGZiZik7CiAgICAgICAgCgogICAgICAgIG1hcmtlcl8yZDcyOTFmMzY0YWE0ZDBiOGJkYmU5YWUyNDg5ZTk4NC5iaW5kUG9wdXAocG9wdXBfMDg5NDYwMGQ0ODA3NDg1OWI4NGY0YTNkMjAxOGVjZmUpCiAgICAgICAgOwoKICAgICAgICAKICAgIAogICAgCiAgICAgICAgICAgIHZhciBtYXJrZXJfZTJiNzkwOTgyNjkwNGYyNGE5NTUwZjUwMTRiZWQwMWYgPSBMLm1hcmtlcigKICAgICAgICAgICAgICAgIFs0MC4xODc1MjQsIC0xMDUuMTg5MTMyXSwKICAgICAgICAgICAgICAgIHt9CiAgICAgICAgICAgICkuYWRkVG8obWFya2VyX2NsdXN0ZXJfYWJjOWI2YTFkNGI1NGMyODhmMDhjMDI0YjNlNGFiMjcpOwogICAgICAgIAogICAgCiAgICAgICAgdmFyIHBvcHVwXzM2ZDI5ZjhmMDg4MjQ0ZjNiOTVlMmNmMWMwZGViMjAxID0gTC5wb3B1cCh7Im1heFdpZHRoIjogIjEwMCUifSk7CgogICAgICAgIAogICAgICAgICAgICB2YXIgaHRtbF9hNjI0NzRlZDBhZjk0MjIwYTM3M2JkOGZhNGQ4ZTVjZSA9ICQoYDxkaXYgaWQ9Imh0bWxfYTYyNDc0ZWQwYWY5NDIyMGEzNzNiZDhmYTRkOGU1Y2UiIHN0eWxlPSJ3aWR0aDogMTAwLjAlOyBoZWlnaHQ6IDEwMC4wJTsiPk5hbWU6IFJVTllPTiBESVRDSCBQcmVjaXA6IDAuMDA8L2Rpdj5gKVswXTsKICAgICAgICAgICAgcG9wdXBfMzZkMjlmOGYwODgyNDRmM2I5NWUyY2YxYzBkZWIyMDEuc2V0Q29udGVudChodG1sX2E2MjQ3NGVkMGFmOTQyMjBhMzczYmQ4ZmE0ZDhlNWNlKTsKICAgICAgICAKCiAgICAgICAgbWFya2VyX2UyYjc5MDk4MjY5MDRmMjRhOTU1MGY1MDE0YmVkMDFmLmJpbmRQb3B1cChwb3B1cF8zNmQyOWY4ZjA4ODI0NGYzYjk1ZTJjZjFjMGRlYjIwMSkKICAgICAgICA7CgogICAgICAgIAogICAgCiAgICAKICAgICAgICAgICAgdmFyIG1hcmtlcl9lZTYyOTI5NzNiZmQ0NWM2YWYzNDE3MTdlNmRhNWZiMCA9IEwubWFya2VyKAogICAgICAgICAgICAgICAgWzQwLjAwNjUzNCwgLTEwNS4zMzA1MjVdLAogICAgICAgICAgICAgICAge30KICAgICAgICAgICAgKS5hZGRUbyhtYXJrZXJfY2x1c3Rlcl9hYmM5YjZhMWQ0YjU0YzI4OGYwOGMwMjRiM2U0YWIyNyk7CiAgICAgICAgCiAgICAKICAgICAgICB2YXIgcG9wdXBfNGViOGU5NWQ3ZjhlNDUxMmJjNTVmMDNlZWI5MzczZDYgPSBMLnBvcHVwKHsibWF4V2lkdGgiOiAiMTAwJSJ9KTsKCiAgICAgICAgCiAgICAgICAgICAgIHZhciBodG1sXzllNzQ4YjUzZGI1YzQzNTNhN2RjNmJiNDliMTIwOTFiID0gJChgPGRpdiBpZD0iaHRtbF85ZTc0OGI1M2RiNWM0MzUzYTdkYzZiYjQ5YjEyMDkxYiIgc3R5bGU9IndpZHRoOiAxMDAuMCU7IGhlaWdodDogMTAwLjAlOyI+TmFtZTogQk9VTERFUiBDUkVFSyBORUFSIE9ST0RFTEwsIENPLiBQcmVjaXA6IDEyLjQwPC9kaXY+YClbMF07CiAgICAgICAgICAgIHBvcHVwXzRlYjhlOTVkN2Y4ZTQ1MTJiYzU1ZjAzZWViOTM3M2Q2LnNldENvbnRlbnQoaHRtbF85ZTc0OGI1M2RiNWM0MzUzYTdkYzZiYjQ5YjEyMDkxYik7CiAgICAgICAgCgogICAgICAgIG1hcmtlcl9lZTYyOTI5NzNiZmQ0NWM2YWYzNDE3MTdlNmRhNWZiMC5iaW5kUG9wdXAocG9wdXBfNGViOGU5NWQ3ZjhlNDUxMmJjNTVmMDNlZWI5MzczZDYpCiAgICAgICAgOwoKICAgICAgICAKICAgIAogICAgCiAgICAgICAgICAgIHZhciBtYXJrZXJfNjg1MjBiMWNhNWM3NDRmOGE5YThkOGY5ZTBhNjhkODkgPSBMLm1hcmtlcigKICAgICAgICAgICAgICAgIFszOS45Njc3MjYsIC0xMDUuMjI2NDk4XSwKICAgICAgICAgICAgICAgIHt9CiAgICAgICAgICAgICkuYWRkVG8obWFya2VyX2NsdXN0ZXJfYWJjOWI2YTFkNGI1NGMyODhmMDhjMDI0YjNlNGFiMjcpOwogICAgICAgIAogICAgCiAgICAgICAgdmFyIHBvcHVwX2MzMzVkZjU5NjZiNDQ3M2NhNTJiNDZhYTM3ODQyNzZlID0gTC5wb3B1cCh7Im1heFdpZHRoIjogIjEwMCUifSk7CgogICAgICAgIAogICAgICAgICAgICB2YXIgaHRtbF8yM2NjMGI4OWE2NTU0ZDkwYWIzMDA3OGFhNTk2M2JiZSA9ICQoYDxkaXYgaWQ9Imh0bWxfMjNjYzBiODlhNjU1NGQ5MGFiMzAwNzhhYTU5NjNiYmUiIHN0eWxlPSJ3aWR0aDogMTAwLjAlOyBoZWlnaHQ6IDEwMC4wJTsiPk5hbWU6IFNDSEVBUkVSIERJVENIIFByZWNpcDogMC4wMDwvZGl2PmApWzBdOwogICAgICAgICAgICBwb3B1cF9jMzM1ZGY1OTY2YjQ0NzNjYTUyYjQ2YWEzNzg0Mjc2ZS5zZXRDb250ZW50KGh0bWxfMjNjYzBiODlhNjU1NGQ5MGFiMzAwNzhhYTU5NjNiYmUpOwogICAgICAgIAoKICAgICAgICBtYXJrZXJfNjg1MjBiMWNhNWM3NDRmOGE5YThkOGY5ZTBhNjhkODkuYmluZFBvcHVwKHBvcHVwX2MzMzVkZjU5NjZiNDQ3M2NhNTJiNDZhYTM3ODQyNzZlKQogICAgICAgIDsKCiAgICAgICAgCiAgICAKICAgIAogICAgICAgICAgICB2YXIgbWFya2VyX2RiZTJmN2U4NmI3YzQyMzA4NWVkMTk2OTc2M2ExNzJmID0gTC5tYXJrZXIoCiAgICAgICAgICAgICAgICBbNDAuMDg3NTgzLCAtMTA1LjA3MjUwMl0sCiAgICAgICAgICAgICAgICB7fQogICAgICAgICAgICApLmFkZFRvKG1hcmtlcl9jbHVzdGVyX2FiYzliNmExZDRiNTRjMjg4ZjA4YzAyNGIzZTRhYjI3KTsKICAgICAgICAKICAgIAogICAgICAgIHZhciBwb3B1cF83NjFiOTg3YmFiMGQ0NGVmOTcxODhlZjI3ZjliMzNhMiA9IEwucG9wdXAoeyJtYXhXaWR0aCI6ICIxMDAlIn0pOwoKICAgICAgICAKICAgICAgICAgICAgdmFyIGh0bWxfYzZlYTJmY2ZlNjk5NGJkY2EwOWNmMjkzNzA1MjlhYWMgPSAkKGA8ZGl2IGlkPSJodG1sX2M2ZWEyZmNmZTY5OTRiZGNhMDljZjI5MzcwNTI5YWFjIiBzdHlsZT0id2lkdGg6IDEwMC4wJTsgaGVpZ2h0OiAxMDAuMCU7Ij5OYW1lOiBQQU5BTUEgUkVTRVJWT0lSIE9VVExFVCBQcmVjaXA6IDMuMDU8L2Rpdj5gKVswXTsKICAgICAgICAgICAgcG9wdXBfNzYxYjk4N2JhYjBkNDRlZjk3MTg4ZWYyN2Y5YjMzYTIuc2V0Q29udGVudChodG1sX2M2ZWEyZmNmZTY5OTRiZGNhMDljZjI5MzcwNTI5YWFjKTsKICAgICAgICAKCiAgICAgICAgbWFya2VyX2RiZTJmN2U4NmI3YzQyMzA4NWVkMTk2OTc2M2ExNzJmLmJpbmRQb3B1cChwb3B1cF83NjFiOTg3YmFiMGQ0NGVmOTcxODhlZjI3ZjliMzNhMikKICAgICAgICA7CgogICAgICAgIAogICAgCiAgICAKICAgICAgICAgICAgdmFyIG1hcmtlcl9iNGNkYWQ5YThlOGI0YzllOWZmYWQxZjA4ZWY5ZDMzOCA9IEwubWFya2VyKAogICAgICAgICAgICAgICAgWzQwLjI1NTc3NiwgLTEwNS4yMDk1XSwKICAgICAgICAgICAgICAgIHt9CiAgICAgICAgICAgICkuYWRkVG8obWFya2VyX2NsdXN0ZXJfYWJjOWI2YTFkNGI1NGMyODhmMDhjMDI0YjNlNGFiMjcpOwogICAgICAgIAogICAgCiAgICAgICAgdmFyIHBvcHVwXzVkNzE2YzUzMWQyMzQxODdiYjhkM2M1MmM5YTI5NTRhID0gTC5wb3B1cCh7Im1heFdpZHRoIjogIjEwMCUifSk7CgogICAgICAgIAogICAgICAgICAgICB2YXIgaHRtbF9hNzljNjI2OTBhZTQ0ZmI4OWQxNjZjOTJlNTM4NmUxZCA9ICQoYDxkaXYgaWQ9Imh0bWxfYTc5YzYyNjkwYWU0NGZiODlkMTY2YzkyZTUzODZlMWQiIHN0eWxlPSJ3aWR0aDogMTAwLjAlOyBoZWlnaHQ6IDEwMC4wJTsiPk5hbWU6IExJVFRMRSBUSE9NUFNPTiAjMiBESVRDSCBQcmVjaXA6IDAuMTQ8L2Rpdj5gKVswXTsKICAgICAgICAgICAgcG9wdXBfNWQ3MTZjNTMxZDIzNDE4N2JiOGQzYzUyYzlhMjk1NGEuc2V0Q29udGVudChodG1sX2E3OWM2MjY5MGFlNDRmYjg5ZDE2NmM5MmU1Mzg2ZTFkKTsKICAgICAgICAKCiAgICAgICAgbWFya2VyX2I0Y2RhZDlhOGU4YjRjOWU5ZmZhZDFmMDhlZjlkMzM4LmJpbmRQb3B1cChwb3B1cF81ZDcxNmM1MzFkMjM0MTg3YmI4ZDNjNTJjOWEyOTU0YSkKICAgICAgICA7CgogICAgICAgIAogICAgCiAgICAKICAgICAgICAgICAgdmFyIG1hcmtlcl9hYzc0MDI4ODhlNWI0MjQ2ODE1OGY3ZDFjYTRlNWE4OCA9IEwubWFya2VyKAogICAgICAgICAgICAgICAgWzM5Ljk5NjUwNiwgLTEwNS4yMTU3NDVdLAogICAgICAgICAgICAgICAge30KICAgICAgICAgICAgKS5hZGRUbyhtYXJrZXJfY2x1c3Rlcl9hYmM5YjZhMWQ0YjU0YzI4OGYwOGMwMjRiM2U0YWIyNyk7CiAgICAgICAgCiAgICAKICAgICAgICB2YXIgcG9wdXBfNGI5MjZjMzQyNDdiNGRkODg2NjdkZWQ0NTNhZTU5YjAgPSBMLnBvcHVwKHsibWF4V2lkdGgiOiAiMTAwJSJ9KTsKCiAgICAgICAgCiAgICAgICAgICAgIHZhciBodG1sXzI5NDZlMmJiZjM0MjQ3YjlhNjEwMzczYzRlY2MwZTk4ID0gJChgPGRpdiBpZD0iaHRtbF8yOTQ2ZTJiYmYzNDI0N2I5YTYxMDM3M2M0ZWNjMGU5OCIgc3R5bGU9IndpZHRoOiAxMDAuMCU7IGhlaWdodDogMTAwLjAlOyI+TmFtZTogRUFTVCBCT1VMREVSIERJVENIIEJZUEFTUyBQcmVjaXA6IG5hbjwvZGl2PmApWzBdOwogICAgICAgICAgICBwb3B1cF80YjkyNmMzNDI0N2I0ZGQ4ODY2N2RlZDQ1M2FlNTliMC5zZXRDb250ZW50KGh0bWxfMjk0NmUyYmJmMzQyNDdiOWE2MTAzNzNjNGVjYzBlOTgpOwogICAgICAgIAoKICAgICAgICBtYXJrZXJfYWM3NDAyODg4ZTViNDI0NjgxNThmN2QxY2E0ZTVhODguYmluZFBvcHVwKHBvcHVwXzRiOTI2YzM0MjQ3YjRkZDg4NjY3ZGVkNDUzYWU1OWIwKQogICAgICAgIDsKCiAgICAgICAgCiAgICAKICAgIAogICAgICAgICAgICB2YXIgbWFya2VyX2E4ZTY3Y2JlYWU1YjQxZGFiZDE5OTU4MWIzZjU4Y2JlID0gTC5tYXJrZXIoCiAgICAgICAgICAgICAgICBbMzkuOTE0NjEyLCAtMTA1LjI0NDU4N10sCiAgICAgICAgICAgICAgICB7fQogICAgICAgICAgICApLmFkZFRvKG1hcmtlcl9jbHVzdGVyX2FiYzliNmExZDRiNTRjMjg4ZjA4YzAyNGIzZTRhYjI3KTsKICAgICAgICAKICAgIAogICAgICAgIHZhciBwb3B1cF84NzVjZmYwMzkxNWQ0ZTI4YjhhNjI5ZGM3YWIxZWE2YSA9IEwucG9wdXAoeyJtYXhXaWR0aCI6ICIxMDAlIn0pOwoKICAgICAgICAKICAgICAgICAgICAgdmFyIGh0bWxfMzM0YWYxZTEyMmUxNDJlMWE2YTVhYjdmMmY0MzdlYzYgPSAkKGA8ZGl2IGlkPSJodG1sXzMzNGFmMWUxMjJlMTQyZTFhNmE1YWI3ZjJmNDM3ZWM2IiBzdHlsZT0id2lkdGg6IDEwMC4wJTsgaGVpZ2h0OiAxMDAuMCU7Ij5OYW1lOiBFR0dMRVNUT04gUkVTRVJWT0lSIDQgRkVFREVSIERJVENIIFByZWNpcDogMC4wMDwvZGl2PmApWzBdOwogICAgICAgICAgICBwb3B1cF84NzVjZmYwMzkxNWQ0ZTI4YjhhNjI5ZGM3YWIxZWE2YS5zZXRDb250ZW50KGh0bWxfMzM0YWYxZTEyMmUxNDJlMWE2YTVhYjdmMmY0MzdlYzYpOwogICAgICAgIAoKICAgICAgICBtYXJrZXJfYThlNjdjYmVhZTViNDFkYWJkMTk5NTgxYjNmNThjYmUuYmluZFBvcHVwKHBvcHVwXzg3NWNmZjAzOTE1ZDRlMjhiOGE2MjlkYzdhYjFlYTZhKQogICAgICAgIDsKCiAgICAgICAgCiAgICAKICAgIAogICAgICAgICAgICB2YXIgbWFya2VyXzE0NDY4Y2NkODZiNTRmYjU5ZGE3OTM4NTljZGUyZTBiID0gTC5tYXJrZXIoCiAgICAgICAgICAgICAgICBbNDAuMjE5MDQ2LCAtMTA1LjI1OTc5NV0sCiAgICAgICAgICAgICAgICB7fQogICAgICAgICAgICApLmFkZFRvKG1hcmtlcl9jbHVzdGVyX2FiYzliNmExZDRiNTRjMjg4ZjA4YzAyNGIzZTRhYjI3KTsKICAgICAgICAKICAgIAogICAgICAgIHZhciBwb3B1cF80MzI1NWQ5MDIzN2U0NWQ4ODExMjQ1Mjc0MWY2MGE2ZCA9IEwucG9wdXAoeyJtYXhXaWR0aCI6ICIxMDAlIn0pOwoKICAgICAgICAKICAgICAgICAgICAgdmFyIGh0bWxfNTY1MmI0NjI2MGJkNDBjZGFjNjExOWJkNGI1ODU4ODUgPSAkKGA8ZGl2IGlkPSJodG1sXzU2NTJiNDYyNjBiZDQwY2RhYzYxMTliZDRiNTg1ODg1IiBzdHlsZT0id2lkdGg6IDEwMC4wJTsgaGVpZ2h0OiAxMDAuMCU7Ij5OYW1lOiBTVVBQTFkgRElUQ0ggUHJlY2lwOiAwLjAwPC9kaXY+YClbMF07CiAgICAgICAgICAgIHBvcHVwXzQzMjU1ZDkwMjM3ZTQ1ZDg4MTEyNDUyNzQxZjYwYTZkLnNldENvbnRlbnQoaHRtbF81NjUyYjQ2MjYwYmQ0MGNkYWM2MTE5YmQ0YjU4NTg4NSk7CiAgICAgICAgCgogICAgICAgIG1hcmtlcl8xNDQ2OGNjZDg2YjU0ZmI1OWRhNzkzODU5Y2RlMmUwYi5iaW5kUG9wdXAocG9wdXBfNDMyNTVkOTAyMzdlNDVkODgxMTI0NTI3NDFmNjBhNmQpCiAgICAgICAgOwoKICAgICAgICAKICAgIAogICAgCiAgICAgICAgICAgIHZhciBtYXJrZXJfMjZhNDk5MzRhNzcyNGVmZGI0OGM3Njc3OWJmMmExNTEgPSBMLm1hcmtlcigKICAgICAgICAgICAgICAgIFs0MC4xNzc0MjMsIC0xMDUuMTc4MTQ1XSwKICAgICAgICAgICAgICAgIHt9CiAgICAgICAgICAgICkuYWRkVG8obWFya2VyX2NsdXN0ZXJfYWJjOWI2YTFkNGI1NGMyODhmMDhjMDI0YjNlNGFiMjcpOwogICAgICAgIAogICAgCiAgICAgICAgdmFyIHBvcHVwXzc5NTAyNTYyNzQ4ZjQyNGY4ODNhNjI1YmQ4ZTE3N2Y4ID0gTC5wb3B1cCh7Im1heFdpZHRoIjogIjEwMCUifSk7CgogICAgICAgIAogICAgICAgICAgICB2YXIgaHRtbF83M2RlYjAwMGEwZGI0MjI3OGY2ODFmNjI1NTE1M2VkOCA9ICQoYDxkaXYgaWQ9Imh0bWxfNzNkZWIwMDBhMGRiNDIyNzhmNjgxZjYyNTUxNTNlZDgiIHN0eWxlPSJ3aWR0aDogMTAwLjAlOyBoZWlnaHQ6IDEwMC4wJTsiPk5hbWU6IFNBSU5UIFZSQUlOIENSRUVLIEFUIEhZR0lFTkUsIENPIFByZWNpcDogMTIuNDA8L2Rpdj5gKVswXTsKICAgICAgICAgICAgcG9wdXBfNzk1MDI1NjI3NDhmNDI0Zjg4M2E2MjViZDhlMTc3Zjguc2V0Q29udGVudChodG1sXzczZGViMDAwYTBkYjQyMjc4ZjY4MWY2MjU1MTUzZWQ4KTsKICAgICAgICAKCiAgICAgICAgbWFya2VyXzI2YTQ5OTM0YTc3MjRlZmRiNDhjNzY3NzliZjJhMTUxLmJpbmRQb3B1cChwb3B1cF83OTUwMjU2Mjc0OGY0MjRmODgzYTYyNWJkOGUxNzdmOCkKICAgICAgICA7CgogICAgICAgIAogICAgCiAgICAKICAgICAgICAgICAgdmFyIG1hcmtlcl8wN2RhZmI3OTM4OGQ0NjhmOGVhMjE3YjUwN2I4ZjdjZSA9IEwubWFya2VyKAogICAgICAgICAgICAgICAgWzQwLjA3ODU2LCAtMTA1LjIyMDQ5N10sCiAgICAgICAgICAgICAgICB7fQogICAgICAgICAgICApLmFkZFRvKG1hcmtlcl9jbHVzdGVyX2FiYzliNmExZDRiNTRjMjg4ZjA4YzAyNGIzZTRhYjI3KTsKICAgICAgICAKICAgIAogICAgICAgIHZhciBwb3B1cF85Mjk2NWVlNjMxMWY0NWZjYjA2OWYzYjU2ZGUzZDgzOCA9IEwucG9wdXAoeyJtYXhXaWR0aCI6ICIxMDAlIn0pOwoKICAgICAgICAKICAgICAgICAgICAgdmFyIGh0bWxfOGE2MDY1YjkzMjRjNDJkOGJlODkzZWY0NWFkYTM2NGYgPSAkKGA8ZGl2IGlkPSJodG1sXzhhNjA2NWI5MzI0YzQyZDhiZTg5M2VmNDVhZGEzNjRmIiBzdHlsZT0id2lkdGg6IDEwMC4wJTsgaGVpZ2h0OiAxMDAuMCU7Ij5OYW1lOiBCT1VMREVSIFJFU0VSVk9JUiBQcmVjaXA6IDIzODUuMDA8L2Rpdj5gKVswXTsKICAgICAgICAgICAgcG9wdXBfOTI5NjVlZTYzMTFmNDVmY2IwNjlmM2I1NmRlM2Q4Mzguc2V0Q29udGVudChodG1sXzhhNjA2NWI5MzI0YzQyZDhiZTg5M2VmNDVhZGEzNjRmKTsKICAgICAgICAKCiAgICAgICAgbWFya2VyXzA3ZGFmYjc5Mzg4ZDQ2OGY4ZWEyMTdiNTA3YjhmN2NlLmJpbmRQb3B1cChwb3B1cF85Mjk2NWVlNjMxMWY0NWZjYjA2OWYzYjU2ZGUzZDgzOCkKICAgICAgICA7CgogICAgICAgIAogICAgCiAgICAKICAgICAgICAgICAgdmFyIG1hcmtlcl85ZTZkOWYwNzg3NDM0YzNmODk3YTA2ODIxNzc3ZjM1NCA9IEwubWFya2VyKAogICAgICAgICAgICAgICAgWzQwLjIwNDE5MywgLTEwNS4yMTg3NzddLAogICAgICAgICAgICAgICAge30KICAgICAgICAgICAgKS5hZGRUbyhtYXJrZXJfY2x1c3Rlcl9hYmM5YjZhMWQ0YjU0YzI4OGYwOGMwMjRiM2U0YWIyNyk7CiAgICAgICAgCiAgICAKICAgICAgICB2YXIgcG9wdXBfZjVlMDNiYjEzMzlmNDE3MjkzMDFhZjhmMWFjZTFiMmMgPSBMLnBvcHVwKHsibWF4V2lkdGgiOiAiMTAwJSJ9KTsKCiAgICAgICAgCiAgICAgICAgICAgIHZhciBodG1sXzRjOTJkMDQ5NTA1ZTRkNTNhNTVlYWY1NWUwZjRjOTdlID0gJChgPGRpdiBpZD0iaHRtbF80YzkyZDA0OTUwNWU0ZDUzYTU1ZWFmNTVlMGY0Yzk3ZSIgc3R5bGU9IndpZHRoOiAxMDAuMCU7IGhlaWdodDogMTAwLjAlOyI+TmFtZTogTE9OR01PTlQgU1VQUExZIERJVENIIFByZWNpcDogMC4zMzwvZGl2PmApWzBdOwogICAgICAgICAgICBwb3B1cF9mNWUwM2JiMTMzOWY0MTcyOTMwMWFmOGYxYWNlMWIyYy5zZXRDb250ZW50KGh0bWxfNGM5MmQwNDk1MDVlNGQ1M2E1NWVhZjU1ZTBmNGM5N2UpOwogICAgICAgIAoKICAgICAgICBtYXJrZXJfOWU2ZDlmMDc4NzQzNGMzZjg5N2EwNjgyMTc3N2YzNTQuYmluZFBvcHVwKHBvcHVwX2Y1ZTAzYmIxMzM5ZjQxNzI5MzAxYWY4ZjFhY2UxYjJjKQogICAgICAgIDsKCiAgICAgICAgCiAgICAKICAgIAogICAgICAgICAgICB2YXIgbWFya2VyX2FkNWUzZmRmMjEzNDQ0MDVhMjFjZGMzZTZkZjU1MmIxID0gTC5tYXJrZXIoCiAgICAgICAgICAgICAgICBbNDAuMDEzMjE4LCAtMTA1LjMwMTA2NV0sCiAgICAgICAgICAgICAgICB7fQogICAgICAgICAgICApLmFkZFRvKG1hcmtlcl9jbHVzdGVyX2FiYzliNmExZDRiNTRjMjg4ZjA4YzAyNGIzZTRhYjI3KTsKICAgICAgICAKICAgIAogICAgICAgIHZhciBwb3B1cF9kNmUxM2FjZjNkNmU0ZmJiYjdmNTM5OTA0YWUwMGViNCA9IEwucG9wdXAoeyJtYXhXaWR0aCI6ICIxMDAlIn0pOwoKICAgICAgICAKICAgICAgICAgICAgdmFyIGh0bWxfOGM0M2Q4NGNjZWFjNDdjMjg0ZWJmYzgyOTZmNTNhODIgPSAkKGA8ZGl2IGlkPSJodG1sXzhjNDNkODRjY2VhYzQ3YzI4NGViZmM4Mjk2ZjUzYTgyIiBzdHlsZT0id2lkdGg6IDEwMC4wJTsgaGVpZ2h0OiAxMDAuMCU7Ij5OYW1lOiBBTkRFUlNPTiBESVRDSCBQcmVjaXA6IDEuNzc8L2Rpdj5gKVswXTsKICAgICAgICAgICAgcG9wdXBfZDZlMTNhY2YzZDZlNGZiYmI3ZjUzOTkwNGFlMDBlYjQuc2V0Q29udGVudChodG1sXzhjNDNkODRjY2VhYzQ3YzI4NGViZmM4Mjk2ZjUzYTgyKTsKICAgICAgICAKCiAgICAgICAgbWFya2VyX2FkNWUzZmRmMjEzNDQ0MDVhMjFjZGMzZTZkZjU1MmIxLmJpbmRQb3B1cChwb3B1cF9kNmUxM2FjZjNkNmU0ZmJiYjdmNTM5OTA0YWUwMGViNCkKICAgICAgICA7CgogICAgICAgIAogICAgCiAgICAKICAgICAgICAgICAgdmFyIG1hcmtlcl80M2FiZjlhNjE1NmE0NjliOGQwNGNlNzc4OWYxMzg0NCA9IEwubWFya2VyKAogICAgICAgICAgICAgICAgWzQwLjI1Nzg0NCwgLTEwNS4xNjQzOTddLAogICAgICAgICAgICAgICAge30KICAgICAgICAgICAgKS5hZGRUbyhtYXJrZXJfY2x1c3Rlcl9hYmM5YjZhMWQ0YjU0YzI4OGYwOGMwMjRiM2U0YWIyNyk7CiAgICAgICAgCiAgICAKICAgICAgICB2YXIgcG9wdXBfYWI3MjMzNGM1MjE4NGU5ZGEyOTA2MGNjNzA3NTUxZjUgPSBMLnBvcHVwKHsibWF4V2lkdGgiOiAiMTAwJSJ9KTsKCiAgICAgICAgCiAgICAgICAgICAgIHZhciBodG1sXzdjYmMzMmUyOTJjMTQzMDI4OWRhYTUwZmU0YTI1YTY0ID0gJChgPGRpdiBpZD0iaHRtbF83Y2JjMzJlMjkyYzE0MzAyODlkYWE1MGZlNGEyNWE2NCIgc3R5bGU9IndpZHRoOiAxMDAuMCU7IGhlaWdodDogMTAwLjAlOyI+TmFtZTogQkxPV0VSIERJVENIIFByZWNpcDogMC4wMDwvZGl2PmApWzBdOwogICAgICAgICAgICBwb3B1cF9hYjcyMzM0YzUyMTg0ZTlkYTI5MDYwY2M3MDc1NTFmNS5zZXRDb250ZW50KGh0bWxfN2NiYzMyZTI5MmMxNDMwMjg5ZGFhNTBmZTRhMjVhNjQpOwogICAgICAgIAoKICAgICAgICBtYXJrZXJfNDNhYmY5YTYxNTZhNDY5YjhkMDRjZTc3ODlmMTM4NDQuYmluZFBvcHVwKHBvcHVwX2FiNzIzMzRjNTIxODRlOWRhMjkwNjBjYzcwNzU1MWY1KQogICAgICAgIDsKCiAgICAgICAgCiAgICAKICAgIAogICAgICAgICAgICB2YXIgbWFya2VyXzJmYTEwNTg0MzgyMTRkMjFiMDlhMzIyZTM3Y2NkZDRjID0gTC5tYXJrZXIoCiAgICAgICAgICAgICAgICBbNDAuMDkxMzkxLCAtMTA1LjUwODQ4XSwKICAgICAgICAgICAgICAgIHt9CiAgICAgICAgICAgICkuYWRkVG8obWFya2VyX2NsdXN0ZXJfYWJjOWI2YTFkNGI1NGMyODhmMDhjMDI0YjNlNGFiMjcpOwogICAgICAgIAogICAgCiAgICAgICAgdmFyIHBvcHVwXzc3NjRkYTBmMzcxODQzM2M4MDIwZjMwYjE1NGFjZjYwID0gTC5wb3B1cCh7Im1heFdpZHRoIjogIjEwMCUifSk7CgogICAgICAgIAogICAgICAgICAgICB2YXIgaHRtbF8xNDI5NjMzZDE5NTI0YTI3YWQ4Y2I1NDhhZDBkYzVkNCA9ICQoYDxkaXYgaWQ9Imh0bWxfMTQyOTYzM2QxOTUyNGEyN2FkOGNiNTQ4YWQwZGM1ZDQiIHN0eWxlPSJ3aWR0aDogMTAwLjAlOyBoZWlnaHQ6IDEwMC4wJTsiPk5hbWU6IExFRlQgSEFORCBESVZFUlNJT04gTkVBUiBXQVJEIFByZWNpcDogMi4xODwvZGl2PmApWzBdOwogICAgICAgICAgICBwb3B1cF83NzY0ZGEwZjM3MTg0MzNjODAyMGYzMGIxNTRhY2Y2MC5zZXRDb250ZW50KGh0bWxfMTQyOTYzM2QxOTUyNGEyN2FkOGNiNTQ4YWQwZGM1ZDQpOwogICAgICAgIAoKICAgICAgICBtYXJrZXJfMmZhMTA1ODQzODIxNGQyMWIwOWEzMjJlMzdjY2RkNGMuYmluZFBvcHVwKHBvcHVwXzc3NjRkYTBmMzcxODQzM2M4MDIwZjMwYjE1NGFjZjYwKQogICAgICAgIDsKCiAgICAgICAgCiAgICAKICAgIAogICAgICAgICAgICB2YXIgbWFya2VyX2UyNGEzM2ZmYzNjYTRjYzA5MzVlMzVmYjI5ZjY3NGMyID0gTC5tYXJrZXIoCiAgICAgICAgICAgICAgICBbMzkuOTMxNTk3LCAtMTA1LjMwNDk5XSwKICAgICAgICAgICAgICAgIHt9CiAgICAgICAgICAgICkuYWRkVG8obWFya2VyX2NsdXN0ZXJfYWJjOWI2YTFkNGI1NGMyODhmMDhjMDI0YjNlNGFiMjcpOwogICAgICAgIAogICAgCiAgICAgICAgdmFyIHBvcHVwX2M5NDE3ZjA4NDU4ODQ1NThhZGY2MTVhM2E4OWFhOGM3ID0gTC5wb3B1cCh7Im1heFdpZHRoIjogIjEwMCUifSk7CgogICAgICAgIAogICAgICAgICAgICB2YXIgaHRtbF8xMjQ1YzExOWZlOGI0N2I5YTFkNmI5MGU3MTVlNWZiZCA9ICQoYDxkaXYgaWQ9Imh0bWxfMTI0NWMxMTlmZThiNDdiOWExZDZiOTBlNzE1ZTVmYmQiIHN0eWxlPSJ3aWR0aDogMTAwLjAlOyBoZWlnaHQ6IDEwMC4wJTsiPk5hbWU6IFNPVVRIIEJPVUxERVIgQ1JFRUsgTkVBUiBFTERPUkFETyBTUFJJTkdTLCBDTy4gUHJlY2lwOiA0LjE0PC9kaXY+YClbMF07CiAgICAgICAgICAgIHBvcHVwX2M5NDE3ZjA4NDU4ODQ1NThhZGY2MTVhM2E4OWFhOGM3LnNldENvbnRlbnQoaHRtbF8xMjQ1YzExOWZlOGI0N2I5YTFkNmI5MGU3MTVlNWZiZCk7CiAgICAgICAgCgogICAgICAgIG1hcmtlcl9lMjRhMzNmZmMzY2E0Y2MwOTM1ZTM1ZmIyOWY2NzRjMi5iaW5kUG9wdXAocG9wdXBfYzk0MTdmMDg0NTg4NDU1OGFkZjYxNWEzYTg5YWE4YzcpCiAgICAgICAgOwoKICAgICAgICAKICAgIAogICAgCiAgICAgICAgICAgIHZhciBtYXJrZXJfYWI3NGU3ZjgyNDRiNGY2NGJmZGYzOTlkODcyM2JiYWEgPSBMLm1hcmtlcigKICAgICAgICAgICAgICAgIFs0MC4yMTU2NTgsIC0xMDUuMzYzNDIyXSwKICAgICAgICAgICAgICAgIHt9CiAgICAgICAgICAgICkuYWRkVG8obWFya2VyX2NsdXN0ZXJfYWJjOWI2YTFkNGI1NGMyODhmMDhjMDI0YjNlNGFiMjcpOwogICAgICAgIAogICAgCiAgICAgICAgdmFyIHBvcHVwX2U0M2U4OThkMjkxODQyNTZhMDNlY2QzNTg4MTg4NzViID0gTC5wb3B1cCh7Im1heFdpZHRoIjogIjEwMCUifSk7CgogICAgICAgIAogICAgICAgICAgICB2YXIgaHRtbF82YTNlYTgzYmNhZjQ0YWE2YmU0OWJiOWRlZWNjMGU4MSA9ICQoYDxkaXYgaWQ9Imh0bWxfNmEzZWE4M2JjYWY0NGFhNmJlNDliYjlkZWVjYzBlODEiIHN0eWxlPSJ3aWR0aDogMTAwLjAlOyBoZWlnaHQ6IDEwMC4wJTsiPk5hbWU6IE5PUlRIIFNBSU5UIFZSQUlOIENSRUVLIEJFTE9XIEJVVFRPTlJPQ0sgIChSQUxQSCBQUklDRSkgUkVTRVJWT0lSIFByZWNpcDogOC42NjwvZGl2PmApWzBdOwogICAgICAgICAgICBwb3B1cF9lNDNlODk4ZDI5MTg0MjU2YTAzZWNkMzU4ODE4ODc1Yi5zZXRDb250ZW50KGh0bWxfNmEzZWE4M2JjYWY0NGFhNmJlNDliYjlkZWVjYzBlODEpOwogICAgICAgIAoKICAgICAgICBtYXJrZXJfYWI3NGU3ZjgyNDRiNGY2NGJmZGYzOTlkODcyM2JiYWEuYmluZFBvcHVwKHBvcHVwX2U0M2U4OThkMjkxODQyNTZhMDNlY2QzNTg4MTg4NzViKQogICAgICAgIDsKCiAgICAgICAgCiAgICAKICAgIAogICAgICAgICAgICB2YXIgbWFya2VyXzNlODYyYjhjYjEzNDQ3ZWM5ZWJjYTI0ZWY3NWYzMWM4ID0gTC5tYXJrZXIoCiAgICAgICAgICAgICAgICBbNDAuMDUzNjYxLCAtMTA1LjE1MTE0M10sCiAgICAgICAgICAgICAgICB7fQogICAgICAgICAgICApLmFkZFRvKG1hcmtlcl9jbHVzdGVyX2FiYzliNmExZDRiNTRjMjg4ZjA4YzAyNGIzZTRhYjI3KTsKICAgICAgICAKICAgIAogICAgICAgIHZhciBwb3B1cF9iYTg0OTI0MzZhZWM0MDY4YWRkNTA5YTlhMDZlZGE5ZSA9IEwucG9wdXAoeyJtYXhXaWR0aCI6ICIxMDAlIn0pOwoKICAgICAgICAKICAgICAgICAgICAgdmFyIGh0bWxfOGU5NDFjNGRkYjgxNDU5YzljMTA5ZGE2OWJiOWE2ODYgPSAkKGA8ZGl2IGlkPSJodG1sXzhlOTQxYzRkZGI4MTQ1OWM5YzEwOWRhNjliYjlhNjg2IiBzdHlsZT0id2lkdGg6IDEwMC4wJTsgaGVpZ2h0OiAxMDAuMCU7Ij5OYW1lOiBMRUdHRVRUIERJVENIIFByZWNpcDogMC4wMDwvZGl2PmApWzBdOwogICAgICAgICAgICBwb3B1cF9iYTg0OTI0MzZhZWM0MDY4YWRkNTA5YTlhMDZlZGE5ZS5zZXRDb250ZW50KGh0bWxfOGU5NDFjNGRkYjgxNDU5YzljMTA5ZGE2OWJiOWE2ODYpOwogICAgICAgIAoKICAgICAgICBtYXJrZXJfM2U4NjJiOGNiMTM0NDdlYzllYmNhMjRlZjc1ZjMxYzguYmluZFBvcHVwKHBvcHVwX2JhODQ5MjQzNmFlYzQwNjhhZGQ1MDlhOWEwNmVkYTllKQogICAgICAgIDsKCiAgICAgICAgCiAgICAKICAgIAogICAgICAgICAgICB2YXIgbWFya2VyXzkzNGUyZWYzZGVjZTQwNDFiYTQxZjU5MGNjOGQ4YzNhID0gTC5tYXJrZXIoCiAgICAgICAgICAgICAgICBbNDAuMjU2Mjc2LCAtMTA1LjIwOTQxNl0sCiAgICAgICAgICAgICAgICB7fQogICAgICAgICAgICApLmFkZFRvKG1hcmtlcl9jbHVzdGVyX2FiYzliNmExZDRiNTRjMjg4ZjA4YzAyNGIzZTRhYjI3KTsKICAgICAgICAKICAgIAogICAgICAgIHZhciBwb3B1cF80MzExYjk0OTZhNzA0ZTg1ODZjOWVlMzhlZGY4NjRmOSA9IEwucG9wdXAoeyJtYXhXaWR0aCI6ICIxMDAlIn0pOwoKICAgICAgICAKICAgICAgICAgICAgdmFyIGh0bWxfMTk3YTE2YTFkYjE4NGU5YjhhNzA4ZTg0N2UwNmVlNTUgPSAkKGA8ZGl2IGlkPSJodG1sXzE5N2ExNmExZGIxODRlOWI4YTcwOGU4NDdlMDZlZTU1IiBzdHlsZT0id2lkdGg6IDEwMC4wJTsgaGVpZ2h0OiAxMDAuMCU7Ij5OYW1lOiBMSVRUTEUgVEhPTVBTT04gIzEgRElUQ0ggUHJlY2lwOiAxLjY4PC9kaXY+YClbMF07CiAgICAgICAgICAgIHBvcHVwXzQzMTFiOTQ5NmE3MDRlODU4NmM5ZWUzOGVkZjg2NGY5LnNldENvbnRlbnQoaHRtbF8xOTdhMTZhMWRiMTg0ZTliOGE3MDhlODQ3ZTA2ZWU1NSk7CiAgICAgICAgCgogICAgICAgIG1hcmtlcl85MzRlMmVmM2RlY2U0MDQxYmE0MWY1OTBjYzhkOGMzYS5iaW5kUG9wdXAocG9wdXBfNDMxMWI5NDk2YTcwNGU4NTg2YzllZTM4ZWRmODY0ZjkpCiAgICAgICAgOwoKICAgICAgICAKICAgIAogICAgCiAgICAgICAgICAgIHZhciBtYXJrZXJfZTE4ODE0MzY3ZTBlNGU1Y2I2YmZjOTQyOGVhNjFiZDYgPSBMLm1hcmtlcigKICAgICAgICAgICAgICAgIFs0MC4wNTMwMzUsIC0xMDUuMTkzMDQ4XSwKICAgICAgICAgICAgICAgIHt9CiAgICAgICAgICAgICkuYWRkVG8obWFya2VyX2NsdXN0ZXJfYWJjOWI2YTFkNGI1NGMyODhmMDhjMDI0YjNlNGFiMjcpOwogICAgICAgIAogICAgCiAgICAgICAgdmFyIHBvcHVwXzQ4YmYxNDQ3ZmZlOTRlMDVhYjdkOGFmY2EzNmUzNmUwID0gTC5wb3B1cCh7Im1heFdpZHRoIjogIjEwMCUifSk7CgogICAgICAgIAogICAgICAgICAgICB2YXIgaHRtbF9mYmYzNmQxNGMxOTc0MmY2OGU3MmI4NGI2ZDk5MzAyMCA9ICQoYDxkaXYgaWQ9Imh0bWxfZmJmMzZkMTRjMTk3NDJmNjhlNzJiODRiNmQ5OTMwMjAiIHN0eWxlPSJ3aWR0aDogMTAwLjAlOyBoZWlnaHQ6IDEwMC4wJTsiPk5hbWU6IEJPVUxERVIgQ1JFRUsgU1VQUExZIENBTkFMIFRPIEJPVUxERVIgQ1JFRUsgTkVBUiBCT1VMREVSIFByZWNpcDogMC4yMzwvZGl2PmApWzBdOwogICAgICAgICAgICBwb3B1cF80OGJmMTQ0N2ZmZTk0ZTA1YWI3ZDhhZmNhMzZlMzZlMC5zZXRDb250ZW50KGh0bWxfZmJmMzZkMTRjMTk3NDJmNjhlNzJiODRiNmQ5OTMwMjApOwogICAgICAgIAoKICAgICAgICBtYXJrZXJfZTE4ODE0MzY3ZTBlNGU1Y2I2YmZjOTQyOGVhNjFiZDYuYmluZFBvcHVwKHBvcHVwXzQ4YmYxNDQ3ZmZlOTRlMDVhYjdkOGFmY2EzNmUzNmUwKQogICAgICAgIDsKCiAgICAgICAgCiAgICAKICAgIAogICAgICAgICAgICB2YXIgbWFya2VyX2MzNTQ0YmIxN2VjYTRiMDg4ZjI4NGVlZDI3ZmI1Mzk3ID0gTC5tYXJrZXIoCiAgICAgICAgICAgICAgICBbNDAuMjE1MDQzLCAtMTA1LjI1NjAxN10sCiAgICAgICAgICAgICAgICB7fQogICAgICAgICAgICApLmFkZFRvKG1hcmtlcl9jbHVzdGVyX2FiYzliNmExZDRiNTRjMjg4ZjA4YzAyNGIzZTRhYjI3KTsKICAgICAgICAKICAgIAogICAgICAgIHZhciBwb3B1cF83YWM4YjJmNjFhMjU0ZWM3ODg3OTAwZDdkYmI4NDIxMCA9IEwucG9wdXAoeyJtYXhXaWR0aCI6ICIxMDAlIn0pOwoKICAgICAgICAKICAgICAgICAgICAgdmFyIGh0bWxfZTYxODdhMzA4ZGFmNDI4NDhkZWI5ZDQ0NTkwNTA1MjMgPSAkKGA8ZGl2IGlkPSJodG1sX2U2MTg3YTMwOGRhZjQyODQ4ZGViOWQ0NDU5MDUwNTIzIiBzdHlsZT0id2lkdGg6IDEwMC4wJTsgaGVpZ2h0OiAxMDAuMCU7Ij5OYW1lOiBISUdITEFORCBESVRDSCBBVCBMWU9OUywgQ08gUHJlY2lwOiAwLjAwPC9kaXY+YClbMF07CiAgICAgICAgICAgIHBvcHVwXzdhYzhiMmY2MWEyNTRlYzc4ODc5MDBkN2RiYjg0MjEwLnNldENvbnRlbnQoaHRtbF9lNjE4N2EzMDhkYWY0Mjg0OGRlYjlkNDQ1OTA1MDUyMyk7CiAgICAgICAgCgogICAgICAgIG1hcmtlcl9jMzU0NGJiMTdlY2E0YjA4OGYyODRlZWQyN2ZiNTM5Ny5iaW5kUG9wdXAocG9wdXBfN2FjOGIyZjYxYTI1NGVjNzg4NzkwMGQ3ZGJiODQyMTApCiAgICAgICAgOwoKICAgICAgICAKICAgIAogICAgCiAgICAgICAgICAgIHZhciBtYXJrZXJfZDY5NDdiZjNkZDQ2NGJmNmE5NWUwYzBlMzk2ZTdlYjkgPSBMLm1hcmtlcigKICAgICAgICAgICAgICAgIFs0MC4wMTg2NjcsIC0xMDUuMzI2MjVdLAogICAgICAgICAgICAgICAge30KICAgICAgICAgICAgKS5hZGRUbyhtYXJrZXJfY2x1c3Rlcl9hYmM5YjZhMWQ0YjU0YzI4OGYwOGMwMjRiM2U0YWIyNyk7CiAgICAgICAgCiAgICAKICAgICAgICB2YXIgcG9wdXBfNzNhNDNiM2EyMjA0NGQ1ZTk4MTYyYzM0ZGQ3NjAwMWQgPSBMLnBvcHVwKHsibWF4V2lkdGgiOiAiMTAwJSJ9KTsKCiAgICAgICAgCiAgICAgICAgICAgIHZhciBodG1sXzA2ZTllNjcxMGFmMjRmNGFhMTkxYTZkZmQ3YzlmZjQzID0gJChgPGRpdiBpZD0iaHRtbF8wNmU5ZTY3MTBhZjI0ZjRhYTE5MWE2ZGZkN2M5ZmY0MyIgc3R5bGU9IndpZHRoOiAxMDAuMCU7IGhlaWdodDogMTAwLjAlOyI+TmFtZTogRk9VUk1JTEUgQ1JFRUsgQVQgT1JPREVMTCwgQ08gUHJlY2lwOiAwLjE5PC9kaXY+YClbMF07CiAgICAgICAgICAgIHBvcHVwXzczYTQzYjNhMjIwNDRkNWU5ODE2MmMzNGRkNzYwMDFkLnNldENvbnRlbnQoaHRtbF8wNmU5ZTY3MTBhZjI0ZjRhYTE5MWE2ZGZkN2M5ZmY0Myk7CiAgICAgICAgCgogICAgICAgIG1hcmtlcl9kNjk0N2JmM2RkNDY0YmY2YTk1ZTBjMGUzOTZlN2ViOS5iaW5kUG9wdXAocG9wdXBfNzNhNDNiM2EyMjA0NGQ1ZTk4MTYyYzM0ZGQ3NjAwMWQpCiAgICAgICAgOwoKICAgICAgICAKICAgIAogICAgCiAgICAgICAgICAgIHZhciBtYXJrZXJfYjZkNTk2YTNiMzU2NDMxNzhmMjdkYWExOGYzYzc1ZDIgPSBMLm1hcmtlcigKICAgICAgICAgICAgICAgIFs0MC4xODUwMzMsIC0xMDUuMTg1Nzg5XSwKICAgICAgICAgICAgICAgIHt9CiAgICAgICAgICAgICkuYWRkVG8obWFya2VyX2NsdXN0ZXJfYWJjOWI2YTFkNGI1NGMyODhmMDhjMDI0YjNlNGFiMjcpOwogICAgICAgIAogICAgCiAgICAgICAgdmFyIHBvcHVwXzkwYWI4NTAyZTQwNzQ1M2NhNzg2OGRmMWUwNTc5NThiID0gTC5wb3B1cCh7Im1heFdpZHRoIjogIjEwMCUifSk7CgogICAgICAgIAogICAgICAgICAgICB2YXIgaHRtbF9iNWNmY2RiOWFlYzY0NDY2YWE5NzkzZDc0NzExNDU5ZSA9ICQoYDxkaXYgaWQ9Imh0bWxfYjVjZmNkYjlhZWM2NDQ2NmFhOTc5M2Q3NDcxMTQ1OWUiIHN0eWxlPSJ3aWR0aDogMTAwLjAlOyBoZWlnaHQ6IDEwMC4wJTsiPk5hbWU6IFpXRUNLIEFORCBUVVJORVIgRElUQ0ggUHJlY2lwOiAwLjE5PC9kaXY+YClbMF07CiAgICAgICAgICAgIHBvcHVwXzkwYWI4NTAyZTQwNzQ1M2NhNzg2OGRmMWUwNTc5NThiLnNldENvbnRlbnQoaHRtbF9iNWNmY2RiOWFlYzY0NDY2YWE5NzkzZDc0NzExNDU5ZSk7CiAgICAgICAgCgogICAgICAgIG1hcmtlcl9iNmQ1OTZhM2IzNTY0MzE3OGYyN2RhYTE4ZjNjNzVkMi5iaW5kUG9wdXAocG9wdXBfOTBhYjg1MDJlNDA3NDUzY2E3ODY4ZGYxZTA1Nzk1OGIpCiAgICAgICAgOwoKICAgICAgICAKICAgIAogICAgCiAgICAgICAgICAgIHZhciBtYXJrZXJfYTMzYzAyZTM4ODQ4NGI2OWFkZDYzMmQ3YmM1ZTA5ZTMgPSBMLm1hcmtlcigKICAgICAgICAgICAgICAgIFs0MC4xNzcwOCwgLTEwNS4xNzg1NjddLAogICAgICAgICAgICAgICAge30KICAgICAgICAgICAgKS5hZGRUbyhtYXJrZXJfY2x1c3Rlcl9hYmM5YjZhMWQ0YjU0YzI4OGYwOGMwMjRiM2U0YWIyNyk7CiAgICAgICAgCiAgICAKICAgICAgICB2YXIgcG9wdXBfM2Y3NDAwMWY3ODkwNGMzYmI5YWZjMDZmM2M1N2RhMmYgPSBMLnBvcHVwKHsibWF4V2lkdGgiOiAiMTAwJSJ9KTsKCiAgICAgICAgCiAgICAgICAgICAgIHZhciBodG1sXzE1YTlkNjRjYmIwNDRlNjhiM2Q5YzQzNDliNzJmYjVhID0gJChgPGRpdiBpZD0iaHRtbF8xNWE5ZDY0Y2JiMDQ0ZTY4YjNkOWM0MzQ5YjcyZmI1YSIgc3R5bGU9IndpZHRoOiAxMDAuMCU7IGhlaWdodDogMTAwLjAlOyI+TmFtZTogUEVDSyBQRUxMQSBDTE9WRVIgRElUQ0ggUHJlY2lwOiAzLjE1PC9kaXY+YClbMF07CiAgICAgICAgICAgIHBvcHVwXzNmNzQwMDFmNzg5MDRjM2JiOWFmYzA2ZjNjNTdkYTJmLnNldENvbnRlbnQoaHRtbF8xNWE5ZDY0Y2JiMDQ0ZTY4YjNkOWM0MzQ5YjcyZmI1YSk7CiAgICAgICAgCgogICAgICAgIG1hcmtlcl9hMzNjMDJlMzg4NDg0YjY5YWRkNjMyZDdiYzVlMDllMy5iaW5kUG9wdXAocG9wdXBfM2Y3NDAwMWY3ODkwNGMzYmI5YWZjMDZmM2M1N2RhMmYpCiAgICAgICAgOwoKICAgICAgICAKICAgIAogICAgCiAgICAgICAgICAgIHZhciBtYXJrZXJfZDA2MjdhOTUzMTc3NGI1MGE1NzdmZDk3ZjgxN2U0ODIgPSBMLm1hcmtlcigKICAgICAgICAgICAgICAgIFszOS45MzE5ODIsIC0xMDUuMjA4NTU1XSwKICAgICAgICAgICAgICAgIHt9CiAgICAgICAgICAgICkuYWRkVG8obWFya2VyX2NsdXN0ZXJfYWJjOWI2YTFkNGI1NGMyODhmMDhjMDI0YjNlNGFiMjcpOwogICAgICAgIAogICAgCiAgICAgICAgdmFyIHBvcHVwX2I2NDY3MDI1OWRkNDQ4NTNiZThlNjhhYzE3ZDQ5NGVhID0gTC5wb3B1cCh7Im1heFdpZHRoIjogIjEwMCUifSk7CgogICAgICAgIAogICAgICAgICAgICB2YXIgaHRtbF9jM2QzZjNmNzAwYzM0YjA3YTUzYzRjYTY5ZTA4YjM3NSA9ICQoYDxkaXYgaWQ9Imh0bWxfYzNkM2YzZjcwMGMzNGIwN2E1M2M0Y2E2OWUwOGIzNzUiIHN0eWxlPSJ3aWR0aDogMTAwLjAlOyBoZWlnaHQ6IDEwMC4wJTsiPk5hbWU6IEVHR0xFU1RPTiAxIERJVENIIFByZWNpcDogMC4wMDwvZGl2PmApWzBdOwogICAgICAgICAgICBwb3B1cF9iNjQ2NzAyNTlkZDQ0ODUzYmU4ZTY4YWMxN2Q0OTRlYS5zZXRDb250ZW50KGh0bWxfYzNkM2YzZjcwMGMzNGIwN2E1M2M0Y2E2OWUwOGIzNzUpOwogICAgICAgIAoKICAgICAgICBtYXJrZXJfZDA2MjdhOTUzMTc3NGI1MGE1NzdmZDk3ZjgxN2U0ODIuYmluZFBvcHVwKHBvcHVwX2I2NDY3MDI1OWRkNDQ4NTNiZThlNjhhYzE3ZDQ5NGVhKQogICAgICAgIDsKCiAgICAgICAgCiAgICAKICAgIAogICAgICAgICAgICB2YXIgbWFya2VyX2NmNWJmZjVjMjM0MjRmNDlhNTMwNzA4YmIzYmFlYzI2ID0gTC5tYXJrZXIoCiAgICAgICAgICAgICAgICBbNDAuMDkwODIsIC0xMDUuNTE0NDQyXSwKICAgICAgICAgICAgICAgIHt9CiAgICAgICAgICAgICkuYWRkVG8obWFya2VyX2NsdXN0ZXJfYWJjOWI2YTFkNGI1NGMyODhmMDhjMDI0YjNlNGFiMjcpOwogICAgICAgIAogICAgCiAgICAgICAgdmFyIHBvcHVwXzM4M2MxMjBiOWVmYzQ1YThiMGEwMGExMjQzNWZhMWYzID0gTC5wb3B1cCh7Im1heFdpZHRoIjogIjEwMCUifSk7CgogICAgICAgIAogICAgICAgICAgICB2YXIgaHRtbF8zMmYyNTc4MWYwMTg0NjczYTQxYTU3YTkzYmJjMTZiNyA9ICQoYDxkaXYgaWQ9Imh0bWxfMzJmMjU3ODFmMDE4NDY3M2E0MWE1N2E5M2JiYzE2YjciIHN0eWxlPSJ3aWR0aDogMTAwLjAlOyBoZWlnaHQ6IDEwMC4wJTsiPk5hbWU6IFNPVVRIIFNBSU5UIFZSQUlOIE5FQVIgV0FSRCBQcmVjaXA6IDMuMzA8L2Rpdj5gKVswXTsKICAgICAgICAgICAgcG9wdXBfMzgzYzEyMGI5ZWZjNDVhOGIwYTAwYTEyNDM1ZmExZjMuc2V0Q29udGVudChodG1sXzMyZjI1NzgxZjAxODQ2NzNhNDFhNTdhOTNiYmMxNmI3KTsKICAgICAgICAKCiAgICAgICAgbWFya2VyX2NmNWJmZjVjMjM0MjRmNDlhNTMwNzA4YmIzYmFlYzI2LmJpbmRQb3B1cChwb3B1cF8zODNjMTIwYjllZmM0NWE4YjBhMDBhMTI0MzVmYTFmMykKICAgICAgICA7CgogICAgICAgIAogICAgCiAgICAKICAgICAgICAgICAgdmFyIG1hcmtlcl8wNWRmNmRlODMyNWM0ZTEwODQ0NjkwMjZmZTFhNDUyNiA9IEwubWFya2VyKAogICAgICAgICAgICAgICAgWzQwLjE4ODU3OSwgLTEwNS4yMDkyODJdLAogICAgICAgICAgICAgICAge30KICAgICAgICAgICAgKS5hZGRUbyhtYXJrZXJfY2x1c3Rlcl9hYmM5YjZhMWQ0YjU0YzI4OGYwOGMwMjRiM2U0YWIyNyk7CiAgICAgICAgCiAgICAKICAgICAgICB2YXIgcG9wdXBfMDU5OGQ2NDMzZjVmNGIyZjg1ZTk2YjIxYmExZDcyNTMgPSBMLnBvcHVwKHsibWF4V2lkdGgiOiAiMTAwJSJ9KTsKCiAgICAgICAgCiAgICAgICAgICAgIHZhciBodG1sXzA2ZDcwOGI5OWVkNTQ3Mjc4MDViZDE4MGYxOTIzMWNhID0gJChgPGRpdiBpZD0iaHRtbF8wNmQ3MDhiOTllZDU0NzI3ODA1YmQxODBmMTkyMzFjYSIgc3R5bGU9IndpZHRoOiAxMDAuMCU7IGhlaWdodDogMTAwLjAlOyI+TmFtZTogSkFNRVMgRElUQ0ggUHJlY2lwOiAyLjA4PC9kaXY+YClbMF07CiAgICAgICAgICAgIHBvcHVwXzA1OThkNjQzM2Y1ZjRiMmY4NWU5NmIyMWJhMWQ3MjUzLnNldENvbnRlbnQoaHRtbF8wNmQ3MDhiOTllZDU0NzI3ODA1YmQxODBmMTkyMzFjYSk7CiAgICAgICAgCgogICAgICAgIG1hcmtlcl8wNWRmNmRlODMyNWM0ZTEwODQ0NjkwMjZmZTFhNDUyNi5iaW5kUG9wdXAocG9wdXBfMDU5OGQ2NDMzZjVmNGIyZjg1ZTk2YjIxYmExZDcyNTMpCiAgICAgICAgOwoKICAgICAgICAKICAgIAogICAgCiAgICAgICAgICAgIHZhciBtYXJrZXJfMjFiMGFhZTU1YjE3NGFjMDg4Y2VmZmYxOTI3MjhiY2EgPSBMLm1hcmtlcigKICAgICAgICAgICAgICAgIFs0MC4wMjA4LCAtMTA1LjI2NjI3XSwKICAgICAgICAgICAgICAgIHt9CiAgICAgICAgICAgICkuYWRkVG8obWFya2VyX2NsdXN0ZXJfYWJjOWI2YTFkNGI1NGMyODhmMDhjMDI0YjNlNGFiMjcpOwogICAgICAgIAogICAgCiAgICAgICAgdmFyIHBvcHVwXzU0ZmVlYjBmMjhkNjRlMzJhNzkwMjkzYWEzZmI3NWQ5ID0gTC5wb3B1cCh7Im1heFdpZHRoIjogIjEwMCUifSk7CgogICAgICAgIAogICAgICAgICAgICB2YXIgaHRtbF9kNGZhMzY3YWIyN2M0NWY5ODNmYTdmOWUyNmM5NjU1ZCA9ICQoYDxkaXYgaWQ9Imh0bWxfZDRmYTM2N2FiMjdjNDVmOTgzZmE3ZjllMjZjOTY1NWQiIHN0eWxlPSJ3aWR0aDogMTAwLjAlOyBoZWlnaHQ6IDEwMC4wJTsiPk5hbWU6IFBFQVJMIFNUUkVFVCBGTFVNRSBCT1VMREVSICYgV0hJVEUgUk9DSyBESVRDSCBQcmVjaXA6IDEyLjIwPC9kaXY+YClbMF07CiAgICAgICAgICAgIHBvcHVwXzU0ZmVlYjBmMjhkNjRlMzJhNzkwMjkzYWEzZmI3NWQ5LnNldENvbnRlbnQoaHRtbF9kNGZhMzY3YWIyN2M0NWY5ODNmYTdmOWUyNmM5NjU1ZCk7CiAgICAgICAgCgogICAgICAgIG1hcmtlcl8yMWIwYWFlNTViMTc0YWMwODhjZWZmZjE5MjcyOGJjYS5iaW5kUG9wdXAocG9wdXBfNTRmZWViMGYyOGQ2NGUzMmE3OTAyOTNhYTNmYjc1ZDkpCiAgICAgICAgOwoKICAgICAgICAKICAgIAogICAgCiAgICAgICAgICAgIHZhciBtYXJrZXJfZGI1Yzk2OTcwNjk5NDQ3ZmJiNDdjZTI0N2UwNjU3NzMgPSBMLm1hcmtlcigKICAgICAgICAgICAgICAgIFs0MC4yMTgwNDMsIC0xMDUuMjYwMDAxXSwKICAgICAgICAgICAgICAgIHt9CiAgICAgICAgICAgICkuYWRkVG8obWFya2VyX2NsdXN0ZXJfYWJjOWI2YTFkNGI1NGMyODhmMDhjMDI0YjNlNGFiMjcpOwogICAgICAgIAogICAgCiAgICAgICAgdmFyIHBvcHVwXzQ0MzdmZjZjY2VhYTRkMmQ4YzBkODA1MTRhYTc0YzA2ID0gTC5wb3B1cCh7Im1heFdpZHRoIjogIjEwMCUifSk7CgogICAgICAgIAogICAgICAgICAgICB2YXIgaHRtbF9mZjdjYzEwOTg2MTk0MjE0OWY2MDU1MWYwOTg3ZmQwOCA9ICQoYDxkaXYgaWQ9Imh0bWxfZmY3Y2MxMDk4NjE5NDIxNDlmNjA1NTFmMDk4N2ZkMDgiIHN0eWxlPSJ3aWR0aDogMTAwLjAlOyBoZWlnaHQ6IDEwMC4wJTsiPk5hbWU6IFNBSU5UIFZSQUlOIENSRUVLIEFUIExZT05TLCBDTyBQcmVjaXA6IDcuNDE8L2Rpdj5gKVswXTsKICAgICAgICAgICAgcG9wdXBfNDQzN2ZmNmNjZWFhNGQyZDhjMGQ4MDUxNGFhNzRjMDYuc2V0Q29udGVudChodG1sX2ZmN2NjMTA5ODYxOTQyMTQ5ZjYwNTUxZjA5ODdmZDA4KTsKICAgICAgICAKCiAgICAgICAgbWFya2VyX2RiNWM5Njk3MDY5OTQ0N2ZiYjQ3Y2UyNDdlMDY1NzczLmJpbmRQb3B1cChwb3B1cF80NDM3ZmY2Y2NlYWE0ZDJkOGMwZDgwNTE0YWE3NGMwNikKICAgICAgICA7CgogICAgICAgIAogICAgCiAgICAKICAgICAgICAgICAgdmFyIG1hcmtlcl85NDhkYTRjOTBmMGY0OGQzODJjMjA1MjZhODViMDIwNCA9IEwubWFya2VyKAogICAgICAgICAgICAgICAgWzQwLjIxNTkwNCwgLTEwNS4yNTc3MzZdLAogICAgICAgICAgICAgICAge30KICAgICAgICAgICAgKS5hZGRUbyhtYXJrZXJfY2x1c3Rlcl9hYmM5YjZhMWQ0YjU0YzI4OGYwOGMwMjRiM2U0YWIyNyk7CiAgICAgICAgCiAgICAKICAgICAgICB2YXIgcG9wdXBfMmIwZWNjNzQxNDY5NDU0NzlmNmJkMzE0ZmYzOTlkZTIgPSBMLnBvcHVwKHsibWF4V2lkdGgiOiAiMTAwJSJ9KTsKCiAgICAgICAgCiAgICAgICAgICAgIHZhciBodG1sXzBiMGE1YTk3NzUzNDQxNWQ4MjkzYjAwM2VkOGQyMGNlID0gJChgPGRpdiBpZD0iaHRtbF8wYjBhNWE5Nzc1MzQ0MTVkODI5M2IwMDNlZDhkMjBjZSIgc3R5bGU9IndpZHRoOiAxMDAuMCU7IGhlaWdodDogMTAwLjAlOyI+TmFtZTogQk9VTERFUiBDUkVFSyBGRUVERVIgQ0FOQUwgTkVBUiBMWU9OUyBQcmVjaXA6IC05OTkuMDA8L2Rpdj5gKVswXTsKICAgICAgICAgICAgcG9wdXBfMmIwZWNjNzQxNDY5NDU0NzlmNmJkMzE0ZmYzOTlkZTIuc2V0Q29udGVudChodG1sXzBiMGE1YTk3NzUzNDQxNWQ4MjkzYjAwM2VkOGQyMGNlKTsKICAgICAgICAKCiAgICAgICAgbWFya2VyXzk0OGRhNGM5MGYwZjQ4ZDM4MmMyMDUyNmE4NWIwMjA0LmJpbmRQb3B1cChwb3B1cF8yYjBlY2M3NDE0Njk0NTQ3OWY2YmQzMTRmZjM5OWRlMikKICAgICAgICA7CgogICAgICAgIAogICAgCiAgICAKICAgICAgICAgICAgdmFyIG1hcmtlcl8xZGM2NDAyODhiOTE0YTVmODY1ZjdmYTVmYzA5YzZjMSA9IEwubWFya2VyKAogICAgICAgICAgICAgICAgWzQwLjE4MTg4LCAtMTA1LjE5Njc3NV0sCiAgICAgICAgICAgICAgICB7fQogICAgICAgICAgICApLmFkZFRvKG1hcmtlcl9jbHVzdGVyX2FiYzliNmExZDRiNTRjMjg4ZjA4YzAyNGIzZTRhYjI3KTsKICAgICAgICAKICAgIAogICAgICAgIHZhciBwb3B1cF84N2JhMmFmMDE2YzI0MzFhYWQ0ODE5YTVmMTJiNjU2NyA9IEwucG9wdXAoeyJtYXhXaWR0aCI6ICIxMDAlIn0pOwoKICAgICAgICAKICAgICAgICAgICAgdmFyIGh0bWxfMGMyYTZjNjQ4MmY4NDk1ZDhmOWJkOWM2ZGU0YTA2ZWYgPSAkKGA8ZGl2IGlkPSJodG1sXzBjMmE2YzY0ODJmODQ5NWQ4ZjliZDljNmRlNGEwNmVmIiBzdHlsZT0id2lkdGg6IDEwMC4wJTsgaGVpZ2h0OiAxMDAuMCU7Ij5OYW1lOiBEQVZJUyBBTkQgRE9XTklORyBESVRDSCBQcmVjaXA6IDMuMTk8L2Rpdj5gKVswXTsKICAgICAgICAgICAgcG9wdXBfODdiYTJhZjAxNmMyNDMxYWFkNDgxOWE1ZjEyYjY1Njcuc2V0Q29udGVudChodG1sXzBjMmE2YzY0ODJmODQ5NWQ4ZjliZDljNmRlNGEwNmVmKTsKICAgICAgICAKCiAgICAgICAgbWFya2VyXzFkYzY0MDI4OGI5MTRhNWY4NjVmN2ZhNWZjMDljNmMxLmJpbmRQb3B1cChwb3B1cF84N2JhMmFmMDE2YzI0MzFhYWQ0ODE5YTVmMTJiNjU2NykKICAgICAgICA7CgogICAgICAgIAogICAgCiAgICAKICAgICAgICAgICAgdmFyIG1hcmtlcl85NWE3MmNlZGQ4Mzg0ZTJkODUxNzViMGNmZTAwMWQxOSA9IEwubWFya2VyKAogICAgICAgICAgICAgICAgWzM5Ljk4NjE2NiwgLTEwNS4yMTg2NzZdLAogICAgICAgICAgICAgICAge30KICAgICAgICAgICAgKS5hZGRUbyhtYXJrZXJfY2x1c3Rlcl9hYmM5YjZhMWQ0YjU0YzI4OGYwOGMwMjRiM2U0YWIyNyk7CiAgICAgICAgCiAgICAKICAgICAgICB2YXIgcG9wdXBfYjVmNWQ5M2I3MGE4NGU3NDg2NDRhMTU0NDMyZTQwZTIgPSBMLnBvcHVwKHsibWF4V2lkdGgiOiAiMTAwJSJ9KTsKCiAgICAgICAgCiAgICAgICAgICAgIHZhciBodG1sX2Q3MWVlODViYzlkMzRjY2I4ZjA4MTg0MjBlNjFmMWEwID0gJChgPGRpdiBpZD0iaHRtbF9kNzFlZTg1YmM5ZDM0Y2NiOGYwODE4NDIwZTYxZjFhMCIgc3R5bGU9IndpZHRoOiAxMDAuMCU7IGhlaWdodDogMTAwLjAlOyI+TmFtZTogRFJZIENSRUVLIENBUlJJRVIgUHJlY2lwOiAwLjAwPC9kaXY+YClbMF07CiAgICAgICAgICAgIHBvcHVwX2I1ZjVkOTNiNzBhODRlNzQ4NjQ0YTE1NDQzMmU0MGUyLnNldENvbnRlbnQoaHRtbF9kNzFlZTg1YmM5ZDM0Y2NiOGYwODE4NDIwZTYxZjFhMCk7CiAgICAgICAgCgogICAgICAgIG1hcmtlcl85NWE3MmNlZGQ4Mzg0ZTJkODUxNzViMGNmZTAwMWQxOS5iaW5kUG9wdXAocG9wdXBfYjVmNWQ5M2I3MGE4NGU3NDg2NDRhMTU0NDMyZTQwZTIpCiAgICAgICAgOwoKICAgICAgICAKICAgIAogICAgCiAgICAgICAgICAgIHZhciBtYXJrZXJfOWU4YTk2MDE5YzM1NDY0YWE3MzNkODNiNzk5N2NjN2IgPSBMLm1hcmtlcigKICAgICAgICAgICAgICAgIFs0MC4xNzM5NSwgLTEwNS4xNjkzNzRdLAogICAgICAgICAgICAgICAge30KICAgICAgICAgICAgKS5hZGRUbyhtYXJrZXJfY2x1c3Rlcl9hYmM5YjZhMWQ0YjU0YzI4OGYwOGMwMjRiM2U0YWIyNyk7CiAgICAgICAgCiAgICAKICAgICAgICB2YXIgcG9wdXBfZjYxNjhlNzE0NDRiNGJjN2JkZjBmYjZhOWFiYmVkN2UgPSBMLnBvcHVwKHsibWF4V2lkdGgiOiAiMTAwJSJ9KTsKCiAgICAgICAgCiAgICAgICAgICAgIHZhciBodG1sX2QwYjZkNjgzMjA1ZDRjMWI4MmNiNmVmZWYwYzc5NjQ3ID0gJChgPGRpdiBpZD0iaHRtbF9kMGI2ZDY4MzIwNWQ0YzFiODJjYjZlZmVmMGM3OTY0NyIgc3R5bGU9IndpZHRoOiAxMDAuMCU7IGhlaWdodDogMTAwLjAlOyI+TmFtZTogTklXT1QgRElUQ0ggUHJlY2lwOiAwLjY2PC9kaXY+YClbMF07CiAgICAgICAgICAgIHBvcHVwX2Y2MTY4ZTcxNDQ0YjRiYzdiZGYwZmI2YTlhYmJlZDdlLnNldENvbnRlbnQoaHRtbF9kMGI2ZDY4MzIwNWQ0YzFiODJjYjZlZmVmMGM3OTY0Nyk7CiAgICAgICAgCgogICAgICAgIG1hcmtlcl85ZThhOTYwMTljMzU0NjRhYTczM2Q4M2I3OTk3Y2M3Yi5iaW5kUG9wdXAocG9wdXBfZjYxNjhlNzE0NDRiNGJjN2JkZjBmYjZhOWFiYmVkN2UpCiAgICAgICAgOwoKICAgICAgICAKICAgIAogICAgCiAgICAgICAgICAgIHZhciBtYXJrZXJfMWM0YzIxMWNhYjAwNGVlMDllOTg4ZTY3MDRmMjUwMjAgPSBMLm1hcmtlcigKICAgICAgICAgICAgICAgIFszOS45MzI1ODksIC0xMDUuMzA4MTldLAogICAgICAgICAgICAgICAge30KICAgICAgICAgICAgKS5hZGRUbyhtYXJrZXJfY2x1c3Rlcl9hYmM5YjZhMWQ0YjU0YzI4OGYwOGMwMjRiM2U0YWIyNyk7CiAgICAgICAgCiAgICAKICAgICAgICB2YXIgcG9wdXBfYmZjOWUzNDg3ZWQyNDg5Y2EyNjY4NWQ2ZmE0NDVmMzIgPSBMLnBvcHVwKHsibWF4V2lkdGgiOiAiMTAwJSJ9KTsKCiAgICAgICAgCiAgICAgICAgICAgIHZhciBodG1sXzEzMTBmMDgxYWYwMzQ5ZDhiZDQ3YjFmYzRkZTA0ODcwID0gJChgPGRpdiBpZD0iaHRtbF8xMzEwZjA4MWFmMDM0OWQ4YmQ0N2IxZmM0ZGUwNDg3MCIgc3R5bGU9IndpZHRoOiAxMDAuMCU7IGhlaWdodDogMTAwLjAlOyI+TmFtZTogU09VVEggQk9VTERFUiBDUkVFSyBESVZFUlNJT04gTkVBUiBFTERPUkFETyBTUFJJTkdTIFByZWNpcDogMC4wMDwvZGl2PmApWzBdOwogICAgICAgICAgICBwb3B1cF9iZmM5ZTM0ODdlZDI0ODljYTI2Njg1ZDZmYTQ0NWYzMi5zZXRDb250ZW50KGh0bWxfMTMxMGYwODFhZjAzNDlkOGJkNDdiMWZjNGRlMDQ4NzApOwogICAgICAgIAoKICAgICAgICBtYXJrZXJfMWM0YzIxMWNhYjAwNGVlMDllOTg4ZTY3MDRmMjUwMjAuYmluZFBvcHVwKHBvcHVwX2JmYzllMzQ4N2VkMjQ4OWNhMjY2ODVkNmZhNDQ1ZjMyKQogICAgICAgIDsKCiAgICAgICAgCiAgICAKICAgIAogICAgICAgICAgICB2YXIgbWFya2VyXzlmMTQxMjY0NjhjNTQ5NWFhYzlkNTg0NjY5ODQ3ZWQ4ID0gTC5tYXJrZXIoCiAgICAgICAgICAgICAgICBbNDAuMjU4NzI2LCAtMTA1LjE3NTgxN10sCiAgICAgICAgICAgICAgICB7fQogICAgICAgICAgICApLmFkZFRvKG1hcmtlcl9jbHVzdGVyX2FiYzliNmExZDRiNTRjMjg4ZjA4YzAyNGIzZTRhYjI3KTsKICAgICAgICAKICAgIAogICAgICAgIHZhciBwb3B1cF8zNzk0Y2Y1MjE1MTM0YTBkOGY5NWJmZjRlODMxYjNkOSA9IEwucG9wdXAoeyJtYXhXaWR0aCI6ICIxMDAlIn0pOwoKICAgICAgICAKICAgICAgICAgICAgdmFyIGh0bWxfYmNkZTRhODgzMjRlNGZjMGJlMTRjZGQ1YjA0ZWEyZmUgPSAkKGA8ZGl2IGlkPSJodG1sX2JjZGU0YTg4MzI0ZTRmYzBiZTE0Y2RkNWIwNGVhMmZlIiBzdHlsZT0id2lkdGg6IDEwMC4wJTsgaGVpZ2h0OiAxMDAuMCU7Ij5OYW1lOiBCT1VMREVSLUxBUklNRVIgQllQQVNTIE5FQVIgQkVSVEhPVUQgUHJlY2lwOiAyLjc4PC9kaXY+YClbMF07CiAgICAgICAgICAgIHBvcHVwXzM3OTRjZjUyMTUxMzRhMGQ4Zjk1YmZmNGU4MzFiM2Q5LnNldENvbnRlbnQoaHRtbF9iY2RlNGE4ODMyNGU0ZmMwYmUxNGNkZDViMDRlYTJmZSk7CiAgICAgICAgCgogICAgICAgIG1hcmtlcl85ZjE0MTI2NDY4YzU0OTVhYWM5ZDU4NDY2OTg0N2VkOC5iaW5kUG9wdXAocG9wdXBfMzc5NGNmNTIxNTEzNGEwZDhmOTViZmY0ZTgzMWIzZDkpCiAgICAgICAgOwoKICAgICAgICAKICAgIAogICAgCiAgICAgICAgICAgIHZhciBtYXJrZXJfMDQwYTNlMzg4ZjY5NGIwMGIxYWM5MWE5M2IzMGQ1NzEgPSBMLm1hcmtlcigKICAgICAgICAgICAgICAgIFs0MC4wNTk4MDksIC0xMDUuMDk3ODcyXSwKICAgICAgICAgICAgICAgIHt9CiAgICAgICAgICAgICkuYWRkVG8obWFya2VyX2NsdXN0ZXJfYWJjOWI2YTFkNGI1NGMyODhmMDhjMDI0YjNlNGFiMjcpOwogICAgICAgIAogICAgCiAgICAgICAgdmFyIHBvcHVwXzQxNjg3Yzk0YzAzZjQ0ZDhhYTA5NDJjNGMwMDZiMGYwID0gTC5wb3B1cCh7Im1heFdpZHRoIjogIjEwMCUifSk7CgogICAgICAgIAogICAgICAgICAgICB2YXIgaHRtbF8xNTVlZTM4MzRhODU0NzI0OWM0ZGVmZTgwY2ZkNjIwZSA9ICQoYDxkaXYgaWQ9Imh0bWxfMTU1ZWUzODM0YTg1NDcyNDljNGRlZmU4MGNmZDYyMGUiIHN0eWxlPSJ3aWR0aDogMTAwLjAlOyBoZWlnaHQ6IDEwMC4wJTsiPk5hbWU6IEJPVUxERVIgQ1JFRUsgQVQgMTA5IFNUIE5FQVIgRVJJRSwgQ08gUHJlY2lwOiAxNy45MDwvZGl2PmApWzBdOwogICAgICAgICAgICBwb3B1cF80MTY4N2M5NGMwM2Y0NGQ4YWEwOTQyYzRjMDA2YjBmMC5zZXRDb250ZW50KGh0bWxfMTU1ZWUzODM0YTg1NDcyNDljNGRlZmU4MGNmZDYyMGUpOwogICAgICAgIAoKICAgICAgICBtYXJrZXJfMDQwYTNlMzg4ZjY5NGIwMGIxYWM5MWE5M2IzMGQ1NzEuYmluZFBvcHVwKHBvcHVwXzQxNjg3Yzk0YzAzZjQ0ZDhhYTA5NDJjNGMwMDZiMGYwKQogICAgICAgIDsKCiAgICAgICAgCiAgICAKICAgIAogICAgICAgICAgICB2YXIgbWFya2VyXzcyNGRiNTFkNjNkYzQ4ZTlhNTE2MWMyNzgzODNkZWU1ID0gTC5tYXJrZXIoCiAgICAgICAgICAgICAgICBbNDAuMDQyMDI4LCAtMTA1LjM2NDkxN10sCiAgICAgICAgICAgICAgICB7fQogICAgICAgICAgICApLmFkZFRvKG1hcmtlcl9jbHVzdGVyX2FiYzliNmExZDRiNTRjMjg4ZjA4YzAyNGIzZTRhYjI3KTsKICAgICAgICAKICAgIAogICAgICAgIHZhciBwb3B1cF84NmMzZTI1MGUzNGU0MTk2YmEzY2EwMmM5ZWViMDg0NSA9IEwucG9wdXAoeyJtYXhXaWR0aCI6ICIxMDAlIn0pOwoKICAgICAgICAKICAgICAgICAgICAgdmFyIGh0bWxfYWE1NzBkMjAwY2RkNDk3NGIxNzg1MGQwNDEzNzZiOTggPSAkKGA8ZGl2IGlkPSJodG1sX2FhNTcwZDIwMGNkZDQ5NzRiMTc4NTBkMDQxMzc2Yjk4IiBzdHlsZT0id2lkdGg6IDEwMC4wJTsgaGVpZ2h0OiAxMDAuMCU7Ij5OYW1lOiBGT1VSTUlMRSBDUkVFSyBBVCBMT0dBTiBNSUxMIFJPQUQgTkVBUiBDUklTTUFOLCBDTyBQcmVjaXA6IG5hbjwvZGl2PmApWzBdOwogICAgICAgICAgICBwb3B1cF84NmMzZTI1MGUzNGU0MTk2YmEzY2EwMmM5ZWViMDg0NS5zZXRDb250ZW50KGh0bWxfYWE1NzBkMjAwY2RkNDk3NGIxNzg1MGQwNDEzNzZiOTgpOwogICAgICAgIAoKICAgICAgICBtYXJrZXJfNzI0ZGI1MWQ2M2RjNDhlOWE1MTYxYzI3ODM4M2RlZTUuYmluZFBvcHVwKHBvcHVwXzg2YzNlMjUwZTM0ZTQxOTZiYTNjYTAyYzllZWIwODQ1KQogICAgICAgIDsKCiAgICAgICAgCiAgICAKICAgIAogICAgICAgICAgICB2YXIgbWFya2VyXzYwMTIzNWQ0NzhiMDRkYjA5ZmU2OWE5NTVmZTk0NDU3ID0gTC5tYXJrZXIoCiAgICAgICAgICAgICAgICBbNDAuMTkzMjgsIC0xMDUuMjEwNDI0XSwKICAgICAgICAgICAgICAgIHt9CiAgICAgICAgICAgICkuYWRkVG8obWFya2VyX2NsdXN0ZXJfYWJjOWI2YTFkNGI1NGMyODhmMDhjMDI0YjNlNGFiMjcpOwogICAgICAgIAogICAgCiAgICAgICAgdmFyIHBvcHVwXzI4YmYzMWRhMGUxNDQyNzhiODJiNzY0MmM4NDUzODNiID0gTC5wb3B1cCh7Im1heFdpZHRoIjogIjEwMCUifSk7CgogICAgICAgIAogICAgICAgICAgICB2YXIgaHRtbF82YmZjMGE3NmY3NzE0YTE5OWNmNDNiMjZkMzVmNTMzOSA9ICQoYDxkaXYgaWQ9Imh0bWxfNmJmYzBhNzZmNzcxNGExOTljZjQzYjI2ZDM1ZjUzMzkiIHN0eWxlPSJ3aWR0aDogMTAwLjAlOyBoZWlnaHQ6IDEwMC4wJTsiPk5hbWU6IFdFQlNURVIgTUNDQVNMSU4gRElUQ0ggUHJlY2lwOiAwLjIzPC9kaXY+YClbMF07CiAgICAgICAgICAgIHBvcHVwXzI4YmYzMWRhMGUxNDQyNzhiODJiNzY0MmM4NDUzODNiLnNldENvbnRlbnQoaHRtbF82YmZjMGE3NmY3NzE0YTE5OWNmNDNiMjZkMzVmNTMzOSk7CiAgICAgICAgCgogICAgICAgIG1hcmtlcl82MDEyMzVkNDc4YjA0ZGIwOWZlNjlhOTU1ZmU5NDQ1Ny5iaW5kUG9wdXAocG9wdXBfMjhiZjMxZGEwZTE0NDI3OGI4MmI3NjQyYzg0NTM4M2IpCiAgICAgICAgOwoKICAgICAgICAKICAgIAogICAgCiAgICAgICAgICAgIHZhciBtYXJrZXJfNmE1YzdjNjIwOTU1NDg5N2E4YmRjMTliZWYyYTY3MGEgPSBMLm1hcmtlcigKICAgICAgICAgICAgICAgIFs0MC4wMjE2OCwgLTEwNS4xNjYxMTNdLAogICAgICAgICAgICAgICAge30KICAgICAgICAgICAgKS5hZGRUbyhtYXJrZXJfY2x1c3Rlcl9hYmM5YjZhMWQ0YjU0YzI4OGYwOGMwMjRiM2U0YWIyNyk7CiAgICAgICAgCiAgICAKICAgICAgICB2YXIgcG9wdXBfZjFmNWU3YzY2ZTQxNDZiYThmMmNhMWVhMDZlOTg1YzMgPSBMLnBvcHVwKHsibWF4V2lkdGgiOiAiMTAwJSJ9KTsKCiAgICAgICAgCiAgICAgICAgICAgIHZhciBodG1sX2RlNmI4NzZmOTAzMzQwNGY5MGRlODYyMTg3ZjQzMDc5ID0gJChgPGRpdiBpZD0iaHRtbF9kZTZiODc2ZjkwMzM0MDRmOTBkZTg2MjE4N2Y0MzA3OSIgc3R5bGU9IndpZHRoOiAxMDAuMCU7IGhlaWdodDogMTAwLjAlOyI+TmFtZTogTEVZTkVSIENPVFRPTldPT0QgRElUQ0ggUHJlY2lwOiAwLjAwPC9kaXY+YClbMF07CiAgICAgICAgICAgIHBvcHVwX2YxZjVlN2M2NmU0MTQ2YmE4ZjJjYTFlYTA2ZTk4NWMzLnNldENvbnRlbnQoaHRtbF9kZTZiODc2ZjkwMzM0MDRmOTBkZTg2MjE4N2Y0MzA3OSk7CiAgICAgICAgCgogICAgICAgIG1hcmtlcl82YTVjN2M2MjA5NTU0ODk3YThiZGMxOWJlZjJhNjcwYS5iaW5kUG9wdXAocG9wdXBfZjFmNWU3YzY2ZTQxNDZiYThmMmNhMWVhMDZlOTg1YzMpCiAgICAgICAgOwoKICAgICAgICAKICAgIAogICAgCiAgICAgICAgICAgIHZhciBtYXJrZXJfYmYzOWU0N2M2YjRjNDgwZTlhOWFkNTdiNWNlMjEwZTEgPSBMLm1hcmtlcigKICAgICAgICAgICAgICAgIFs0MC4xODc1NzgsIC0xMDUuMTg5MTkxXSwKICAgICAgICAgICAgICAgIHt9CiAgICAgICAgICAgICkuYWRkVG8obWFya2VyX2NsdXN0ZXJfYWJjOWI2YTFkNGI1NGMyODhmMDhjMDI0YjNlNGFiMjcpOwogICAgICAgIAogICAgCiAgICAgICAgdmFyIHBvcHVwXzRmNmM4NWIxNTliZTRlZGRhNzRmOWIxMzMzZTFkNTczID0gTC5wb3B1cCh7Im1heFdpZHRoIjogIjEwMCUifSk7CgogICAgICAgIAogICAgICAgICAgICB2YXIgaHRtbF8wOGRlMzViNjNhMzg0Y2QxOGY5OWMzNGIyYTdmOGM4NSA9ICQoYDxkaXYgaWQ9Imh0bWxfMDhkZTM1YjYzYTM4NGNkMThmOTljMzRiMmE3ZjhjODUiIHN0eWxlPSJ3aWR0aDogMTAwLjAlOyBoZWlnaHQ6IDEwMC4wJTsiPk5hbWU6IERFTklPIFRBWUxPUiBESVRDSCBQcmVjaXA6IDAuNTg8L2Rpdj5gKVswXTsKICAgICAgICAgICAgcG9wdXBfNGY2Yzg1YjE1OWJlNGVkZGE3NGY5YjEzMzNlMWQ1NzMuc2V0Q29udGVudChodG1sXzA4ZGUzNWI2M2EzODRjZDE4Zjk5YzM0YjJhN2Y4Yzg1KTsKICAgICAgICAKCiAgICAgICAgbWFya2VyX2JmMzllNDdjNmI0YzQ4MGU5YTlhZDU3YjVjZTIxMGUxLmJpbmRQb3B1cChwb3B1cF80ZjZjODViMTU5YmU0ZWRkYTc0ZjliMTMzM2UxZDU3MykKICAgICAgICA7CgogICAgICAgIAogICAgCiAgICAKICAgICAgICAgICAgdmFyIG1hcmtlcl9jYzZjZDIyMjUxZmE0NzVlOGI5MTU4MGIwZDFmZDhkZiA9IEwubWFya2VyKAogICAgICAgICAgICAgICAgWzQwLjE2MDcwNSwgLTEwNS4xNjg0NzFdLAogICAgICAgICAgICAgICAge30KICAgICAgICAgICAgKS5hZGRUbyhtYXJrZXJfY2x1c3Rlcl9hYmM5YjZhMWQ0YjU0YzI4OGYwOGMwMjRiM2U0YWIyNyk7CiAgICAgICAgCiAgICAKICAgICAgICB2YXIgcG9wdXBfNDVjZTU5NmZiYzY5NDJjYWJiZTA3ODYwY2JjNzI0NzAgPSBMLnBvcHVwKHsibWF4V2lkdGgiOiAiMTAwJSJ9KTsKCiAgICAgICAgCiAgICAgICAgICAgIHZhciBodG1sX2FlYjc4MTNiNzhlZDRmNWZhN2Q2YjFhNWJlMjE3OWRiID0gJChgPGRpdiBpZD0iaHRtbF9hZWI3ODEzYjc4ZWQ0ZjVmYTdkNmIxYTViZTIxNzlkYiIgc3R5bGU9IndpZHRoOiAxMDAuMCU7IGhlaWdodDogMTAwLjAlOyI+TmFtZTogUEVDSy1QRUxMQSBBVUdNRU5UQVRJT04gUkVUVVJOIFByZWNpcDogMS4xNzwvZGl2PmApWzBdOwogICAgICAgICAgICBwb3B1cF80NWNlNTk2ZmJjNjk0MmNhYmJlMDc4NjBjYmM3MjQ3MC5zZXRDb250ZW50KGh0bWxfYWViNzgxM2I3OGVkNGY1ZmE3ZDZiMWE1YmUyMTc5ZGIpOwogICAgICAgIAoKICAgICAgICBtYXJrZXJfY2M2Y2QyMjI1MWZhNDc1ZThiOTE1ODBiMGQxZmQ4ZGYuYmluZFBvcHVwKHBvcHVwXzQ1Y2U1OTZmYmM2OTQyY2FiYmUwNzg2MGNiYzcyNDcwKQogICAgICAgIDsKCiAgICAgICAgCiAgICAKPC9zY3JpcHQ+ onload=\"this.contentDocument.open();this.contentDocument.write(atob(this.getAttribute('data-html')));this.contentDocument.close();\" allowfullscreen webkitallowfullscreen mozallowfullscreen></iframe></div></div>"
      ],
      "text/plain": [
       "<folium.folium.Map at 0x17a64d7f5c0>"
      ]
     },
     "execution_count": 32,
     "metadata": {},
     "output_type": "execute_result"
    }
   ],
   "source": [
    "from folium.plugins import MarkerCluster\n",
    "\n",
    "m = folium.Map([40.01, -105.27], zoom_start= 10, tiles='cartodbpositron')\n",
    "\n",
    "marker_cluster = MarkerCluster().add_to(m)\n",
    "\n",
    "for point in range(0, len(coords)):\n",
    "    folium.Marker(location = coords[point], popup= 'Name: ' + result['station_name'][point] + ' ' + 'Precip: ' + str(result['amount'][point])).add_to(marker_cluster)\n",
    "\n",
    "m"
   ]
  },
  {
   "cell_type": "code",
   "execution_count": null,
   "metadata": {},
   "outputs": [],
   "source": []
  },
  {
   "cell_type": "code",
   "execution_count": null,
   "metadata": {},
   "outputs": [],
   "source": []
  }
 ],
 "metadata": {
  "kernelspec": {
   "display_name": "Python 3",
   "language": "python",
   "name": "python3"
  },
  "language_info": {
   "codemirror_mode": {
    "name": "ipython",
    "version": 3
   },
   "file_extension": ".py",
   "mimetype": "text/x-python",
   "name": "python",
   "nbconvert_exporter": "python",
   "pygments_lexer": "ipython3",
   "version": "3.6.12"
  }
 },
 "nbformat": 4,
 "nbformat_minor": 4
}
