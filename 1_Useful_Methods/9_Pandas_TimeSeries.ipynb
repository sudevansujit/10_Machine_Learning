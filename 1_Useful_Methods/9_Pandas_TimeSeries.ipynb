{
 "cells": [
  {
   "cell_type": "markdown",
   "metadata": {},
   "source": [
    "# Pandas Timeseries "
   ]
  },
  {
   "cell_type": "code",
   "execution_count": 44,
   "metadata": {},
   "outputs": [],
   "source": [
    "from datetime import datetime\n",
    "import pandas as pd\n",
    "import numpy as np"
   ]
  },
  {
   "cell_type": "code",
   "execution_count": 2,
   "metadata": {},
   "outputs": [
    {
     "data": {
      "text/plain": [
       "datetime.datetime(2020, 5, 15, 19, 26, 50, 172998)"
      ]
     },
     "execution_count": 2,
     "metadata": {},
     "output_type": "execute_result"
    }
   ],
   "source": [
    "now = datetime.now()\n",
    "now"
   ]
  },
  {
   "cell_type": "code",
   "execution_count": 3,
   "metadata": {},
   "outputs": [
    {
     "data": {
      "text/plain": [
       "(2020, 5, 15)"
      ]
     },
     "execution_count": 3,
     "metadata": {},
     "output_type": "execute_result"
    }
   ],
   "source": [
    "now.year, now.month, now.day"
   ]
  },
  {
   "cell_type": "code",
   "execution_count": 126,
   "metadata": {},
   "outputs": [
    {
     "data": {
      "text/plain": [
       "datetime.timedelta(days=-11660)"
      ]
     },
     "execution_count": 126,
     "metadata": {},
     "output_type": "execute_result"
    }
   ],
   "source": [
    "# Time difference\n",
    "\n",
    "delta = datetime(1988, 6, 12) - datetime(2020, 5, 15)\n",
    "delta"
   ]
  },
  {
   "cell_type": "markdown",
   "metadata": {},
   "source": [
    "### Timedelta"
   ]
  },
  {
   "cell_type": "code",
   "execution_count": 9,
   "metadata": {},
   "outputs": [],
   "source": [
    "from datetime import timedelta"
   ]
  },
  {
   "cell_type": "code",
   "execution_count": 10,
   "metadata": {},
   "outputs": [
    {
     "data": {
      "text/plain": [
       "datetime.timedelta(days=12)"
      ]
     },
     "execution_count": 10,
     "metadata": {},
     "output_type": "execute_result"
    }
   ],
   "source": [
    "timedelta(12)"
   ]
  },
  {
   "cell_type": "markdown",
   "metadata": {},
   "source": [
    "### Converting between string and datetime"
   ]
  },
  {
   "cell_type": "code",
   "execution_count": 18,
   "metadata": {},
   "outputs": [
    {
     "data": {
      "text/plain": [
       "datetime.datetime(2012, 1, 3, 0, 0)"
      ]
     },
     "execution_count": 18,
     "metadata": {},
     "output_type": "execute_result"
    }
   ],
   "source": [
    "stamp = datetime(2012, 1, 3)\n",
    "stamp"
   ]
  },
  {
   "cell_type": "code",
   "execution_count": 19,
   "metadata": {},
   "outputs": [
    {
     "data": {
      "text/plain": [
       "'2012-01-03 00:00:00'"
      ]
     },
     "execution_count": 19,
     "metadata": {},
     "output_type": "execute_result"
    }
   ],
   "source": [
    "# Converting Date to string\n",
    "str(stamp)\n"
   ]
  },
  {
   "cell_type": "code",
   "execution_count": 20,
   "metadata": {},
   "outputs": [
    {
     "data": {
      "text/plain": [
       "'2012-01-03'"
      ]
     },
     "execution_count": 20,
     "metadata": {},
     "output_type": "execute_result"
    }
   ],
   "source": [
    "# Converting  datetime to string\n",
    "\n",
    "stamp.strftime('%Y-%m-%d')"
   ]
  },
  {
   "cell_type": "code",
   "execution_count": 21,
   "metadata": {},
   "outputs": [],
   "source": [
    "# Converting string to datetime\n",
    "\n",
    "value = '2012-01-03'"
   ]
  },
  {
   "cell_type": "code",
   "execution_count": 22,
   "metadata": {},
   "outputs": [
    {
     "data": {
      "text/plain": [
       "datetime.datetime(2012, 1, 3, 0, 0)"
      ]
     },
     "execution_count": 22,
     "metadata": {},
     "output_type": "execute_result"
    }
   ],
   "source": [
    "datetime.strptime(value, '%Y-%m-%d')"
   ]
  },
  {
   "cell_type": "code",
   "execution_count": 25,
   "metadata": {},
   "outputs": [
    {
     "data": {
      "text/plain": [
       "[datetime.datetime(2011, 6, 7, 0, 0), datetime.datetime(2011, 6, 8, 0, 0)]"
      ]
     },
     "execution_count": 25,
     "metadata": {},
     "output_type": "execute_result"
    }
   ],
   "source": [
    "datestrs = ['7/6/2011', '8/6/2011']\n",
    "[datetime.strptime(value, '%d/%m/%Y') for value in datestrs ]"
   ]
  },
  {
   "cell_type": "markdown",
   "metadata": {},
   "source": [
    "### Dateutil Library"
   ]
  },
  {
   "cell_type": "code",
   "execution_count": 26,
   "metadata": {},
   "outputs": [],
   "source": [
    "from dateutil.parser import parse"
   ]
  },
  {
   "cell_type": "code",
   "execution_count": 29,
   "metadata": {},
   "outputs": [
    {
     "data": {
      "text/plain": [
       "datetime.datetime(2015, 12, 23, 0, 0)"
      ]
     },
     "execution_count": 29,
     "metadata": {},
     "output_type": "execute_result"
    }
   ],
   "source": [
    "parse('2015-12-23')"
   ]
  },
  {
   "cell_type": "code",
   "execution_count": 30,
   "metadata": {},
   "outputs": [
    {
     "data": {
      "text/plain": [
       "datetime.datetime(1997, 1, 31, 22, 45)"
      ]
     },
     "execution_count": 30,
     "metadata": {},
     "output_type": "execute_result"
    }
   ],
   "source": [
    "parse('Jan 31, 1997 10:45 PM')"
   ]
  },
  {
   "cell_type": "code",
   "execution_count": 31,
   "metadata": {},
   "outputs": [
    {
     "data": {
      "text/plain": [
       "datetime.datetime(2011, 12, 6, 0, 0)"
      ]
     },
     "execution_count": 31,
     "metadata": {},
     "output_type": "execute_result"
    }
   ],
   "source": [
    "parse('6/12/2011', dayfirst=True)"
   ]
  },
  {
   "cell_type": "markdown",
   "metadata": {},
   "source": [
    "dateutil.parser is a useful, but not perfect tool. Notably, it will recognize\n",
    "some strings as dates that you might prefer that it didn’t, like\n",
    "'42' will be parsed as the year 2042 with today’s calendar date."
   ]
  },
  {
   "cell_type": "markdown",
   "metadata": {},
   "source": [
    "### Pandas"
   ]
  },
  {
   "cell_type": "code",
   "execution_count": 38,
   "metadata": {},
   "outputs": [
    {
     "data": {
      "text/plain": [
       "DatetimeIndex(['2011-07-06', '2011-08-06'], dtype='datetime64[ns]', freq=None)"
      ]
     },
     "execution_count": 38,
     "metadata": {},
     "output_type": "execute_result"
    }
   ],
   "source": [
    "datestrs = ['7/6/2011', '8/6/2011']\n",
    "pd.to_datetime(datestrs)"
   ]
  },
  {
   "cell_type": "markdown",
   "metadata": {},
   "source": [
    "#### Null Empty String"
   ]
  },
  {
   "cell_type": "code",
   "execution_count": 39,
   "metadata": {},
   "outputs": [
    {
     "data": {
      "text/plain": [
       "DatetimeIndex(['2011-07-06', '2011-08-06', 'NaT'], dtype='datetime64[ns]', freq=None)"
      ]
     },
     "execution_count": 39,
     "metadata": {},
     "output_type": "execute_result"
    }
   ],
   "source": [
    "idx = pd.to_datetime(datestrs + [None])\n",
    "idx"
   ]
  },
  {
   "cell_type": "code",
   "execution_count": 40,
   "metadata": {},
   "outputs": [
    {
     "data": {
      "text/plain": [
       "NaT"
      ]
     },
     "execution_count": 40,
     "metadata": {},
     "output_type": "execute_result"
    }
   ],
   "source": [
    "idx[2]"
   ]
  },
  {
   "cell_type": "raw",
   "metadata": {},
   "source": [
    "                                                   %Y 4-digit year\n",
    "%y 2-digit year\n",
    "\n",
    "                                                   %m 2-digit month [01, 12]\n",
    "\n",
    "                                                   %d 2-digit day [01, 31]\n",
    "\n",
    "%H Hour (24-hour clock) [00, 23]\n",
    "%I Hour (12-hour clock) [01, 12]\n",
    "\n",
    "%M 2-digit minute [00, 59]\n",
    "\n",
    "%S Second [00, 61] (seconds 60, 61 account for leap seconds)\n",
    "\n",
    "%w Weekday as integer [0 (Sunday), 6]\n",
    "\n",
    "%U Week number of the year [00, 53]. Sunday is considered the first day of the week, and days before the first\n",
    "Sunday of the year are “week 0”.\n",
    "%W Week number of the year [00, 53]. Monday is considered the first day of the week, and days before the first\n",
    "Monday of the year are “week 0”.\n",
    "%z UTC time zone offset as +HHMM or -HHMM, empty if time zone naive\n",
    "\n",
    "                                                  %F Shortcut for %Y-%m-%d, for example 2012-4-18\n",
    "\n",
    "%D Shortcut for %m/%d/%y, for example 04/18/12"
   ]
  },
  {
   "cell_type": "markdown",
   "metadata": {},
   "source": [
    "### Time Series Basics"
   ]
  },
  {
   "cell_type": "code",
   "execution_count": 41,
   "metadata": {},
   "outputs": [],
   "source": [
    "from datetime import datetime"
   ]
  },
  {
   "cell_type": "code",
   "execution_count": 42,
   "metadata": {},
   "outputs": [],
   "source": [
    "dates = [datetime(2011, 1, 2), datetime(2011, 1, 5), datetime(2011, 1, 7),\n",
    "                  datetime(2011, 1, 8), datetime(2011, 1, 10), datetime(2011, 1, 12)]\n",
    "\n",
    "ts = pd.Series(np.random.randn(6), index=dates)\n",
    "ts"
   ]
  },
  {
   "cell_type": "code",
   "execution_count": 46,
   "metadata": {},
   "outputs": [
    {
     "data": {
      "text/plain": [
       "pandas.core.series.Series"
      ]
     },
     "execution_count": 46,
     "metadata": {},
     "output_type": "execute_result"
    }
   ],
   "source": [
    "type(ts)"
   ]
  },
  {
   "cell_type": "code",
   "execution_count": 47,
   "metadata": {},
   "outputs": [
    {
     "data": {
      "text/plain": [
       "DatetimeIndex(['2011-01-02', '2011-01-05', '2011-01-07', '2011-01-08',\n",
       "               '2011-01-10', '2011-01-12'],\n",
       "              dtype='datetime64[ns]', freq=None)"
      ]
     },
     "execution_count": 47,
     "metadata": {},
     "output_type": "execute_result"
    }
   ],
   "source": [
    "ts.index"
   ]
  },
  {
   "cell_type": "code",
   "execution_count": 50,
   "metadata": {},
   "outputs": [
    {
     "data": {
      "text/plain": [
       "dtype('<M8[ns]')"
      ]
     },
     "execution_count": 50,
     "metadata": {},
     "output_type": "execute_result"
    }
   ],
   "source": [
    "ts.index.dtype"
   ]
  },
  {
   "cell_type": "markdown",
   "metadata": {},
   "source": [
    "### Indexing Selection and Subsetting"
   ]
  },
  {
   "cell_type": "code",
   "execution_count": 55,
   "metadata": {},
   "outputs": [
    {
     "data": {
      "text/plain": [
       "2000-01-01    1.502861\n",
       "2000-01-02    0.861699\n",
       "2000-01-03   -0.640865\n",
       "2000-01-04    1.623017\n",
       "2000-01-05   -0.030240\n",
       "Freq: D, dtype: float64"
      ]
     },
     "execution_count": 55,
     "metadata": {},
     "output_type": "execute_result"
    }
   ],
   "source": [
    "longer_ts = pd.Series(np.random.randn(1000),\n",
    "                    index=pd.date_range('1/1/2000', periods=1000))    # Timeseries for 1000 days\n",
    "longer_ts.head()"
   ]
  },
  {
   "cell_type": "code",
   "execution_count": 56,
   "metadata": {},
   "outputs": [
    {
     "data": {
      "text/plain": [
       "2002-09-22    1.137652\n",
       "2002-09-23    1.303313\n",
       "2002-09-24   -0.300747\n",
       "2002-09-25    0.746180\n",
       "2002-09-26   -0.940266\n",
       "Freq: D, dtype: float64"
      ]
     },
     "execution_count": 56,
     "metadata": {},
     "output_type": "execute_result"
    }
   ],
   "source": [
    "longer_ts.tail()"
   ]
  },
  {
   "cell_type": "code",
   "execution_count": 61,
   "metadata": {},
   "outputs": [
    {
     "data": {
      "text/plain": [
       "2001-01-01    0.014068\n",
       "2001-01-02   -0.771940\n",
       "2001-01-03    1.924551\n",
       "2001-01-04   -0.995645\n",
       "2001-01-05   -0.523183\n",
       "2001-01-06    1.743793\n",
       "2001-01-07   -0.040007\n",
       "2001-01-08    0.496086\n",
       "2001-01-09   -0.080951\n",
       "2001-01-10    0.253613\n",
       "2001-01-11    1.198349\n",
       "2001-01-12   -0.219355\n",
       "2001-01-13    1.419738\n",
       "2001-01-14    0.087351\n",
       "2001-01-15    0.659277\n",
       "2001-01-16   -0.851941\n",
       "2001-01-17    1.530257\n",
       "2001-01-18    0.704709\n",
       "2001-01-19   -0.078616\n",
       "2001-01-20   -0.292326\n",
       "2001-01-21    0.094934\n",
       "2001-01-22   -0.953760\n",
       "2001-01-23   -0.201170\n",
       "2001-01-24   -0.914143\n",
       "2001-01-25    1.710248\n",
       "2001-01-26    1.548417\n",
       "2001-01-27   -0.538389\n",
       "2001-01-28    0.135750\n",
       "2001-01-29    1.210342\n",
       "2001-01-30   -2.156647\n",
       "                ...   \n",
       "2001-12-02   -2.065144\n",
       "2001-12-03   -1.475150\n",
       "2001-12-04   -0.002220\n",
       "2001-12-05   -1.343527\n",
       "2001-12-06   -0.120225\n",
       "2001-12-07    0.263111\n",
       "2001-12-08    0.219517\n",
       "2001-12-09   -0.253055\n",
       "2001-12-10   -0.737699\n",
       "2001-12-11    1.038662\n",
       "2001-12-12   -2.139407\n",
       "2001-12-13   -0.060184\n",
       "2001-12-14    1.346689\n",
       "2001-12-15    2.727861\n",
       "2001-12-16    1.872049\n",
       "2001-12-17    0.818783\n",
       "2001-12-18    0.261314\n",
       "2001-12-19    0.543906\n",
       "2001-12-20   -1.710650\n",
       "2001-12-21    3.732015\n",
       "2001-12-22   -1.360677\n",
       "2001-12-23    1.853447\n",
       "2001-12-24    2.106002\n",
       "2001-12-25    0.741674\n",
       "2001-12-26   -0.875373\n",
       "2001-12-27   -0.378690\n",
       "2001-12-28    1.708260\n",
       "2001-12-29    0.457964\n",
       "2001-12-30   -0.037610\n",
       "2001-12-31   -0.382090\n",
       "Freq: D, Length: 365, dtype: float64"
      ]
     },
     "execution_count": 61,
     "metadata": {},
     "output_type": "execute_result"
    }
   ],
   "source": [
    "longer_ts['2001']"
   ]
  },
  {
   "cell_type": "code",
   "execution_count": 62,
   "metadata": {},
   "outputs": [
    {
     "data": {
      "text/plain": [
       "2001-05-01   -0.218149\n",
       "2001-05-02    0.550300\n",
       "2001-05-03    1.703142\n",
       "2001-05-04   -0.122861\n",
       "2001-05-05    0.061349\n",
       "2001-05-06   -1.452990\n",
       "2001-05-07   -1.380338\n",
       "2001-05-08   -0.078140\n",
       "2001-05-09    0.452233\n",
       "2001-05-10   -0.219463\n",
       "2001-05-11   -2.135583\n",
       "2001-05-12    0.086609\n",
       "2001-05-13    0.487116\n",
       "2001-05-14   -0.537233\n",
       "2001-05-15    1.670814\n",
       "2001-05-16   -0.390042\n",
       "2001-05-17   -0.682217\n",
       "2001-05-18   -0.245536\n",
       "2001-05-19    0.473359\n",
       "2001-05-20    1.361060\n",
       "2001-05-21   -0.910622\n",
       "2001-05-22   -0.840339\n",
       "2001-05-23   -1.287164\n",
       "2001-05-24   -0.705591\n",
       "2001-05-25    1.512404\n",
       "2001-05-26   -1.537194\n",
       "2001-05-27   -3.606412\n",
       "2001-05-28    0.673170\n",
       "2001-05-29    0.446054\n",
       "2001-05-30    0.510814\n",
       "2001-05-31   -0.417194\n",
       "Freq: D, dtype: float64"
      ]
     },
     "execution_count": 62,
     "metadata": {},
     "output_type": "execute_result"
    }
   ],
   "source": [
    "longer_ts['2001-05']"
   ]
  },
  {
   "cell_type": "code",
   "execution_count": 84,
   "metadata": {},
   "outputs": [
    {
     "data": {
      "text/plain": [
       "2001-06-14    0.390164\n",
       "2001-06-15    0.519456\n",
       "2001-06-16   -0.924120\n",
       "2001-06-17   -0.277019\n",
       "2001-06-18    1.030446\n",
       "2001-06-19   -0.542581\n",
       "2001-06-20   -0.344086\n",
       "2001-06-21   -1.318941\n",
       "2001-06-22   -0.098607\n",
       "2001-06-23    0.546155\n",
       "2001-06-24   -0.892365\n",
       "2001-06-25    0.294988\n",
       "2001-06-26   -1.429935\n",
       "2001-06-27    2.326353\n",
       "2001-06-28   -0.657449\n",
       "2001-06-29   -0.806903\n",
       "2001-06-30   -0.641330\n",
       "Freq: D, dtype: float64"
      ]
     },
     "execution_count": 84,
     "metadata": {},
     "output_type": "execute_result"
    }
   ],
   "source": [
    "longer_ts['2001-06-14': '2001-06-30' ]"
   ]
  },
  {
   "cell_type": "markdown",
   "metadata": {},
   "source": [
    "### Working with DataFrame"
   ]
  },
  {
   "cell_type": "code",
   "execution_count": 88,
   "metadata": {},
   "outputs": [
    {
     "data": {
      "text/html": [
       "<div>\n",
       "<style scoped>\n",
       "    .dataframe tbody tr th:only-of-type {\n",
       "        vertical-align: middle;\n",
       "    }\n",
       "\n",
       "    .dataframe tbody tr th {\n",
       "        vertical-align: top;\n",
       "    }\n",
       "\n",
       "    .dataframe thead th {\n",
       "        text-align: right;\n",
       "    }\n",
       "</style>\n",
       "<table border=\"1\" class=\"dataframe\">\n",
       "  <thead>\n",
       "    <tr style=\"text-align: right;\">\n",
       "      <th></th>\n",
       "      <th>Colorado</th>\n",
       "      <th>Texas</th>\n",
       "      <th>New York</th>\n",
       "      <th>Ohio</th>\n",
       "    </tr>\n",
       "  </thead>\n",
       "  <tbody>\n",
       "    <tr>\n",
       "      <th>2000-01-05</th>\n",
       "      <td>-0.249666</td>\n",
       "      <td>0.396124</td>\n",
       "      <td>1.369759</td>\n",
       "      <td>0.961405</td>\n",
       "    </tr>\n",
       "    <tr>\n",
       "      <th>2000-01-12</th>\n",
       "      <td>0.645390</td>\n",
       "      <td>-0.249375</td>\n",
       "      <td>-1.070806</td>\n",
       "      <td>1.601788</td>\n",
       "    </tr>\n",
       "    <tr>\n",
       "      <th>2000-01-19</th>\n",
       "      <td>0.039035</td>\n",
       "      <td>0.337726</td>\n",
       "      <td>-1.434774</td>\n",
       "      <td>0.265199</td>\n",
       "    </tr>\n",
       "    <tr>\n",
       "      <th>2000-01-26</th>\n",
       "      <td>0.103588</td>\n",
       "      <td>-0.163668</td>\n",
       "      <td>0.611976</td>\n",
       "      <td>1.409763</td>\n",
       "    </tr>\n",
       "    <tr>\n",
       "      <th>2000-02-02</th>\n",
       "      <td>1.277341</td>\n",
       "      <td>0.801776</td>\n",
       "      <td>-0.091427</td>\n",
       "      <td>0.251126</td>\n",
       "    </tr>\n",
       "    <tr>\n",
       "      <th>2000-02-09</th>\n",
       "      <td>0.692484</td>\n",
       "      <td>0.142783</td>\n",
       "      <td>-0.159717</td>\n",
       "      <td>-1.846478</td>\n",
       "    </tr>\n",
       "    <tr>\n",
       "      <th>2000-02-16</th>\n",
       "      <td>1.629656</td>\n",
       "      <td>-0.200355</td>\n",
       "      <td>-0.778043</td>\n",
       "      <td>-0.001977</td>\n",
       "    </tr>\n",
       "    <tr>\n",
       "      <th>2000-02-23</th>\n",
       "      <td>1.533660</td>\n",
       "      <td>2.303186</td>\n",
       "      <td>1.750536</td>\n",
       "      <td>1.013524</td>\n",
       "    </tr>\n",
       "    <tr>\n",
       "      <th>2000-03-01</th>\n",
       "      <td>0.647928</td>\n",
       "      <td>-0.110431</td>\n",
       "      <td>-0.299634</td>\n",
       "      <td>-0.056911</td>\n",
       "    </tr>\n",
       "    <tr>\n",
       "      <th>2000-03-08</th>\n",
       "      <td>-0.872634</td>\n",
       "      <td>-1.780196</td>\n",
       "      <td>-0.194423</td>\n",
       "      <td>-0.346323</td>\n",
       "    </tr>\n",
       "    <tr>\n",
       "      <th>2000-03-15</th>\n",
       "      <td>0.406345</td>\n",
       "      <td>-0.851687</td>\n",
       "      <td>-1.588798</td>\n",
       "      <td>1.068008</td>\n",
       "    </tr>\n",
       "    <tr>\n",
       "      <th>2000-03-22</th>\n",
       "      <td>0.938672</td>\n",
       "      <td>-1.123872</td>\n",
       "      <td>0.319287</td>\n",
       "      <td>1.444592</td>\n",
       "    </tr>\n",
       "    <tr>\n",
       "      <th>2000-03-29</th>\n",
       "      <td>0.751953</td>\n",
       "      <td>-1.064351</td>\n",
       "      <td>-0.423016</td>\n",
       "      <td>-1.122558</td>\n",
       "    </tr>\n",
       "    <tr>\n",
       "      <th>2000-04-05</th>\n",
       "      <td>0.066185</td>\n",
       "      <td>1.249970</td>\n",
       "      <td>0.786067</td>\n",
       "      <td>-0.528123</td>\n",
       "    </tr>\n",
       "    <tr>\n",
       "      <th>2000-04-12</th>\n",
       "      <td>1.124576</td>\n",
       "      <td>0.470536</td>\n",
       "      <td>0.087223</td>\n",
       "      <td>0.521177</td>\n",
       "    </tr>\n",
       "    <tr>\n",
       "      <th>2000-04-19</th>\n",
       "      <td>0.204569</td>\n",
       "      <td>2.398753</td>\n",
       "      <td>1.341403</td>\n",
       "      <td>-0.248002</td>\n",
       "    </tr>\n",
       "    <tr>\n",
       "      <th>2000-04-26</th>\n",
       "      <td>-0.319170</td>\n",
       "      <td>-1.130562</td>\n",
       "      <td>0.929611</td>\n",
       "      <td>-0.672537</td>\n",
       "    </tr>\n",
       "    <tr>\n",
       "      <th>2000-05-03</th>\n",
       "      <td>1.634836</td>\n",
       "      <td>0.189676</td>\n",
       "      <td>0.855776</td>\n",
       "      <td>-1.291631</td>\n",
       "    </tr>\n",
       "    <tr>\n",
       "      <th>2000-05-10</th>\n",
       "      <td>-1.427453</td>\n",
       "      <td>0.792873</td>\n",
       "      <td>0.347151</td>\n",
       "      <td>-0.784386</td>\n",
       "    </tr>\n",
       "    <tr>\n",
       "      <th>2000-05-17</th>\n",
       "      <td>0.333359</td>\n",
       "      <td>-1.058771</td>\n",
       "      <td>1.174342</td>\n",
       "      <td>-1.875182</td>\n",
       "    </tr>\n",
       "    <tr>\n",
       "      <th>2000-05-24</th>\n",
       "      <td>0.702483</td>\n",
       "      <td>-0.391716</td>\n",
       "      <td>-0.481689</td>\n",
       "      <td>1.237381</td>\n",
       "    </tr>\n",
       "    <tr>\n",
       "      <th>2000-05-31</th>\n",
       "      <td>0.345109</td>\n",
       "      <td>1.958321</td>\n",
       "      <td>-0.145717</td>\n",
       "      <td>-0.198121</td>\n",
       "    </tr>\n",
       "    <tr>\n",
       "      <th>2000-06-07</th>\n",
       "      <td>2.140988</td>\n",
       "      <td>-0.543963</td>\n",
       "      <td>-0.327861</td>\n",
       "      <td>-1.191260</td>\n",
       "    </tr>\n",
       "    <tr>\n",
       "      <th>2000-06-14</th>\n",
       "      <td>-0.794771</td>\n",
       "      <td>-2.619694</td>\n",
       "      <td>-0.296072</td>\n",
       "      <td>0.588982</td>\n",
       "    </tr>\n",
       "    <tr>\n",
       "      <th>2000-06-21</th>\n",
       "      <td>-1.448637</td>\n",
       "      <td>1.493283</td>\n",
       "      <td>0.968472</td>\n",
       "      <td>-0.413198</td>\n",
       "    </tr>\n",
       "    <tr>\n",
       "      <th>2000-06-28</th>\n",
       "      <td>1.234920</td>\n",
       "      <td>0.881723</td>\n",
       "      <td>0.462890</td>\n",
       "      <td>-0.213025</td>\n",
       "    </tr>\n",
       "    <tr>\n",
       "      <th>2000-07-05</th>\n",
       "      <td>-0.581629</td>\n",
       "      <td>-0.230055</td>\n",
       "      <td>0.659508</td>\n",
       "      <td>-2.051248</td>\n",
       "    </tr>\n",
       "    <tr>\n",
       "      <th>2000-07-12</th>\n",
       "      <td>1.030465</td>\n",
       "      <td>-1.052285</td>\n",
       "      <td>-2.357056</td>\n",
       "      <td>0.368405</td>\n",
       "    </tr>\n",
       "    <tr>\n",
       "      <th>2000-07-19</th>\n",
       "      <td>-0.465367</td>\n",
       "      <td>0.047445</td>\n",
       "      <td>-0.650521</td>\n",
       "      <td>-0.817867</td>\n",
       "    </tr>\n",
       "    <tr>\n",
       "      <th>2000-07-26</th>\n",
       "      <td>-0.131301</td>\n",
       "      <td>-0.467468</td>\n",
       "      <td>-0.332440</td>\n",
       "      <td>0.562998</td>\n",
       "    </tr>\n",
       "    <tr>\n",
       "      <th>...</th>\n",
       "      <td>...</td>\n",
       "      <td>...</td>\n",
       "      <td>...</td>\n",
       "      <td>...</td>\n",
       "    </tr>\n",
       "    <tr>\n",
       "      <th>2001-05-09</th>\n",
       "      <td>-0.233003</td>\n",
       "      <td>-0.828365</td>\n",
       "      <td>0.742135</td>\n",
       "      <td>-1.038904</td>\n",
       "    </tr>\n",
       "    <tr>\n",
       "      <th>2001-05-16</th>\n",
       "      <td>-0.758366</td>\n",
       "      <td>0.211054</td>\n",
       "      <td>0.146603</td>\n",
       "      <td>0.306062</td>\n",
       "    </tr>\n",
       "    <tr>\n",
       "      <th>2001-05-23</th>\n",
       "      <td>2.616251</td>\n",
       "      <td>-1.123561</td>\n",
       "      <td>-0.991505</td>\n",
       "      <td>-1.669372</td>\n",
       "    </tr>\n",
       "    <tr>\n",
       "      <th>2001-05-30</th>\n",
       "      <td>0.010152</td>\n",
       "      <td>0.328885</td>\n",
       "      <td>-1.922574</td>\n",
       "      <td>-1.049934</td>\n",
       "    </tr>\n",
       "    <tr>\n",
       "      <th>2001-06-06</th>\n",
       "      <td>-0.018636</td>\n",
       "      <td>2.411343</td>\n",
       "      <td>0.063941</td>\n",
       "      <td>-0.146460</td>\n",
       "    </tr>\n",
       "    <tr>\n",
       "      <th>2001-06-13</th>\n",
       "      <td>-0.350641</td>\n",
       "      <td>-0.297293</td>\n",
       "      <td>-0.906784</td>\n",
       "      <td>-0.600838</td>\n",
       "    </tr>\n",
       "    <tr>\n",
       "      <th>2001-06-20</th>\n",
       "      <td>1.246844</td>\n",
       "      <td>0.201825</td>\n",
       "      <td>1.416231</td>\n",
       "      <td>0.878203</td>\n",
       "    </tr>\n",
       "    <tr>\n",
       "      <th>2001-06-27</th>\n",
       "      <td>-0.927969</td>\n",
       "      <td>-0.366940</td>\n",
       "      <td>0.505308</td>\n",
       "      <td>-2.032021</td>\n",
       "    </tr>\n",
       "    <tr>\n",
       "      <th>2001-07-04</th>\n",
       "      <td>-1.329010</td>\n",
       "      <td>1.715736</td>\n",
       "      <td>-0.162849</td>\n",
       "      <td>0.568999</td>\n",
       "    </tr>\n",
       "    <tr>\n",
       "      <th>2001-07-11</th>\n",
       "      <td>-1.092743</td>\n",
       "      <td>-1.432155</td>\n",
       "      <td>-0.458657</td>\n",
       "      <td>2.374069</td>\n",
       "    </tr>\n",
       "    <tr>\n",
       "      <th>2001-07-18</th>\n",
       "      <td>-0.261233</td>\n",
       "      <td>2.046114</td>\n",
       "      <td>-0.787479</td>\n",
       "      <td>1.445710</td>\n",
       "    </tr>\n",
       "    <tr>\n",
       "      <th>2001-07-25</th>\n",
       "      <td>0.345167</td>\n",
       "      <td>1.096489</td>\n",
       "      <td>-1.147290</td>\n",
       "      <td>-1.521251</td>\n",
       "    </tr>\n",
       "    <tr>\n",
       "      <th>2001-08-01</th>\n",
       "      <td>-0.027440</td>\n",
       "      <td>1.510883</td>\n",
       "      <td>-0.519496</td>\n",
       "      <td>-0.117986</td>\n",
       "    </tr>\n",
       "    <tr>\n",
       "      <th>2001-08-08</th>\n",
       "      <td>-0.189542</td>\n",
       "      <td>0.301606</td>\n",
       "      <td>-0.347650</td>\n",
       "      <td>0.845754</td>\n",
       "    </tr>\n",
       "    <tr>\n",
       "      <th>2001-08-15</th>\n",
       "      <td>-1.203552</td>\n",
       "      <td>0.196797</td>\n",
       "      <td>0.884070</td>\n",
       "      <td>-0.347536</td>\n",
       "    </tr>\n",
       "    <tr>\n",
       "      <th>2001-08-22</th>\n",
       "      <td>-1.113345</td>\n",
       "      <td>0.959237</td>\n",
       "      <td>1.406523</td>\n",
       "      <td>0.012019</td>\n",
       "    </tr>\n",
       "    <tr>\n",
       "      <th>2001-08-29</th>\n",
       "      <td>-0.234936</td>\n",
       "      <td>1.267212</td>\n",
       "      <td>-0.935773</td>\n",
       "      <td>0.211570</td>\n",
       "    </tr>\n",
       "    <tr>\n",
       "      <th>2001-09-05</th>\n",
       "      <td>0.727177</td>\n",
       "      <td>-0.113192</td>\n",
       "      <td>-0.595922</td>\n",
       "      <td>0.263924</td>\n",
       "    </tr>\n",
       "    <tr>\n",
       "      <th>2001-09-12</th>\n",
       "      <td>-1.820092</td>\n",
       "      <td>-0.474031</td>\n",
       "      <td>-1.538488</td>\n",
       "      <td>1.466516</td>\n",
       "    </tr>\n",
       "    <tr>\n",
       "      <th>2001-09-19</th>\n",
       "      <td>1.007331</td>\n",
       "      <td>0.229638</td>\n",
       "      <td>-0.519203</td>\n",
       "      <td>0.315482</td>\n",
       "    </tr>\n",
       "    <tr>\n",
       "      <th>2001-09-26</th>\n",
       "      <td>-2.464285</td>\n",
       "      <td>-0.199915</td>\n",
       "      <td>-2.507029</td>\n",
       "      <td>-0.256969</td>\n",
       "    </tr>\n",
       "    <tr>\n",
       "      <th>2001-10-03</th>\n",
       "      <td>-1.685015</td>\n",
       "      <td>-0.980319</td>\n",
       "      <td>-0.792941</td>\n",
       "      <td>0.165021</td>\n",
       "    </tr>\n",
       "    <tr>\n",
       "      <th>2001-10-10</th>\n",
       "      <td>-2.172679</td>\n",
       "      <td>-0.859984</td>\n",
       "      <td>-1.591934</td>\n",
       "      <td>-0.060922</td>\n",
       "    </tr>\n",
       "    <tr>\n",
       "      <th>2001-10-17</th>\n",
       "      <td>-0.715038</td>\n",
       "      <td>-0.013916</td>\n",
       "      <td>-0.697129</td>\n",
       "      <td>1.286898</td>\n",
       "    </tr>\n",
       "    <tr>\n",
       "      <th>2001-10-24</th>\n",
       "      <td>-0.918567</td>\n",
       "      <td>0.072932</td>\n",
       "      <td>0.193277</td>\n",
       "      <td>-0.187324</td>\n",
       "    </tr>\n",
       "    <tr>\n",
       "      <th>2001-10-31</th>\n",
       "      <td>0.723863</td>\n",
       "      <td>1.391574</td>\n",
       "      <td>-0.603794</td>\n",
       "      <td>-0.944327</td>\n",
       "    </tr>\n",
       "    <tr>\n",
       "      <th>2001-11-07</th>\n",
       "      <td>1.152144</td>\n",
       "      <td>0.495371</td>\n",
       "      <td>-0.252068</td>\n",
       "      <td>0.887901</td>\n",
       "    </tr>\n",
       "    <tr>\n",
       "      <th>2001-11-14</th>\n",
       "      <td>-0.148797</td>\n",
       "      <td>1.643260</td>\n",
       "      <td>-0.547778</td>\n",
       "      <td>1.159105</td>\n",
       "    </tr>\n",
       "    <tr>\n",
       "      <th>2001-11-21</th>\n",
       "      <td>-0.237574</td>\n",
       "      <td>1.504357</td>\n",
       "      <td>0.116834</td>\n",
       "      <td>-0.267358</td>\n",
       "    </tr>\n",
       "    <tr>\n",
       "      <th>2001-11-28</th>\n",
       "      <td>-1.323973</td>\n",
       "      <td>-1.351483</td>\n",
       "      <td>-1.166297</td>\n",
       "      <td>-0.883411</td>\n",
       "    </tr>\n",
       "  </tbody>\n",
       "</table>\n",
       "<p>100 rows × 4 columns</p>\n",
       "</div>"
      ],
      "text/plain": [
       "            Colorado     Texas  New York      Ohio\n",
       "2000-01-05 -0.249666  0.396124  1.369759  0.961405\n",
       "2000-01-12  0.645390 -0.249375 -1.070806  1.601788\n",
       "2000-01-19  0.039035  0.337726 -1.434774  0.265199\n",
       "2000-01-26  0.103588 -0.163668  0.611976  1.409763\n",
       "2000-02-02  1.277341  0.801776 -0.091427  0.251126\n",
       "2000-02-09  0.692484  0.142783 -0.159717 -1.846478\n",
       "2000-02-16  1.629656 -0.200355 -0.778043 -0.001977\n",
       "2000-02-23  1.533660  2.303186  1.750536  1.013524\n",
       "2000-03-01  0.647928 -0.110431 -0.299634 -0.056911\n",
       "2000-03-08 -0.872634 -1.780196 -0.194423 -0.346323\n",
       "2000-03-15  0.406345 -0.851687 -1.588798  1.068008\n",
       "2000-03-22  0.938672 -1.123872  0.319287  1.444592\n",
       "2000-03-29  0.751953 -1.064351 -0.423016 -1.122558\n",
       "2000-04-05  0.066185  1.249970  0.786067 -0.528123\n",
       "2000-04-12  1.124576  0.470536  0.087223  0.521177\n",
       "2000-04-19  0.204569  2.398753  1.341403 -0.248002\n",
       "2000-04-26 -0.319170 -1.130562  0.929611 -0.672537\n",
       "2000-05-03  1.634836  0.189676  0.855776 -1.291631\n",
       "2000-05-10 -1.427453  0.792873  0.347151 -0.784386\n",
       "2000-05-17  0.333359 -1.058771  1.174342 -1.875182\n",
       "2000-05-24  0.702483 -0.391716 -0.481689  1.237381\n",
       "2000-05-31  0.345109  1.958321 -0.145717 -0.198121\n",
       "2000-06-07  2.140988 -0.543963 -0.327861 -1.191260\n",
       "2000-06-14 -0.794771 -2.619694 -0.296072  0.588982\n",
       "2000-06-21 -1.448637  1.493283  0.968472 -0.413198\n",
       "2000-06-28  1.234920  0.881723  0.462890 -0.213025\n",
       "2000-07-05 -0.581629 -0.230055  0.659508 -2.051248\n",
       "2000-07-12  1.030465 -1.052285 -2.357056  0.368405\n",
       "2000-07-19 -0.465367  0.047445 -0.650521 -0.817867\n",
       "2000-07-26 -0.131301 -0.467468 -0.332440  0.562998\n",
       "...              ...       ...       ...       ...\n",
       "2001-05-09 -0.233003 -0.828365  0.742135 -1.038904\n",
       "2001-05-16 -0.758366  0.211054  0.146603  0.306062\n",
       "2001-05-23  2.616251 -1.123561 -0.991505 -1.669372\n",
       "2001-05-30  0.010152  0.328885 -1.922574 -1.049934\n",
       "2001-06-06 -0.018636  2.411343  0.063941 -0.146460\n",
       "2001-06-13 -0.350641 -0.297293 -0.906784 -0.600838\n",
       "2001-06-20  1.246844  0.201825  1.416231  0.878203\n",
       "2001-06-27 -0.927969 -0.366940  0.505308 -2.032021\n",
       "2001-07-04 -1.329010  1.715736 -0.162849  0.568999\n",
       "2001-07-11 -1.092743 -1.432155 -0.458657  2.374069\n",
       "2001-07-18 -0.261233  2.046114 -0.787479  1.445710\n",
       "2001-07-25  0.345167  1.096489 -1.147290 -1.521251\n",
       "2001-08-01 -0.027440  1.510883 -0.519496 -0.117986\n",
       "2001-08-08 -0.189542  0.301606 -0.347650  0.845754\n",
       "2001-08-15 -1.203552  0.196797  0.884070 -0.347536\n",
       "2001-08-22 -1.113345  0.959237  1.406523  0.012019\n",
       "2001-08-29 -0.234936  1.267212 -0.935773  0.211570\n",
       "2001-09-05  0.727177 -0.113192 -0.595922  0.263924\n",
       "2001-09-12 -1.820092 -0.474031 -1.538488  1.466516\n",
       "2001-09-19  1.007331  0.229638 -0.519203  0.315482\n",
       "2001-09-26 -2.464285 -0.199915 -2.507029 -0.256969\n",
       "2001-10-03 -1.685015 -0.980319 -0.792941  0.165021\n",
       "2001-10-10 -2.172679 -0.859984 -1.591934 -0.060922\n",
       "2001-10-17 -0.715038 -0.013916 -0.697129  1.286898\n",
       "2001-10-24 -0.918567  0.072932  0.193277 -0.187324\n",
       "2001-10-31  0.723863  1.391574 -0.603794 -0.944327\n",
       "2001-11-07  1.152144  0.495371 -0.252068  0.887901\n",
       "2001-11-14 -0.148797  1.643260 -0.547778  1.159105\n",
       "2001-11-21 -0.237574  1.504357  0.116834 -0.267358\n",
       "2001-11-28 -1.323973 -1.351483 -1.166297 -0.883411\n",
       "\n",
       "[100 rows x 4 columns]"
      ]
     },
     "execution_count": 88,
     "metadata": {},
     "output_type": "execute_result"
    }
   ],
   "source": [
    "dates = pd.date_range('1/1/2000', periods=100, freq='W-WED')\n",
    "\n",
    "long_df = pd.DataFrame(np.random.randn(100, 4),\n",
    "                    index=dates,\n",
    "                    columns=['Colorado', 'Texas', 'New York', 'Ohio'])\n",
    "long_df"
   ]
  },
  {
   "cell_type": "markdown",
   "metadata": {},
   "source": [
    "### Date Ranges, Frequencies, and Shifting"
   ]
  },
  {
   "cell_type": "code",
   "execution_count": 98,
   "metadata": {},
   "outputs": [
    {
     "data": {
      "text/plain": [
       "2011-01-02    2.006443\n",
       "2011-01-05   -0.929721\n",
       "2011-01-07   -0.569228\n",
       "2011-01-08   -0.057928\n",
       "2011-01-10    0.092588\n",
       "2011-01-12    0.183275\n",
       "dtype: float64"
      ]
     },
     "execution_count": 98,
     "metadata": {},
     "output_type": "execute_result"
    }
   ],
   "source": [
    "dates = [datetime(2011, 1, 2), datetime(2011, 1, 5), datetime(2011, 1, 7),\n",
    "                  datetime(2011, 1, 8), datetime(2011, 1, 10), datetime(2011, 1, 12)]\n",
    "\n",
    "ts = pd.Series(np.random.randn(6), index=dates)\n",
    "ts"
   ]
  },
  {
   "cell_type": "markdown",
   "metadata": {},
   "source": [
    "### Generating Date Ranges"
   ]
  },
  {
   "cell_type": "code",
   "execution_count": 104,
   "metadata": {},
   "outputs": [
    {
     "data": {
      "text/plain": [
       "DatetimeIndex(['2012-04-01', '2012-04-02', '2012-04-03', '2012-04-04',\n",
       "               '2012-04-05', '2012-04-06', '2012-04-07', '2012-04-08',\n",
       "               '2012-04-09', '2012-04-10', '2012-04-11', '2012-04-12',\n",
       "               '2012-04-13', '2012-04-14', '2012-04-15', '2012-04-16',\n",
       "               '2012-04-17', '2012-04-18', '2012-04-19', '2012-04-20',\n",
       "               '2012-04-21', '2012-04-22', '2012-04-23', '2012-04-24',\n",
       "               '2012-04-25', '2012-04-26', '2012-04-27', '2012-04-28',\n",
       "               '2012-04-29', '2012-04-30', '2012-05-01', '2012-05-02',\n",
       "               '2012-05-03', '2012-05-04', '2012-05-05', '2012-05-06',\n",
       "               '2012-05-07', '2012-05-08', '2012-05-09', '2012-05-10',\n",
       "               '2012-05-11', '2012-05-12', '2012-05-13', '2012-05-14',\n",
       "               '2012-05-15', '2012-05-16', '2012-05-17', '2012-05-18',\n",
       "               '2012-05-19', '2012-05-20', '2012-05-21', '2012-05-22',\n",
       "               '2012-05-23', '2012-05-24', '2012-05-25', '2012-05-26',\n",
       "               '2012-05-27', '2012-05-28', '2012-05-29', '2012-05-30',\n",
       "               '2012-05-31', '2012-06-01'],\n",
       "              dtype='datetime64[ns]', freq='D')"
      ]
     },
     "execution_count": 104,
     "metadata": {},
     "output_type": "execute_result"
    }
   ],
   "source": [
    "index = pd.date_range('4/1/2012', '6/1/2012')\n",
    "index"
   ]
  },
  {
   "cell_type": "code",
   "execution_count": 105,
   "metadata": {},
   "outputs": [
    {
     "data": {
      "text/plain": [
       "DatetimeIndex(['2012-04-01', '2012-04-02', '2012-04-03', '2012-04-04',\n",
       "               '2012-04-05', '2012-04-06', '2012-04-07', '2012-04-08',\n",
       "               '2012-04-09', '2012-04-10', '2012-04-11', '2012-04-12',\n",
       "               '2012-04-13', '2012-04-14', '2012-04-15', '2012-04-16',\n",
       "               '2012-04-17', '2012-04-18', '2012-04-19', '2012-04-20'],\n",
       "              dtype='datetime64[ns]', freq='D')"
      ]
     },
     "execution_count": 105,
     "metadata": {},
     "output_type": "execute_result"
    }
   ],
   "source": [
    "pd.date_range(start='4/1/2012', periods=20)"
   ]
  },
  {
   "cell_type": "code",
   "execution_count": 106,
   "metadata": {},
   "outputs": [
    {
     "data": {
      "text/plain": [
       "DatetimeIndex(['2012-05-13', '2012-05-14', '2012-05-15', '2012-05-16',\n",
       "               '2012-05-17', '2012-05-18', '2012-05-19', '2012-05-20',\n",
       "               '2012-05-21', '2012-05-22', '2012-05-23', '2012-05-24',\n",
       "               '2012-05-25', '2012-05-26', '2012-05-27', '2012-05-28',\n",
       "               '2012-05-29', '2012-05-30', '2012-05-31', '2012-06-01'],\n",
       "              dtype='datetime64[ns]', freq='D')"
      ]
     },
     "execution_count": 106,
     "metadata": {},
     "output_type": "execute_result"
    }
   ],
   "source": [
    "pd.date_range(end='6/1/2012', periods=20)"
   ]
  },
  {
   "cell_type": "code",
   "execution_count": 107,
   "metadata": {},
   "outputs": [
    {
     "data": {
      "text/plain": [
       "DatetimeIndex(['2000-01-31', '2000-02-29', '2000-03-31', '2000-04-28',\n",
       "               '2000-05-31', '2000-06-30', '2000-07-31', '2000-08-31',\n",
       "               '2000-09-29', '2000-10-31', '2000-11-30'],\n",
       "              dtype='datetime64[ns]', freq='BM')"
      ]
     },
     "execution_count": 107,
     "metadata": {},
     "output_type": "execute_result"
    }
   ],
   "source": [
    "pd.date_range('1/1/2000', '12/1/2000', freq='BM')"
   ]
  },
  {
   "cell_type": "code",
   "execution_count": 108,
   "metadata": {},
   "outputs": [
    {
     "data": {
      "text/plain": [
       "DatetimeIndex(['2000-01-01', '2000-01-02', '2000-01-03', '2000-01-04',\n",
       "               '2000-01-05', '2000-01-06', '2000-01-07', '2000-01-08',\n",
       "               '2000-01-09', '2000-01-10', '2000-01-11', '2000-01-12',\n",
       "               '2000-01-13', '2000-01-14', '2000-01-15', '2000-01-16',\n",
       "               '2000-01-17', '2000-01-18', '2000-01-19', '2000-01-20',\n",
       "               '2000-01-21', '2000-01-22', '2000-01-23', '2000-01-24',\n",
       "               '2000-01-25', '2000-01-26', '2000-01-27', '2000-01-28',\n",
       "               '2000-01-29', '2000-01-30', '2000-01-31', '2000-02-01',\n",
       "               '2000-02-02', '2000-02-03', '2000-02-04', '2000-02-05',\n",
       "               '2000-02-06', '2000-02-07', '2000-02-08', '2000-02-09',\n",
       "               '2000-02-10', '2000-02-11', '2000-02-12', '2000-02-13',\n",
       "               '2000-02-14', '2000-02-15', '2000-02-16', '2000-02-17',\n",
       "               '2000-02-18', '2000-02-19', '2000-02-20', '2000-02-21',\n",
       "               '2000-02-22', '2000-02-23', '2000-02-24', '2000-02-25',\n",
       "               '2000-02-26', '2000-02-27', '2000-02-28', '2000-02-29',\n",
       "               '2000-03-01', '2000-03-02', '2000-03-03', '2000-03-04',\n",
       "               '2000-03-05', '2000-03-06', '2000-03-07', '2000-03-08',\n",
       "               '2000-03-09', '2000-03-10', '2000-03-11', '2000-03-12',\n",
       "               '2000-03-13', '2000-03-14', '2000-03-15', '2000-03-16',\n",
       "               '2000-03-17', '2000-03-18', '2000-03-19', '2000-03-20',\n",
       "               '2000-03-21', '2000-03-22', '2000-03-23', '2000-03-24',\n",
       "               '2000-03-25', '2000-03-26', '2000-03-27', '2000-03-28',\n",
       "               '2000-03-29', '2000-03-30', '2000-03-31', '2000-04-01',\n",
       "               '2000-04-02', '2000-04-03', '2000-04-04', '2000-04-05',\n",
       "               '2000-04-06', '2000-04-07', '2000-04-08', '2000-04-09'],\n",
       "              dtype='datetime64[ns]', freq='D')"
      ]
     },
     "execution_count": 108,
     "metadata": {},
     "output_type": "execute_result"
    }
   ],
   "source": [
    "rng = pd.date_range('1/1/2000', periods=100, freq='D')\n",
    "rng"
   ]
  },
  {
   "cell_type": "code",
   "execution_count": 110,
   "metadata": {},
   "outputs": [
    {
     "data": {
      "text/plain": [
       "DatetimeIndex(['2000-01-31', '2000-02-29', '2000-03-31', '2000-04-30',\n",
       "               '2000-05-31', '2000-06-30', '2000-07-31', '2000-08-31',\n",
       "               '2000-09-30', '2000-10-31', '2000-11-30', '2000-12-31',\n",
       "               '2001-01-31', '2001-02-28', '2001-03-31', '2001-04-30',\n",
       "               '2001-05-31', '2001-06-30', '2001-07-31', '2001-08-31',\n",
       "               '2001-09-30', '2001-10-31', '2001-11-30', '2001-12-31',\n",
       "               '2002-01-31', '2002-02-28', '2002-03-31', '2002-04-30',\n",
       "               '2002-05-31', '2002-06-30', '2002-07-31', '2002-08-31',\n",
       "               '2002-09-30', '2002-10-31', '2002-11-30', '2002-12-31'],\n",
       "              dtype='datetime64[ns]', freq='M')"
      ]
     },
     "execution_count": 110,
     "metadata": {},
     "output_type": "execute_result"
    }
   ],
   "source": [
    "rng = pd.date_range('1/1/2000', periods=36, freq='M')\n",
    "rng"
   ]
  },
  {
   "cell_type": "code",
   "execution_count": null,
   "metadata": {},
   "outputs": [],
   "source": []
  }
 ],
 "metadata": {
  "kernelspec": {
   "display_name": "Python 3",
   "language": "python",
   "name": "python3"
  },
  "language_info": {
   "codemirror_mode": {
    "name": "ipython",
    "version": 3
   },
   "file_extension": ".py",
   "mimetype": "text/x-python",
   "name": "python",
   "nbconvert_exporter": "python",
   "pygments_lexer": "ipython3",
   "version": "3.7.3"
  }
 },
 "nbformat": 4,
 "nbformat_minor": 2
}
