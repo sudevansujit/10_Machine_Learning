{
 "cells": [
  {
   "cell_type": "code",
   "execution_count": 9,
   "metadata": {},
   "outputs": [],
   "source": [
    "import pandas as pd\n",
    "import numpy as np"
   ]
  },
  {
   "cell_type": "code",
   "execution_count": 21,
   "metadata": {},
   "outputs": [
    {
     "data": {
      "text/html": [
       "<div>\n",
       "<style scoped>\n",
       "    .dataframe tbody tr th:only-of-type {\n",
       "        vertical-align: middle;\n",
       "    }\n",
       "\n",
       "    .dataframe tbody tr th {\n",
       "        vertical-align: top;\n",
       "    }\n",
       "\n",
       "    .dataframe thead th {\n",
       "        text-align: right;\n",
       "    }\n",
       "</style>\n",
       "<table border=\"1\" class=\"dataframe\">\n",
       "  <thead>\n",
       "    <tr style=\"text-align: right;\">\n",
       "      <th></th>\n",
       "      <th>account number</th>\n",
       "      <th>name</th>\n",
       "      <th>sku</th>\n",
       "      <th>quantity</th>\n",
       "      <th>unit price</th>\n",
       "      <th>ext price</th>\n",
       "      <th>date</th>\n",
       "    </tr>\n",
       "  </thead>\n",
       "  <tbody>\n",
       "    <tr>\n",
       "      <th>0</th>\n",
       "      <td>740150</td>\n",
       "      <td>Barton LLC</td>\n",
       "      <td>B1-20000</td>\n",
       "      <td>39</td>\n",
       "      <td>86.69</td>\n",
       "      <td>3380.91</td>\n",
       "      <td>2014-01-01 07:21:51</td>\n",
       "    </tr>\n",
       "    <tr>\n",
       "      <th>1</th>\n",
       "      <td>714466</td>\n",
       "      <td>Trantow-Barrows</td>\n",
       "      <td>S2-77896</td>\n",
       "      <td>-1</td>\n",
       "      <td>63.16</td>\n",
       "      <td>-63.16</td>\n",
       "      <td>2014-01-01 10:00:47</td>\n",
       "    </tr>\n",
       "    <tr>\n",
       "      <th>2</th>\n",
       "      <td>218895</td>\n",
       "      <td>Kulas Inc</td>\n",
       "      <td>B1-69924</td>\n",
       "      <td>23</td>\n",
       "      <td>90.70</td>\n",
       "      <td>2086.10</td>\n",
       "      <td>2014-01-01 13:24:58</td>\n",
       "    </tr>\n",
       "    <tr>\n",
       "      <th>3</th>\n",
       "      <td>307599</td>\n",
       "      <td>Kassulke, Ondricka and Metz</td>\n",
       "      <td>S1-65481</td>\n",
       "      <td>41</td>\n",
       "      <td>21.05</td>\n",
       "      <td>863.05</td>\n",
       "      <td>2014-01-01 15:05:22</td>\n",
       "    </tr>\n",
       "    <tr>\n",
       "      <th>4</th>\n",
       "      <td>412290</td>\n",
       "      <td>Jerde-Hilpert</td>\n",
       "      <td>S2-34077</td>\n",
       "      <td>6</td>\n",
       "      <td>83.21</td>\n",
       "      <td>499.26</td>\n",
       "      <td>2014-01-01 23:26:55</td>\n",
       "    </tr>\n",
       "  </tbody>\n",
       "</table>\n",
       "</div>"
      ],
      "text/plain": [
       "   account number                         name       sku  quantity  \\\n",
       "0          740150                   Barton LLC  B1-20000        39   \n",
       "1          714466              Trantow-Barrows  S2-77896        -1   \n",
       "2          218895                    Kulas Inc  B1-69924        23   \n",
       "3          307599  Kassulke, Ondricka and Metz  S1-65481        41   \n",
       "4          412290                Jerde-Hilpert  S2-34077         6   \n",
       "\n",
       "   unit price  ext price                 date  \n",
       "0       86.69    3380.91  2014-01-01 07:21:51  \n",
       "1       63.16     -63.16  2014-01-01 10:00:47  \n",
       "2       90.70    2086.10  2014-01-01 13:24:58  \n",
       "3       21.05     863.05  2014-01-01 15:05:22  \n",
       "4       83.21     499.26  2014-01-01 23:26:55  "
      ]
     },
     "execution_count": 21,
     "metadata": {},
     "output_type": "execute_result"
    }
   ],
   "source": [
    "data = pd.read_excel(\"Data/sample-salesv3.xlsx\")\n",
    "data.head()"
   ]
  },
  {
   "cell_type": "code",
   "execution_count": 22,
   "metadata": {},
   "outputs": [
    {
     "data": {
      "text/plain": [
       "(1500, 7)"
      ]
     },
     "execution_count": 22,
     "metadata": {},
     "output_type": "execute_result"
    }
   ],
   "source": [
    "data.shape"
   ]
  },
  {
   "cell_type": "code",
   "execution_count": 24,
   "metadata": {},
   "outputs": [
    {
     "data": {
      "text/plain": [
       "object     3\n",
       "int64      2\n",
       "float64    2\n",
       "dtype: int64"
      ]
     },
     "execution_count": 24,
     "metadata": {},
     "output_type": "execute_result"
    }
   ],
   "source": [
    "data.dtypes.value_counts()"
   ]
  },
  {
   "cell_type": "code",
   "execution_count": 25,
   "metadata": {},
   "outputs": [
    {
     "name": "stdout",
     "output_type": "stream",
     "text": [
      "<class 'pandas.core.frame.DataFrame'>\n",
      "RangeIndex: 1500 entries, 0 to 1499\n",
      "Data columns (total 7 columns):\n",
      " #   Column          Non-Null Count  Dtype  \n",
      "---  ------          --------------  -----  \n",
      " 0   account number  1500 non-null   int64  \n",
      " 1   name            1500 non-null   object \n",
      " 2   sku             1500 non-null   object \n",
      " 3   quantity        1500 non-null   int64  \n",
      " 4   unit price      1500 non-null   float64\n",
      " 5   ext price       1500 non-null   float64\n",
      " 6   date            1500 non-null   object \n",
      "dtypes: float64(2), int64(2), object(3)\n",
      "memory usage: 82.2+ KB\n"
     ]
    }
   ],
   "source": [
    "data.info()\n"
   ]
  },
  {
   "cell_type": "code",
   "execution_count": 29,
   "metadata": {},
   "outputs": [
    {
     "data": {
      "text/html": [
       "<div>\n",
       "<style scoped>\n",
       "    .dataframe tbody tr th:only-of-type {\n",
       "        vertical-align: middle;\n",
       "    }\n",
       "\n",
       "    .dataframe tbody tr th {\n",
       "        vertical-align: top;\n",
       "    }\n",
       "\n",
       "    .dataframe thead th {\n",
       "        text-align: right;\n",
       "    }\n",
       "</style>\n",
       "<table border=\"1\" class=\"dataframe\">\n",
       "  <thead>\n",
       "    <tr style=\"text-align: right;\">\n",
       "      <th></th>\n",
       "      <th>count</th>\n",
       "      <th>mean</th>\n",
       "      <th>std</th>\n",
       "      <th>min</th>\n",
       "      <th>25%</th>\n",
       "      <th>50%</th>\n",
       "      <th>75%</th>\n",
       "      <th>max</th>\n",
       "    </tr>\n",
       "  </thead>\n",
       "  <tbody>\n",
       "    <tr>\n",
       "      <th>account number</th>\n",
       "      <td>1500.0</td>\n",
       "      <td>485957.841333</td>\n",
       "      <td>223974.044572</td>\n",
       "      <td>141962.00</td>\n",
       "      <td>257198.0000</td>\n",
       "      <td>527099.000</td>\n",
       "      <td>714466.000</td>\n",
       "      <td>786968.00</td>\n",
       "    </tr>\n",
       "    <tr>\n",
       "      <th>quantity</th>\n",
       "      <td>1500.0</td>\n",
       "      <td>24.308667</td>\n",
       "      <td>14.439265</td>\n",
       "      <td>-1.00</td>\n",
       "      <td>12.0000</td>\n",
       "      <td>25.000</td>\n",
       "      <td>37.000</td>\n",
       "      <td>49.00</td>\n",
       "    </tr>\n",
       "    <tr>\n",
       "      <th>unit price</th>\n",
       "      <td>1500.0</td>\n",
       "      <td>55.007527</td>\n",
       "      <td>25.903267</td>\n",
       "      <td>10.03</td>\n",
       "      <td>32.5000</td>\n",
       "      <td>55.465</td>\n",
       "      <td>77.075</td>\n",
       "      <td>99.85</td>\n",
       "    </tr>\n",
       "    <tr>\n",
       "      <th>ext price</th>\n",
       "      <td>1500.0</td>\n",
       "      <td>1345.856213</td>\n",
       "      <td>1084.914881</td>\n",
       "      <td>-97.16</td>\n",
       "      <td>472.1775</td>\n",
       "      <td>1050.390</td>\n",
       "      <td>2068.330</td>\n",
       "      <td>4824.54</td>\n",
       "    </tr>\n",
       "  </tbody>\n",
       "</table>\n",
       "</div>"
      ],
      "text/plain": [
       "                 count           mean            std        min          25%  \\\n",
       "account number  1500.0  485957.841333  223974.044572  141962.00  257198.0000   \n",
       "quantity        1500.0      24.308667      14.439265      -1.00      12.0000   \n",
       "unit price      1500.0      55.007527      25.903267      10.03      32.5000   \n",
       "ext price       1500.0    1345.856213    1084.914881     -97.16     472.1775   \n",
       "\n",
       "                       50%         75%        max  \n",
       "account number  527099.000  714466.000  786968.00  \n",
       "quantity            25.000      37.000      49.00  \n",
       "unit price          55.465      77.075      99.85  \n",
       "ext price         1050.390    2068.330    4824.54  "
      ]
     },
     "execution_count": 29,
     "metadata": {},
     "output_type": "execute_result"
    }
   ],
   "source": [
    "data.describe().T"
   ]
  },
  {
   "cell_type": "code",
   "execution_count": 30,
   "metadata": {},
   "outputs": [
    {
     "name": "stdout",
     "output_type": "stream",
     "text": [
      "218895    94\n",
      "714466    94\n",
      "412290    89\n",
      "424914    86\n",
      "740150    82\n",
      "729833    82\n",
      "737550    81\n",
      "146832    79\n",
      "383080    74\n",
      "688981    74\n",
      "642753    73\n",
      "672390    73\n",
      "239344    72\n",
      "786968    72\n",
      "527099    71\n",
      "257198    67\n",
      "307599    64\n",
      "141962    62\n",
      "604255    58\n",
      "163416    53\n",
      "Name: account number, dtype: int64\n",
      "**********************************************************************\n",
      "Kulas Inc                          94\n",
      "Trantow-Barrows                    94\n",
      "Jerde-Hilpert                      89\n",
      "White-Trantow                      86\n",
      "Barton LLC                         82\n",
      "Koepp Ltd                          82\n",
      "Fritsch, Russel and Anderson       81\n",
      "Kiehn-Spinka                       79\n",
      "Will LLC                           74\n",
      "Keeling LLC                        74\n",
      "Pollich LLC                        73\n",
      "Kuhn-Gusikowski                    73\n",
      "Frami, Hills and Schmidt           72\n",
      "Stokes LLC                         72\n",
      "Sanford and Sons                   71\n",
      "Cronin, Oberbrunner and Spencer    67\n",
      "Kassulke, Ondricka and Metz        64\n",
      "Herman LLC                         62\n",
      "Halvorson, Crona and Champlin      58\n",
      "Purdy-Kunde                        53\n",
      "Name: name, dtype: int64\n",
      "**********************************************************************\n",
      "S2-77896    73\n",
      "S1-82801    60\n",
      "S2-10342    59\n",
      "S1-47412    58\n",
      "S1-93683    57\n",
      "B1-38851    56\n",
      "S2-82423    56\n",
      "S1-50961    55\n",
      "S1-30248    55\n",
      "B1-20000    53\n",
      "S1-06532    53\n",
      "S1-27722    53\n",
      "B1-53636    53\n",
      "S2-34077    51\n",
      "S2-83881    51\n",
      "B1-53102    49\n",
      "B1-05914    49\n",
      "B1-33364    49\n",
      "S2-16558    49\n",
      "B1-04202    48\n",
      "B1-65551    47\n",
      "S2-78676    46\n",
      "B1-69924    44\n",
      "S2-11481    44\n",
      "B1-33087    44\n",
      "S2-23246    41\n",
      "S2-00301    39\n",
      "B1-50809    39\n",
      "B1-86481    35\n",
      "S1-65481    34\n",
      "Name: sku, dtype: int64\n",
      "**********************************************************************\n",
      " 12    47\n",
      " 6     43\n",
      " 30    43\n",
      " 9     39\n",
      " 13    36\n",
      " 46    36\n",
      " 28    36\n",
      " 10    36\n",
      " 45    35\n",
      " 33    34\n",
      " 44    34\n",
      " 25    33\n",
      " 38    33\n",
      " 35    33\n",
      " 34    33\n",
      " 27    32\n",
      " 3     32\n",
      " 22    32\n",
      " 37    32\n",
      " 23    32\n",
      " 41    31\n",
      " 2     31\n",
      " 43    31\n",
      " 4     30\n",
      " 39    30\n",
      " 19    30\n",
      " 1     30\n",
      " 32    29\n",
      " 26    29\n",
      " 40    29\n",
      " 8     28\n",
      " 20    28\n",
      " 15    28\n",
      "-1     28\n",
      " 24    27\n",
      " 31    27\n",
      " 5     26\n",
      " 49    26\n",
      " 14    25\n",
      " 11    25\n",
      " 18    24\n",
      " 21    24\n",
      " 47    24\n",
      " 17    23\n",
      " 48    23\n",
      " 42    23\n",
      " 16    21\n",
      " 29    21\n",
      " 7     19\n",
      " 36    19\n",
      "Name: quantity, dtype: int64\n",
      "**********************************************************************\n",
      "22.55    3\n",
      "22.03    3\n",
      "77.06    3\n",
      "13.68    2\n",
      "79.02    2\n",
      "        ..\n",
      "68.68    1\n",
      "25.66    1\n",
      "52.49    1\n",
      "79.64    1\n",
      "33.25    1\n",
      "Name: unit price, Length: 1392, dtype: int64\n",
      "**********************************************************************\n",
      "770.40     2\n",
      "605.52     2\n",
      "2044.70    2\n",
      "51.96      2\n",
      "1814.40    2\n",
      "          ..\n",
      "660.96     1\n",
      "468.48     1\n",
      "149.04     1\n",
      "1834.98    1\n",
      "266.00     1\n",
      "Name: ext price, Length: 1491, dtype: int64\n",
      "**********************************************************************\n",
      "2014-10-22 02:58:20    1\n",
      "2014-08-26 07:19:31    1\n",
      "2014-02-16 04:51:11    1\n",
      "2014-08-25 23:43:17    1\n",
      "2014-09-10 14:23:28    1\n",
      "                      ..\n",
      "2014-02-12 13:17:28    1\n",
      "2014-09-23 12:06:27    1\n",
      "2014-11-06 15:28:29    1\n",
      "2014-01-01 13:24:58    1\n",
      "2014-05-06 16:35:28    1\n",
      "Name: date, Length: 1500, dtype: int64\n",
      "**********************************************************************\n"
     ]
    }
   ],
   "source": [
    "for i in data.columns:\n",
    "    print(data[i].value_counts())\n",
    "    print(\"*\"*70)"
   ]
  },
  {
   "cell_type": "markdown",
   "metadata": {},
   "source": [
    "### Summarizing all of the sales by month"
   ]
  },
  {
   "cell_type": "code",
   "execution_count": 31,
   "metadata": {},
   "outputs": [
    {
     "name": "stdout",
     "output_type": "stream",
     "text": [
      "<class 'pandas.core.frame.DataFrame'>\n",
      "RangeIndex: 1500 entries, 0 to 1499\n",
      "Data columns (total 7 columns):\n",
      " #   Column          Non-Null Count  Dtype         \n",
      "---  ------          --------------  -----         \n",
      " 0   account number  1500 non-null   int64         \n",
      " 1   name            1500 non-null   object        \n",
      " 2   sku             1500 non-null   object        \n",
      " 3   quantity        1500 non-null   int64         \n",
      " 4   unit price      1500 non-null   float64       \n",
      " 5   ext price       1500 non-null   float64       \n",
      " 6   date            1500 non-null   datetime64[ns]\n",
      "dtypes: datetime64[ns](1), float64(2), int64(2), object(2)\n",
      "memory usage: 82.2+ KB\n"
     ]
    }
   ],
   "source": [
    "data['date'] = pd.to_datetime(data['date'])\n",
    "data.info()"
   ]
  },
  {
   "cell_type": "code",
   "execution_count": 38,
   "metadata": {},
   "outputs": [
    {
     "data": {
      "text/plain": [
       "date\n",
       "1     185361.66\n",
       "2     146211.62\n",
       "3     203921.38\n",
       "4     174574.11\n",
       "5     165418.55\n",
       "6     174089.33\n",
       "7     191662.11\n",
       "8     153778.59\n",
       "9     168443.17\n",
       "10    171495.32\n",
       "11    119961.22\n",
       "12    163867.26\n",
       "Name: ext price, dtype: float64"
      ]
     },
     "execution_count": 38,
     "metadata": {},
     "output_type": "execute_result"
    }
   ],
   "source": [
    "data.groupby(data['date'].dt.month)[\"ext price\"].sum()\n"
   ]
  },
  {
   "cell_type": "markdown",
   "metadata": {},
   "source": [
    "### Groupby name"
   ]
  },
  {
   "cell_type": "markdown",
   "metadata": {},
   "source": [
    "`Summarizing all of the sales by month, you could use the resample function. The tricky part about using resample is that it only operates on an index. In this data set, the data is not indexed by the date column so resample would not work without restructuring the data. In order to make it work, use set_index to make the date column an index and then resample:`"
   ]
  },
  {
   "cell_type": "code",
   "execution_count": 44,
   "metadata": {},
   "outputs": [
    {
     "data": {
      "text/plain": [
       "name        date      \n",
       "Barton LLC  2014-01-31     6177.57\n",
       "            2014-02-28    12218.03\n",
       "            2014-03-31     3513.53\n",
       "            2014-04-30    11474.20\n",
       "            2014-05-31    10220.17\n",
       "                            ...   \n",
       "Will LLC    2014-08-31     1439.82\n",
       "            2014-09-30     4345.99\n",
       "            2014-10-31     7085.33\n",
       "            2014-11-30     3210.44\n",
       "            2014-12-31    12561.21\n",
       "Name: ext price, Length: 240, dtype: float64"
      ]
     },
     "execution_count": 44,
     "metadata": {},
     "output_type": "execute_result"
    }
   ],
   "source": [
    "data.set_index('date').groupby('name')[\"ext price\"].resample(\"M\").sum()"
   ]
  },
  {
   "cell_type": "markdown",
   "metadata": {},
   "source": [
    "### Groupby syntax - pd.Grouper"
   ]
  },
  {
   "cell_type": "code",
   "execution_count": 53,
   "metadata": {},
   "outputs": [
    {
     "data": {
      "text/plain": [
       "name        date      \n",
       "Barton LLC  2014-01-31     6177.57\n",
       "            2014-02-28    12218.03\n",
       "            2014-03-31     3513.53\n",
       "            2014-04-30    11474.20\n",
       "            2014-05-31    10220.17\n",
       "                            ...   \n",
       "Will LLC    2014-08-31     1439.82\n",
       "            2014-09-30     4345.99\n",
       "            2014-10-31     7085.33\n",
       "            2014-11-30     3210.44\n",
       "            2014-12-31    12561.21\n",
       "Name: ext price, Length: 240, dtype: float64"
      ]
     },
     "execution_count": 53,
     "metadata": {},
     "output_type": "execute_result"
    }
   ],
   "source": [
    "data.groupby(['name', pd.Grouper(key = 'date', freq = 'M')])['ext price'].sum()"
   ]
  },
  {
   "cell_type": "code",
   "execution_count": 58,
   "metadata": {},
   "outputs": [
    {
     "data": {
      "text/plain": [
       "name                             date      \n",
       "Barton LLC                       2014-06-30    54067.23\n",
       "                                 2015-06-30    55371.27\n",
       "Cronin, Oberbrunner and Spencer  2014-06-30    42634.85\n",
       "                                 2015-06-30    47099.70\n",
       "Frami, Hills and Schmidt         2014-06-30    41960.55\n",
       "                                 2015-06-30    61609.04\n",
       "Fritsch, Russel and Anderson     2014-06-30    58252.12\n",
       "                                 2015-06-30    53962.59\n",
       "Halvorson, Crona and Champlin    2014-06-30    38215.18\n",
       "                                 2015-06-30    31789.18\n",
       "Herman LLC                       2014-06-30    35416.28\n",
       "                                 2015-06-30    47448.72\n",
       "Jerde-Hilpert                    2014-06-30    60502.92\n",
       "                                 2015-06-30    52088.51\n",
       "Kassulke, Ondricka and Metz      2014-06-30    37024.01\n",
       "                                 2015-06-30    49427.06\n",
       "Keeling LLC                      2014-06-30    58010.33\n",
       "                                 2015-06-30    42923.97\n",
       "Kiehn-Spinka                     2014-06-30    47654.30\n",
       "                                 2015-06-30    51954.47\n",
       "Koepp Ltd                        2014-06-30    56880.72\n",
       "                                 2015-06-30    46779.82\n",
       "Kuhn-Gusikowski                  2014-06-30    44705.82\n",
       "                                 2015-06-30    46388.46\n",
       "Kulas Inc                        2014-06-30    83804.92\n",
       "                                 2015-06-30    53547.04\n",
       "Pollich LLC                      2014-06-30    39305.72\n",
       "                                 2015-06-30    48041.46\n",
       "Purdy-Kunde                      2014-06-30    35660.62\n",
       "                                 2015-06-30    42237.59\n",
       "Sanford and Sons                 2014-06-30    56949.74\n",
       "                                 2015-06-30    41873.24\n",
       "Stokes LLC                       2014-06-30    59594.15\n",
       "                                 2015-06-30    31941.77\n",
       "Trantow-Barrows                  2014-06-30    60411.31\n",
       "                                 2015-06-30    62970.07\n",
       "White-Trantow                    2014-06-30    73748.61\n",
       "                                 2015-06-30    62093.38\n",
       "Will LLC                         2014-06-30    64777.27\n",
       "                                 2015-06-30    39660.33\n",
       "Name: ext price, dtype: float64"
      ]
     },
     "execution_count": 58,
     "metadata": {},
     "output_type": "execute_result"
    }
   ],
   "source": [
    "# For June\n",
    "data.groupby(['name', pd.Grouper(key = 'date', freq = 'A-Jun')])['ext price'].sum()"
   ]
  },
  {
   "cell_type": "markdown",
   "metadata": {},
   "source": [
    "### Aggregate function"
   ]
  },
  {
   "cell_type": "code",
   "execution_count": 64,
   "metadata": {},
   "outputs": [
    {
     "data": {
      "text/plain": [
       "ext price    2018784.32\n",
       "quantity       36463.00\n",
       "dtype: float64"
      ]
     },
     "execution_count": 64,
     "metadata": {},
     "output_type": "execute_result"
    }
   ],
   "source": [
    "# normal way returns Series\n",
    "data[[\"ext price\", \"quantity\"]].sum()"
   ]
  },
  {
   "cell_type": "code",
   "execution_count": 65,
   "metadata": {},
   "outputs": [
    {
     "data": {
      "text/html": [
       "<div>\n",
       "<style scoped>\n",
       "    .dataframe tbody tr th:only-of-type {\n",
       "        vertical-align: middle;\n",
       "    }\n",
       "\n",
       "    .dataframe tbody tr th {\n",
       "        vertical-align: top;\n",
       "    }\n",
       "\n",
       "    .dataframe thead th {\n",
       "        text-align: right;\n",
       "    }\n",
       "</style>\n",
       "<table border=\"1\" class=\"dataframe\">\n",
       "  <thead>\n",
       "    <tr style=\"text-align: right;\">\n",
       "      <th></th>\n",
       "      <th>ext price</th>\n",
       "      <th>quantity</th>\n",
       "      <th>unit price</th>\n",
       "    </tr>\n",
       "  </thead>\n",
       "  <tbody>\n",
       "    <tr>\n",
       "      <th>sum</th>\n",
       "      <td>2.018784e+06</td>\n",
       "      <td>36463.000000</td>\n",
       "      <td>82511.290000</td>\n",
       "    </tr>\n",
       "    <tr>\n",
       "      <th>mean</th>\n",
       "      <td>1.345856e+03</td>\n",
       "      <td>24.308667</td>\n",
       "      <td>55.007527</td>\n",
       "    </tr>\n",
       "  </tbody>\n",
       "</table>\n",
       "</div>"
      ],
      "text/plain": [
       "         ext price      quantity    unit price\n",
       "sum   2.018784e+06  36463.000000  82511.290000\n",
       "mean  1.345856e+03     24.308667     55.007527"
      ]
     },
     "execution_count": 65,
     "metadata": {},
     "output_type": "execute_result"
    }
   ],
   "source": [
    "# Using Aggregate Function- returns DataFrame\n",
    "data[[\"ext price\", \"quantity\", \"unit price\"]].agg(['sum', 'mean'])"
   ]
  },
  {
   "cell_type": "markdown",
   "metadata": {},
   "source": [
    "#### We can pass a dictionary to agg and specify what operations to apply to each column."
   ]
  },
  {
   "cell_type": "code",
   "execution_count": 68,
   "metadata": {},
   "outputs": [
    {
     "data": {
      "text/html": [
       "<div>\n",
       "<style scoped>\n",
       "    .dataframe tbody tr th:only-of-type {\n",
       "        vertical-align: middle;\n",
       "    }\n",
       "\n",
       "    .dataframe tbody tr th {\n",
       "        vertical-align: top;\n",
       "    }\n",
       "\n",
       "    .dataframe thead th {\n",
       "        text-align: right;\n",
       "    }\n",
       "</style>\n",
       "<table border=\"1\" class=\"dataframe\">\n",
       "  <thead>\n",
       "    <tr style=\"text-align: right;\">\n",
       "      <th></th>\n",
       "      <th>ext price</th>\n",
       "      <th>quantity</th>\n",
       "      <th>unit price</th>\n",
       "    </tr>\n",
       "  </thead>\n",
       "  <tbody>\n",
       "    <tr>\n",
       "      <th>max</th>\n",
       "      <td>4.824540e+03</td>\n",
       "      <td>49.000000</td>\n",
       "      <td>99.850000</td>\n",
       "    </tr>\n",
       "    <tr>\n",
       "      <th>mean</th>\n",
       "      <td>1.345856e+03</td>\n",
       "      <td>24.308667</td>\n",
       "      <td>55.007527</td>\n",
       "    </tr>\n",
       "    <tr>\n",
       "      <th>min</th>\n",
       "      <td>-9.716000e+01</td>\n",
       "      <td>NaN</td>\n",
       "      <td>NaN</td>\n",
       "    </tr>\n",
       "    <tr>\n",
       "      <th>sum</th>\n",
       "      <td>2.018784e+06</td>\n",
       "      <td>NaN</td>\n",
       "      <td>NaN</td>\n",
       "    </tr>\n",
       "  </tbody>\n",
       "</table>\n",
       "</div>"
      ],
      "text/plain": [
       "         ext price   quantity  unit price\n",
       "max   4.824540e+03  49.000000   99.850000\n",
       "mean  1.345856e+03  24.308667   55.007527\n",
       "min  -9.716000e+01        NaN         NaN\n",
       "sum   2.018784e+06        NaN         NaN"
      ]
     },
     "execution_count": 68,
     "metadata": {},
     "output_type": "execute_result"
    }
   ],
   "source": [
    "data.agg({'ext price' : ['mean', 'sum', 'min', 'max'],\n",
    "         'quantity' : ['mean',  'max'],\n",
    "         'unit price' : ['mean', 'max']})\n"
   ]
  },
  {
   "cell_type": "markdown",
   "metadata": {},
   "source": [
    "#### Use a mode function that works on text."
   ]
  },
  {
   "cell_type": "code",
   "execution_count": 69,
   "metadata": {},
   "outputs": [],
   "source": [
    "get_max = lambda x: x.value_counts(dropna=False).index[0]"
   ]
  },
  {
   "cell_type": "code",
   "execution_count": 80,
   "metadata": {},
   "outputs": [],
   "source": [
    "# naming the function\n",
    "get_max.__name__ = \"most frequent\""
   ]
  },
  {
   "cell_type": "code",
   "execution_count": 79,
   "metadata": {},
   "outputs": [
    {
     "data": {
      "text/html": [
       "<div>\n",
       "<style scoped>\n",
       "    .dataframe tbody tr th:only-of-type {\n",
       "        vertical-align: middle;\n",
       "    }\n",
       "\n",
       "    .dataframe tbody tr th {\n",
       "        vertical-align: top;\n",
       "    }\n",
       "\n",
       "    .dataframe thead th {\n",
       "        text-align: right;\n",
       "    }\n",
       "</style>\n",
       "<table border=\"1\" class=\"dataframe\">\n",
       "  <thead>\n",
       "    <tr style=\"text-align: right;\">\n",
       "      <th></th>\n",
       "      <th>ext price</th>\n",
       "      <th>quantity</th>\n",
       "      <th>unit price</th>\n",
       "      <th>sku</th>\n",
       "    </tr>\n",
       "  </thead>\n",
       "  <tbody>\n",
       "    <tr>\n",
       "      <th>max</th>\n",
       "      <td>4.824540e+03</td>\n",
       "      <td>49.000000</td>\n",
       "      <td>99.850000</td>\n",
       "      <td>NaN</td>\n",
       "    </tr>\n",
       "    <tr>\n",
       "      <th>mean</th>\n",
       "      <td>1.345856e+03</td>\n",
       "      <td>24.308667</td>\n",
       "      <td>55.007527</td>\n",
       "      <td>NaN</td>\n",
       "    </tr>\n",
       "    <tr>\n",
       "      <th>min</th>\n",
       "      <td>-9.716000e+01</td>\n",
       "      <td>NaN</td>\n",
       "      <td>NaN</td>\n",
       "      <td>NaN</td>\n",
       "    </tr>\n",
       "    <tr>\n",
       "      <th>most frequent</th>\n",
       "      <td>NaN</td>\n",
       "      <td>NaN</td>\n",
       "      <td>NaN</td>\n",
       "      <td>S2-77896</td>\n",
       "    </tr>\n",
       "    <tr>\n",
       "      <th>sum</th>\n",
       "      <td>2.018784e+06</td>\n",
       "      <td>NaN</td>\n",
       "      <td>NaN</td>\n",
       "      <td>NaN</td>\n",
       "    </tr>\n",
       "  </tbody>\n",
       "</table>\n",
       "</div>"
      ],
      "text/plain": [
       "                  ext price   quantity  unit price       sku\n",
       "max            4.824540e+03  49.000000   99.850000       NaN\n",
       "mean           1.345856e+03  24.308667   55.007527       NaN\n",
       "min           -9.716000e+01        NaN         NaN       NaN\n",
       "most frequent           NaN        NaN         NaN  S2-77896\n",
       "sum            2.018784e+06        NaN         NaN       NaN"
      ]
     },
     "execution_count": 79,
     "metadata": {},
     "output_type": "execute_result"
    }
   ],
   "source": [
    "data.agg({'ext price' : ['mean', 'sum', 'min', 'max'],\n",
    "         'quantity' : ['mean',  'max'],\n",
    "         'unit price' : ['mean', 'max'],\n",
    "         'sku' : [get_max]})"
   ]
  },
  {
   "cell_type": "code",
   "execution_count": 75,
   "metadata": {},
   "outputs": [
    {
     "data": {
      "text/plain": [
       "'S2-77896'"
      ]
     },
     "execution_count": 75,
     "metadata": {},
     "output_type": "execute_result"
    }
   ],
   "source": [
    "# Returns mode of the column\n",
    "data['sku'].value_counts(dropna=False).index[0]"
   ]
  },
  {
   "cell_type": "code",
   "execution_count": 77,
   "metadata": {},
   "outputs": [
    {
     "data": {
      "text/plain": [
       "'S2-77896'"
      ]
     },
     "execution_count": 77,
     "metadata": {},
     "output_type": "execute_result"
    }
   ],
   "source": [
    "data['sku'].mode()[0]"
   ]
  },
  {
   "cell_type": "markdown",
   "metadata": {},
   "source": [
    "`The aggregate function using a dictionary is useful but one challenge is that it does not preserve order. If you want to make sure your columns are in a specific order, you can use an OrderedDict`"
   ]
  },
  {
   "cell_type": "code",
   "execution_count": 81,
   "metadata": {},
   "outputs": [
    {
     "data": {
      "text/html": [
       "<div>\n",
       "<style scoped>\n",
       "    .dataframe tbody tr th:only-of-type {\n",
       "        vertical-align: middle;\n",
       "    }\n",
       "\n",
       "    .dataframe tbody tr th {\n",
       "        vertical-align: top;\n",
       "    }\n",
       "\n",
       "    .dataframe thead th {\n",
       "        text-align: right;\n",
       "    }\n",
       "</style>\n",
       "<table border=\"1\" class=\"dataframe\">\n",
       "  <thead>\n",
       "    <tr style=\"text-align: right;\">\n",
       "      <th></th>\n",
       "      <th>ext price</th>\n",
       "      <th>quantity</th>\n",
       "      <th>sku</th>\n",
       "    </tr>\n",
       "  </thead>\n",
       "  <tbody>\n",
       "    <tr>\n",
       "      <th>mean</th>\n",
       "      <td>1.345856e+03</td>\n",
       "      <td>24.308667</td>\n",
       "      <td>NaN</td>\n",
       "    </tr>\n",
       "    <tr>\n",
       "      <th>most frequent</th>\n",
       "      <td>NaN</td>\n",
       "      <td>NaN</td>\n",
       "      <td>S2-77896</td>\n",
       "    </tr>\n",
       "    <tr>\n",
       "      <th>sum</th>\n",
       "      <td>2.018784e+06</td>\n",
       "      <td>36463.000000</td>\n",
       "      <td>NaN</td>\n",
       "    </tr>\n",
       "  </tbody>\n",
       "</table>\n",
       "</div>"
      ],
      "text/plain": [
       "                  ext price      quantity       sku\n",
       "mean           1.345856e+03     24.308667       NaN\n",
       "most frequent           NaN           NaN  S2-77896\n",
       "sum            2.018784e+06  36463.000000       NaN"
      ]
     },
     "execution_count": 81,
     "metadata": {},
     "output_type": "execute_result"
    }
   ],
   "source": [
    "import collections\n",
    "f = collections.OrderedDict([('ext price', ['sum', 'mean']), ('quantity', ['sum', 'mean']), ('sku', [get_max])])\n",
    "data.agg(f)"
   ]
  },
  {
   "cell_type": "code",
   "execution_count": null,
   "metadata": {},
   "outputs": [],
   "source": []
  }
 ],
 "metadata": {
  "kernelspec": {
   "display_name": "Python 3",
   "language": "python",
   "name": "python3"
  },
  "language_info": {
   "codemirror_mode": {
    "name": "ipython",
    "version": 3
   },
   "file_extension": ".py",
   "mimetype": "text/x-python",
   "name": "python",
   "nbconvert_exporter": "python",
   "pygments_lexer": "ipython3",
   "version": "3.7.7"
  }
 },
 "nbformat": 4,
 "nbformat_minor": 4
}
