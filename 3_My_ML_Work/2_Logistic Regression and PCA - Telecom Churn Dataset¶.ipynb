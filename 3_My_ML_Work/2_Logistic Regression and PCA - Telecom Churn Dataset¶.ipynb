{
 "cells": [
  {
   "cell_type": "markdown",
   "metadata": {},
   "source": [
    "# Logistic Regression and PCA - Telecom Churn Dataset"
   ]
  },
  {
   "cell_type": "code",
   "execution_count": 846,
   "metadata": {},
   "outputs": [],
   "source": [
    "import pandas as pd\n",
    "import numpy as np\n",
    "import seaborn as sns\n",
    "import matplotlib.pyplot as plt\n",
    "\n",
    "%matplotlib inline"
   ]
  },
  {
   "cell_type": "code",
   "execution_count": 847,
   "metadata": {},
   "outputs": [],
   "source": [
    "churn_data = pd.read_csv('churn_data.csv')\n",
    "customer_data = pd.read_csv('customer_data.csv')\n",
    "internet_data = pd.read_csv('internet_data.csv')"
   ]
  },
  {
   "cell_type": "markdown",
   "metadata": {},
   "source": [
    "### Checking Data"
   ]
  },
  {
   "cell_type": "code",
   "execution_count": 849,
   "metadata": {},
   "outputs": [
    {
     "data": {
      "text/html": [
       "<div>\n",
       "<style scoped>\n",
       "    .dataframe tbody tr th:only-of-type {\n",
       "        vertical-align: middle;\n",
       "    }\n",
       "\n",
       "    .dataframe tbody tr th {\n",
       "        vertical-align: top;\n",
       "    }\n",
       "\n",
       "    .dataframe thead th {\n",
       "        text-align: right;\n",
       "    }\n",
       "</style>\n",
       "<table border=\"1\" class=\"dataframe\">\n",
       "  <thead>\n",
       "    <tr style=\"text-align: right;\">\n",
       "      <th></th>\n",
       "      <th>customerID</th>\n",
       "      <th>tenure</th>\n",
       "      <th>PhoneService</th>\n",
       "      <th>Contract</th>\n",
       "      <th>PaperlessBilling</th>\n",
       "      <th>PaymentMethod</th>\n",
       "      <th>MonthlyCharges</th>\n",
       "      <th>TotalCharges</th>\n",
       "      <th>Churn</th>\n",
       "    </tr>\n",
       "  </thead>\n",
       "  <tbody>\n",
       "    <tr>\n",
       "      <th>0</th>\n",
       "      <td>7590-VHVEG</td>\n",
       "      <td>1</td>\n",
       "      <td>No</td>\n",
       "      <td>Month-to-month</td>\n",
       "      <td>Yes</td>\n",
       "      <td>Electronic check</td>\n",
       "      <td>29.85</td>\n",
       "      <td>29.85</td>\n",
       "      <td>No</td>\n",
       "    </tr>\n",
       "    <tr>\n",
       "      <th>1</th>\n",
       "      <td>5575-GNVDE</td>\n",
       "      <td>34</td>\n",
       "      <td>Yes</td>\n",
       "      <td>One year</td>\n",
       "      <td>No</td>\n",
       "      <td>Mailed check</td>\n",
       "      <td>56.95</td>\n",
       "      <td>1889.5</td>\n",
       "      <td>No</td>\n",
       "    </tr>\n",
       "    <tr>\n",
       "      <th>2</th>\n",
       "      <td>3668-QPYBK</td>\n",
       "      <td>2</td>\n",
       "      <td>Yes</td>\n",
       "      <td>Month-to-month</td>\n",
       "      <td>Yes</td>\n",
       "      <td>Mailed check</td>\n",
       "      <td>53.85</td>\n",
       "      <td>108.15</td>\n",
       "      <td>Yes</td>\n",
       "    </tr>\n",
       "    <tr>\n",
       "      <th>3</th>\n",
       "      <td>7795-CFOCW</td>\n",
       "      <td>45</td>\n",
       "      <td>No</td>\n",
       "      <td>One year</td>\n",
       "      <td>No</td>\n",
       "      <td>Bank transfer (automatic)</td>\n",
       "      <td>42.30</td>\n",
       "      <td>1840.75</td>\n",
       "      <td>No</td>\n",
       "    </tr>\n",
       "    <tr>\n",
       "      <th>4</th>\n",
       "      <td>9237-HQITU</td>\n",
       "      <td>2</td>\n",
       "      <td>Yes</td>\n",
       "      <td>Month-to-month</td>\n",
       "      <td>Yes</td>\n",
       "      <td>Electronic check</td>\n",
       "      <td>70.70</td>\n",
       "      <td>151.65</td>\n",
       "      <td>Yes</td>\n",
       "    </tr>\n",
       "  </tbody>\n",
       "</table>\n",
       "</div>"
      ],
      "text/plain": [
       "   customerID  tenure PhoneService        Contract PaperlessBilling  \\\n",
       "0  7590-VHVEG       1           No  Month-to-month              Yes   \n",
       "1  5575-GNVDE      34          Yes        One year               No   \n",
       "2  3668-QPYBK       2          Yes  Month-to-month              Yes   \n",
       "3  7795-CFOCW      45           No        One year               No   \n",
       "4  9237-HQITU       2          Yes  Month-to-month              Yes   \n",
       "\n",
       "               PaymentMethod  MonthlyCharges TotalCharges Churn  \n",
       "0           Electronic check           29.85        29.85    No  \n",
       "1               Mailed check           56.95       1889.5    No  \n",
       "2               Mailed check           53.85       108.15   Yes  \n",
       "3  Bank transfer (automatic)           42.30      1840.75    No  \n",
       "4           Electronic check           70.70       151.65   Yes  "
      ]
     },
     "execution_count": 849,
     "metadata": {},
     "output_type": "execute_result"
    }
   ],
   "source": [
    "churn_data.head()"
   ]
  },
  {
   "cell_type": "code",
   "execution_count": 850,
   "metadata": {},
   "outputs": [
    {
     "data": {
      "text/plain": [
       "(7043, 9)"
      ]
     },
     "execution_count": 850,
     "metadata": {},
     "output_type": "execute_result"
    }
   ],
   "source": [
    "churn_data.shape"
   ]
  },
  {
   "cell_type": "code",
   "execution_count": 851,
   "metadata": {},
   "outputs": [
    {
     "data": {
      "text/html": [
       "<div>\n",
       "<style scoped>\n",
       "    .dataframe tbody tr th:only-of-type {\n",
       "        vertical-align: middle;\n",
       "    }\n",
       "\n",
       "    .dataframe tbody tr th {\n",
       "        vertical-align: top;\n",
       "    }\n",
       "\n",
       "    .dataframe thead th {\n",
       "        text-align: right;\n",
       "    }\n",
       "</style>\n",
       "<table border=\"1\" class=\"dataframe\">\n",
       "  <thead>\n",
       "    <tr style=\"text-align: right;\">\n",
       "      <th></th>\n",
       "      <th>customerID</th>\n",
       "      <th>gender</th>\n",
       "      <th>SeniorCitizen</th>\n",
       "      <th>Partner</th>\n",
       "      <th>Dependents</th>\n",
       "    </tr>\n",
       "  </thead>\n",
       "  <tbody>\n",
       "    <tr>\n",
       "      <th>0</th>\n",
       "      <td>7590-VHVEG</td>\n",
       "      <td>Female</td>\n",
       "      <td>0</td>\n",
       "      <td>Yes</td>\n",
       "      <td>No</td>\n",
       "    </tr>\n",
       "    <tr>\n",
       "      <th>1</th>\n",
       "      <td>5575-GNVDE</td>\n",
       "      <td>Male</td>\n",
       "      <td>0</td>\n",
       "      <td>No</td>\n",
       "      <td>No</td>\n",
       "    </tr>\n",
       "    <tr>\n",
       "      <th>2</th>\n",
       "      <td>3668-QPYBK</td>\n",
       "      <td>Male</td>\n",
       "      <td>0</td>\n",
       "      <td>No</td>\n",
       "      <td>No</td>\n",
       "    </tr>\n",
       "    <tr>\n",
       "      <th>3</th>\n",
       "      <td>7795-CFOCW</td>\n",
       "      <td>Male</td>\n",
       "      <td>0</td>\n",
       "      <td>No</td>\n",
       "      <td>No</td>\n",
       "    </tr>\n",
       "    <tr>\n",
       "      <th>4</th>\n",
       "      <td>9237-HQITU</td>\n",
       "      <td>Female</td>\n",
       "      <td>0</td>\n",
       "      <td>No</td>\n",
       "      <td>No</td>\n",
       "    </tr>\n",
       "  </tbody>\n",
       "</table>\n",
       "</div>"
      ],
      "text/plain": [
       "   customerID  gender  SeniorCitizen Partner Dependents\n",
       "0  7590-VHVEG  Female              0     Yes         No\n",
       "1  5575-GNVDE    Male              0      No         No\n",
       "2  3668-QPYBK    Male              0      No         No\n",
       "3  7795-CFOCW    Male              0      No         No\n",
       "4  9237-HQITU  Female              0      No         No"
      ]
     },
     "execution_count": 851,
     "metadata": {},
     "output_type": "execute_result"
    }
   ],
   "source": [
    "customer_data.head()"
   ]
  },
  {
   "cell_type": "code",
   "execution_count": 852,
   "metadata": {},
   "outputs": [
    {
     "data": {
      "text/plain": [
       "(7043, 5)"
      ]
     },
     "execution_count": 852,
     "metadata": {},
     "output_type": "execute_result"
    }
   ],
   "source": [
    "customer_data.shape"
   ]
  },
  {
   "cell_type": "code",
   "execution_count": 853,
   "metadata": {},
   "outputs": [
    {
     "data": {
      "text/html": [
       "<div>\n",
       "<style scoped>\n",
       "    .dataframe tbody tr th:only-of-type {\n",
       "        vertical-align: middle;\n",
       "    }\n",
       "\n",
       "    .dataframe tbody tr th {\n",
       "        vertical-align: top;\n",
       "    }\n",
       "\n",
       "    .dataframe thead th {\n",
       "        text-align: right;\n",
       "    }\n",
       "</style>\n",
       "<table border=\"1\" class=\"dataframe\">\n",
       "  <thead>\n",
       "    <tr style=\"text-align: right;\">\n",
       "      <th></th>\n",
       "      <th>customerID</th>\n",
       "      <th>MultipleLines</th>\n",
       "      <th>InternetService</th>\n",
       "      <th>OnlineSecurity</th>\n",
       "      <th>OnlineBackup</th>\n",
       "      <th>DeviceProtection</th>\n",
       "      <th>TechSupport</th>\n",
       "      <th>StreamingTV</th>\n",
       "      <th>StreamingMovies</th>\n",
       "    </tr>\n",
       "  </thead>\n",
       "  <tbody>\n",
       "    <tr>\n",
       "      <th>0</th>\n",
       "      <td>7590-VHVEG</td>\n",
       "      <td>No phone service</td>\n",
       "      <td>DSL</td>\n",
       "      <td>No</td>\n",
       "      <td>Yes</td>\n",
       "      <td>No</td>\n",
       "      <td>No</td>\n",
       "      <td>No</td>\n",
       "      <td>No</td>\n",
       "    </tr>\n",
       "    <tr>\n",
       "      <th>1</th>\n",
       "      <td>5575-GNVDE</td>\n",
       "      <td>No</td>\n",
       "      <td>DSL</td>\n",
       "      <td>Yes</td>\n",
       "      <td>No</td>\n",
       "      <td>Yes</td>\n",
       "      <td>No</td>\n",
       "      <td>No</td>\n",
       "      <td>No</td>\n",
       "    </tr>\n",
       "    <tr>\n",
       "      <th>2</th>\n",
       "      <td>3668-QPYBK</td>\n",
       "      <td>No</td>\n",
       "      <td>DSL</td>\n",
       "      <td>Yes</td>\n",
       "      <td>Yes</td>\n",
       "      <td>No</td>\n",
       "      <td>No</td>\n",
       "      <td>No</td>\n",
       "      <td>No</td>\n",
       "    </tr>\n",
       "    <tr>\n",
       "      <th>3</th>\n",
       "      <td>7795-CFOCW</td>\n",
       "      <td>No phone service</td>\n",
       "      <td>DSL</td>\n",
       "      <td>Yes</td>\n",
       "      <td>No</td>\n",
       "      <td>Yes</td>\n",
       "      <td>Yes</td>\n",
       "      <td>No</td>\n",
       "      <td>No</td>\n",
       "    </tr>\n",
       "    <tr>\n",
       "      <th>4</th>\n",
       "      <td>9237-HQITU</td>\n",
       "      <td>No</td>\n",
       "      <td>Fiber optic</td>\n",
       "      <td>No</td>\n",
       "      <td>No</td>\n",
       "      <td>No</td>\n",
       "      <td>No</td>\n",
       "      <td>No</td>\n",
       "      <td>No</td>\n",
       "    </tr>\n",
       "  </tbody>\n",
       "</table>\n",
       "</div>"
      ],
      "text/plain": [
       "   customerID     MultipleLines InternetService OnlineSecurity OnlineBackup  \\\n",
       "0  7590-VHVEG  No phone service             DSL             No          Yes   \n",
       "1  5575-GNVDE                No             DSL            Yes           No   \n",
       "2  3668-QPYBK                No             DSL            Yes          Yes   \n",
       "3  7795-CFOCW  No phone service             DSL            Yes           No   \n",
       "4  9237-HQITU                No     Fiber optic             No           No   \n",
       "\n",
       "  DeviceProtection TechSupport StreamingTV StreamingMovies  \n",
       "0               No          No          No              No  \n",
       "1              Yes          No          No              No  \n",
       "2               No          No          No              No  \n",
       "3              Yes         Yes          No              No  \n",
       "4               No          No          No              No  "
      ]
     },
     "execution_count": 853,
     "metadata": {},
     "output_type": "execute_result"
    }
   ],
   "source": [
    "internet_data.head()"
   ]
  },
  {
   "cell_type": "code",
   "execution_count": 854,
   "metadata": {},
   "outputs": [
    {
     "data": {
      "text/plain": [
       "(7043, 9)"
      ]
     },
     "execution_count": 854,
     "metadata": {},
     "output_type": "execute_result"
    }
   ],
   "source": [
    "internet_data.shape"
   ]
  },
  {
   "cell_type": "code",
   "execution_count": 855,
   "metadata": {},
   "outputs": [],
   "source": [
    "# It can be seen that all three dataframes have Customet ID as a common feature and have equal no of rows = 7043"
   ]
  },
  {
   "cell_type": "code",
   "execution_count": 856,
   "metadata": {},
   "outputs": [
    {
     "data": {
      "text/html": [
       "<div>\n",
       "<style scoped>\n",
       "    .dataframe tbody tr th:only-of-type {\n",
       "        vertical-align: middle;\n",
       "    }\n",
       "\n",
       "    .dataframe tbody tr th {\n",
       "        vertical-align: top;\n",
       "    }\n",
       "\n",
       "    .dataframe thead th {\n",
       "        text-align: right;\n",
       "    }\n",
       "</style>\n",
       "<table border=\"1\" class=\"dataframe\">\n",
       "  <thead>\n",
       "    <tr style=\"text-align: right;\">\n",
       "      <th></th>\n",
       "      <th>customerID</th>\n",
       "      <th>tenure</th>\n",
       "      <th>PhoneService</th>\n",
       "      <th>Contract</th>\n",
       "      <th>PaperlessBilling</th>\n",
       "      <th>PaymentMethod</th>\n",
       "      <th>MonthlyCharges</th>\n",
       "      <th>TotalCharges</th>\n",
       "      <th>Churn</th>\n",
       "      <th>gender</th>\n",
       "      <th>SeniorCitizen</th>\n",
       "      <th>Partner</th>\n",
       "      <th>Dependents</th>\n",
       "    </tr>\n",
       "  </thead>\n",
       "  <tbody>\n",
       "    <tr>\n",
       "      <th>0</th>\n",
       "      <td>7590-VHVEG</td>\n",
       "      <td>1</td>\n",
       "      <td>No</td>\n",
       "      <td>Month-to-month</td>\n",
       "      <td>Yes</td>\n",
       "      <td>Electronic check</td>\n",
       "      <td>29.85</td>\n",
       "      <td>29.85</td>\n",
       "      <td>No</td>\n",
       "      <td>Female</td>\n",
       "      <td>0</td>\n",
       "      <td>Yes</td>\n",
       "      <td>No</td>\n",
       "    </tr>\n",
       "    <tr>\n",
       "      <th>1</th>\n",
       "      <td>5575-GNVDE</td>\n",
       "      <td>34</td>\n",
       "      <td>Yes</td>\n",
       "      <td>One year</td>\n",
       "      <td>No</td>\n",
       "      <td>Mailed check</td>\n",
       "      <td>56.95</td>\n",
       "      <td>1889.5</td>\n",
       "      <td>No</td>\n",
       "      <td>Male</td>\n",
       "      <td>0</td>\n",
       "      <td>No</td>\n",
       "      <td>No</td>\n",
       "    </tr>\n",
       "    <tr>\n",
       "      <th>2</th>\n",
       "      <td>3668-QPYBK</td>\n",
       "      <td>2</td>\n",
       "      <td>Yes</td>\n",
       "      <td>Month-to-month</td>\n",
       "      <td>Yes</td>\n",
       "      <td>Mailed check</td>\n",
       "      <td>53.85</td>\n",
       "      <td>108.15</td>\n",
       "      <td>Yes</td>\n",
       "      <td>Male</td>\n",
       "      <td>0</td>\n",
       "      <td>No</td>\n",
       "      <td>No</td>\n",
       "    </tr>\n",
       "    <tr>\n",
       "      <th>3</th>\n",
       "      <td>7795-CFOCW</td>\n",
       "      <td>45</td>\n",
       "      <td>No</td>\n",
       "      <td>One year</td>\n",
       "      <td>No</td>\n",
       "      <td>Bank transfer (automatic)</td>\n",
       "      <td>42.30</td>\n",
       "      <td>1840.75</td>\n",
       "      <td>No</td>\n",
       "      <td>Male</td>\n",
       "      <td>0</td>\n",
       "      <td>No</td>\n",
       "      <td>No</td>\n",
       "    </tr>\n",
       "    <tr>\n",
       "      <th>4</th>\n",
       "      <td>9237-HQITU</td>\n",
       "      <td>2</td>\n",
       "      <td>Yes</td>\n",
       "      <td>Month-to-month</td>\n",
       "      <td>Yes</td>\n",
       "      <td>Electronic check</td>\n",
       "      <td>70.70</td>\n",
       "      <td>151.65</td>\n",
       "      <td>Yes</td>\n",
       "      <td>Female</td>\n",
       "      <td>0</td>\n",
       "      <td>No</td>\n",
       "      <td>No</td>\n",
       "    </tr>\n",
       "  </tbody>\n",
       "</table>\n",
       "</div>"
      ],
      "text/plain": [
       "   customerID  tenure PhoneService        Contract PaperlessBilling  \\\n",
       "0  7590-VHVEG       1           No  Month-to-month              Yes   \n",
       "1  5575-GNVDE      34          Yes        One year               No   \n",
       "2  3668-QPYBK       2          Yes  Month-to-month              Yes   \n",
       "3  7795-CFOCW      45           No        One year               No   \n",
       "4  9237-HQITU       2          Yes  Month-to-month              Yes   \n",
       "\n",
       "               PaymentMethod  MonthlyCharges TotalCharges Churn  gender  \\\n",
       "0           Electronic check           29.85        29.85    No  Female   \n",
       "1               Mailed check           56.95       1889.5    No    Male   \n",
       "2               Mailed check           53.85       108.15   Yes    Male   \n",
       "3  Bank transfer (automatic)           42.30      1840.75    No    Male   \n",
       "4           Electronic check           70.70       151.65   Yes  Female   \n",
       "\n",
       "   SeniorCitizen Partner Dependents  \n",
       "0              0     Yes         No  \n",
       "1              0      No         No  \n",
       "2              0      No         No  \n",
       "3              0      No         No  \n",
       "4              0      No         No  "
      ]
     },
     "execution_count": 856,
     "metadata": {},
     "output_type": "execute_result"
    }
   ],
   "source": [
    "# Merging DataFrames\n",
    "df1 = pd.merge(churn_data, customer_data , on = 'customerID', how = 'inner')\n",
    "df1.head()"
   ]
  },
  {
   "cell_type": "code",
   "execution_count": 857,
   "metadata": {},
   "outputs": [
    {
     "data": {
      "text/plain": [
       "(7043, 13)"
      ]
     },
     "execution_count": 857,
     "metadata": {},
     "output_type": "execute_result"
    }
   ],
   "source": [
    "df1.shape"
   ]
  },
  {
   "cell_type": "code",
   "execution_count": 858,
   "metadata": {},
   "outputs": [
    {
     "data": {
      "text/html": [
       "<div>\n",
       "<style scoped>\n",
       "    .dataframe tbody tr th:only-of-type {\n",
       "        vertical-align: middle;\n",
       "    }\n",
       "\n",
       "    .dataframe tbody tr th {\n",
       "        vertical-align: top;\n",
       "    }\n",
       "\n",
       "    .dataframe thead th {\n",
       "        text-align: right;\n",
       "    }\n",
       "</style>\n",
       "<table border=\"1\" class=\"dataframe\">\n",
       "  <thead>\n",
       "    <tr style=\"text-align: right;\">\n",
       "      <th></th>\n",
       "      <th>customerID</th>\n",
       "      <th>tenure</th>\n",
       "      <th>PhoneService</th>\n",
       "      <th>Contract</th>\n",
       "      <th>PaperlessBilling</th>\n",
       "      <th>PaymentMethod</th>\n",
       "      <th>MonthlyCharges</th>\n",
       "      <th>TotalCharges</th>\n",
       "      <th>Churn</th>\n",
       "      <th>gender</th>\n",
       "      <th>...</th>\n",
       "      <th>Partner</th>\n",
       "      <th>Dependents</th>\n",
       "      <th>MultipleLines</th>\n",
       "      <th>InternetService</th>\n",
       "      <th>OnlineSecurity</th>\n",
       "      <th>OnlineBackup</th>\n",
       "      <th>DeviceProtection</th>\n",
       "      <th>TechSupport</th>\n",
       "      <th>StreamingTV</th>\n",
       "      <th>StreamingMovies</th>\n",
       "    </tr>\n",
       "  </thead>\n",
       "  <tbody>\n",
       "    <tr>\n",
       "      <th>0</th>\n",
       "      <td>7590-VHVEG</td>\n",
       "      <td>1</td>\n",
       "      <td>No</td>\n",
       "      <td>Month-to-month</td>\n",
       "      <td>Yes</td>\n",
       "      <td>Electronic check</td>\n",
       "      <td>29.85</td>\n",
       "      <td>29.85</td>\n",
       "      <td>No</td>\n",
       "      <td>Female</td>\n",
       "      <td>...</td>\n",
       "      <td>Yes</td>\n",
       "      <td>No</td>\n",
       "      <td>No phone service</td>\n",
       "      <td>DSL</td>\n",
       "      <td>No</td>\n",
       "      <td>Yes</td>\n",
       "      <td>No</td>\n",
       "      <td>No</td>\n",
       "      <td>No</td>\n",
       "      <td>No</td>\n",
       "    </tr>\n",
       "    <tr>\n",
       "      <th>1</th>\n",
       "      <td>5575-GNVDE</td>\n",
       "      <td>34</td>\n",
       "      <td>Yes</td>\n",
       "      <td>One year</td>\n",
       "      <td>No</td>\n",
       "      <td>Mailed check</td>\n",
       "      <td>56.95</td>\n",
       "      <td>1889.5</td>\n",
       "      <td>No</td>\n",
       "      <td>Male</td>\n",
       "      <td>...</td>\n",
       "      <td>No</td>\n",
       "      <td>No</td>\n",
       "      <td>No</td>\n",
       "      <td>DSL</td>\n",
       "      <td>Yes</td>\n",
       "      <td>No</td>\n",
       "      <td>Yes</td>\n",
       "      <td>No</td>\n",
       "      <td>No</td>\n",
       "      <td>No</td>\n",
       "    </tr>\n",
       "    <tr>\n",
       "      <th>2</th>\n",
       "      <td>3668-QPYBK</td>\n",
       "      <td>2</td>\n",
       "      <td>Yes</td>\n",
       "      <td>Month-to-month</td>\n",
       "      <td>Yes</td>\n",
       "      <td>Mailed check</td>\n",
       "      <td>53.85</td>\n",
       "      <td>108.15</td>\n",
       "      <td>Yes</td>\n",
       "      <td>Male</td>\n",
       "      <td>...</td>\n",
       "      <td>No</td>\n",
       "      <td>No</td>\n",
       "      <td>No</td>\n",
       "      <td>DSL</td>\n",
       "      <td>Yes</td>\n",
       "      <td>Yes</td>\n",
       "      <td>No</td>\n",
       "      <td>No</td>\n",
       "      <td>No</td>\n",
       "      <td>No</td>\n",
       "    </tr>\n",
       "    <tr>\n",
       "      <th>3</th>\n",
       "      <td>7795-CFOCW</td>\n",
       "      <td>45</td>\n",
       "      <td>No</td>\n",
       "      <td>One year</td>\n",
       "      <td>No</td>\n",
       "      <td>Bank transfer (automatic)</td>\n",
       "      <td>42.30</td>\n",
       "      <td>1840.75</td>\n",
       "      <td>No</td>\n",
       "      <td>Male</td>\n",
       "      <td>...</td>\n",
       "      <td>No</td>\n",
       "      <td>No</td>\n",
       "      <td>No phone service</td>\n",
       "      <td>DSL</td>\n",
       "      <td>Yes</td>\n",
       "      <td>No</td>\n",
       "      <td>Yes</td>\n",
       "      <td>Yes</td>\n",
       "      <td>No</td>\n",
       "      <td>No</td>\n",
       "    </tr>\n",
       "    <tr>\n",
       "      <th>4</th>\n",
       "      <td>9237-HQITU</td>\n",
       "      <td>2</td>\n",
       "      <td>Yes</td>\n",
       "      <td>Month-to-month</td>\n",
       "      <td>Yes</td>\n",
       "      <td>Electronic check</td>\n",
       "      <td>70.70</td>\n",
       "      <td>151.65</td>\n",
       "      <td>Yes</td>\n",
       "      <td>Female</td>\n",
       "      <td>...</td>\n",
       "      <td>No</td>\n",
       "      <td>No</td>\n",
       "      <td>No</td>\n",
       "      <td>Fiber optic</td>\n",
       "      <td>No</td>\n",
       "      <td>No</td>\n",
       "      <td>No</td>\n",
       "      <td>No</td>\n",
       "      <td>No</td>\n",
       "      <td>No</td>\n",
       "    </tr>\n",
       "  </tbody>\n",
       "</table>\n",
       "<p>5 rows × 21 columns</p>\n",
       "</div>"
      ],
      "text/plain": [
       "   customerID  tenure PhoneService        Contract PaperlessBilling  \\\n",
       "0  7590-VHVEG       1           No  Month-to-month              Yes   \n",
       "1  5575-GNVDE      34          Yes        One year               No   \n",
       "2  3668-QPYBK       2          Yes  Month-to-month              Yes   \n",
       "3  7795-CFOCW      45           No        One year               No   \n",
       "4  9237-HQITU       2          Yes  Month-to-month              Yes   \n",
       "\n",
       "               PaymentMethod  MonthlyCharges TotalCharges Churn  gender  ...  \\\n",
       "0           Electronic check           29.85        29.85    No  Female  ...   \n",
       "1               Mailed check           56.95       1889.5    No    Male  ...   \n",
       "2               Mailed check           53.85       108.15   Yes    Male  ...   \n",
       "3  Bank transfer (automatic)           42.30      1840.75    No    Male  ...   \n",
       "4           Electronic check           70.70       151.65   Yes  Female  ...   \n",
       "\n",
       "   Partner Dependents     MultipleLines InternetService OnlineSecurity  \\\n",
       "0      Yes         No  No phone service             DSL             No   \n",
       "1       No         No                No             DSL            Yes   \n",
       "2       No         No                No             DSL            Yes   \n",
       "3       No         No  No phone service             DSL            Yes   \n",
       "4       No         No                No     Fiber optic             No   \n",
       "\n",
       "  OnlineBackup DeviceProtection TechSupport StreamingTV StreamingMovies  \n",
       "0          Yes               No          No          No              No  \n",
       "1           No              Yes          No          No              No  \n",
       "2          Yes               No          No          No              No  \n",
       "3           No              Yes         Yes          No              No  \n",
       "4           No               No          No          No              No  \n",
       "\n",
       "[5 rows x 21 columns]"
      ]
     },
     "execution_count": 858,
     "metadata": {},
     "output_type": "execute_result"
    }
   ],
   "source": [
    "churn = pd.merge(df1, internet_data, on = 'customerID', how = 'inner')\n",
    "churn.head()"
   ]
  },
  {
   "cell_type": "code",
   "execution_count": 859,
   "metadata": {},
   "outputs": [
    {
     "data": {
      "text/plain": [
       "(7043, 21)"
      ]
     },
     "execution_count": 859,
     "metadata": {},
     "output_type": "execute_result"
    }
   ],
   "source": [
    "churn.shape"
   ]
  },
  {
   "cell_type": "markdown",
   "metadata": {},
   "source": [
    "### Checking for missing values"
   ]
  },
  {
   "cell_type": "code",
   "execution_count": 860,
   "metadata": {},
   "outputs": [
    {
     "data": {
      "text/plain": [
       "customerID          0\n",
       "tenure              0\n",
       "PhoneService        0\n",
       "Contract            0\n",
       "PaperlessBilling    0\n",
       "PaymentMethod       0\n",
       "MonthlyCharges      0\n",
       "TotalCharges        0\n",
       "Churn               0\n",
       "gender              0\n",
       "SeniorCitizen       0\n",
       "Partner             0\n",
       "Dependents          0\n",
       "MultipleLines       0\n",
       "InternetService     0\n",
       "OnlineSecurity      0\n",
       "OnlineBackup        0\n",
       "DeviceProtection    0\n",
       "TechSupport         0\n",
       "StreamingTV         0\n",
       "StreamingMovies     0\n",
       "dtype: int64"
      ]
     },
     "execution_count": 860,
     "metadata": {},
     "output_type": "execute_result"
    }
   ],
   "source": [
    "churn.isnull().sum()"
   ]
  },
  {
   "cell_type": "markdown",
   "metadata": {},
   "source": [
    "#### There are no missing values in the data set\n"
   ]
  },
  {
   "cell_type": "code",
   "execution_count": 862,
   "metadata": {},
   "outputs": [
    {
     "name": "stdout",
     "output_type": "stream",
     "text": [
      "<class 'pandas.core.frame.DataFrame'>\n",
      "Int64Index: 7043 entries, 0 to 7042\n",
      "Data columns (total 21 columns):\n",
      " #   Column            Non-Null Count  Dtype  \n",
      "---  ------            --------------  -----  \n",
      " 0   customerID        7043 non-null   object \n",
      " 1   tenure            7043 non-null   int64  \n",
      " 2   PhoneService      7043 non-null   object \n",
      " 3   Contract          7043 non-null   object \n",
      " 4   PaperlessBilling  7043 non-null   object \n",
      " 5   PaymentMethod     7043 non-null   object \n",
      " 6   MonthlyCharges    7043 non-null   float64\n",
      " 7   TotalCharges      7043 non-null   object \n",
      " 8   Churn             7043 non-null   object \n",
      " 9   gender            7043 non-null   object \n",
      " 10  SeniorCitizen     7043 non-null   int64  \n",
      " 11  Partner           7043 non-null   object \n",
      " 12  Dependents        7043 non-null   object \n",
      " 13  MultipleLines     7043 non-null   object \n",
      " 14  InternetService   7043 non-null   object \n",
      " 15  OnlineSecurity    7043 non-null   object \n",
      " 16  OnlineBackup      7043 non-null   object \n",
      " 17  DeviceProtection  7043 non-null   object \n",
      " 18  TechSupport       7043 non-null   object \n",
      " 19  StreamingTV       7043 non-null   object \n",
      " 20  StreamingMovies   7043 non-null   object \n",
      "dtypes: float64(1), int64(2), object(18)\n",
      "memory usage: 1.2+ MB\n"
     ]
    }
   ],
   "source": [
    "churn.info()"
   ]
  },
  {
   "cell_type": "markdown",
   "metadata": {},
   "source": [
    "### Checking DataTypes"
   ]
  },
  {
   "cell_type": "code",
   "execution_count": 863,
   "metadata": {},
   "outputs": [
    {
     "data": {
      "text/plain": [
       "object     18\n",
       "int64       2\n",
       "float64     1\n",
       "dtype: int64"
      ]
     },
     "execution_count": 863,
     "metadata": {},
     "output_type": "execute_result"
    }
   ],
   "source": [
    "churn.dtypes.value_counts()"
   ]
  },
  {
   "cell_type": "markdown",
   "metadata": {},
   "source": [
    "### Statistical description"
   ]
  },
  {
   "cell_type": "code",
   "execution_count": 864,
   "metadata": {},
   "outputs": [
    {
     "data": {
      "text/html": [
       "<div>\n",
       "<style scoped>\n",
       "    .dataframe tbody tr th:only-of-type {\n",
       "        vertical-align: middle;\n",
       "    }\n",
       "\n",
       "    .dataframe tbody tr th {\n",
       "        vertical-align: top;\n",
       "    }\n",
       "\n",
       "    .dataframe thead th {\n",
       "        text-align: right;\n",
       "    }\n",
       "</style>\n",
       "<table border=\"1\" class=\"dataframe\">\n",
       "  <thead>\n",
       "    <tr style=\"text-align: right;\">\n",
       "      <th></th>\n",
       "      <th>count</th>\n",
       "      <th>mean</th>\n",
       "      <th>std</th>\n",
       "      <th>min</th>\n",
       "      <th>25%</th>\n",
       "      <th>50%</th>\n",
       "      <th>75%</th>\n",
       "      <th>max</th>\n",
       "    </tr>\n",
       "  </thead>\n",
       "  <tbody>\n",
       "    <tr>\n",
       "      <th>tenure</th>\n",
       "      <td>7043.0</td>\n",
       "      <td>32.371149</td>\n",
       "      <td>24.559481</td>\n",
       "      <td>0.00</td>\n",
       "      <td>9.0</td>\n",
       "      <td>29.00</td>\n",
       "      <td>55.00</td>\n",
       "      <td>72.00</td>\n",
       "    </tr>\n",
       "    <tr>\n",
       "      <th>MonthlyCharges</th>\n",
       "      <td>7043.0</td>\n",
       "      <td>64.761692</td>\n",
       "      <td>30.090047</td>\n",
       "      <td>18.25</td>\n",
       "      <td>35.5</td>\n",
       "      <td>70.35</td>\n",
       "      <td>89.85</td>\n",
       "      <td>118.75</td>\n",
       "    </tr>\n",
       "    <tr>\n",
       "      <th>SeniorCitizen</th>\n",
       "      <td>7043.0</td>\n",
       "      <td>0.162147</td>\n",
       "      <td>0.368612</td>\n",
       "      <td>0.00</td>\n",
       "      <td>0.0</td>\n",
       "      <td>0.00</td>\n",
       "      <td>0.00</td>\n",
       "      <td>1.00</td>\n",
       "    </tr>\n",
       "  </tbody>\n",
       "</table>\n",
       "</div>"
      ],
      "text/plain": [
       "                 count       mean        std    min   25%    50%    75%  \\\n",
       "tenure          7043.0  32.371149  24.559481   0.00   9.0  29.00  55.00   \n",
       "MonthlyCharges  7043.0  64.761692  30.090047  18.25  35.5  70.35  89.85   \n",
       "SeniorCitizen   7043.0   0.162147   0.368612   0.00   0.0   0.00   0.00   \n",
       "\n",
       "                   max  \n",
       "tenure           72.00  \n",
       "MonthlyCharges  118.75  \n",
       "SeniorCitizen     1.00  "
      ]
     },
     "execution_count": 864,
     "metadata": {},
     "output_type": "execute_result"
    }
   ],
   "source": [
    "churn.describe().T"
   ]
  },
  {
   "cell_type": "code",
   "execution_count": 865,
   "metadata": {},
   "outputs": [
    {
     "name": "stdout",
     "output_type": "stream",
     "text": [
      "9904-EHEVJ    0.014198\n",
      "9415-DPEWS    0.014198\n",
      "1493-AMTIE    0.014198\n",
      "3097-FQTVJ    0.014198\n",
      "6894-LFHLY    0.014198\n",
      "                ...   \n",
      "7025-WCBNE    0.014198\n",
      "5553-AOINX    0.014198\n",
      "2821-WARNZ    0.014198\n",
      "4298-OYIFC    0.014198\n",
      "4859-ZSRDZ    0.014198\n",
      "Name: customerID, Length: 7043, dtype: float64\n",
      "**************************************************\n",
      "1     8.703677\n",
      "72    5.139855\n",
      "2     3.379242\n",
      "3     2.839699\n",
      "4     2.498935\n",
      "        ...   \n",
      "28    0.809314\n",
      "39    0.795116\n",
      "44    0.724123\n",
      "36    0.709925\n",
      "0     0.156183\n",
      "Name: tenure, Length: 73, dtype: float64\n",
      "**************************************************\n",
      "Yes    90.316626\n",
      "No      9.683374\n",
      "Name: PhoneService, dtype: float64\n",
      "**************************************************\n",
      "Month-to-month    55.019168\n",
      "Two year          24.066449\n",
      "One year          20.914383\n",
      "Name: Contract, dtype: float64\n",
      "**************************************************\n",
      "Yes    59.221922\n",
      "No     40.778078\n",
      "Name: PaperlessBilling, dtype: float64\n",
      "**************************************************\n",
      "Electronic check             33.579441\n",
      "Mailed check                 22.887974\n",
      "Bank transfer (automatic)    21.922476\n",
      "Credit card (automatic)      21.610109\n",
      "Name: PaymentMethod, dtype: float64\n",
      "**************************************************\n",
      "20.05     0.866108\n",
      "19.85     0.638932\n",
      "19.95     0.624734\n",
      "19.90     0.624734\n",
      "20.00     0.610535\n",
      "            ...   \n",
      "114.75    0.014198\n",
      "103.60    0.014198\n",
      "113.40    0.014198\n",
      "57.65     0.014198\n",
      "113.30    0.014198\n",
      "Name: MonthlyCharges, Length: 1585, dtype: float64\n",
      "**************************************************\n",
      "           0.156183\n",
      "20.2       0.156183\n",
      "19.75      0.127786\n",
      "20.05      0.113588\n",
      "19.65      0.113588\n",
      "             ...   \n",
      "1321.3     0.014198\n",
      "788.6      0.014198\n",
      "5070.4     0.014198\n",
      "1790.35    0.014198\n",
      "6309.65    0.014198\n",
      "Name: TotalCharges, Length: 6531, dtype: float64\n",
      "**************************************************\n",
      "No     73.463013\n",
      "Yes    26.536987\n",
      "Name: Churn, dtype: float64\n",
      "**************************************************\n",
      "Male      50.47565\n",
      "Female    49.52435\n",
      "Name: gender, dtype: float64\n",
      "**************************************************\n",
      "0    83.785319\n",
      "1    16.214681\n",
      "Name: SeniorCitizen, dtype: float64\n",
      "**************************************************\n",
      "No     51.69672\n",
      "Yes    48.30328\n",
      "Name: Partner, dtype: float64\n",
      "**************************************************\n",
      "No     70.041176\n",
      "Yes    29.958824\n",
      "Name: Dependents, dtype: float64\n",
      "**************************************************\n",
      "No                  48.132898\n",
      "Yes                 42.183729\n",
      "No phone service     9.683374\n",
      "Name: MultipleLines, dtype: float64\n",
      "**************************************************\n",
      "Fiber optic    43.958540\n",
      "DSL            34.374556\n",
      "No             21.666903\n",
      "Name: InternetService, dtype: float64\n",
      "**************************************************\n",
      "No                     49.666335\n",
      "Yes                    28.666761\n",
      "No internet service    21.666903\n",
      "Name: OnlineSecurity, dtype: float64\n",
      "**************************************************\n",
      "No                     43.844952\n",
      "Yes                    34.488144\n",
      "No internet service    21.666903\n",
      "Name: OnlineBackup, dtype: float64\n",
      "**************************************************\n",
      "No                     43.944342\n",
      "Yes                    34.388755\n",
      "No internet service    21.666903\n",
      "Name: DeviceProtection, dtype: float64\n",
      "**************************************************\n",
      "No                     49.311373\n",
      "Yes                    29.021724\n",
      "No internet service    21.666903\n",
      "Name: TechSupport, dtype: float64\n",
      "**************************************************\n",
      "No                     39.897771\n",
      "Yes                    38.435326\n",
      "No internet service    21.666903\n",
      "Name: StreamingTV, dtype: float64\n",
      "**************************************************\n",
      "No                     39.542808\n",
      "Yes                    38.790288\n",
      "No internet service    21.666903\n",
      "Name: StreamingMovies, dtype: float64\n",
      "**************************************************\n"
     ]
    }
   ],
   "source": [
    "# Finding value_counts\n",
    "for i in churn.columns:\n",
    "    print(churn[i].value_counts(normalize = True)*100)\n",
    "    print('*'*50)"
   ]
  },
  {
   "cell_type": "code",
   "execution_count": 866,
   "metadata": {},
   "outputs": [
    {
     "data": {
      "text/plain": [
       "Index(['customerID', 'tenure', 'PhoneService', 'Contract', 'PaperlessBilling',\n",
       "       'PaymentMethod', 'MonthlyCharges', 'TotalCharges', 'Churn', 'gender',\n",
       "       'SeniorCitizen', 'Partner', 'Dependents', 'MultipleLines',\n",
       "       'InternetService', 'OnlineSecurity', 'OnlineBackup', 'DeviceProtection',\n",
       "       'TechSupport', 'StreamingTV', 'StreamingMovies'],\n",
       "      dtype='object')"
      ]
     },
     "execution_count": 866,
     "metadata": {},
     "output_type": "execute_result"
    }
   ],
   "source": [
    "churn.columns"
   ]
  },
  {
   "cell_type": "code",
   "execution_count": 867,
   "metadata": {},
   "outputs": [],
   "source": [
    "a = ['PhoneService', 'SeniorCitizen', ] # Highly biased\n",
    "b = [ 'PaperlessBilling', 'Churn',  'Partner', 'Dependents',  ] # Yes No"
   ]
  },
  {
   "cell_type": "code",
   "execution_count": 868,
   "metadata": {},
   "outputs": [],
   "source": [
    "churn.drop(a, axis = 1, inplace = True)"
   ]
  },
  {
   "cell_type": "code",
   "execution_count": 869,
   "metadata": {},
   "outputs": [
    {
     "data": {
      "text/html": [
       "<div>\n",
       "<style scoped>\n",
       "    .dataframe tbody tr th:only-of-type {\n",
       "        vertical-align: middle;\n",
       "    }\n",
       "\n",
       "    .dataframe tbody tr th {\n",
       "        vertical-align: top;\n",
       "    }\n",
       "\n",
       "    .dataframe thead th {\n",
       "        text-align: right;\n",
       "    }\n",
       "</style>\n",
       "<table border=\"1\" class=\"dataframe\">\n",
       "  <thead>\n",
       "    <tr style=\"text-align: right;\">\n",
       "      <th></th>\n",
       "      <th>PaperlessBilling</th>\n",
       "      <th>Churn</th>\n",
       "      <th>Partner</th>\n",
       "      <th>Dependents</th>\n",
       "    </tr>\n",
       "  </thead>\n",
       "  <tbody>\n",
       "    <tr>\n",
       "      <th>0</th>\n",
       "      <td>Yes</td>\n",
       "      <td>No</td>\n",
       "      <td>Yes</td>\n",
       "      <td>No</td>\n",
       "    </tr>\n",
       "    <tr>\n",
       "      <th>1</th>\n",
       "      <td>No</td>\n",
       "      <td>No</td>\n",
       "      <td>No</td>\n",
       "      <td>No</td>\n",
       "    </tr>\n",
       "    <tr>\n",
       "      <th>2</th>\n",
       "      <td>Yes</td>\n",
       "      <td>Yes</td>\n",
       "      <td>No</td>\n",
       "      <td>No</td>\n",
       "    </tr>\n",
       "    <tr>\n",
       "      <th>3</th>\n",
       "      <td>No</td>\n",
       "      <td>No</td>\n",
       "      <td>No</td>\n",
       "      <td>No</td>\n",
       "    </tr>\n",
       "    <tr>\n",
       "      <th>4</th>\n",
       "      <td>Yes</td>\n",
       "      <td>Yes</td>\n",
       "      <td>No</td>\n",
       "      <td>No</td>\n",
       "    </tr>\n",
       "  </tbody>\n",
       "</table>\n",
       "</div>"
      ],
      "text/plain": [
       "  PaperlessBilling Churn Partner Dependents\n",
       "0              Yes    No     Yes         No\n",
       "1               No    No      No         No\n",
       "2              Yes   Yes      No         No\n",
       "3               No    No      No         No\n",
       "4              Yes   Yes      No         No"
      ]
     },
     "execution_count": 869,
     "metadata": {},
     "output_type": "execute_result"
    }
   ],
   "source": [
    "churn[b].head()"
   ]
  },
  {
   "cell_type": "code",
   "execution_count": 870,
   "metadata": {},
   "outputs": [
    {
     "data": {
      "text/html": [
       "<div>\n",
       "<style scoped>\n",
       "    .dataframe tbody tr th:only-of-type {\n",
       "        vertical-align: middle;\n",
       "    }\n",
       "\n",
       "    .dataframe tbody tr th {\n",
       "        vertical-align: top;\n",
       "    }\n",
       "\n",
       "    .dataframe thead th {\n",
       "        text-align: right;\n",
       "    }\n",
       "</style>\n",
       "<table border=\"1\" class=\"dataframe\">\n",
       "  <thead>\n",
       "    <tr style=\"text-align: right;\">\n",
       "      <th></th>\n",
       "      <th>customerID</th>\n",
       "      <th>tenure</th>\n",
       "      <th>Contract</th>\n",
       "      <th>PaperlessBilling</th>\n",
       "      <th>PaymentMethod</th>\n",
       "      <th>MonthlyCharges</th>\n",
       "      <th>TotalCharges</th>\n",
       "      <th>Churn</th>\n",
       "      <th>gender</th>\n",
       "      <th>Partner</th>\n",
       "      <th>Dependents</th>\n",
       "      <th>MultipleLines</th>\n",
       "      <th>InternetService</th>\n",
       "      <th>OnlineSecurity</th>\n",
       "      <th>OnlineBackup</th>\n",
       "      <th>DeviceProtection</th>\n",
       "      <th>TechSupport</th>\n",
       "      <th>StreamingTV</th>\n",
       "      <th>StreamingMovies</th>\n",
       "    </tr>\n",
       "  </thead>\n",
       "  <tbody>\n",
       "    <tr>\n",
       "      <th>0</th>\n",
       "      <td>7590-VHVEG</td>\n",
       "      <td>1</td>\n",
       "      <td>Month-to-month</td>\n",
       "      <td>1</td>\n",
       "      <td>Electronic check</td>\n",
       "      <td>29.85</td>\n",
       "      <td>29.85</td>\n",
       "      <td>0</td>\n",
       "      <td>Female</td>\n",
       "      <td>1</td>\n",
       "      <td>0</td>\n",
       "      <td>No phone service</td>\n",
       "      <td>DSL</td>\n",
       "      <td>No</td>\n",
       "      <td>Yes</td>\n",
       "      <td>No</td>\n",
       "      <td>No</td>\n",
       "      <td>No</td>\n",
       "      <td>No</td>\n",
       "    </tr>\n",
       "    <tr>\n",
       "      <th>1</th>\n",
       "      <td>5575-GNVDE</td>\n",
       "      <td>34</td>\n",
       "      <td>One year</td>\n",
       "      <td>0</td>\n",
       "      <td>Mailed check</td>\n",
       "      <td>56.95</td>\n",
       "      <td>1889.5</td>\n",
       "      <td>0</td>\n",
       "      <td>Male</td>\n",
       "      <td>0</td>\n",
       "      <td>0</td>\n",
       "      <td>No</td>\n",
       "      <td>DSL</td>\n",
       "      <td>Yes</td>\n",
       "      <td>No</td>\n",
       "      <td>Yes</td>\n",
       "      <td>No</td>\n",
       "      <td>No</td>\n",
       "      <td>No</td>\n",
       "    </tr>\n",
       "    <tr>\n",
       "      <th>2</th>\n",
       "      <td>3668-QPYBK</td>\n",
       "      <td>2</td>\n",
       "      <td>Month-to-month</td>\n",
       "      <td>1</td>\n",
       "      <td>Mailed check</td>\n",
       "      <td>53.85</td>\n",
       "      <td>108.15</td>\n",
       "      <td>1</td>\n",
       "      <td>Male</td>\n",
       "      <td>0</td>\n",
       "      <td>0</td>\n",
       "      <td>No</td>\n",
       "      <td>DSL</td>\n",
       "      <td>Yes</td>\n",
       "      <td>Yes</td>\n",
       "      <td>No</td>\n",
       "      <td>No</td>\n",
       "      <td>No</td>\n",
       "      <td>No</td>\n",
       "    </tr>\n",
       "    <tr>\n",
       "      <th>3</th>\n",
       "      <td>7795-CFOCW</td>\n",
       "      <td>45</td>\n",
       "      <td>One year</td>\n",
       "      <td>0</td>\n",
       "      <td>Bank transfer (automatic)</td>\n",
       "      <td>42.30</td>\n",
       "      <td>1840.75</td>\n",
       "      <td>0</td>\n",
       "      <td>Male</td>\n",
       "      <td>0</td>\n",
       "      <td>0</td>\n",
       "      <td>No phone service</td>\n",
       "      <td>DSL</td>\n",
       "      <td>Yes</td>\n",
       "      <td>No</td>\n",
       "      <td>Yes</td>\n",
       "      <td>Yes</td>\n",
       "      <td>No</td>\n",
       "      <td>No</td>\n",
       "    </tr>\n",
       "    <tr>\n",
       "      <th>4</th>\n",
       "      <td>9237-HQITU</td>\n",
       "      <td>2</td>\n",
       "      <td>Month-to-month</td>\n",
       "      <td>1</td>\n",
       "      <td>Electronic check</td>\n",
       "      <td>70.70</td>\n",
       "      <td>151.65</td>\n",
       "      <td>1</td>\n",
       "      <td>Female</td>\n",
       "      <td>0</td>\n",
       "      <td>0</td>\n",
       "      <td>No</td>\n",
       "      <td>Fiber optic</td>\n",
       "      <td>No</td>\n",
       "      <td>No</td>\n",
       "      <td>No</td>\n",
       "      <td>No</td>\n",
       "      <td>No</td>\n",
       "      <td>No</td>\n",
       "    </tr>\n",
       "  </tbody>\n",
       "</table>\n",
       "</div>"
      ],
      "text/plain": [
       "   customerID  tenure        Contract  PaperlessBilling  \\\n",
       "0  7590-VHVEG       1  Month-to-month                 1   \n",
       "1  5575-GNVDE      34        One year                 0   \n",
       "2  3668-QPYBK       2  Month-to-month                 1   \n",
       "3  7795-CFOCW      45        One year                 0   \n",
       "4  9237-HQITU       2  Month-to-month                 1   \n",
       "\n",
       "               PaymentMethod  MonthlyCharges TotalCharges  Churn  gender  \\\n",
       "0           Electronic check           29.85        29.85      0  Female   \n",
       "1               Mailed check           56.95       1889.5      0    Male   \n",
       "2               Mailed check           53.85       108.15      1    Male   \n",
       "3  Bank transfer (automatic)           42.30      1840.75      0    Male   \n",
       "4           Electronic check           70.70       151.65      1  Female   \n",
       "\n",
       "   Partner  Dependents     MultipleLines InternetService OnlineSecurity  \\\n",
       "0        1           0  No phone service             DSL             No   \n",
       "1        0           0                No             DSL            Yes   \n",
       "2        0           0                No             DSL            Yes   \n",
       "3        0           0  No phone service             DSL            Yes   \n",
       "4        0           0                No     Fiber optic             No   \n",
       "\n",
       "  OnlineBackup DeviceProtection TechSupport StreamingTV StreamingMovies  \n",
       "0          Yes               No          No          No              No  \n",
       "1           No              Yes          No          No              No  \n",
       "2          Yes               No          No          No              No  \n",
       "3           No              Yes         Yes          No              No  \n",
       "4           No               No          No          No              No  "
      ]
     },
     "execution_count": 870,
     "metadata": {},
     "output_type": "execute_result"
    }
   ],
   "source": [
    "for i in b:\n",
    "    churn[i] = churn[i].apply(lambda x: 1 if x == 'Yes' else 0)\n",
    "churn.head()"
   ]
  },
  {
   "cell_type": "code",
   "execution_count": 871,
   "metadata": {},
   "outputs": [
    {
     "data": {
      "text/html": [
       "<div>\n",
       "<style scoped>\n",
       "    .dataframe tbody tr th:only-of-type {\n",
       "        vertical-align: middle;\n",
       "    }\n",
       "\n",
       "    .dataframe tbody tr th {\n",
       "        vertical-align: top;\n",
       "    }\n",
       "\n",
       "    .dataframe thead th {\n",
       "        text-align: right;\n",
       "    }\n",
       "</style>\n",
       "<table border=\"1\" class=\"dataframe\">\n",
       "  <thead>\n",
       "    <tr style=\"text-align: right;\">\n",
       "      <th></th>\n",
       "      <th>customerID</th>\n",
       "      <th>tenure</th>\n",
       "      <th>Contract</th>\n",
       "      <th>PaperlessBilling</th>\n",
       "      <th>PaymentMethod</th>\n",
       "      <th>MonthlyCharges</th>\n",
       "      <th>TotalCharges</th>\n",
       "      <th>Churn</th>\n",
       "      <th>gender</th>\n",
       "      <th>Partner</th>\n",
       "      <th>Dependents</th>\n",
       "      <th>MultipleLines</th>\n",
       "      <th>InternetService</th>\n",
       "      <th>OnlineSecurity</th>\n",
       "      <th>OnlineBackup</th>\n",
       "      <th>DeviceProtection</th>\n",
       "      <th>TechSupport</th>\n",
       "      <th>StreamingTV</th>\n",
       "      <th>StreamingMovies</th>\n",
       "    </tr>\n",
       "  </thead>\n",
       "  <tbody>\n",
       "    <tr>\n",
       "      <th>0</th>\n",
       "      <td>7590-VHVEG</td>\n",
       "      <td>1</td>\n",
       "      <td>Month-to-month</td>\n",
       "      <td>1</td>\n",
       "      <td>Electronic check</td>\n",
       "      <td>29.85</td>\n",
       "      <td>29.85</td>\n",
       "      <td>0</td>\n",
       "      <td>0</td>\n",
       "      <td>1</td>\n",
       "      <td>0</td>\n",
       "      <td>No phone service</td>\n",
       "      <td>DSL</td>\n",
       "      <td>No</td>\n",
       "      <td>Yes</td>\n",
       "      <td>No</td>\n",
       "      <td>No</td>\n",
       "      <td>No</td>\n",
       "      <td>No</td>\n",
       "    </tr>\n",
       "    <tr>\n",
       "      <th>1</th>\n",
       "      <td>5575-GNVDE</td>\n",
       "      <td>34</td>\n",
       "      <td>One year</td>\n",
       "      <td>0</td>\n",
       "      <td>Mailed check</td>\n",
       "      <td>56.95</td>\n",
       "      <td>1889.5</td>\n",
       "      <td>0</td>\n",
       "      <td>1</td>\n",
       "      <td>0</td>\n",
       "      <td>0</td>\n",
       "      <td>No</td>\n",
       "      <td>DSL</td>\n",
       "      <td>Yes</td>\n",
       "      <td>No</td>\n",
       "      <td>Yes</td>\n",
       "      <td>No</td>\n",
       "      <td>No</td>\n",
       "      <td>No</td>\n",
       "    </tr>\n",
       "    <tr>\n",
       "      <th>2</th>\n",
       "      <td>3668-QPYBK</td>\n",
       "      <td>2</td>\n",
       "      <td>Month-to-month</td>\n",
       "      <td>1</td>\n",
       "      <td>Mailed check</td>\n",
       "      <td>53.85</td>\n",
       "      <td>108.15</td>\n",
       "      <td>1</td>\n",
       "      <td>1</td>\n",
       "      <td>0</td>\n",
       "      <td>0</td>\n",
       "      <td>No</td>\n",
       "      <td>DSL</td>\n",
       "      <td>Yes</td>\n",
       "      <td>Yes</td>\n",
       "      <td>No</td>\n",
       "      <td>No</td>\n",
       "      <td>No</td>\n",
       "      <td>No</td>\n",
       "    </tr>\n",
       "    <tr>\n",
       "      <th>3</th>\n",
       "      <td>7795-CFOCW</td>\n",
       "      <td>45</td>\n",
       "      <td>One year</td>\n",
       "      <td>0</td>\n",
       "      <td>Bank transfer (automatic)</td>\n",
       "      <td>42.30</td>\n",
       "      <td>1840.75</td>\n",
       "      <td>0</td>\n",
       "      <td>1</td>\n",
       "      <td>0</td>\n",
       "      <td>0</td>\n",
       "      <td>No phone service</td>\n",
       "      <td>DSL</td>\n",
       "      <td>Yes</td>\n",
       "      <td>No</td>\n",
       "      <td>Yes</td>\n",
       "      <td>Yes</td>\n",
       "      <td>No</td>\n",
       "      <td>No</td>\n",
       "    </tr>\n",
       "    <tr>\n",
       "      <th>4</th>\n",
       "      <td>9237-HQITU</td>\n",
       "      <td>2</td>\n",
       "      <td>Month-to-month</td>\n",
       "      <td>1</td>\n",
       "      <td>Electronic check</td>\n",
       "      <td>70.70</td>\n",
       "      <td>151.65</td>\n",
       "      <td>1</td>\n",
       "      <td>0</td>\n",
       "      <td>0</td>\n",
       "      <td>0</td>\n",
       "      <td>No</td>\n",
       "      <td>Fiber optic</td>\n",
       "      <td>No</td>\n",
       "      <td>No</td>\n",
       "      <td>No</td>\n",
       "      <td>No</td>\n",
       "      <td>No</td>\n",
       "      <td>No</td>\n",
       "    </tr>\n",
       "  </tbody>\n",
       "</table>\n",
       "</div>"
      ],
      "text/plain": [
       "   customerID  tenure        Contract  PaperlessBilling  \\\n",
       "0  7590-VHVEG       1  Month-to-month                 1   \n",
       "1  5575-GNVDE      34        One year                 0   \n",
       "2  3668-QPYBK       2  Month-to-month                 1   \n",
       "3  7795-CFOCW      45        One year                 0   \n",
       "4  9237-HQITU       2  Month-to-month                 1   \n",
       "\n",
       "               PaymentMethod  MonthlyCharges TotalCharges  Churn  gender  \\\n",
       "0           Electronic check           29.85        29.85      0       0   \n",
       "1               Mailed check           56.95       1889.5      0       1   \n",
       "2               Mailed check           53.85       108.15      1       1   \n",
       "3  Bank transfer (automatic)           42.30      1840.75      0       1   \n",
       "4           Electronic check           70.70       151.65      1       0   \n",
       "\n",
       "   Partner  Dependents     MultipleLines InternetService OnlineSecurity  \\\n",
       "0        1           0  No phone service             DSL             No   \n",
       "1        0           0                No             DSL            Yes   \n",
       "2        0           0                No             DSL            Yes   \n",
       "3        0           0  No phone service             DSL            Yes   \n",
       "4        0           0                No     Fiber optic             No   \n",
       "\n",
       "  OnlineBackup DeviceProtection TechSupport StreamingTV StreamingMovies  \n",
       "0          Yes               No          No          No              No  \n",
       "1           No              Yes          No          No              No  \n",
       "2          Yes               No          No          No              No  \n",
       "3           No              Yes         Yes          No              No  \n",
       "4           No               No          No          No              No  "
      ]
     },
     "execution_count": 871,
     "metadata": {},
     "output_type": "execute_result"
    }
   ],
   "source": [
    "churn['gender'] = churn['gender'].map({'Male' : 1, 'Female' : 0})\n",
    "churn.head()"
   ]
  },
  {
   "cell_type": "code",
   "execution_count": 872,
   "metadata": {},
   "outputs": [],
   "source": [
    "dummy = [ 'Contract',  'PaymentMethod','MultipleLines', 'InternetService','OnlineSecurity',  'OnlineBackup', 'DeviceProtection', 'TechSupport', 'StreamingTV', 'StreamingMovies']"
   ]
  },
  {
   "cell_type": "code",
   "execution_count": 873,
   "metadata": {},
   "outputs": [
    {
     "data": {
      "text/plain": [
       "<matplotlib.axes._subplots.AxesSubplot at 0x1d029c08>"
      ]
     },
     "execution_count": 873,
     "metadata": {},
     "output_type": "execute_result"
    },
    {
     "data": {
      "image/png": "[encoded data removed]",
      "text/plain": [
       "<Figure size 432x288 with 2 Axes>"
      ]
     },
     "metadata": {
      "needs_background": "light"
     },
     "output_type": "display_data"
    }
   ],
   "source": [
    "sns.heatmap(churn.corr(), annot = True, cmap = 'Reds')"
   ]
  },
  {
   "cell_type": "code",
   "execution_count": 874,
   "metadata": {},
   "outputs": [
    {
     "data": {
      "text/html": [
       "<div>\n",
       "<style scoped>\n",
       "    .dataframe tbody tr th:only-of-type {\n",
       "        vertical-align: middle;\n",
       "    }\n",
       "\n",
       "    .dataframe tbody tr th {\n",
       "        vertical-align: top;\n",
       "    }\n",
       "\n",
       "    .dataframe thead th {\n",
       "        text-align: right;\n",
       "    }\n",
       "</style>\n",
       "<table border=\"1\" class=\"dataframe\">\n",
       "  <thead>\n",
       "    <tr style=\"text-align: right;\">\n",
       "      <th></th>\n",
       "      <th>customerID</th>\n",
       "      <th>tenure</th>\n",
       "      <th>PaperlessBilling</th>\n",
       "      <th>MonthlyCharges</th>\n",
       "      <th>TotalCharges</th>\n",
       "      <th>Churn</th>\n",
       "      <th>gender</th>\n",
       "      <th>Partner</th>\n",
       "      <th>Dependents</th>\n",
       "      <th>Contract_Month-to-month</th>\n",
       "      <th>...</th>\n",
       "      <th>DeviceProtection_Yes</th>\n",
       "      <th>TechSupport_No</th>\n",
       "      <th>TechSupport_No internet service</th>\n",
       "      <th>TechSupport_Yes</th>\n",
       "      <th>StreamingTV_No</th>\n",
       "      <th>StreamingTV_No internet service</th>\n",
       "      <th>StreamingTV_Yes</th>\n",
       "      <th>StreamingMovies_No</th>\n",
       "      <th>StreamingMovies_No internet service</th>\n",
       "      <th>StreamingMovies_Yes</th>\n",
       "    </tr>\n",
       "  </thead>\n",
       "  <tbody>\n",
       "    <tr>\n",
       "      <th>0</th>\n",
       "      <td>7590-VHVEG</td>\n",
       "      <td>1</td>\n",
       "      <td>1</td>\n",
       "      <td>29.85</td>\n",
       "      <td>29.85</td>\n",
       "      <td>0</td>\n",
       "      <td>0</td>\n",
       "      <td>1</td>\n",
       "      <td>0</td>\n",
       "      <td>1</td>\n",
       "      <td>...</td>\n",
       "      <td>0</td>\n",
       "      <td>1</td>\n",
       "      <td>0</td>\n",
       "      <td>0</td>\n",
       "      <td>1</td>\n",
       "      <td>0</td>\n",
       "      <td>0</td>\n",
       "      <td>1</td>\n",
       "      <td>0</td>\n",
       "      <td>0</td>\n",
       "    </tr>\n",
       "    <tr>\n",
       "      <th>1</th>\n",
       "      <td>5575-GNVDE</td>\n",
       "      <td>34</td>\n",
       "      <td>0</td>\n",
       "      <td>56.95</td>\n",
       "      <td>1889.5</td>\n",
       "      <td>0</td>\n",
       "      <td>1</td>\n",
       "      <td>0</td>\n",
       "      <td>0</td>\n",
       "      <td>0</td>\n",
       "      <td>...</td>\n",
       "      <td>1</td>\n",
       "      <td>1</td>\n",
       "      <td>0</td>\n",
       "      <td>0</td>\n",
       "      <td>1</td>\n",
       "      <td>0</td>\n",
       "      <td>0</td>\n",
       "      <td>1</td>\n",
       "      <td>0</td>\n",
       "      <td>0</td>\n",
       "    </tr>\n",
       "    <tr>\n",
       "      <th>2</th>\n",
       "      <td>3668-QPYBK</td>\n",
       "      <td>2</td>\n",
       "      <td>1</td>\n",
       "      <td>53.85</td>\n",
       "      <td>108.15</td>\n",
       "      <td>1</td>\n",
       "      <td>1</td>\n",
       "      <td>0</td>\n",
       "      <td>0</td>\n",
       "      <td>1</td>\n",
       "      <td>...</td>\n",
       "      <td>0</td>\n",
       "      <td>1</td>\n",
       "      <td>0</td>\n",
       "      <td>0</td>\n",
       "      <td>1</td>\n",
       "      <td>0</td>\n",
       "      <td>0</td>\n",
       "      <td>1</td>\n",
       "      <td>0</td>\n",
       "      <td>0</td>\n",
       "    </tr>\n",
       "    <tr>\n",
       "      <th>3</th>\n",
       "      <td>7795-CFOCW</td>\n",
       "      <td>45</td>\n",
       "      <td>0</td>\n",
       "      <td>42.30</td>\n",
       "      <td>1840.75</td>\n",
       "      <td>0</td>\n",
       "      <td>1</td>\n",
       "      <td>0</td>\n",
       "      <td>0</td>\n",
       "      <td>0</td>\n",
       "      <td>...</td>\n",
       "      <td>1</td>\n",
       "      <td>0</td>\n",
       "      <td>0</td>\n",
       "      <td>1</td>\n",
       "      <td>1</td>\n",
       "      <td>0</td>\n",
       "      <td>0</td>\n",
       "      <td>1</td>\n",
       "      <td>0</td>\n",
       "      <td>0</td>\n",
       "    </tr>\n",
       "    <tr>\n",
       "      <th>4</th>\n",
       "      <td>9237-HQITU</td>\n",
       "      <td>2</td>\n",
       "      <td>1</td>\n",
       "      <td>70.70</td>\n",
       "      <td>151.65</td>\n",
       "      <td>1</td>\n",
       "      <td>0</td>\n",
       "      <td>0</td>\n",
       "      <td>0</td>\n",
       "      <td>1</td>\n",
       "      <td>...</td>\n",
       "      <td>0</td>\n",
       "      <td>1</td>\n",
       "      <td>0</td>\n",
       "      <td>0</td>\n",
       "      <td>1</td>\n",
       "      <td>0</td>\n",
       "      <td>0</td>\n",
       "      <td>1</td>\n",
       "      <td>0</td>\n",
       "      <td>0</td>\n",
       "    </tr>\n",
       "  </tbody>\n",
       "</table>\n",
       "<p>5 rows × 40 columns</p>\n",
       "</div>"
      ],
      "text/plain": [
       "   customerID  tenure  PaperlessBilling  MonthlyCharges TotalCharges  Churn  \\\n",
       "0  7590-VHVEG       1                 1           29.85        29.85      0   \n",
       "1  5575-GNVDE      34                 0           56.95       1889.5      0   \n",
       "2  3668-QPYBK       2                 1           53.85       108.15      1   \n",
       "3  7795-CFOCW      45                 0           42.30      1840.75      0   \n",
       "4  9237-HQITU       2                 1           70.70       151.65      1   \n",
       "\n",
       "   gender  Partner  Dependents  Contract_Month-to-month  ...  \\\n",
       "0       0        1           0                        1  ...   \n",
       "1       1        0           0                        0  ...   \n",
       "2       1        0           0                        1  ...   \n",
       "3       1        0           0                        0  ...   \n",
       "4       0        0           0                        1  ...   \n",
       "\n",
       "   DeviceProtection_Yes  TechSupport_No  TechSupport_No internet service  \\\n",
       "0                     0               1                                0   \n",
       "1                     1               1                                0   \n",
       "2                     0               1                                0   \n",
       "3                     1               0                                0   \n",
       "4                     0               1                                0   \n",
       "\n",
       "   TechSupport_Yes  StreamingTV_No  StreamingTV_No internet service  \\\n",
       "0                0               1                                0   \n",
       "1                0               1                                0   \n",
       "2                0               1                                0   \n",
       "3                1               1                                0   \n",
       "4                0               1                                0   \n",
       "\n",
       "   StreamingTV_Yes  StreamingMovies_No  StreamingMovies_No internet service  \\\n",
       "0                0                   1                                    0   \n",
       "1                0                   1                                    0   \n",
       "2                0                   1                                    0   \n",
       "3                0                   1                                    0   \n",
       "4                0                   1                                    0   \n",
       "\n",
       "   StreamingMovies_Yes  \n",
       "0                    0  \n",
       "1                    0  \n",
       "2                    0  \n",
       "3                    0  \n",
       "4                    0  \n",
       "\n",
       "[5 rows x 40 columns]"
      ]
     },
     "execution_count": 874,
     "metadata": {},
     "output_type": "execute_result"
    }
   ],
   "source": [
    "for i in dummy:\n",
    "    \n",
    "    churn = pd.get_dummies(churn, prefix = [i], columns = [i],  drop_first= False)\n",
    "    \n",
    "churn.head()"
   ]
  },
  {
   "cell_type": "code",
   "execution_count": 875,
   "metadata": {},
   "outputs": [
    {
     "data": {
      "text/plain": [
       "Index(['customerID', 'tenure', 'PaperlessBilling', 'MonthlyCharges',\n",
       "       'TotalCharges', 'Churn', 'gender', 'Partner', 'Dependents',\n",
       "       'Contract_Month-to-month', 'Contract_One year', 'Contract_Two year',\n",
       "       'PaymentMethod_Bank transfer (automatic)',\n",
       "       'PaymentMethod_Credit card (automatic)',\n",
       "       'PaymentMethod_Electronic check', 'PaymentMethod_Mailed check',\n",
       "       'MultipleLines_No', 'MultipleLines_No phone service',\n",
       "       'MultipleLines_Yes', 'InternetService_DSL',\n",
       "       'InternetService_Fiber optic', 'InternetService_No',\n",
       "       'OnlineSecurity_No', 'OnlineSecurity_No internet service',\n",
       "       'OnlineSecurity_Yes', 'OnlineBackup_No',\n",
       "       'OnlineBackup_No internet service', 'OnlineBackup_Yes',\n",
       "       'DeviceProtection_No', 'DeviceProtection_No internet service',\n",
       "       'DeviceProtection_Yes', 'TechSupport_No',\n",
       "       'TechSupport_No internet service', 'TechSupport_Yes', 'StreamingTV_No',\n",
       "       'StreamingTV_No internet service', 'StreamingTV_Yes',\n",
       "       'StreamingMovies_No', 'StreamingMovies_No internet service',\n",
       "       'StreamingMovies_Yes'],\n",
       "      dtype='object')"
      ]
     },
     "execution_count": 875,
     "metadata": {},
     "output_type": "execute_result"
    }
   ],
   "source": [
    "churn.columns"
   ]
  },
  {
   "cell_type": "code",
   "execution_count": 876,
   "metadata": {},
   "outputs": [],
   "source": [
    "to_drop = ['customerID', 'Contract_One year', 'PaymentMethod_Credit card (automatic)', 'MultipleLines_Yes',\n",
    "       'InternetService_No','OnlineSecurity_No internet service','OnlineBackup_No internet service','DeviceProtection_No internet service',\n",
    "      'TechSupport_No internet service', 'StreamingTV_No internet service', 'StreamingMovies_No internet service',]"
   ]
  },
  {
   "cell_type": "code",
   "execution_count": 877,
   "metadata": {},
   "outputs": [
    {
     "data": {
      "text/html": [
       "<div>\n",
       "<style scoped>\n",
       "    .dataframe tbody tr th:only-of-type {\n",
       "        vertical-align: middle;\n",
       "    }\n",
       "\n",
       "    .dataframe tbody tr th {\n",
       "        vertical-align: top;\n",
       "    }\n",
       "\n",
       "    .dataframe thead th {\n",
       "        text-align: right;\n",
       "    }\n",
       "</style>\n",
       "<table border=\"1\" class=\"dataframe\">\n",
       "  <thead>\n",
       "    <tr style=\"text-align: right;\">\n",
       "      <th></th>\n",
       "      <th>tenure</th>\n",
       "      <th>PaperlessBilling</th>\n",
       "      <th>MonthlyCharges</th>\n",
       "      <th>TotalCharges</th>\n",
       "      <th>Churn</th>\n",
       "      <th>gender</th>\n",
       "      <th>Partner</th>\n",
       "      <th>Dependents</th>\n",
       "      <th>Contract_Month-to-month</th>\n",
       "      <th>Contract_Two year</th>\n",
       "      <th>...</th>\n",
       "      <th>OnlineBackup_No</th>\n",
       "      <th>OnlineBackup_Yes</th>\n",
       "      <th>DeviceProtection_No</th>\n",
       "      <th>DeviceProtection_Yes</th>\n",
       "      <th>TechSupport_No</th>\n",
       "      <th>TechSupport_Yes</th>\n",
       "      <th>StreamingTV_No</th>\n",
       "      <th>StreamingTV_Yes</th>\n",
       "      <th>StreamingMovies_No</th>\n",
       "      <th>StreamingMovies_Yes</th>\n",
       "    </tr>\n",
       "  </thead>\n",
       "  <tbody>\n",
       "    <tr>\n",
       "      <th>0</th>\n",
       "      <td>1</td>\n",
       "      <td>1</td>\n",
       "      <td>29.85</td>\n",
       "      <td>29.85</td>\n",
       "      <td>0</td>\n",
       "      <td>0</td>\n",
       "      <td>1</td>\n",
       "      <td>0</td>\n",
       "      <td>1</td>\n",
       "      <td>0</td>\n",
       "      <td>...</td>\n",
       "      <td>0</td>\n",
       "      <td>1</td>\n",
       "      <td>1</td>\n",
       "      <td>0</td>\n",
       "      <td>1</td>\n",
       "      <td>0</td>\n",
       "      <td>1</td>\n",
       "      <td>0</td>\n",
       "      <td>1</td>\n",
       "      <td>0</td>\n",
       "    </tr>\n",
       "    <tr>\n",
       "      <th>1</th>\n",
       "      <td>34</td>\n",
       "      <td>0</td>\n",
       "      <td>56.95</td>\n",
       "      <td>1889.5</td>\n",
       "      <td>0</td>\n",
       "      <td>1</td>\n",
       "      <td>0</td>\n",
       "      <td>0</td>\n",
       "      <td>0</td>\n",
       "      <td>0</td>\n",
       "      <td>...</td>\n",
       "      <td>1</td>\n",
       "      <td>0</td>\n",
       "      <td>0</td>\n",
       "      <td>1</td>\n",
       "      <td>1</td>\n",
       "      <td>0</td>\n",
       "      <td>1</td>\n",
       "      <td>0</td>\n",
       "      <td>1</td>\n",
       "      <td>0</td>\n",
       "    </tr>\n",
       "    <tr>\n",
       "      <th>2</th>\n",
       "      <td>2</td>\n",
       "      <td>1</td>\n",
       "      <td>53.85</td>\n",
       "      <td>108.15</td>\n",
       "      <td>1</td>\n",
       "      <td>1</td>\n",
       "      <td>0</td>\n",
       "      <td>0</td>\n",
       "      <td>1</td>\n",
       "      <td>0</td>\n",
       "      <td>...</td>\n",
       "      <td>0</td>\n",
       "      <td>1</td>\n",
       "      <td>1</td>\n",
       "      <td>0</td>\n",
       "      <td>1</td>\n",
       "      <td>0</td>\n",
       "      <td>1</td>\n",
       "      <td>0</td>\n",
       "      <td>1</td>\n",
       "      <td>0</td>\n",
       "    </tr>\n",
       "    <tr>\n",
       "      <th>3</th>\n",
       "      <td>45</td>\n",
       "      <td>0</td>\n",
       "      <td>42.30</td>\n",
       "      <td>1840.75</td>\n",
       "      <td>0</td>\n",
       "      <td>1</td>\n",
       "      <td>0</td>\n",
       "      <td>0</td>\n",
       "      <td>0</td>\n",
       "      <td>0</td>\n",
       "      <td>...</td>\n",
       "      <td>1</td>\n",
       "      <td>0</td>\n",
       "      <td>0</td>\n",
       "      <td>1</td>\n",
       "      <td>0</td>\n",
       "      <td>1</td>\n",
       "      <td>1</td>\n",
       "      <td>0</td>\n",
       "      <td>1</td>\n",
       "      <td>0</td>\n",
       "    </tr>\n",
       "    <tr>\n",
       "      <th>4</th>\n",
       "      <td>2</td>\n",
       "      <td>1</td>\n",
       "      <td>70.70</td>\n",
       "      <td>151.65</td>\n",
       "      <td>1</td>\n",
       "      <td>0</td>\n",
       "      <td>0</td>\n",
       "      <td>0</td>\n",
       "      <td>1</td>\n",
       "      <td>0</td>\n",
       "      <td>...</td>\n",
       "      <td>1</td>\n",
       "      <td>0</td>\n",
       "      <td>1</td>\n",
       "      <td>0</td>\n",
       "      <td>1</td>\n",
       "      <td>0</td>\n",
       "      <td>1</td>\n",
       "      <td>0</td>\n",
       "      <td>1</td>\n",
       "      <td>0</td>\n",
       "    </tr>\n",
       "  </tbody>\n",
       "</table>\n",
       "<p>5 rows × 29 columns</p>\n",
       "</div>"
      ],
      "text/plain": [
       "   tenure  PaperlessBilling  MonthlyCharges TotalCharges  Churn  gender  \\\n",
       "0       1                 1           29.85        29.85      0       0   \n",
       "1      34                 0           56.95       1889.5      0       1   \n",
       "2       2                 1           53.85       108.15      1       1   \n",
       "3      45                 0           42.30      1840.75      0       1   \n",
       "4       2                 1           70.70       151.65      1       0   \n",
       "\n",
       "   Partner  Dependents  Contract_Month-to-month  Contract_Two year  ...  \\\n",
       "0        1           0                        1                  0  ...   \n",
       "1        0           0                        0                  0  ...   \n",
       "2        0           0                        1                  0  ...   \n",
       "3        0           0                        0                  0  ...   \n",
       "4        0           0                        1                  0  ...   \n",
       "\n",
       "   OnlineBackup_No  OnlineBackup_Yes  DeviceProtection_No  \\\n",
       "0                0                 1                    1   \n",
       "1                1                 0                    0   \n",
       "2                0                 1                    1   \n",
       "3                1                 0                    0   \n",
       "4                1                 0                    1   \n",
       "\n",
       "   DeviceProtection_Yes  TechSupport_No  TechSupport_Yes  StreamingTV_No  \\\n",
       "0                     0               1                0               1   \n",
       "1                     1               1                0               1   \n",
       "2                     0               1                0               1   \n",
       "3                     1               0                1               1   \n",
       "4                     0               1                0               1   \n",
       "\n",
       "   StreamingTV_Yes  StreamingMovies_No  StreamingMovies_Yes  \n",
       "0                0                   1                    0  \n",
       "1                0                   1                    0  \n",
       "2                0                   1                    0  \n",
       "3                0                   1                    0  \n",
       "4                0                   1                    0  \n",
       "\n",
       "[5 rows x 29 columns]"
      ]
     },
     "execution_count": 877,
     "metadata": {},
     "output_type": "execute_result"
    }
   ],
   "source": [
    "churn.drop(to_drop, axis = 1, inplace = True)\n",
    "churn.head()"
   ]
  },
  {
   "cell_type": "code",
   "execution_count": 878,
   "metadata": {},
   "outputs": [
    {
     "data": {
      "text/plain": [
       "(7043, 29)"
      ]
     },
     "execution_count": 878,
     "metadata": {},
     "output_type": "execute_result"
    }
   ],
   "source": [
    "churn.shape"
   ]
  },
  {
   "cell_type": "code",
   "execution_count": 879,
   "metadata": {},
   "outputs": [
    {
     "data": {
      "text/plain": [
       "<class 'str'>    7043\n",
       "Name: TotalCharges, dtype: int64"
      ]
     },
     "execution_count": 879,
     "metadata": {},
     "output_type": "execute_result"
    }
   ],
   "source": [
    "churn['TotalCharges'].apply(type).value_counts()"
   ]
  },
  {
   "cell_type": "code",
   "execution_count": 880,
   "metadata": {},
   "outputs": [
    {
     "data": {
      "text/plain": [
       "11"
      ]
     },
     "execution_count": 880,
     "metadata": {},
     "output_type": "execute_result"
    }
   ],
   "source": [
    "churn['TotalCharges'] = pd.to_numeric(churn['TotalCharges'], errors = 'coerce')\n",
    "churn['TotalCharges'].isnull().sum()"
   ]
  },
  {
   "cell_type": "code",
   "execution_count": 881,
   "metadata": {},
   "outputs": [
    {
     "data": {
      "text/plain": [
       "(7032, 29)"
      ]
     },
     "execution_count": 881,
     "metadata": {},
     "output_type": "execute_result"
    }
   ],
   "source": [
    "churn.dropna(axis = 0, inplace = True)\n",
    "churn.shape"
   ]
  },
  {
   "cell_type": "code",
   "execution_count": 882,
   "metadata": {},
   "outputs": [
    {
     "data": {
      "text/plain": [
       "tenure                                       int64\n",
       "PaperlessBilling                             int64\n",
       "MonthlyCharges                             float64\n",
       "TotalCharges                               float64\n",
       "Churn                                        int64\n",
       "gender                                       int64\n",
       "Partner                                      int64\n",
       "Dependents                                   int64\n",
       "Contract_Month-to-month                      uint8\n",
       "Contract_Two year                            uint8\n",
       "PaymentMethod_Bank transfer (automatic)      uint8\n",
       "PaymentMethod_Electronic check               uint8\n",
       "PaymentMethod_Mailed check                   uint8\n",
       "MultipleLines_No                             uint8\n",
       "MultipleLines_No phone service               uint8\n",
       "InternetService_DSL                          uint8\n",
       "InternetService_Fiber optic                  uint8\n",
       "OnlineSecurity_No                            uint8\n",
       "OnlineSecurity_Yes                           uint8\n",
       "OnlineBackup_No                              uint8\n",
       "OnlineBackup_Yes                             uint8\n",
       "DeviceProtection_No                          uint8\n",
       "DeviceProtection_Yes                         uint8\n",
       "TechSupport_No                               uint8\n",
       "TechSupport_Yes                              uint8\n",
       "StreamingTV_No                               uint8\n",
       "StreamingTV_Yes                              uint8\n",
       "StreamingMovies_No                           uint8\n",
       "StreamingMovies_Yes                          uint8\n",
       "dtype: object"
      ]
     },
     "execution_count": 882,
     "metadata": {},
     "output_type": "execute_result"
    }
   ],
   "source": [
    "churn.dtypes "
   ]
  },
  {
   "cell_type": "code",
   "execution_count": 883,
   "metadata": {},
   "outputs": [
    {
     "data": {
      "text/plain": [
       "<matplotlib.axes._subplots.AxesSubplot at 0x1d070d08>"
      ]
     },
     "execution_count": 883,
     "metadata": {},
     "output_type": "execute_result"
    },
    {
     "data": {
      "image/png": "[encoded data removed]",
      "text/plain": [
       "<Figure size 720x576 with 2 Axes>"
      ]
     },
     "metadata": {
      "needs_background": "light"
     },
     "output_type": "display_data"
    }
   ],
   "source": [
    "plt.figure(figsize = (10, 8))\n",
    "sns.heatmap(churn.corr()[(churn.corr() > 0.75)|(churn.corr()<-0.75)], annot = True, cmap = 'Reds')"
   ]
  },
  {
   "cell_type": "markdown",
   "metadata": {},
   "source": [
    "### Checking Null"
   ]
  },
  {
   "cell_type": "code",
   "execution_count": 885,
   "metadata": {},
   "outputs": [
    {
     "data": {
      "text/plain": [
       "tenure                                     0\n",
       "PaperlessBilling                           0\n",
       "MonthlyCharges                             0\n",
       "TotalCharges                               0\n",
       "Churn                                      0\n",
       "gender                                     0\n",
       "Partner                                    0\n",
       "Dependents                                 0\n",
       "Contract_Month-to-month                    0\n",
       "Contract_Two year                          0\n",
       "PaymentMethod_Bank transfer (automatic)    0\n",
       "PaymentMethod_Electronic check             0\n",
       "PaymentMethod_Mailed check                 0\n",
       "MultipleLines_No                           0\n",
       "MultipleLines_No phone service             0\n",
       "InternetService_DSL                        0\n",
       "InternetService_Fiber optic                0\n",
       "OnlineSecurity_No                          0\n",
       "OnlineSecurity_Yes                         0\n",
       "OnlineBackup_No                            0\n",
       "OnlineBackup_Yes                           0\n",
       "DeviceProtection_No                        0\n",
       "DeviceProtection_Yes                       0\n",
       "TechSupport_No                             0\n",
       "TechSupport_Yes                            0\n",
       "StreamingTV_No                             0\n",
       "StreamingTV_Yes                            0\n",
       "StreamingMovies_No                         0\n",
       "StreamingMovies_Yes                        0\n",
       "dtype: int64"
      ]
     },
     "execution_count": 885,
     "metadata": {},
     "output_type": "execute_result"
    }
   ],
   "source": [
    "churn.isnull().sum()"
   ]
  },
  {
   "cell_type": "markdown",
   "metadata": {},
   "source": [
    "### Checking Outliers"
   ]
  },
  {
   "cell_type": "code",
   "execution_count": 887,
   "metadata": {},
   "outputs": [
    {
     "data": {
      "text/html": [
       "<div>\n",
       "<style scoped>\n",
       "    .dataframe tbody tr th:only-of-type {\n",
       "        vertical-align: middle;\n",
       "    }\n",
       "\n",
       "    .dataframe tbody tr th {\n",
       "        vertical-align: top;\n",
       "    }\n",
       "\n",
       "    .dataframe thead th {\n",
       "        text-align: right;\n",
       "    }\n",
       "</style>\n",
       "<table border=\"1\" class=\"dataframe\">\n",
       "  <thead>\n",
       "    <tr style=\"text-align: right;\">\n",
       "      <th></th>\n",
       "      <th>count</th>\n",
       "      <th>mean</th>\n",
       "      <th>std</th>\n",
       "      <th>min</th>\n",
       "      <th>25%</th>\n",
       "      <th>50%</th>\n",
       "      <th>75%</th>\n",
       "      <th>90%</th>\n",
       "      <th>95%</th>\n",
       "      <th>99%</th>\n",
       "      <th>max</th>\n",
       "    </tr>\n",
       "  </thead>\n",
       "  <tbody>\n",
       "    <tr>\n",
       "      <th>tenure</th>\n",
       "      <td>7032.0</td>\n",
       "      <td>32.421786</td>\n",
       "      <td>24.545260</td>\n",
       "      <td>1.00</td>\n",
       "      <td>9.0000</td>\n",
       "      <td>29.000</td>\n",
       "      <td>55.0000</td>\n",
       "      <td>69.000</td>\n",
       "      <td>72.0000</td>\n",
       "      <td>72.0000</td>\n",
       "      <td>72.00</td>\n",
       "    </tr>\n",
       "    <tr>\n",
       "      <th>PaperlessBilling</th>\n",
       "      <td>7032.0</td>\n",
       "      <td>0.592719</td>\n",
       "      <td>0.491363</td>\n",
       "      <td>0.00</td>\n",
       "      <td>0.0000</td>\n",
       "      <td>1.000</td>\n",
       "      <td>1.0000</td>\n",
       "      <td>1.000</td>\n",
       "      <td>1.0000</td>\n",
       "      <td>1.0000</td>\n",
       "      <td>1.00</td>\n",
       "    </tr>\n",
       "    <tr>\n",
       "      <th>MonthlyCharges</th>\n",
       "      <td>7032.0</td>\n",
       "      <td>64.798208</td>\n",
       "      <td>30.085974</td>\n",
       "      <td>18.25</td>\n",
       "      <td>35.5875</td>\n",
       "      <td>70.350</td>\n",
       "      <td>89.8625</td>\n",
       "      <td>102.645</td>\n",
       "      <td>107.4225</td>\n",
       "      <td>114.7345</td>\n",
       "      <td>118.75</td>\n",
       "    </tr>\n",
       "    <tr>\n",
       "      <th>TotalCharges</th>\n",
       "      <td>7032.0</td>\n",
       "      <td>2283.300441</td>\n",
       "      <td>2266.771362</td>\n",
       "      <td>18.80</td>\n",
       "      <td>401.4500</td>\n",
       "      <td>1397.475</td>\n",
       "      <td>3794.7375</td>\n",
       "      <td>5976.640</td>\n",
       "      <td>6923.5900</td>\n",
       "      <td>8039.8830</td>\n",
       "      <td>8684.80</td>\n",
       "    </tr>\n",
       "    <tr>\n",
       "      <th>Churn</th>\n",
       "      <td>7032.0</td>\n",
       "      <td>0.265785</td>\n",
       "      <td>0.441782</td>\n",
       "      <td>0.00</td>\n",
       "      <td>0.0000</td>\n",
       "      <td>0.000</td>\n",
       "      <td>1.0000</td>\n",
       "      <td>1.000</td>\n",
       "      <td>1.0000</td>\n",
       "      <td>1.0000</td>\n",
       "      <td>1.00</td>\n",
       "    </tr>\n",
       "    <tr>\n",
       "      <th>gender</th>\n",
       "      <td>7032.0</td>\n",
       "      <td>0.504693</td>\n",
       "      <td>0.500014</td>\n",
       "      <td>0.00</td>\n",
       "      <td>0.0000</td>\n",
       "      <td>1.000</td>\n",
       "      <td>1.0000</td>\n",
       "      <td>1.000</td>\n",
       "      <td>1.0000</td>\n",
       "      <td>1.0000</td>\n",
       "      <td>1.00</td>\n",
       "    </tr>\n",
       "    <tr>\n",
       "      <th>Partner</th>\n",
       "      <td>7032.0</td>\n",
       "      <td>0.482509</td>\n",
       "      <td>0.499729</td>\n",
       "      <td>0.00</td>\n",
       "      <td>0.0000</td>\n",
       "      <td>0.000</td>\n",
       "      <td>1.0000</td>\n",
       "      <td>1.000</td>\n",
       "      <td>1.0000</td>\n",
       "      <td>1.0000</td>\n",
       "      <td>1.00</td>\n",
       "    </tr>\n",
       "    <tr>\n",
       "      <th>Dependents</th>\n",
       "      <td>7032.0</td>\n",
       "      <td>0.298493</td>\n",
       "      <td>0.457629</td>\n",
       "      <td>0.00</td>\n",
       "      <td>0.0000</td>\n",
       "      <td>0.000</td>\n",
       "      <td>1.0000</td>\n",
       "      <td>1.000</td>\n",
       "      <td>1.0000</td>\n",
       "      <td>1.0000</td>\n",
       "      <td>1.00</td>\n",
       "    </tr>\n",
       "    <tr>\n",
       "      <th>Contract_Month-to-month</th>\n",
       "      <td>7032.0</td>\n",
       "      <td>0.551052</td>\n",
       "      <td>0.497422</td>\n",
       "      <td>0.00</td>\n",
       "      <td>0.0000</td>\n",
       "      <td>1.000</td>\n",
       "      <td>1.0000</td>\n",
       "      <td>1.000</td>\n",
       "      <td>1.0000</td>\n",
       "      <td>1.0000</td>\n",
       "      <td>1.00</td>\n",
       "    </tr>\n",
       "    <tr>\n",
       "      <th>Contract_Two year</th>\n",
       "      <td>7032.0</td>\n",
       "      <td>0.239619</td>\n",
       "      <td>0.426881</td>\n",
       "      <td>0.00</td>\n",
       "      <td>0.0000</td>\n",
       "      <td>0.000</td>\n",
       "      <td>0.0000</td>\n",
       "      <td>1.000</td>\n",
       "      <td>1.0000</td>\n",
       "      <td>1.0000</td>\n",
       "      <td>1.00</td>\n",
       "    </tr>\n",
       "    <tr>\n",
       "      <th>PaymentMethod_Bank transfer (automatic)</th>\n",
       "      <td>7032.0</td>\n",
       "      <td>0.219283</td>\n",
       "      <td>0.413790</td>\n",
       "      <td>0.00</td>\n",
       "      <td>0.0000</td>\n",
       "      <td>0.000</td>\n",
       "      <td>0.0000</td>\n",
       "      <td>1.000</td>\n",
       "      <td>1.0000</td>\n",
       "      <td>1.0000</td>\n",
       "      <td>1.00</td>\n",
       "    </tr>\n",
       "    <tr>\n",
       "      <th>PaymentMethod_Electronic check</th>\n",
       "      <td>7032.0</td>\n",
       "      <td>0.336320</td>\n",
       "      <td>0.472483</td>\n",
       "      <td>0.00</td>\n",
       "      <td>0.0000</td>\n",
       "      <td>0.000</td>\n",
       "      <td>1.0000</td>\n",
       "      <td>1.000</td>\n",
       "      <td>1.0000</td>\n",
       "      <td>1.0000</td>\n",
       "      <td>1.00</td>\n",
       "    </tr>\n",
       "    <tr>\n",
       "      <th>PaymentMethod_Mailed check</th>\n",
       "      <td>7032.0</td>\n",
       "      <td>0.228100</td>\n",
       "      <td>0.419637</td>\n",
       "      <td>0.00</td>\n",
       "      <td>0.0000</td>\n",
       "      <td>0.000</td>\n",
       "      <td>0.0000</td>\n",
       "      <td>1.000</td>\n",
       "      <td>1.0000</td>\n",
       "      <td>1.0000</td>\n",
       "      <td>1.00</td>\n",
       "    </tr>\n",
       "    <tr>\n",
       "      <th>MultipleLines_No</th>\n",
       "      <td>7032.0</td>\n",
       "      <td>0.481371</td>\n",
       "      <td>0.499688</td>\n",
       "      <td>0.00</td>\n",
       "      <td>0.0000</td>\n",
       "      <td>0.000</td>\n",
       "      <td>1.0000</td>\n",
       "      <td>1.000</td>\n",
       "      <td>1.0000</td>\n",
       "      <td>1.0000</td>\n",
       "      <td>1.00</td>\n",
       "    </tr>\n",
       "    <tr>\n",
       "      <th>MultipleLines_No phone service</th>\n",
       "      <td>7032.0</td>\n",
       "      <td>0.096701</td>\n",
       "      <td>0.295571</td>\n",
       "      <td>0.00</td>\n",
       "      <td>0.0000</td>\n",
       "      <td>0.000</td>\n",
       "      <td>0.0000</td>\n",
       "      <td>0.000</td>\n",
       "      <td>1.0000</td>\n",
       "      <td>1.0000</td>\n",
       "      <td>1.00</td>\n",
       "    </tr>\n",
       "    <tr>\n",
       "      <th>InternetService_DSL</th>\n",
       "      <td>7032.0</td>\n",
       "      <td>0.343572</td>\n",
       "      <td>0.474934</td>\n",
       "      <td>0.00</td>\n",
       "      <td>0.0000</td>\n",
       "      <td>0.000</td>\n",
       "      <td>1.0000</td>\n",
       "      <td>1.000</td>\n",
       "      <td>1.0000</td>\n",
       "      <td>1.0000</td>\n",
       "      <td>1.00</td>\n",
       "    </tr>\n",
       "    <tr>\n",
       "      <th>InternetService_Fiber optic</th>\n",
       "      <td>7032.0</td>\n",
       "      <td>0.440273</td>\n",
       "      <td>0.496455</td>\n",
       "      <td>0.00</td>\n",
       "      <td>0.0000</td>\n",
       "      <td>0.000</td>\n",
       "      <td>1.0000</td>\n",
       "      <td>1.000</td>\n",
       "      <td>1.0000</td>\n",
       "      <td>1.0000</td>\n",
       "      <td>1.00</td>\n",
       "    </tr>\n",
       "    <tr>\n",
       "      <th>OnlineSecurity_No</th>\n",
       "      <td>7032.0</td>\n",
       "      <td>0.497298</td>\n",
       "      <td>0.500028</td>\n",
       "      <td>0.00</td>\n",
       "      <td>0.0000</td>\n",
       "      <td>0.000</td>\n",
       "      <td>1.0000</td>\n",
       "      <td>1.000</td>\n",
       "      <td>1.0000</td>\n",
       "      <td>1.0000</td>\n",
       "      <td>1.00</td>\n",
       "    </tr>\n",
       "    <tr>\n",
       "      <th>OnlineSecurity_Yes</th>\n",
       "      <td>7032.0</td>\n",
       "      <td>0.286547</td>\n",
       "      <td>0.452180</td>\n",
       "      <td>0.00</td>\n",
       "      <td>0.0000</td>\n",
       "      <td>0.000</td>\n",
       "      <td>1.0000</td>\n",
       "      <td>1.000</td>\n",
       "      <td>1.0000</td>\n",
       "      <td>1.0000</td>\n",
       "      <td>1.00</td>\n",
       "    </tr>\n",
       "    <tr>\n",
       "      <th>OnlineBackup_No</th>\n",
       "      <td>7032.0</td>\n",
       "      <td>0.438993</td>\n",
       "      <td>0.496300</td>\n",
       "      <td>0.00</td>\n",
       "      <td>0.0000</td>\n",
       "      <td>0.000</td>\n",
       "      <td>1.0000</td>\n",
       "      <td>1.000</td>\n",
       "      <td>1.0000</td>\n",
       "      <td>1.0000</td>\n",
       "      <td>1.00</td>\n",
       "    </tr>\n",
       "    <tr>\n",
       "      <th>OnlineBackup_Yes</th>\n",
       "      <td>7032.0</td>\n",
       "      <td>0.344852</td>\n",
       "      <td>0.475354</td>\n",
       "      <td>0.00</td>\n",
       "      <td>0.0000</td>\n",
       "      <td>0.000</td>\n",
       "      <td>1.0000</td>\n",
       "      <td>1.000</td>\n",
       "      <td>1.0000</td>\n",
       "      <td>1.0000</td>\n",
       "      <td>1.00</td>\n",
       "    </tr>\n",
       "    <tr>\n",
       "      <th>DeviceProtection_No</th>\n",
       "      <td>7032.0</td>\n",
       "      <td>0.439989</td>\n",
       "      <td>0.496421</td>\n",
       "      <td>0.00</td>\n",
       "      <td>0.0000</td>\n",
       "      <td>0.000</td>\n",
       "      <td>1.0000</td>\n",
       "      <td>1.000</td>\n",
       "      <td>1.0000</td>\n",
       "      <td>1.0000</td>\n",
       "      <td>1.00</td>\n",
       "    </tr>\n",
       "    <tr>\n",
       "      <th>DeviceProtection_Yes</th>\n",
       "      <td>7032.0</td>\n",
       "      <td>0.343857</td>\n",
       "      <td>0.475028</td>\n",
       "      <td>0.00</td>\n",
       "      <td>0.0000</td>\n",
       "      <td>0.000</td>\n",
       "      <td>1.0000</td>\n",
       "      <td>1.000</td>\n",
       "      <td>1.0000</td>\n",
       "      <td>1.0000</td>\n",
       "      <td>1.00</td>\n",
       "    </tr>\n",
       "    <tr>\n",
       "      <th>TechSupport_No</th>\n",
       "      <td>7032.0</td>\n",
       "      <td>0.493743</td>\n",
       "      <td>0.499996</td>\n",
       "      <td>0.00</td>\n",
       "      <td>0.0000</td>\n",
       "      <td>0.000</td>\n",
       "      <td>1.0000</td>\n",
       "      <td>1.000</td>\n",
       "      <td>1.0000</td>\n",
       "      <td>1.0000</td>\n",
       "      <td>1.00</td>\n",
       "    </tr>\n",
       "    <tr>\n",
       "      <th>TechSupport_Yes</th>\n",
       "      <td>7032.0</td>\n",
       "      <td>0.290102</td>\n",
       "      <td>0.453842</td>\n",
       "      <td>0.00</td>\n",
       "      <td>0.0000</td>\n",
       "      <td>0.000</td>\n",
       "      <td>1.0000</td>\n",
       "      <td>1.000</td>\n",
       "      <td>1.0000</td>\n",
       "      <td>1.0000</td>\n",
       "      <td>1.00</td>\n",
       "    </tr>\n",
       "    <tr>\n",
       "      <th>StreamingTV_No</th>\n",
       "      <td>7032.0</td>\n",
       "      <td>0.399460</td>\n",
       "      <td>0.489822</td>\n",
       "      <td>0.00</td>\n",
       "      <td>0.0000</td>\n",
       "      <td>0.000</td>\n",
       "      <td>1.0000</td>\n",
       "      <td>1.000</td>\n",
       "      <td>1.0000</td>\n",
       "      <td>1.0000</td>\n",
       "      <td>1.00</td>\n",
       "    </tr>\n",
       "    <tr>\n",
       "      <th>StreamingTV_Yes</th>\n",
       "      <td>7032.0</td>\n",
       "      <td>0.384386</td>\n",
       "      <td>0.486484</td>\n",
       "      <td>0.00</td>\n",
       "      <td>0.0000</td>\n",
       "      <td>0.000</td>\n",
       "      <td>1.0000</td>\n",
       "      <td>1.000</td>\n",
       "      <td>1.0000</td>\n",
       "      <td>1.0000</td>\n",
       "      <td>1.00</td>\n",
       "    </tr>\n",
       "    <tr>\n",
       "      <th>StreamingMovies_No</th>\n",
       "      <td>7032.0</td>\n",
       "      <td>0.395478</td>\n",
       "      <td>0.488988</td>\n",
       "      <td>0.00</td>\n",
       "      <td>0.0000</td>\n",
       "      <td>0.000</td>\n",
       "      <td>1.0000</td>\n",
       "      <td>1.000</td>\n",
       "      <td>1.0000</td>\n",
       "      <td>1.0000</td>\n",
       "      <td>1.00</td>\n",
       "    </tr>\n",
       "    <tr>\n",
       "      <th>StreamingMovies_Yes</th>\n",
       "      <td>7032.0</td>\n",
       "      <td>0.388367</td>\n",
       "      <td>0.487414</td>\n",
       "      <td>0.00</td>\n",
       "      <td>0.0000</td>\n",
       "      <td>0.000</td>\n",
       "      <td>1.0000</td>\n",
       "      <td>1.000</td>\n",
       "      <td>1.0000</td>\n",
       "      <td>1.0000</td>\n",
       "      <td>1.00</td>\n",
       "    </tr>\n",
       "  </tbody>\n",
       "</table>\n",
       "</div>"
      ],
      "text/plain": [
       "                                          count         mean          std  \\\n",
       "tenure                                   7032.0    32.421786    24.545260   \n",
       "PaperlessBilling                         7032.0     0.592719     0.491363   \n",
       "MonthlyCharges                           7032.0    64.798208    30.085974   \n",
       "TotalCharges                             7032.0  2283.300441  2266.771362   \n",
       "Churn                                    7032.0     0.265785     0.441782   \n",
       "gender                                   7032.0     0.504693     0.500014   \n",
       "Partner                                  7032.0     0.482509     0.499729   \n",
       "Dependents                               7032.0     0.298493     0.457629   \n",
       "Contract_Month-to-month                  7032.0     0.551052     0.497422   \n",
       "Contract_Two year                        7032.0     0.239619     0.426881   \n",
       "PaymentMethod_Bank transfer (automatic)  7032.0     0.219283     0.413790   \n",
       "PaymentMethod_Electronic check           7032.0     0.336320     0.472483   \n",
       "PaymentMethod_Mailed check               7032.0     0.228100     0.419637   \n",
       "MultipleLines_No                         7032.0     0.481371     0.499688   \n",
       "MultipleLines_No phone service           7032.0     0.096701     0.295571   \n",
       "InternetService_DSL                      7032.0     0.343572     0.474934   \n",
       "InternetService_Fiber optic              7032.0     0.440273     0.496455   \n",
       "OnlineSecurity_No                        7032.0     0.497298     0.500028   \n",
       "OnlineSecurity_Yes                       7032.0     0.286547     0.452180   \n",
       "OnlineBackup_No                          7032.0     0.438993     0.496300   \n",
       "OnlineBackup_Yes                         7032.0     0.344852     0.475354   \n",
       "DeviceProtection_No                      7032.0     0.439989     0.496421   \n",
       "DeviceProtection_Yes                     7032.0     0.343857     0.475028   \n",
       "TechSupport_No                           7032.0     0.493743     0.499996   \n",
       "TechSupport_Yes                          7032.0     0.290102     0.453842   \n",
       "StreamingTV_No                           7032.0     0.399460     0.489822   \n",
       "StreamingTV_Yes                          7032.0     0.384386     0.486484   \n",
       "StreamingMovies_No                       7032.0     0.395478     0.488988   \n",
       "StreamingMovies_Yes                      7032.0     0.388367     0.487414   \n",
       "\n",
       "                                           min       25%       50%        75%  \\\n",
       "tenure                                    1.00    9.0000    29.000    55.0000   \n",
       "PaperlessBilling                          0.00    0.0000     1.000     1.0000   \n",
       "MonthlyCharges                           18.25   35.5875    70.350    89.8625   \n",
       "TotalCharges                             18.80  401.4500  1397.475  3794.7375   \n",
       "Churn                                     0.00    0.0000     0.000     1.0000   \n",
       "gender                                    0.00    0.0000     1.000     1.0000   \n",
       "Partner                                   0.00    0.0000     0.000     1.0000   \n",
       "Dependents                                0.00    0.0000     0.000     1.0000   \n",
       "Contract_Month-to-month                   0.00    0.0000     1.000     1.0000   \n",
       "Contract_Two year                         0.00    0.0000     0.000     0.0000   \n",
       "PaymentMethod_Bank transfer (automatic)   0.00    0.0000     0.000     0.0000   \n",
       "PaymentMethod_Electronic check            0.00    0.0000     0.000     1.0000   \n",
       "PaymentMethod_Mailed check                0.00    0.0000     0.000     0.0000   \n",
       "MultipleLines_No                          0.00    0.0000     0.000     1.0000   \n",
       "MultipleLines_No phone service            0.00    0.0000     0.000     0.0000   \n",
       "InternetService_DSL                       0.00    0.0000     0.000     1.0000   \n",
       "InternetService_Fiber optic               0.00    0.0000     0.000     1.0000   \n",
       "OnlineSecurity_No                         0.00    0.0000     0.000     1.0000   \n",
       "OnlineSecurity_Yes                        0.00    0.0000     0.000     1.0000   \n",
       "OnlineBackup_No                           0.00    0.0000     0.000     1.0000   \n",
       "OnlineBackup_Yes                          0.00    0.0000     0.000     1.0000   \n",
       "DeviceProtection_No                       0.00    0.0000     0.000     1.0000   \n",
       "DeviceProtection_Yes                      0.00    0.0000     0.000     1.0000   \n",
       "TechSupport_No                            0.00    0.0000     0.000     1.0000   \n",
       "TechSupport_Yes                           0.00    0.0000     0.000     1.0000   \n",
       "StreamingTV_No                            0.00    0.0000     0.000     1.0000   \n",
       "StreamingTV_Yes                           0.00    0.0000     0.000     1.0000   \n",
       "StreamingMovies_No                        0.00    0.0000     0.000     1.0000   \n",
       "StreamingMovies_Yes                       0.00    0.0000     0.000     1.0000   \n",
       "\n",
       "                                              90%        95%        99%  \\\n",
       "tenure                                     69.000    72.0000    72.0000   \n",
       "PaperlessBilling                            1.000     1.0000     1.0000   \n",
       "MonthlyCharges                            102.645   107.4225   114.7345   \n",
       "TotalCharges                             5976.640  6923.5900  8039.8830   \n",
       "Churn                                       1.000     1.0000     1.0000   \n",
       "gender                                      1.000     1.0000     1.0000   \n",
       "Partner                                     1.000     1.0000     1.0000   \n",
       "Dependents                                  1.000     1.0000     1.0000   \n",
       "Contract_Month-to-month                     1.000     1.0000     1.0000   \n",
       "Contract_Two year                           1.000     1.0000     1.0000   \n",
       "PaymentMethod_Bank transfer (automatic)     1.000     1.0000     1.0000   \n",
       "PaymentMethod_Electronic check              1.000     1.0000     1.0000   \n",
       "PaymentMethod_Mailed check                  1.000     1.0000     1.0000   \n",
       "MultipleLines_No                            1.000     1.0000     1.0000   \n",
       "MultipleLines_No phone service              0.000     1.0000     1.0000   \n",
       "InternetService_DSL                         1.000     1.0000     1.0000   \n",
       "InternetService_Fiber optic                 1.000     1.0000     1.0000   \n",
       "OnlineSecurity_No                           1.000     1.0000     1.0000   \n",
       "OnlineSecurity_Yes                          1.000     1.0000     1.0000   \n",
       "OnlineBackup_No                             1.000     1.0000     1.0000   \n",
       "OnlineBackup_Yes                            1.000     1.0000     1.0000   \n",
       "DeviceProtection_No                         1.000     1.0000     1.0000   \n",
       "DeviceProtection_Yes                        1.000     1.0000     1.0000   \n",
       "TechSupport_No                              1.000     1.0000     1.0000   \n",
       "TechSupport_Yes                             1.000     1.0000     1.0000   \n",
       "StreamingTV_No                              1.000     1.0000     1.0000   \n",
       "StreamingTV_Yes                             1.000     1.0000     1.0000   \n",
       "StreamingMovies_No                          1.000     1.0000     1.0000   \n",
       "StreamingMovies_Yes                         1.000     1.0000     1.0000   \n",
       "\n",
       "                                             max  \n",
       "tenure                                     72.00  \n",
       "PaperlessBilling                            1.00  \n",
       "MonthlyCharges                            118.75  \n",
       "TotalCharges                             8684.80  \n",
       "Churn                                       1.00  \n",
       "gender                                      1.00  \n",
       "Partner                                     1.00  \n",
       "Dependents                                  1.00  \n",
       "Contract_Month-to-month                     1.00  \n",
       "Contract_Two year                           1.00  \n",
       "PaymentMethod_Bank transfer (automatic)     1.00  \n",
       "PaymentMethod_Electronic check              1.00  \n",
       "PaymentMethod_Mailed check                  1.00  \n",
       "MultipleLines_No                            1.00  \n",
       "MultipleLines_No phone service              1.00  \n",
       "InternetService_DSL                         1.00  \n",
       "InternetService_Fiber optic                 1.00  \n",
       "OnlineSecurity_No                           1.00  \n",
       "OnlineSecurity_Yes                          1.00  \n",
       "OnlineBackup_No                             1.00  \n",
       "OnlineBackup_Yes                            1.00  \n",
       "DeviceProtection_No                         1.00  \n",
       "DeviceProtection_Yes                        1.00  \n",
       "TechSupport_No                              1.00  \n",
       "TechSupport_Yes                             1.00  \n",
       "StreamingTV_No                              1.00  \n",
       "StreamingTV_Yes                             1.00  \n",
       "StreamingMovies_No                          1.00  \n",
       "StreamingMovies_Yes                         1.00  "
      ]
     },
     "execution_count": 887,
     "metadata": {},
     "output_type": "execute_result"
    }
   ],
   "source": [
    "# Checking outliers at 25%,50%,75%,90%,95% and 99%\n",
    "churn.describe(percentiles=[.25,.5,.75,.90,.95,.99]).T"
   ]
  },
  {
   "cell_type": "code",
   "execution_count": 888,
   "metadata": {},
   "outputs": [],
   "source": [
    "# There are no outliers"
   ]
  },
  {
   "cell_type": "code",
   "execution_count": 889,
   "metadata": {},
   "outputs": [
    {
     "data": {
      "text/html": [
       "<div>\n",
       "<style scoped>\n",
       "    .dataframe tbody tr th:only-of-type {\n",
       "        vertical-align: middle;\n",
       "    }\n",
       "\n",
       "    .dataframe tbody tr th {\n",
       "        vertical-align: top;\n",
       "    }\n",
       "\n",
       "    .dataframe thead th {\n",
       "        text-align: right;\n",
       "    }\n",
       "</style>\n",
       "<table border=\"1\" class=\"dataframe\">\n",
       "  <thead>\n",
       "    <tr style=\"text-align: right;\">\n",
       "      <th></th>\n",
       "      <th>tenure</th>\n",
       "      <th>MonthlyCharges</th>\n",
       "      <th>TotalCharges</th>\n",
       "    </tr>\n",
       "  </thead>\n",
       "  <tbody>\n",
       "    <tr>\n",
       "      <th>0</th>\n",
       "      <td>1</td>\n",
       "      <td>29.85</td>\n",
       "      <td>29.85</td>\n",
       "    </tr>\n",
       "    <tr>\n",
       "      <th>1</th>\n",
       "      <td>34</td>\n",
       "      <td>56.95</td>\n",
       "      <td>1889.50</td>\n",
       "    </tr>\n",
       "    <tr>\n",
       "      <th>2</th>\n",
       "      <td>2</td>\n",
       "      <td>53.85</td>\n",
       "      <td>108.15</td>\n",
       "    </tr>\n",
       "    <tr>\n",
       "      <th>3</th>\n",
       "      <td>45</td>\n",
       "      <td>42.30</td>\n",
       "      <td>1840.75</td>\n",
       "    </tr>\n",
       "    <tr>\n",
       "      <th>4</th>\n",
       "      <td>2</td>\n",
       "      <td>70.70</td>\n",
       "      <td>151.65</td>\n",
       "    </tr>\n",
       "  </tbody>\n",
       "</table>\n",
       "</div>"
      ],
      "text/plain": [
       "   tenure  MonthlyCharges  TotalCharges\n",
       "0       1           29.85         29.85\n",
       "1      34           56.95       1889.50\n",
       "2       2           53.85        108.15\n",
       "3      45           42.30       1840.75\n",
       "4       2           70.70        151.65"
      ]
     },
     "execution_count": 889,
     "metadata": {},
     "output_type": "execute_result"
    }
   ],
   "source": [
    "to_scale = churn[['tenure', 'MonthlyCharges', 'TotalCharges']]\n",
    "to_scale.head()"
   ]
  },
  {
   "cell_type": "markdown",
   "metadata": {},
   "source": [
    "### Standardizing"
   ]
  },
  {
   "cell_type": "code",
   "execution_count": 890,
   "metadata": {},
   "outputs": [
    {
     "data": {
      "text/html": [
       "<div>\n",
       "<style scoped>\n",
       "    .dataframe tbody tr th:only-of-type {\n",
       "        vertical-align: middle;\n",
       "    }\n",
       "\n",
       "    .dataframe tbody tr th {\n",
       "        vertical-align: top;\n",
       "    }\n",
       "\n",
       "    .dataframe thead th {\n",
       "        text-align: right;\n",
       "    }\n",
       "</style>\n",
       "<table border=\"1\" class=\"dataframe\">\n",
       "  <thead>\n",
       "    <tr style=\"text-align: right;\">\n",
       "      <th></th>\n",
       "      <th>tenure</th>\n",
       "      <th>MonthlyCharges</th>\n",
       "      <th>TotalCharges</th>\n",
       "    </tr>\n",
       "  </thead>\n",
       "  <tbody>\n",
       "    <tr>\n",
       "      <th>0</th>\n",
       "      <td>-1.280248</td>\n",
       "      <td>-1.161694</td>\n",
       "      <td>-0.994194</td>\n",
       "    </tr>\n",
       "    <tr>\n",
       "      <th>1</th>\n",
       "      <td>0.064303</td>\n",
       "      <td>-0.260878</td>\n",
       "      <td>-0.173740</td>\n",
       "    </tr>\n",
       "    <tr>\n",
       "      <th>2</th>\n",
       "      <td>-1.239504</td>\n",
       "      <td>-0.363923</td>\n",
       "      <td>-0.959649</td>\n",
       "    </tr>\n",
       "    <tr>\n",
       "      <th>3</th>\n",
       "      <td>0.512486</td>\n",
       "      <td>-0.747850</td>\n",
       "      <td>-0.195248</td>\n",
       "    </tr>\n",
       "    <tr>\n",
       "      <th>4</th>\n",
       "      <td>-1.239504</td>\n",
       "      <td>0.196178</td>\n",
       "      <td>-0.940457</td>\n",
       "    </tr>\n",
       "  </tbody>\n",
       "</table>\n",
       "</div>"
      ],
      "text/plain": [
       "     tenure  MonthlyCharges  TotalCharges\n",
       "0 -1.280248       -1.161694     -0.994194\n",
       "1  0.064303       -0.260878     -0.173740\n",
       "2 -1.239504       -0.363923     -0.959649\n",
       "3  0.512486       -0.747850     -0.195248\n",
       "4 -1.239504        0.196178     -0.940457"
      ]
     },
     "execution_count": 890,
     "metadata": {},
     "output_type": "execute_result"
    }
   ],
   "source": [
    "from sklearn.preprocessing import StandardScaler\n",
    "scaler = StandardScaler()\n",
    "scaled = scaler.fit_transform(to_scale)\n",
    "\n",
    "new = pd.DataFrame(scaled, columns = ['tenure', 'MonthlyCharges', 'TotalCharges'])\n",
    "churn.drop(['tenure', 'MonthlyCharges', 'TotalCharges'], axis = 1, inplace = True)\n",
    "new.head()"
   ]
  },
  {
   "cell_type": "code",
   "execution_count": 891,
   "metadata": {},
   "outputs": [
    {
     "data": {
      "text/plain": [
       "(7032, 3)"
      ]
     },
     "execution_count": 891,
     "metadata": {},
     "output_type": "execute_result"
    }
   ],
   "source": [
    "new.shape"
   ]
  },
  {
   "cell_type": "code",
   "execution_count": 892,
   "metadata": {},
   "outputs": [
    {
     "data": {
      "text/plain": [
       "(7032, 26)"
      ]
     },
     "execution_count": 892,
     "metadata": {},
     "output_type": "execute_result"
    }
   ],
   "source": [
    "churn.shape"
   ]
  },
  {
   "cell_type": "code",
   "execution_count": 894,
   "metadata": {},
   "outputs": [
    {
     "data": {
      "text/plain": [
       "(7043, 29)"
      ]
     },
     "execution_count": 894,
     "metadata": {},
     "output_type": "execute_result"
    }
   ],
   "source": [
    "churn_data = pd.concat([ churn, new ], axis = 1)\n",
    "churn_data.shape"
   ]
  },
  {
   "cell_type": "code",
   "execution_count": 895,
   "metadata": {},
   "outputs": [
    {
     "data": {
      "text/plain": [
       "PaperlessBilling                           11\n",
       "Churn                                      11\n",
       "gender                                     11\n",
       "Partner                                    11\n",
       "Dependents                                 11\n",
       "Contract_Month-to-month                    11\n",
       "Contract_Two year                          11\n",
       "PaymentMethod_Bank transfer (automatic)    11\n",
       "PaymentMethod_Electronic check             11\n",
       "PaymentMethod_Mailed check                 11\n",
       "MultipleLines_No                           11\n",
       "MultipleLines_No phone service             11\n",
       "InternetService_DSL                        11\n",
       "InternetService_Fiber optic                11\n",
       "OnlineSecurity_No                          11\n",
       "OnlineSecurity_Yes                         11\n",
       "OnlineBackup_No                            11\n",
       "OnlineBackup_Yes                           11\n",
       "DeviceProtection_No                        11\n",
       "DeviceProtection_Yes                       11\n",
       "TechSupport_No                             11\n",
       "TechSupport_Yes                            11\n",
       "StreamingTV_No                             11\n",
       "StreamingTV_Yes                            11\n",
       "StreamingMovies_No                         11\n",
       "StreamingMovies_Yes                        11\n",
       "tenure                                     11\n",
       "MonthlyCharges                             11\n",
       "TotalCharges                               11\n",
       "dtype: int64"
      ]
     },
     "execution_count": 895,
     "metadata": {},
     "output_type": "execute_result"
    }
   ],
   "source": [
    "churn_data.isnull().sum()"
   ]
  },
  {
   "cell_type": "code",
   "execution_count": 896,
   "metadata": {},
   "outputs": [
    {
     "data": {
      "text/plain": [
       "(7021, 29)"
      ]
     },
     "execution_count": 896,
     "metadata": {},
     "output_type": "execute_result"
    }
   ],
   "source": [
    "churn_data.dropna(axis = 0, inplace = True)\n",
    "churn_data.shape"
   ]
  },
  {
   "cell_type": "code",
   "execution_count": 897,
   "metadata": {},
   "outputs": [
    {
     "data": {
      "text/html": [
       "<div>\n",
       "<style scoped>\n",
       "    .dataframe tbody tr th:only-of-type {\n",
       "        vertical-align: middle;\n",
       "    }\n",
       "\n",
       "    .dataframe tbody tr th {\n",
       "        vertical-align: top;\n",
       "    }\n",
       "\n",
       "    .dataframe thead th {\n",
       "        text-align: right;\n",
       "    }\n",
       "</style>\n",
       "<table border=\"1\" class=\"dataframe\">\n",
       "  <thead>\n",
       "    <tr style=\"text-align: right;\">\n",
       "      <th></th>\n",
       "      <th>PaperlessBilling</th>\n",
       "      <th>Churn</th>\n",
       "      <th>gender</th>\n",
       "      <th>Partner</th>\n",
       "      <th>Dependents</th>\n",
       "      <th>Contract_Month-to-month</th>\n",
       "      <th>Contract_Two year</th>\n",
       "      <th>PaymentMethod_Bank transfer (automatic)</th>\n",
       "      <th>PaymentMethod_Electronic check</th>\n",
       "      <th>PaymentMethod_Mailed check</th>\n",
       "      <th>...</th>\n",
       "      <th>DeviceProtection_Yes</th>\n",
       "      <th>TechSupport_No</th>\n",
       "      <th>TechSupport_Yes</th>\n",
       "      <th>StreamingTV_No</th>\n",
       "      <th>StreamingTV_Yes</th>\n",
       "      <th>StreamingMovies_No</th>\n",
       "      <th>StreamingMovies_Yes</th>\n",
       "      <th>tenure</th>\n",
       "      <th>MonthlyCharges</th>\n",
       "      <th>TotalCharges</th>\n",
       "    </tr>\n",
       "  </thead>\n",
       "  <tbody>\n",
       "    <tr>\n",
       "      <th>0</th>\n",
       "      <td>1.0</td>\n",
       "      <td>0.0</td>\n",
       "      <td>0.0</td>\n",
       "      <td>1.0</td>\n",
       "      <td>0.0</td>\n",
       "      <td>1.0</td>\n",
       "      <td>0.0</td>\n",
       "      <td>0.0</td>\n",
       "      <td>1.0</td>\n",
       "      <td>0.0</td>\n",
       "      <td>...</td>\n",
       "      <td>0.0</td>\n",
       "      <td>1.0</td>\n",
       "      <td>0.0</td>\n",
       "      <td>1.0</td>\n",
       "      <td>0.0</td>\n",
       "      <td>1.0</td>\n",
       "      <td>0.0</td>\n",
       "      <td>-1.280248</td>\n",
       "      <td>-1.161694</td>\n",
       "      <td>-0.994194</td>\n",
       "    </tr>\n",
       "    <tr>\n",
       "      <th>1</th>\n",
       "      <td>0.0</td>\n",
       "      <td>0.0</td>\n",
       "      <td>1.0</td>\n",
       "      <td>0.0</td>\n",
       "      <td>0.0</td>\n",
       "      <td>0.0</td>\n",
       "      <td>0.0</td>\n",
       "      <td>0.0</td>\n",
       "      <td>0.0</td>\n",
       "      <td>1.0</td>\n",
       "      <td>...</td>\n",
       "      <td>1.0</td>\n",
       "      <td>1.0</td>\n",
       "      <td>0.0</td>\n",
       "      <td>1.0</td>\n",
       "      <td>0.0</td>\n",
       "      <td>1.0</td>\n",
       "      <td>0.0</td>\n",
       "      <td>0.064303</td>\n",
       "      <td>-0.260878</td>\n",
       "      <td>-0.173740</td>\n",
       "    </tr>\n",
       "    <tr>\n",
       "      <th>2</th>\n",
       "      <td>1.0</td>\n",
       "      <td>1.0</td>\n",
       "      <td>1.0</td>\n",
       "      <td>0.0</td>\n",
       "      <td>0.0</td>\n",
       "      <td>1.0</td>\n",
       "      <td>0.0</td>\n",
       "      <td>0.0</td>\n",
       "      <td>0.0</td>\n",
       "      <td>1.0</td>\n",
       "      <td>...</td>\n",
       "      <td>0.0</td>\n",
       "      <td>1.0</td>\n",
       "      <td>0.0</td>\n",
       "      <td>1.0</td>\n",
       "      <td>0.0</td>\n",
       "      <td>1.0</td>\n",
       "      <td>0.0</td>\n",
       "      <td>-1.239504</td>\n",
       "      <td>-0.363923</td>\n",
       "      <td>-0.959649</td>\n",
       "    </tr>\n",
       "    <tr>\n",
       "      <th>3</th>\n",
       "      <td>0.0</td>\n",
       "      <td>0.0</td>\n",
       "      <td>1.0</td>\n",
       "      <td>0.0</td>\n",
       "      <td>0.0</td>\n",
       "      <td>0.0</td>\n",
       "      <td>0.0</td>\n",
       "      <td>1.0</td>\n",
       "      <td>0.0</td>\n",
       "      <td>0.0</td>\n",
       "      <td>...</td>\n",
       "      <td>1.0</td>\n",
       "      <td>0.0</td>\n",
       "      <td>1.0</td>\n",
       "      <td>1.0</td>\n",
       "      <td>0.0</td>\n",
       "      <td>1.0</td>\n",
       "      <td>0.0</td>\n",
       "      <td>0.512486</td>\n",
       "      <td>-0.747850</td>\n",
       "      <td>-0.195248</td>\n",
       "    </tr>\n",
       "    <tr>\n",
       "      <th>4</th>\n",
       "      <td>1.0</td>\n",
       "      <td>1.0</td>\n",
       "      <td>0.0</td>\n",
       "      <td>0.0</td>\n",
       "      <td>0.0</td>\n",
       "      <td>1.0</td>\n",
       "      <td>0.0</td>\n",
       "      <td>0.0</td>\n",
       "      <td>1.0</td>\n",
       "      <td>0.0</td>\n",
       "      <td>...</td>\n",
       "      <td>0.0</td>\n",
       "      <td>1.0</td>\n",
       "      <td>0.0</td>\n",
       "      <td>1.0</td>\n",
       "      <td>0.0</td>\n",
       "      <td>1.0</td>\n",
       "      <td>0.0</td>\n",
       "      <td>-1.239504</td>\n",
       "      <td>0.196178</td>\n",
       "      <td>-0.940457</td>\n",
       "    </tr>\n",
       "  </tbody>\n",
       "</table>\n",
       "<p>5 rows × 29 columns</p>\n",
       "</div>"
      ],
      "text/plain": [
       "   PaperlessBilling  Churn  gender  Partner  Dependents  \\\n",
       "0               1.0    0.0     0.0      1.0         0.0   \n",
       "1               0.0    0.0     1.0      0.0         0.0   \n",
       "2               1.0    1.0     1.0      0.0         0.0   \n",
       "3               0.0    0.0     1.0      0.0         0.0   \n",
       "4               1.0    1.0     0.0      0.0         0.0   \n",
       "\n",
       "   Contract_Month-to-month  Contract_Two year  \\\n",
       "0                      1.0                0.0   \n",
       "1                      0.0                0.0   \n",
       "2                      1.0                0.0   \n",
       "3                      0.0                0.0   \n",
       "4                      1.0                0.0   \n",
       "\n",
       "   PaymentMethod_Bank transfer (automatic)  PaymentMethod_Electronic check  \\\n",
       "0                                      0.0                             1.0   \n",
       "1                                      0.0                             0.0   \n",
       "2                                      0.0                             0.0   \n",
       "3                                      1.0                             0.0   \n",
       "4                                      0.0                             1.0   \n",
       "\n",
       "   PaymentMethod_Mailed check  ...  DeviceProtection_Yes  TechSupport_No  \\\n",
       "0                         0.0  ...                   0.0             1.0   \n",
       "1                         1.0  ...                   1.0             1.0   \n",
       "2                         1.0  ...                   0.0             1.0   \n",
       "3                         0.0  ...                   1.0             0.0   \n",
       "4                         0.0  ...                   0.0             1.0   \n",
       "\n",
       "   TechSupport_Yes  StreamingTV_No  StreamingTV_Yes  StreamingMovies_No  \\\n",
       "0              0.0             1.0              0.0                 1.0   \n",
       "1              0.0             1.0              0.0                 1.0   \n",
       "2              0.0             1.0              0.0                 1.0   \n",
       "3              1.0             1.0              0.0                 1.0   \n",
       "4              0.0             1.0              0.0                 1.0   \n",
       "\n",
       "   StreamingMovies_Yes    tenure  MonthlyCharges  TotalCharges  \n",
       "0                  0.0 -1.280248       -1.161694     -0.994194  \n",
       "1                  0.0  0.064303       -0.260878     -0.173740  \n",
       "2                  0.0 -1.239504       -0.363923     -0.959649  \n",
       "3                  0.0  0.512486       -0.747850     -0.195248  \n",
       "4                  0.0 -1.239504        0.196178     -0.940457  \n",
       "\n",
       "[5 rows x 29 columns]"
      ]
     },
     "execution_count": 897,
     "metadata": {},
     "output_type": "execute_result"
    }
   ],
   "source": [
    "churn_data.head()"
   ]
  },
  {
   "cell_type": "code",
   "execution_count": 898,
   "metadata": {},
   "outputs": [
    {
     "data": {
      "text/plain": [
       "<matplotlib.axes._subplots.AxesSubplot at 0x1d01c108>"
      ]
     },
     "execution_count": 898,
     "metadata": {},
     "output_type": "execute_result"
    },
    {
     "data": {
      "image/png": "[encoded data removed]",
      "text/plain": [
       "<Figure size 864x576 with 2 Axes>"
      ]
     },
     "metadata": {
      "needs_background": "light"
     },
     "output_type": "display_data"
    }
   ],
   "source": [
    "# Checking Heatmap\n",
    "plt.figure(figsize = (12, 8))\n",
    "sns.heatmap(churn_data.corr()[(churn_data.corr() > 0.75)|(churn_data.corr() < -0.75)], annot = True, cmap = 'Blues')"
   ]
  },
  {
   "cell_type": "code",
   "execution_count": 899,
   "metadata": {},
   "outputs": [
    {
     "data": {
      "text/plain": [
       "(7021, 28)"
      ]
     },
     "execution_count": 899,
     "metadata": {},
     "output_type": "execute_result"
    }
   ],
   "source": [
    "# Dropping Highly correlated columns\n",
    "churn_data.drop(['tenure'], axis = 1, inplace = True)\n",
    "churn_data.shape"
   ]
  },
  {
   "cell_type": "code",
   "execution_count": 900,
   "metadata": {},
   "outputs": [
    {
     "data": {
      "text/plain": [
       "0.0    73.422589\n",
       "1.0    26.577411\n",
       "Name: Churn, dtype: float64"
      ]
     },
     "execution_count": 900,
     "metadata": {},
     "output_type": "execute_result"
    }
   ],
   "source": [
    "# Checking Churn Rate\n",
    "churn_data['Churn'].value_counts(normalize = True)*100"
   ]
  },
  {
   "cell_type": "code",
   "execution_count": 901,
   "metadata": {},
   "outputs": [],
   "source": [
    "# We have almost 27% churn rate"
   ]
  },
  {
   "cell_type": "code",
   "execution_count": 902,
   "metadata": {},
   "outputs": [
    {
     "data": {
      "text/plain": [
       "(7021, 28)"
      ]
     },
     "execution_count": 902,
     "metadata": {},
     "output_type": "execute_result"
    }
   ],
   "source": [
    "churn_data.shape"
   ]
  },
  {
   "cell_type": "markdown",
   "metadata": {},
   "source": [
    "### Splitting Data"
   ]
  },
  {
   "cell_type": "code",
   "execution_count": 903,
   "metadata": {},
   "outputs": [
    {
     "name": "stdout",
     "output_type": "stream",
     "text": [
      "(7021, 27) (7021,)\n"
     ]
    }
   ],
   "source": [
    "X = churn_data.drop(['Churn'], axis = 1)\n",
    "y = churn_data['Churn']\n",
    "\n",
    "print(X.shape, y.shape)"
   ]
  },
  {
   "cell_type": "code",
   "execution_count": 904,
   "metadata": {},
   "outputs": [
    {
     "data": {
      "text/plain": [
       "PaperlessBilling                           0\n",
       "gender                                     0\n",
       "Partner                                    0\n",
       "Dependents                                 0\n",
       "Contract_Month-to-month                    0\n",
       "Contract_Two year                          0\n",
       "PaymentMethod_Bank transfer (automatic)    0\n",
       "PaymentMethod_Electronic check             0\n",
       "PaymentMethod_Mailed check                 0\n",
       "MultipleLines_No                           0\n",
       "MultipleLines_No phone service             0\n",
       "InternetService_DSL                        0\n",
       "InternetService_Fiber optic                0\n",
       "OnlineSecurity_No                          0\n",
       "OnlineSecurity_Yes                         0\n",
       "OnlineBackup_No                            0\n",
       "OnlineBackup_Yes                           0\n",
       "DeviceProtection_No                        0\n",
       "DeviceProtection_Yes                       0\n",
       "TechSupport_No                             0\n",
       "TechSupport_Yes                            0\n",
       "StreamingTV_No                             0\n",
       "StreamingTV_Yes                            0\n",
       "StreamingMovies_No                         0\n",
       "StreamingMovies_Yes                        0\n",
       "MonthlyCharges                             0\n",
       "TotalCharges                               0\n",
       "dtype: int64"
      ]
     },
     "execution_count": 904,
     "metadata": {},
     "output_type": "execute_result"
    }
   ],
   "source": [
    "X.isnull().sum()"
   ]
  },
  {
   "cell_type": "code",
   "execution_count": 905,
   "metadata": {},
   "outputs": [
    {
     "name": "stdout",
     "output_type": "stream",
     "text": [
      "(5616, 27) (1405, 27)\n"
     ]
    }
   ],
   "source": [
    "from sklearn.model_selection import train_test_split\n",
    "X_train, X_test, y_train,y_test = train_test_split(X, y, train_size = 0.8, random_state = 42)\n",
    "print(X_train.shape, X_test.shape)"
   ]
  },
  {
   "cell_type": "markdown",
   "metadata": {},
   "source": [
    "### Model Building"
   ]
  },
  {
   "cell_type": "code",
   "execution_count": 907,
   "metadata": {},
   "outputs": [],
   "source": [
    "import statsmodels.api as sm"
   ]
  },
  {
   "cell_type": "code",
   "execution_count": 909,
   "metadata": {},
   "outputs": [
    {
     "data": {
      "text/html": [
       "<table class=\"simpletable\">\n",
       "<caption>Generalized Linear Model Regression Results</caption>\n",
       "<tr>\n",
       "  <th>Dep. Variable:</th>         <td>Churn</td>      <th>  No. Observations:  </th>  <td>  5616</td> \n",
       "</tr>\n",
       "<tr>\n",
       "  <th>Model:</th>                  <td>GLM</td>       <th>  Df Residuals:      </th>  <td>  5594</td> \n",
       "</tr>\n",
       "<tr>\n",
       "  <th>Model Family:</th>        <td>Binomial</td>     <th>  Df Model:          </th>  <td>    21</td> \n",
       "</tr>\n",
       "<tr>\n",
       "  <th>Link Function:</th>         <td>logit</td>      <th>  Scale:             </th> <td>  1.0000</td>\n",
       "</tr>\n",
       "<tr>\n",
       "  <th>Method:</th>                <td>IRLS</td>       <th>  Log-Likelihood:    </th> <td> -2440.0</td>\n",
       "</tr>\n",
       "<tr>\n",
       "  <th>Date:</th>            <td>Mon, 03 Aug 2020</td> <th>  Deviance:          </th> <td>  4880.1</td>\n",
       "</tr>\n",
       "<tr>\n",
       "  <th>Time:</th>                <td>11:49:42</td>     <th>  Pearson chi2:      </th> <td>5.52e+03</td>\n",
       "</tr>\n",
       "<tr>\n",
       "  <th>No. Iterations:</th>          <td>7</td>        <th>                     </th>     <td> </td>   \n",
       "</tr>\n",
       "<tr>\n",
       "  <th>Covariance Type:</th>     <td>nonrobust</td>    <th>                     </th>     <td> </td>   \n",
       "</tr>\n",
       "</table>\n",
       "<table class=\"simpletable\">\n",
       "<tr>\n",
       "                     <td></td>                        <th>coef</th>     <th>std err</th>      <th>z</th>      <th>P>|z|</th>  <th>[0.025</th>    <th>0.975]</th>  \n",
       "</tr>\n",
       "<tr>\n",
       "  <th>const</th>                                   <td>   -3.1047</td> <td>    0.192</td> <td>  -16.204</td> <td> 0.000</td> <td>   -3.480</td> <td>   -2.729</td>\n",
       "</tr>\n",
       "<tr>\n",
       "  <th>PaperlessBilling</th>                        <td>    0.2673</td> <td>    0.081</td> <td>    3.307</td> <td> 0.001</td> <td>    0.109</td> <td>    0.426</td>\n",
       "</tr>\n",
       "<tr>\n",
       "  <th>gender</th>                                  <td>   -0.0493</td> <td>    0.071</td> <td>   -0.698</td> <td> 0.485</td> <td>   -0.188</td> <td>    0.089</td>\n",
       "</tr>\n",
       "<tr>\n",
       "  <th>Partner</th>                                 <td>   -0.1858</td> <td>    0.082</td> <td>   -2.252</td> <td> 0.024</td> <td>   -0.347</td> <td>   -0.024</td>\n",
       "</tr>\n",
       "<tr>\n",
       "  <th>Dependents</th>                              <td>   -0.2029</td> <td>    0.097</td> <td>   -2.098</td> <td> 0.036</td> <td>   -0.393</td> <td>   -0.013</td>\n",
       "</tr>\n",
       "<tr>\n",
       "  <th>Contract_Month-to-month</th>                 <td>    1.2302</td> <td>    0.109</td> <td>   11.282</td> <td> 0.000</td> <td>    1.017</td> <td>    1.444</td>\n",
       "</tr>\n",
       "<tr>\n",
       "  <th>Contract_Two year</th>                       <td>   -1.0596</td> <td>    0.191</td> <td>   -5.546</td> <td> 0.000</td> <td>   -1.434</td> <td>   -0.685</td>\n",
       "</tr>\n",
       "<tr>\n",
       "  <th>PaymentMethod_Bank transfer (automatic)</th> <td>    0.1109</td> <td>    0.124</td> <td>    0.892</td> <td> 0.372</td> <td>   -0.133</td> <td>    0.354</td>\n",
       "</tr>\n",
       "<tr>\n",
       "  <th>PaymentMethod_Electronic check</th>          <td>    0.5670</td> <td>    0.105</td> <td>    5.377</td> <td> 0.000</td> <td>    0.360</td> <td>    0.774</td>\n",
       "</tr>\n",
       "<tr>\n",
       "  <th>PaymentMethod_Mailed check</th>              <td>    0.3145</td> <td>    0.125</td> <td>    2.507</td> <td> 0.012</td> <td>    0.069</td> <td>    0.560</td>\n",
       "</tr>\n",
       "<tr>\n",
       "  <th>MultipleLines_No</th>                        <td>   -0.0116</td> <td>    0.082</td> <td>   -0.141</td> <td> 0.888</td> <td>   -0.173</td> <td>    0.150</td>\n",
       "</tr>\n",
       "<tr>\n",
       "  <th>MultipleLines_No phone service</th>          <td>    0.3057</td> <td>    0.145</td> <td>    2.108</td> <td> 0.035</td> <td>    0.021</td> <td>    0.590</td>\n",
       "</tr>\n",
       "<tr>\n",
       "  <th>InternetService_DSL</th>                     <td>   -0.2672</td> <td>    0.054</td> <td>   -4.933</td> <td> 0.000</td> <td>   -0.373</td> <td>   -0.161</td>\n",
       "</tr>\n",
       "<tr>\n",
       "  <th>InternetService_Fiber optic</th>             <td>    0.5165</td> <td>    0.053</td> <td>    9.658</td> <td> 0.000</td> <td>    0.412</td> <td>    0.621</td>\n",
       "</tr>\n",
       "<tr>\n",
       "  <th>OnlineSecurity_No</th>                       <td>    0.3975</td> <td>    0.047</td> <td>    8.394</td> <td> 0.000</td> <td>    0.305</td> <td>    0.490</td>\n",
       "</tr>\n",
       "<tr>\n",
       "  <th>OnlineSecurity_Yes</th>                      <td>   -0.1481</td> <td>    0.052</td> <td>   -2.849</td> <td> 0.004</td> <td>   -0.250</td> <td>   -0.046</td>\n",
       "</tr>\n",
       "<tr>\n",
       "  <th>OnlineBackup_No</th>                         <td>    0.3197</td> <td>    0.043</td> <td>    7.471</td> <td> 0.000</td> <td>    0.236</td> <td>    0.404</td>\n",
       "</tr>\n",
       "<tr>\n",
       "  <th>OnlineBackup_Yes</th>                        <td>   -0.0704</td> <td>    0.046</td> <td>   -1.523</td> <td> 0.128</td> <td>   -0.161</td> <td>    0.020</td>\n",
       "</tr>\n",
       "<tr>\n",
       "  <th>DeviceProtection_No</th>                     <td>    0.1907</td> <td>    0.045</td> <td>    4.229</td> <td> 0.000</td> <td>    0.102</td> <td>    0.279</td>\n",
       "</tr>\n",
       "<tr>\n",
       "  <th>DeviceProtection_Yes</th>                    <td>    0.0586</td> <td>    0.048</td> <td>    1.225</td> <td> 0.221</td> <td>   -0.035</td> <td>    0.152</td>\n",
       "</tr>\n",
       "<tr>\n",
       "  <th>TechSupport_No</th>                          <td>    0.3123</td> <td>    0.048</td> <td>    6.490</td> <td> 0.000</td> <td>    0.218</td> <td>    0.407</td>\n",
       "</tr>\n",
       "<tr>\n",
       "  <th>TechSupport_Yes</th>                         <td>   -0.0629</td> <td>    0.052</td> <td>   -1.214</td> <td> 0.225</td> <td>   -0.165</td> <td>    0.039</td>\n",
       "</tr>\n",
       "<tr>\n",
       "  <th>StreamingTV_No</th>                          <td>    0.0495</td> <td>    0.046</td> <td>    1.075</td> <td> 0.282</td> <td>   -0.041</td> <td>    0.140</td>\n",
       "</tr>\n",
       "<tr>\n",
       "  <th>StreamingTV_Yes</th>                         <td>    0.1999</td> <td>    0.048</td> <td>    4.173</td> <td> 0.000</td> <td>    0.106</td> <td>    0.294</td>\n",
       "</tr>\n",
       "<tr>\n",
       "  <th>StreamingMovies_No</th>                      <td>    0.0157</td> <td>    0.046</td> <td>    0.342</td> <td> 0.732</td> <td>   -0.074</td> <td>    0.106</td>\n",
       "</tr>\n",
       "<tr>\n",
       "  <th>StreamingMovies_Yes</th>                     <td>    0.2337</td> <td>    0.048</td> <td>    4.875</td> <td> 0.000</td> <td>    0.140</td> <td>    0.328</td>\n",
       "</tr>\n",
       "<tr>\n",
       "  <th>MonthlyCharges</th>                          <td>    0.0497</td> <td>    0.046</td> <td>    1.070</td> <td> 0.285</td> <td>   -0.041</td> <td>    0.141</td>\n",
       "</tr>\n",
       "<tr>\n",
       "  <th>TotalCharges</th>                            <td>   -0.0679</td> <td>    0.047</td> <td>   -1.455</td> <td> 0.146</td> <td>   -0.159</td> <td>    0.024</td>\n",
       "</tr>\n",
       "</table>"
      ],
      "text/plain": [
       "<class 'statsmodels.iolib.summary.Summary'>\n",
       "\"\"\"\n",
       "                 Generalized Linear Model Regression Results                  \n",
       "==============================================================================\n",
       "Dep. Variable:                  Churn   No. Observations:                 5616\n",
       "Model:                            GLM   Df Residuals:                     5594\n",
       "Model Family:                Binomial   Df Model:                           21\n",
       "Link Function:                  logit   Scale:                          1.0000\n",
       "Method:                          IRLS   Log-Likelihood:                -2440.0\n",
       "Date:                Mon, 03 Aug 2020   Deviance:                       4880.1\n",
       "Time:                        11:49:42   Pearson chi2:                 5.52e+03\n",
       "No. Iterations:                     7                                         \n",
       "Covariance Type:            nonrobust                                         \n",
       "===========================================================================================================\n",
       "                                              coef    std err          z      P>|z|      [0.025      0.975]\n",
       "-----------------------------------------------------------------------------------------------------------\n",
       "const                                      -3.1047      0.192    -16.204      0.000      -3.480      -2.729\n",
       "PaperlessBilling                            0.2673      0.081      3.307      0.001       0.109       0.426\n",
       "gender                                     -0.0493      0.071     -0.698      0.485      -0.188       0.089\n",
       "Partner                                    -0.1858      0.082     -2.252      0.024      -0.347      -0.024\n",
       "Dependents                                 -0.2029      0.097     -2.098      0.036      -0.393      -0.013\n",
       "Contract_Month-to-month                     1.2302      0.109     11.282      0.000       1.017       1.444\n",
       "Contract_Two year                          -1.0596      0.191     -5.546      0.000      -1.434      -0.685\n",
       "PaymentMethod_Bank transfer (automatic)     0.1109      0.124      0.892      0.372      -0.133       0.354\n",
       "PaymentMethod_Electronic check              0.5670      0.105      5.377      0.000       0.360       0.774\n",
       "PaymentMethod_Mailed check                  0.3145      0.125      2.507      0.012       0.069       0.560\n",
       "MultipleLines_No                           -0.0116      0.082     -0.141      0.888      -0.173       0.150\n",
       "MultipleLines_No phone service              0.3057      0.145      2.108      0.035       0.021       0.590\n",
       "InternetService_DSL                        -0.2672      0.054     -4.933      0.000      -0.373      -0.161\n",
       "InternetService_Fiber optic                 0.5165      0.053      9.658      0.000       0.412       0.621\n",
       "OnlineSecurity_No                           0.3975      0.047      8.394      0.000       0.305       0.490\n",
       "OnlineSecurity_Yes                         -0.1481      0.052     -2.849      0.004      -0.250      -0.046\n",
       "OnlineBackup_No                             0.3197      0.043      7.471      0.000       0.236       0.404\n",
       "OnlineBackup_Yes                           -0.0704      0.046     -1.523      0.128      -0.161       0.020\n",
       "DeviceProtection_No                         0.1907      0.045      4.229      0.000       0.102       0.279\n",
       "DeviceProtection_Yes                        0.0586      0.048      1.225      0.221      -0.035       0.152\n",
       "TechSupport_No                              0.3123      0.048      6.490      0.000       0.218       0.407\n",
       "TechSupport_Yes                            -0.0629      0.052     -1.214      0.225      -0.165       0.039\n",
       "StreamingTV_No                              0.0495      0.046      1.075      0.282      -0.041       0.140\n",
       "StreamingTV_Yes                             0.1999      0.048      4.173      0.000       0.106       0.294\n",
       "StreamingMovies_No                          0.0157      0.046      0.342      0.732      -0.074       0.106\n",
       "StreamingMovies_Yes                         0.2337      0.048      4.875      0.000       0.140       0.328\n",
       "MonthlyCharges                              0.0497      0.046      1.070      0.285      -0.041       0.141\n",
       "TotalCharges                               -0.0679      0.047     -1.455      0.146      -0.159       0.024\n",
       "===========================================================================================================\n",
       "\"\"\""
      ]
     },
     "execution_count": 909,
     "metadata": {},
     "output_type": "execute_result"
    }
   ],
   "source": [
    "# Logistic regression model\n",
    "logreg1 = sm.GLM(y_train, sm.add_constant(X_train), family = sm.families.Binomial())\n",
    "logreg1.fit().summary()"
   ]
  },
  {
   "cell_type": "markdown",
   "metadata": {},
   "source": [
    "### Feature Selection using RFE"
   ]
  },
  {
   "cell_type": "code",
   "execution_count": 910,
   "metadata": {},
   "outputs": [
    {
     "name": "stderr",
     "output_type": "stream",
     "text": [
      "D:\\ProgramFiles\\Anaconda3\\envs\\tensorflow\\lib\\site-packages\\sklearn\\utils\\validation.py:71: FutureWarning: Pass n_features_to_select=15 as keyword args. From version 0.25 passing these as positional arguments will result in an error\n",
      "  FutureWarning)\n"
     ]
    },
    {
     "name": "stdout",
     "output_type": "stream",
     "text": [
      "[ True False  True False  True  True False  True  True False  True  True\n",
      "  True  True  True  True False False False  True False False  True False\n",
      "  True False False]\n",
      "[ 1 10  1  3  1  1  5  1  1 13  1  1  1  1  1  1  6  2  7  1  4 12  1 11\n",
      "  1  9  8]\n"
     ]
    }
   ],
   "source": [
    "from sklearn.feature_selection import RFE\n",
    "from sklearn.linear_model import LogisticRegression\n",
    "\n",
    "logreg = LogisticRegression()\n",
    "rfe = RFE(logreg,n_features_to_select=15)\n",
    "rfe = rfe.fit(X, y)\n",
    "\n",
    "print(rfe.support_)\n",
    "print(rfe.ranking_)\n"
   ]
  },
  {
   "cell_type": "code",
   "execution_count": 911,
   "metadata": {},
   "outputs": [
    {
     "data": {
      "text/plain": [
       "[('PaperlessBilling', True, 1),\n",
       " ('gender', False, 10),\n",
       " ('Partner', True, 1),\n",
       " ('Dependents', False, 3),\n",
       " ('Contract_Month-to-month', True, 1),\n",
       " ('Contract_Two year', True, 1),\n",
       " ('PaymentMethod_Bank transfer (automatic)', False, 5),\n",
       " ('PaymentMethod_Electronic check', True, 1),\n",
       " ('PaymentMethod_Mailed check', True, 1),\n",
       " ('MultipleLines_No', False, 13),\n",
       " ('MultipleLines_No phone service', True, 1),\n",
       " ('InternetService_DSL', True, 1),\n",
       " ('InternetService_Fiber optic', True, 1),\n",
       " ('OnlineSecurity_No', True, 1),\n",
       " ('OnlineSecurity_Yes', True, 1),\n",
       " ('OnlineBackup_No', True, 1),\n",
       " ('OnlineBackup_Yes', False, 6),\n",
       " ('DeviceProtection_No', False, 2),\n",
       " ('DeviceProtection_Yes', False, 7),\n",
       " ('TechSupport_No', True, 1),\n",
       " ('TechSupport_Yes', False, 4),\n",
       " ('StreamingTV_No', False, 12),\n",
       " ('StreamingTV_Yes', True, 1),\n",
       " ('StreamingMovies_No', False, 11),\n",
       " ('StreamingMovies_Yes', True, 1),\n",
       " ('MonthlyCharges', False, 9),\n",
       " ('TotalCharges', False, 8)]"
      ]
     },
     "execution_count": 911,
     "metadata": {},
     "output_type": "execute_result"
    }
   ],
   "source": [
    "list(zip(X.columns, rfe.support_, rfe.ranking_))"
   ]
  },
  {
   "cell_type": "code",
   "execution_count": 912,
   "metadata": {},
   "outputs": [
    {
     "name": "stdout",
     "output_type": "stream",
     "text": [
      "['PaperlessBilling', 'Partner', 'Contract_Month-to-month', 'Contract_Two year', 'PaymentMethod_Electronic check', 'PaymentMethod_Mailed check', 'MultipleLines_No phone service', 'InternetService_DSL', 'InternetService_Fiber optic', 'OnlineSecurity_No', 'OnlineSecurity_Yes', 'OnlineBackup_No', 'TechSupport_No', 'StreamingTV_Yes', 'StreamingMovies_Yes']\n"
     ]
    }
   ],
   "source": [
    "# Selecting top 50 Features\n",
    "col = X.columns[rfe.support_]\n",
    "print(list(col))"
   ]
  },
  {
   "cell_type": "code",
   "execution_count": 916,
   "metadata": {},
   "outputs": [],
   "source": [
    "# Creating X_test dataframe with RFE selected variables\n",
    "X_train_rfe = X_train[col]"
   ]
  },
  {
   "cell_type": "code",
   "execution_count": 917,
   "metadata": {},
   "outputs": [
    {
     "data": {
      "text/plain": [
       "LogisticRegression(C=1000000000.0)"
      ]
     },
     "execution_count": 917,
     "metadata": {},
     "output_type": "execute_result"
    }
   ],
   "source": [
    "# Let's run the model using the selected variables\n",
    "from sklearn.linear_model import LogisticRegression\n",
    "from sklearn import metrics\n",
    "logsk = LogisticRegression(C=1e9)\n",
    "logsk.fit(X_train_rfe, y_train)"
   ]
  },
  {
   "cell_type": "code",
   "execution_count": 918,
   "metadata": {},
   "outputs": [
    {
     "data": {
      "text/html": [
       "<table class=\"simpletable\">\n",
       "<caption>Generalized Linear Model Regression Results</caption>\n",
       "<tr>\n",
       "  <th>Dep. Variable:</th>         <td>Churn</td>      <th>  No. Observations:  </th>  <td>  5616</td> \n",
       "</tr>\n",
       "<tr>\n",
       "  <th>Model:</th>                  <td>GLM</td>       <th>  Df Residuals:      </th>  <td>  5601</td> \n",
       "</tr>\n",
       "<tr>\n",
       "  <th>Model Family:</th>        <td>Binomial</td>     <th>  Df Model:          </th>  <td>    14</td> \n",
       "</tr>\n",
       "<tr>\n",
       "  <th>Link Function:</th>         <td>logit</td>      <th>  Scale:             </th> <td>  1.0000</td>\n",
       "</tr>\n",
       "<tr>\n",
       "  <th>Method:</th>                <td>IRLS</td>       <th>  Log-Likelihood:    </th> <td> -2445.1</td>\n",
       "</tr>\n",
       "<tr>\n",
       "  <th>Date:</th>            <td>Mon, 03 Aug 2020</td> <th>  Deviance:          </th> <td>  4890.2</td>\n",
       "</tr>\n",
       "<tr>\n",
       "  <th>Time:</th>                <td>12:08:23</td>     <th>  Pearson chi2:      </th> <td>5.51e+03</td>\n",
       "</tr>\n",
       "<tr>\n",
       "  <th>No. Iterations:</th>         <td>55</td>        <th>                     </th>     <td> </td>   \n",
       "</tr>\n",
       "<tr>\n",
       "  <th>Covariance Type:</th>     <td>nonrobust</td>    <th>                     </th>     <td> </td>   \n",
       "</tr>\n",
       "</table>\n",
       "<table class=\"simpletable\">\n",
       "<tr>\n",
       "                 <td></td>                   <th>coef</th>     <th>std err</th>      <th>z</th>      <th>P>|z|</th>  <th>[0.025</th>    <th>0.975]</th>  \n",
       "</tr>\n",
       "<tr>\n",
       "  <th>const</th>                          <td>   -3.1407</td> <td>    0.162</td> <td>  -19.375</td> <td> 0.000</td> <td>   -3.458</td> <td>   -2.823</td>\n",
       "</tr>\n",
       "<tr>\n",
       "  <th>PaperlessBilling</th>               <td>    0.2677</td> <td>    0.081</td> <td>    3.325</td> <td> 0.001</td> <td>    0.110</td> <td>    0.426</td>\n",
       "</tr>\n",
       "<tr>\n",
       "  <th>Partner</th>                        <td>   -0.2633</td> <td>    0.075</td> <td>   -3.532</td> <td> 0.000</td> <td>   -0.409</td> <td>   -0.117</td>\n",
       "</tr>\n",
       "<tr>\n",
       "  <th>Contract_Month-to-month</th>        <td>    1.2620</td> <td>    0.108</td> <td>   11.683</td> <td> 0.000</td> <td>    1.050</td> <td>    1.474</td>\n",
       "</tr>\n",
       "<tr>\n",
       "  <th>Contract_Two year</th>              <td>   -1.0764</td> <td>    0.191</td> <td>   -5.642</td> <td> 0.000</td> <td>   -1.450</td> <td>   -0.702</td>\n",
       "</tr>\n",
       "<tr>\n",
       "  <th>PaymentMethod_Electronic check</th> <td>    0.5236</td> <td>    0.083</td> <td>    6.331</td> <td> 0.000</td> <td>    0.362</td> <td>    0.686</td>\n",
       "</tr>\n",
       "<tr>\n",
       "  <th>PaymentMethod_Mailed check</th>     <td>    0.2596</td> <td>    0.107</td> <td>    2.429</td> <td> 0.015</td> <td>    0.050</td> <td>    0.469</td>\n",
       "</tr>\n",
       "<tr>\n",
       "  <th>MultipleLines_No phone service</th> <td>    0.3148</td> <td>    0.134</td> <td>    2.357</td> <td> 0.018</td> <td>    0.053</td> <td>    0.577</td>\n",
       "</tr>\n",
       "<tr>\n",
       "  <th>InternetService_DSL</th>            <td>   -0.2294</td> <td>    0.092</td> <td>   -2.494</td> <td> 0.013</td> <td>   -0.410</td> <td>   -0.049</td>\n",
       "</tr>\n",
       "<tr>\n",
       "  <th>InternetService_Fiber optic</th>    <td>    0.5695</td> <td>    0.096</td> <td>    5.951</td> <td> 0.000</td> <td>    0.382</td> <td>    0.757</td>\n",
       "</tr>\n",
       "<tr>\n",
       "  <th>OnlineSecurity_No</th>              <td>    0.4448</td> <td>    0.089</td> <td>    4.998</td> <td> 0.000</td> <td>    0.270</td> <td>    0.619</td>\n",
       "</tr>\n",
       "<tr>\n",
       "  <th>OnlineSecurity_Yes</th>             <td>   -0.1047</td> <td>    0.095</td> <td>   -1.101</td> <td> 0.271</td> <td>   -0.291</td> <td>    0.082</td>\n",
       "</tr>\n",
       "<tr>\n",
       "  <th>OnlineBackup_No</th>                <td>    0.3973</td> <td>    0.080</td> <td>    4.987</td> <td> 0.000</td> <td>    0.241</td> <td>    0.553</td>\n",
       "</tr>\n",
       "<tr>\n",
       "  <th>TechSupport_No</th>                 <td>    0.3896</td> <td>    0.092</td> <td>    4.243</td> <td> 0.000</td> <td>    0.210</td> <td>    0.570</td>\n",
       "</tr>\n",
       "<tr>\n",
       "  <th>StreamingTV_Yes</th>                <td>    0.1329</td> <td>    0.085</td> <td>    1.572</td> <td> 0.116</td> <td>   -0.033</td> <td>    0.299</td>\n",
       "</tr>\n",
       "<tr>\n",
       "  <th>StreamingMovies_Yes</th>            <td>    0.2082</td> <td>    0.084</td> <td>    2.470</td> <td> 0.014</td> <td>    0.043</td> <td>    0.374</td>\n",
       "</tr>\n",
       "</table>"
      ],
      "text/plain": [
       "<class 'statsmodels.iolib.summary.Summary'>\n",
       "\"\"\"\n",
       "                 Generalized Linear Model Regression Results                  \n",
       "==============================================================================\n",
       "Dep. Variable:                  Churn   No. Observations:                 5616\n",
       "Model:                            GLM   Df Residuals:                     5601\n",
       "Model Family:                Binomial   Df Model:                           14\n",
       "Link Function:                  logit   Scale:                          1.0000\n",
       "Method:                          IRLS   Log-Likelihood:                -2445.1\n",
       "Date:                Mon, 03 Aug 2020   Deviance:                       4890.2\n",
       "Time:                        12:08:23   Pearson chi2:                 5.51e+03\n",
       "No. Iterations:                    55                                         \n",
       "Covariance Type:            nonrobust                                         \n",
       "==================================================================================================\n",
       "                                     coef    std err          z      P>|z|      [0.025      0.975]\n",
       "--------------------------------------------------------------------------------------------------\n",
       "const                             -3.1407      0.162    -19.375      0.000      -3.458      -2.823\n",
       "PaperlessBilling                   0.2677      0.081      3.325      0.001       0.110       0.426\n",
       "Partner                           -0.2633      0.075     -3.532      0.000      -0.409      -0.117\n",
       "Contract_Month-to-month            1.2620      0.108     11.683      0.000       1.050       1.474\n",
       "Contract_Two year                 -1.0764      0.191     -5.642      0.000      -1.450      -0.702\n",
       "PaymentMethod_Electronic check     0.5236      0.083      6.331      0.000       0.362       0.686\n",
       "PaymentMethod_Mailed check         0.2596      0.107      2.429      0.015       0.050       0.469\n",
       "MultipleLines_No phone service     0.3148      0.134      2.357      0.018       0.053       0.577\n",
       "InternetService_DSL               -0.2294      0.092     -2.494      0.013      -0.410      -0.049\n",
       "InternetService_Fiber optic        0.5695      0.096      5.951      0.000       0.382       0.757\n",
       "OnlineSecurity_No                  0.4448      0.089      4.998      0.000       0.270       0.619\n",
       "OnlineSecurity_Yes                -0.1047      0.095     -1.101      0.271      -0.291       0.082\n",
       "OnlineBackup_No                    0.3973      0.080      4.987      0.000       0.241       0.553\n",
       "TechSupport_No                     0.3896      0.092      4.243      0.000       0.210       0.570\n",
       "StreamingTV_Yes                    0.1329      0.085      1.572      0.116      -0.033       0.299\n",
       "StreamingMovies_Yes                0.2082      0.084      2.470      0.014       0.043       0.374\n",
       "==================================================================================================\n",
       "\"\"\""
      ]
     },
     "execution_count": 918,
     "metadata": {},
     "output_type": "execute_result"
    }
   ],
   "source": [
    "import  statsmodels.api as sm\n",
    "logreg2 = sm.GLM(y_train,(sm.add_constant(X_train_rfe)), family = sm.families.Binomial())\n",
    "logreg2.fit().summary()"
   ]
  },
  {
   "cell_type": "markdown",
   "metadata": {},
   "source": [
    "### Predicting"
   ]
  },
  {
   "cell_type": "code",
   "execution_count": 925,
   "metadata": {},
   "outputs": [
    {
     "data": {
      "text/plain": [
       "(5616,)"
      ]
     },
     "execution_count": 925,
     "metadata": {},
     "output_type": "execute_result"
    }
   ],
   "source": [
    "y_train_pred = logsk.predict(X_train_rfe)\n",
    "y_train_pred.shape"
   ]
  },
  {
   "cell_type": "code",
   "execution_count": 926,
   "metadata": {},
   "outputs": [
    {
     "data": {
      "text/plain": [
       "(1405,)"
      ]
     },
     "execution_count": 926,
     "metadata": {},
     "output_type": "execute_result"
    }
   ],
   "source": [
    "y_test_pred = logsk.predict(X_test[col])\n",
    "y_test_pred.shape"
   ]
  },
  {
   "cell_type": "code",
   "execution_count": 927,
   "metadata": {},
   "outputs": [],
   "source": [
    "from sklearn.metrics import accuracy_score, confusion_matrix, classification_report"
   ]
  },
  {
   "cell_type": "code",
   "execution_count": 928,
   "metadata": {},
   "outputs": [],
   "source": [
    "def evaluate_model(model):\n",
    "    y_train_pred = model.predict(X_train_rfe)\n",
    "    y_test_pred = model.predict(X_test[col])\n",
    "    print(\"Train_Accuracy_Score :\", accuracy_score(y_train, y_train_pred))\n",
    "    print(\"Test_Accuracy_Score :\", accuracy_score(y_test, y_test_pred))\n",
    "    print(\"*\"*50)\n",
    "    print(confusion_matrix(y_test, y_test_pred))\n",
    "    print(\"*\"*50)\n",
    "    print(classification_report(y_test, y_test_pred))\n",
    "    "
   ]
  },
  {
   "cell_type": "code",
   "execution_count": 929,
   "metadata": {},
   "outputs": [
    {
     "name": "stdout",
     "output_type": "stream",
     "text": [
      "Train_Accuracy_Score : 0.7849002849002849\n",
      "Test_Accuracy_Score : 0.7822064056939502\n",
      "**************************************************\n",
      "[[912 149]\n",
      " [157 187]]\n",
      "**************************************************\n",
      "              precision    recall  f1-score   support\n",
      "\n",
      "         0.0       0.85      0.86      0.86      1061\n",
      "         1.0       0.56      0.54      0.55       344\n",
      "\n",
      "    accuracy                           0.78      1405\n",
      "   macro avg       0.70      0.70      0.70      1405\n",
      "weighted avg       0.78      0.78      0.78      1405\n",
      "\n"
     ]
    }
   ],
   "source": [
    "evaluate_model(logsk)"
   ]
  },
  {
   "cell_type": "markdown",
   "metadata": {},
   "source": [
    "### Predicting Probabilities"
   ]
  },
  {
   "cell_type": "code",
   "execution_count": 987,
   "metadata": {},
   "outputs": [],
   "source": [
    "y_test_proba = logsk.predict_proba(X_test[col])\n",
    "y_train_proba = logsk.predict_proba(X_train_rfe)"
   ]
  },
  {
   "cell_type": "code",
   "execution_count": 988,
   "metadata": {},
   "outputs": [
    {
     "data": {
      "text/html": [
       "<div>\n",
       "<style scoped>\n",
       "    .dataframe tbody tr th:only-of-type {\n",
       "        vertical-align: middle;\n",
       "    }\n",
       "\n",
       "    .dataframe tbody tr th {\n",
       "        vertical-align: top;\n",
       "    }\n",
       "\n",
       "    .dataframe thead th {\n",
       "        text-align: right;\n",
       "    }\n",
       "</style>\n",
       "<table border=\"1\" class=\"dataframe\">\n",
       "  <thead>\n",
       "    <tr style=\"text-align: right;\">\n",
       "      <th></th>\n",
       "      <th>Y_values</th>\n",
       "      <th>Y_proba</th>\n",
       "    </tr>\n",
       "  </thead>\n",
       "  <tbody>\n",
       "    <tr>\n",
       "      <th>3274</th>\n",
       "      <td>0.0</td>\n",
       "      <td>0.566617</td>\n",
       "    </tr>\n",
       "    <tr>\n",
       "      <th>6261</th>\n",
       "      <td>0.0</td>\n",
       "      <td>0.011203</td>\n",
       "    </tr>\n",
       "    <tr>\n",
       "      <th>1327</th>\n",
       "      <td>1.0</td>\n",
       "      <td>0.270132</td>\n",
       "    </tr>\n",
       "    <tr>\n",
       "      <th>5198</th>\n",
       "      <td>1.0</td>\n",
       "      <td>0.409320</td>\n",
       "    </tr>\n",
       "    <tr>\n",
       "      <th>4078</th>\n",
       "      <td>1.0</td>\n",
       "      <td>0.050199</td>\n",
       "    </tr>\n",
       "  </tbody>\n",
       "</table>\n",
       "</div>"
      ],
      "text/plain": [
       "      Y_values   Y_proba\n",
       "3274       0.0  0.566617\n",
       "6261       0.0  0.011203\n",
       "1327       1.0  0.270132\n",
       "5198       1.0  0.409320\n",
       "4078       1.0  0.050199"
      ]
     },
     "execution_count": 988,
     "metadata": {},
     "output_type": "execute_result"
    }
   ],
   "source": [
    "train_df = pd.DataFrame({'Y_values': y_train, 'Y_proba' :y_train_proba[:, 1]})\n",
    "train_df.head()"
   ]
  },
  {
   "cell_type": "code",
   "execution_count": 989,
   "metadata": {},
   "outputs": [
    {
     "data": {
      "text/html": [
       "<div>\n",
       "<style scoped>\n",
       "    .dataframe tbody tr th:only-of-type {\n",
       "        vertical-align: middle;\n",
       "    }\n",
       "\n",
       "    .dataframe tbody tr th {\n",
       "        vertical-align: top;\n",
       "    }\n",
       "\n",
       "    .dataframe thead th {\n",
       "        text-align: right;\n",
       "    }\n",
       "</style>\n",
       "<table border=\"1\" class=\"dataframe\">\n",
       "  <thead>\n",
       "    <tr style=\"text-align: right;\">\n",
       "      <th></th>\n",
       "      <th>Y_values</th>\n",
       "      <th>Y_proba</th>\n",
       "      <th>new_Y</th>\n",
       "    </tr>\n",
       "  </thead>\n",
       "  <tbody>\n",
       "    <tr>\n",
       "      <th>3274</th>\n",
       "      <td>0.0</td>\n",
       "      <td>0.566617</td>\n",
       "      <td>1</td>\n",
       "    </tr>\n",
       "    <tr>\n",
       "      <th>6261</th>\n",
       "      <td>0.0</td>\n",
       "      <td>0.011203</td>\n",
       "      <td>0</td>\n",
       "    </tr>\n",
       "    <tr>\n",
       "      <th>1327</th>\n",
       "      <td>1.0</td>\n",
       "      <td>0.270132</td>\n",
       "      <td>0</td>\n",
       "    </tr>\n",
       "    <tr>\n",
       "      <th>5198</th>\n",
       "      <td>1.0</td>\n",
       "      <td>0.409320</td>\n",
       "      <td>0</td>\n",
       "    </tr>\n",
       "    <tr>\n",
       "      <th>4078</th>\n",
       "      <td>1.0</td>\n",
       "      <td>0.050199</td>\n",
       "      <td>0</td>\n",
       "    </tr>\n",
       "  </tbody>\n",
       "</table>\n",
       "</div>"
      ],
      "text/plain": [
       "      Y_values   Y_proba  new_Y\n",
       "3274       0.0  0.566617      1\n",
       "6261       0.0  0.011203      0\n",
       "1327       1.0  0.270132      0\n",
       "5198       1.0  0.409320      0\n",
       "4078       1.0  0.050199      0"
      ]
     },
     "execution_count": 989,
     "metadata": {},
     "output_type": "execute_result"
    }
   ],
   "source": [
    "train_df['new_Y'] = train_df['Y_proba'].apply(lambda x: 0 if x < 0.5 else 1)\n",
    "train_df.head()"
   ]
  },
  {
   "cell_type": "code",
   "execution_count": 990,
   "metadata": {},
   "outputs": [
    {
     "name": "stdout",
     "output_type": "stream",
     "text": [
      "Train_Accuracy_Score : 0.7849002849002849\n",
      "**************************************************\n",
      "[[3601  493]\n",
      " [ 715  807]]\n",
      "**************************************************\n",
      "              precision    recall  f1-score   support\n",
      "\n",
      "         0.0       0.83      0.88      0.86      4094\n",
      "         1.0       0.62      0.53      0.57      1522\n",
      "\n",
      "    accuracy                           0.78      5616\n",
      "   macro avg       0.73      0.70      0.71      5616\n",
      "weighted avg       0.78      0.78      0.78      5616\n",
      "\n"
     ]
    }
   ],
   "source": [
    "print(\"Train_Accuracy_Score :\", accuracy_score(y_train, train_df['new_Y']))\n",
    "print(\"*\"*50)\n",
    "print(confusion_matrix(y_train, train_df['new_Y']))\n",
    "print(\"*\"*50)\n",
    "print(classification_report(y_train, train_df['new_Y']))"
   ]
  },
  {
   "cell_type": "code",
   "execution_count": 991,
   "metadata": {},
   "outputs": [
    {
     "data": {
      "text/plain": [
       "array([0.47970396, 0.29732811, 0.01469176, ..., 0.10574535, 0.15632609,\n",
       "       0.29732811])"
      ]
     },
     "execution_count": 991,
     "metadata": {},
     "output_type": "execute_result"
    }
   ],
   "source": [
    "y_test_proba[:, 1]"
   ]
  },
  {
   "cell_type": "code",
   "execution_count": 992,
   "metadata": {},
   "outputs": [
    {
     "data": {
      "text/plain": [
       "3916    0.0\n",
       "2467    0.0\n",
       "2884    0.0\n",
       "3767    0.0\n",
       "3751    0.0\n",
       "       ... \n",
       "3834    1.0\n",
       "3187    0.0\n",
       "3094    0.0\n",
       "2584    0.0\n",
       "1457    0.0\n",
       "Name: Churn, Length: 1405, dtype: float64"
      ]
     },
     "execution_count": 992,
     "metadata": {},
     "output_type": "execute_result"
    }
   ],
   "source": [
    "y_test"
   ]
  },
  {
   "cell_type": "code",
   "execution_count": 993,
   "metadata": {},
   "outputs": [
    {
     "data": {
      "text/plain": [
       "array([0.56661694, 0.01120259, 0.27013152, ..., 0.54098054, 0.04146163,\n",
       "       0.51331116])"
      ]
     },
     "execution_count": 993,
     "metadata": {},
     "output_type": "execute_result"
    }
   ],
   "source": [
    "y_train_proba[:, 1]"
   ]
  },
  {
   "cell_type": "code",
   "execution_count": 994,
   "metadata": {},
   "outputs": [
    {
     "data": {
      "text/html": [
       "<div>\n",
       "<style scoped>\n",
       "    .dataframe tbody tr th:only-of-type {\n",
       "        vertical-align: middle;\n",
       "    }\n",
       "\n",
       "    .dataframe tbody tr th {\n",
       "        vertical-align: top;\n",
       "    }\n",
       "\n",
       "    .dataframe thead th {\n",
       "        text-align: right;\n",
       "    }\n",
       "</style>\n",
       "<table border=\"1\" class=\"dataframe\">\n",
       "  <thead>\n",
       "    <tr style=\"text-align: right;\">\n",
       "      <th></th>\n",
       "      <th>Y_values</th>\n",
       "      <th>Y_proba</th>\n",
       "    </tr>\n",
       "  </thead>\n",
       "  <tbody>\n",
       "    <tr>\n",
       "      <th>3916</th>\n",
       "      <td>0.0</td>\n",
       "      <td>0.479704</td>\n",
       "    </tr>\n",
       "    <tr>\n",
       "      <th>2467</th>\n",
       "      <td>0.0</td>\n",
       "      <td>0.297328</td>\n",
       "    </tr>\n",
       "    <tr>\n",
       "      <th>2884</th>\n",
       "      <td>0.0</td>\n",
       "      <td>0.014692</td>\n",
       "    </tr>\n",
       "    <tr>\n",
       "      <th>3767</th>\n",
       "      <td>0.0</td>\n",
       "      <td>0.046997</td>\n",
       "    </tr>\n",
       "    <tr>\n",
       "      <th>3751</th>\n",
       "      <td>0.0</td>\n",
       "      <td>0.338242</td>\n",
       "    </tr>\n",
       "  </tbody>\n",
       "</table>\n",
       "</div>"
      ],
      "text/plain": [
       "      Y_values   Y_proba\n",
       "3916       0.0  0.479704\n",
       "2467       0.0  0.297328\n",
       "2884       0.0  0.014692\n",
       "3767       0.0  0.046997\n",
       "3751       0.0  0.338242"
      ]
     },
     "execution_count": 994,
     "metadata": {},
     "output_type": "execute_result"
    }
   ],
   "source": [
    "test_df = pd.DataFrame({'Y_values': y_test, 'Y_proba': y_test_proba[:, 1]})\n",
    "test_df.head()"
   ]
  },
  {
   "cell_type": "code",
   "execution_count": 995,
   "metadata": {},
   "outputs": [
    {
     "data": {
      "text/html": [
       "<div>\n",
       "<style scoped>\n",
       "    .dataframe tbody tr th:only-of-type {\n",
       "        vertical-align: middle;\n",
       "    }\n",
       "\n",
       "    .dataframe tbody tr th {\n",
       "        vertical-align: top;\n",
       "    }\n",
       "\n",
       "    .dataframe thead th {\n",
       "        text-align: right;\n",
       "    }\n",
       "</style>\n",
       "<table border=\"1\" class=\"dataframe\">\n",
       "  <thead>\n",
       "    <tr style=\"text-align: right;\">\n",
       "      <th></th>\n",
       "      <th>Y_values</th>\n",
       "      <th>Y_proba</th>\n",
       "      <th>new_Y</th>\n",
       "    </tr>\n",
       "  </thead>\n",
       "  <tbody>\n",
       "    <tr>\n",
       "      <th>3916</th>\n",
       "      <td>0.0</td>\n",
       "      <td>0.479704</td>\n",
       "      <td>0</td>\n",
       "    </tr>\n",
       "    <tr>\n",
       "      <th>2467</th>\n",
       "      <td>0.0</td>\n",
       "      <td>0.297328</td>\n",
       "      <td>0</td>\n",
       "    </tr>\n",
       "    <tr>\n",
       "      <th>2884</th>\n",
       "      <td>0.0</td>\n",
       "      <td>0.014692</td>\n",
       "      <td>0</td>\n",
       "    </tr>\n",
       "    <tr>\n",
       "      <th>3767</th>\n",
       "      <td>0.0</td>\n",
       "      <td>0.046997</td>\n",
       "      <td>0</td>\n",
       "    </tr>\n",
       "    <tr>\n",
       "      <th>3751</th>\n",
       "      <td>0.0</td>\n",
       "      <td>0.338242</td>\n",
       "      <td>0</td>\n",
       "    </tr>\n",
       "  </tbody>\n",
       "</table>\n",
       "</div>"
      ],
      "text/plain": [
       "      Y_values   Y_proba  new_Y\n",
       "3916       0.0  0.479704      0\n",
       "2467       0.0  0.297328      0\n",
       "2884       0.0  0.014692      0\n",
       "3767       0.0  0.046997      0\n",
       "3751       0.0  0.338242      0"
      ]
     },
     "execution_count": 995,
     "metadata": {},
     "output_type": "execute_result"
    }
   ],
   "source": [
    "test_df['new_Y'] = test_df['Y_proba'].apply(lambda x: 0 if x < 0.5 else 1)\n",
    "test_df.head()"
   ]
  },
  {
   "cell_type": "code",
   "execution_count": 996,
   "metadata": {},
   "outputs": [
    {
     "name": "stdout",
     "output_type": "stream",
     "text": [
      "Test_Accuracy_Score : 0.7822064056939502\n"
     ]
    }
   ],
   "source": [
    "print(\"Test_Accuracy_Score :\", accuracy_score(y_test, test_df['new_Y']))"
   ]
  },
  {
   "cell_type": "code",
   "execution_count": 997,
   "metadata": {},
   "outputs": [
    {
     "name": "stdout",
     "output_type": "stream",
     "text": [
      "Train_Accuracy_Score : 0.7822064056939502\n",
      "**************************************************\n",
      "[[912 149]\n",
      " [157 187]]\n",
      "**************************************************\n",
      "              precision    recall  f1-score   support\n",
      "\n",
      "         0.0       0.85      0.86      0.86      1061\n",
      "         1.0       0.56      0.54      0.55       344\n",
      "\n",
      "    accuracy                           0.78      1405\n",
      "   macro avg       0.70      0.70      0.70      1405\n",
      "weighted avg       0.78      0.78      0.78      1405\n",
      "\n"
     ]
    }
   ],
   "source": [
    "print(\"Train_Accuracy_Score :\", accuracy_score(y_test, test_df['new_Y']))\n",
    "print(\"*\"*50)\n",
    "print(confusion_matrix(y_test, test_df['new_Y']))\n",
    "print(\"*\"*50)\n",
    "print(classification_report(y_test, test_df['new_Y']))"
   ]
  },
  {
   "cell_type": "code",
   "execution_count": 998,
   "metadata": {},
   "outputs": [
    {
     "data": {
      "text/html": [
       "<div>\n",
       "<style scoped>\n",
       "    .dataframe tbody tr th:only-of-type {\n",
       "        vertical-align: middle;\n",
       "    }\n",
       "\n",
       "    .dataframe tbody tr th {\n",
       "        vertical-align: top;\n",
       "    }\n",
       "\n",
       "    .dataframe thead th {\n",
       "        text-align: right;\n",
       "    }\n",
       "</style>\n",
       "<table border=\"1\" class=\"dataframe\">\n",
       "  <thead>\n",
       "    <tr style=\"text-align: right;\">\n",
       "      <th></th>\n",
       "      <th>Y_values</th>\n",
       "      <th>Y_proba</th>\n",
       "      <th>new_Y</th>\n",
       "    </tr>\n",
       "  </thead>\n",
       "  <tbody>\n",
       "    <tr>\n",
       "      <th>3916</th>\n",
       "      <td>0.0</td>\n",
       "      <td>0.479704</td>\n",
       "      <td>0</td>\n",
       "    </tr>\n",
       "    <tr>\n",
       "      <th>2467</th>\n",
       "      <td>0.0</td>\n",
       "      <td>0.297328</td>\n",
       "      <td>0</td>\n",
       "    </tr>\n",
       "    <tr>\n",
       "      <th>2884</th>\n",
       "      <td>0.0</td>\n",
       "      <td>0.014692</td>\n",
       "      <td>0</td>\n",
       "    </tr>\n",
       "    <tr>\n",
       "      <th>3767</th>\n",
       "      <td>0.0</td>\n",
       "      <td>0.046997</td>\n",
       "      <td>0</td>\n",
       "    </tr>\n",
       "    <tr>\n",
       "      <th>3751</th>\n",
       "      <td>0.0</td>\n",
       "      <td>0.338242</td>\n",
       "      <td>0</td>\n",
       "    </tr>\n",
       "  </tbody>\n",
       "</table>\n",
       "</div>"
      ],
      "text/plain": [
       "      Y_values   Y_proba  new_Y\n",
       "3916       0.0  0.479704      0\n",
       "2467       0.0  0.297328      0\n",
       "2884       0.0  0.014692      0\n",
       "3767       0.0  0.046997      0\n",
       "3751       0.0  0.338242      0"
      ]
     },
     "execution_count": 998,
     "metadata": {},
     "output_type": "execute_result"
    }
   ],
   "source": [
    "predicted_df = pd.concat([test_df, train_df], axis = 0)\n",
    "predicted_df.head()"
   ]
  },
  {
   "cell_type": "code",
   "execution_count": 999,
   "metadata": {},
   "outputs": [
    {
     "data": {
      "text/plain": [
       "(7021, 3)"
      ]
     },
     "execution_count": 999,
     "metadata": {},
     "output_type": "execute_result"
    }
   ],
   "source": [
    "predicted_df.shape"
   ]
  },
  {
   "cell_type": "code",
   "execution_count": 1000,
   "metadata": {},
   "outputs": [],
   "source": [
    "def draw_roc( actual, probs ):\n",
    "    fpr, tpr, thresholds = metrics.roc_curve( actual, probs,\n",
    "                                              drop_intermediate = False )\n",
    "    auc_score = metrics.roc_auc_score( actual, probs )\n",
    "    plt.figure(figsize=(6, 6))\n",
    "    plt.plot( fpr, tpr, label='ROC curve (area = %0.2f)' % auc_score )\n",
    "    plt.plot([0, 1], [0, 1], 'k--')\n",
    "    plt.xlim([0.0, 1.0])\n",
    "    plt.ylim([0.0, 1.05])\n",
    "    plt.xlabel('False Positive Rate or [1 - True Negative Rate]')\n",
    "    plt.ylabel('True Positive Rate')\n",
    "    plt.title('Receiver operating characteristic example')\n",
    "    plt.legend(loc=\"lower right\")\n",
    "    plt.show()\n",
    "\n",
    "    return fpr, tpr, thresholds"
   ]
  },
  {
   "cell_type": "code",
   "execution_count": 1001,
   "metadata": {},
   "outputs": [
    {
     "data": {
      "image/png": "[encoded data removed]",
      "text/plain": [
       "<Figure size 432x432 with 1 Axes>"
      ]
     },
     "metadata": {
      "needs_background": "light"
     },
     "output_type": "display_data"
    },
    {
     "data": {
      "text/plain": [
       "(array([0.        , 0.12453928, 1.        ]),\n",
       " array([0.        , 0.53269025, 1.        ]),\n",
       " array([2, 1, 0], dtype=int64))"
      ]
     },
     "execution_count": 1001,
     "metadata": {},
     "output_type": "execute_result"
    }
   ],
   "source": [
    "draw_roc(predicted_df['Y_values'],predicted_df['new_Y'])"
   ]
  },
  {
   "cell_type": "code",
   "execution_count": 1002,
   "metadata": {},
   "outputs": [
    {
     "data": {
      "text/plain": [
       "0.7040754821331853"
      ]
     },
     "execution_count": 1002,
     "metadata": {},
     "output_type": "execute_result"
    }
   ],
   "source": [
    "metrics.roc_auc_score(predicted_df['Y_values'], predicted_df['new_Y'])"
   ]
  },
  {
   "cell_type": "markdown",
   "metadata": {},
   "source": [
    "### PCA o the Data"
   ]
  },
  {
   "cell_type": "code",
   "execution_count": 1003,
   "metadata": {},
   "outputs": [
    {
     "data": {
      "text/plain": [
       "(5616, 27)"
      ]
     },
     "execution_count": 1003,
     "metadata": {},
     "output_type": "execute_result"
    }
   ],
   "source": [
    "X_train.shape"
   ]
  },
  {
   "cell_type": "code",
   "execution_count": 1004,
   "metadata": {},
   "outputs": [
    {
     "data": {
      "text/plain": [
       "PCA(random_state=42)"
      ]
     },
     "execution_count": 1004,
     "metadata": {},
     "output_type": "execute_result"
    }
   ],
   "source": [
    "from sklearn.decomposition import PCA\n",
    "pca = PCA(random_state = 42)\n",
    "pca.fit(X_train)"
   ]
  },
  {
   "cell_type": "code",
   "execution_count": 1005,
   "metadata": {},
   "outputs": [
    {
     "data": {
      "text/plain": [
       "array([[ 9.06787299e-03,  4.42867728e-03,  8.75493032e-03,\n",
       "         3.50932833e-03, -1.71923717e-02,  1.92194920e-02,\n",
       "         7.57357106e-03, -8.14441267e-03, -1.64463982e-02,\n",
       "        -1.55723608e-02, -4.42217784e-03, -7.42707067e-03,\n",
       "         2.42784234e-02,  5.50516662e-04,  1.63008361e-02,\n",
       "        -5.58847755e-03,  2.24398303e-02, -1.12645574e-02,\n",
       "         2.81159102e-02, -7.95031532e-03,  2.48016681e-02,\n",
       "        -2.27136695e-02,  3.95650223e-02, -1.95835000e-02,\n",
       "         3.64348528e-02,  7.02285219e-01,  7.06009938e-01],\n",
       "       [-1.48374198e-01,  5.95864657e-03,  1.66806629e-01,\n",
       "         1.54656582e-01, -3.57412891e-01,  2.63487726e-01,\n",
       "         8.43224045e-02, -2.28974411e-01,  6.68367887e-02,\n",
       "         6.37875177e-03, -6.94181716e-03,  1.54069413e-02,\n",
       "        -2.22141548e-01, -3.33376508e-01,  1.26641902e-01,\n",
       "        -2.81778405e-01,  7.50437990e-02, -3.25020789e-01,\n",
       "         1.18286183e-01, -3.57700270e-01,  1.50965664e-01,\n",
       "        -2.49147430e-01,  4.24128234e-02, -2.52022049e-01,\n",
       "         4.52874429e-02, -5.77796854e-02,  3.11325182e-04],\n",
       "       [ 2.39379643e-01, -1.54900233e-02,  1.19049545e-01,\n",
       "        -2.81773044e-02, -6.32828683e-02,  3.66243732e-02,\n",
       "         4.34206618e-02,  1.63694403e-01, -2.33438003e-01,\n",
       "        -2.79373291e-01,  8.72479552e-03, -5.22249623e-02,\n",
       "         3.26281503e-01,  1.79562386e-01,  9.44941540e-02,\n",
       "         2.98769103e-02,  2.44179630e-01, -4.81474612e-02,\n",
       "         3.22204001e-01,  1.16649561e-01,  1.57406980e-01,\n",
       "        -1.45287210e-01,  4.19343751e-01, -1.49918802e-01,\n",
       "         4.23975342e-01, -6.28381404e-02, -4.81120879e-02],\n",
       "       [ 4.01325538e-03,  1.70387311e-03,  8.01291504e-02,\n",
       "         6.44481413e-02, -8.33671471e-02,  5.06323532e-02,\n",
       "         7.67595964e-02, -8.50943778e-02, -4.72423649e-02,\n",
       "        -1.82084934e-01,  1.71327632e-01,  5.23090417e-01,\n",
       "        -2.07688071e-01, -3.65377491e-02,  3.51940095e-01,\n",
       "         9.72691222e-02,  2.18133224e-01,  1.82121270e-01,\n",
       "         1.33281076e-01,  2.29665879e-02,  2.92435758e-01,\n",
       "         3.62339321e-01, -4.69369749e-02,  3.51159814e-01,\n",
       "        -3.57574676e-02, -6.26432913e-02,  6.35207197e-02],\n",
       "       [-9.01210743e-03, -6.60648851e-02,  1.28015146e-01,\n",
       "         1.07221500e-01, -8.47247164e-03,  6.21723697e-03,\n",
       "         3.78215857e-02,  1.06725995e-02, -4.91774376e-02,\n",
       "        -2.28842914e-02, -4.56683203e-02, -9.56158020e-02,\n",
       "         1.02434613e-01, -4.71806228e-02,  5.39994339e-02,\n",
       "        -3.27368439e-01,  3.34187250e-01,  6.88691872e-02,\n",
       "        -6.20503761e-02,  7.38592941e-02, -6.70404830e-02,\n",
       "         8.58690752e-02, -7.90502641e-02,  1.09780517e-01,\n",
       "        -1.02961706e-01,  5.76666853e-01, -5.74452921e-01],\n",
       "       [-7.71874219e-02,  1.79608443e-03, -2.06368596e-01,\n",
       "        -1.12793312e-01,  2.82260795e-02, -2.43170578e-02,\n",
       "        -5.05004988e-02, -6.12646681e-03,  7.12176154e-02,\n",
       "         3.30643606e-02,  9.32769336e-02,  2.30454458e-01,\n",
       "        -1.88513468e-01,  1.45636812e-02,  2.73773089e-02,\n",
       "         4.46491717e-01, -4.04550727e-01, -1.07884118e-01,\n",
       "         1.49825108e-01, -1.19062099e-01,  1.61003090e-01,\n",
       "        -9.81634019e-02,  1.40104392e-01, -1.30002215e-01,\n",
       "         1.71943205e-01,  3.97071971e-01, -3.99601976e-01],\n",
       "       [-2.16976026e-02,  2.11585260e-02,  6.09590242e-01,\n",
       "         5.00796184e-01, -1.01794402e-01,  1.06257056e-01,\n",
       "         5.73133159e-02,  2.79437297e-02, -1.03144583e-01,\n",
       "        -6.06798477e-02, -4.14868864e-02, -1.11753473e-01,\n",
       "         1.10962634e-01, -6.83570594e-02,  6.75662204e-02,\n",
       "         3.55863169e-01, -3.56654008e-01,  7.78694520e-02,\n",
       "        -7.86602910e-02,  1.21525413e-01, -1.22316252e-01,\n",
       "         2.34571397e-02, -2.42479787e-02,  3.85333165e-02,\n",
       "        -3.93241555e-02,  2.27990431e-02, -1.93395435e-02],\n",
       "       [ 5.22221159e-02, -5.71374995e-02,  5.81495786e-02,\n",
       "         1.18222908e-01,  2.57853545e-02, -1.51431512e-02,\n",
       "        -7.39343742e-02,  6.02950677e-02,  5.29311626e-02,\n",
       "         2.11665434e-02,  5.43865904e-02,  1.54172731e-01,\n",
       "        -1.61477999e-01,  4.92790681e-02, -5.65843359e-02,\n",
       "        -8.03448748e-02,  7.30396069e-02,  5.61843579e-01,\n",
       "        -5.69148847e-01, -1.77730184e-01,  1.70424916e-01,\n",
       "        -2.63692387e-01,  2.56387119e-01, -1.73427635e-01,\n",
       "         1.66122367e-01, -1.94167895e-03, -2.22836590e-03],\n",
       "       [-1.13801323e-01,  2.85517367e-01,  1.89523883e-01,\n",
       "         2.03103671e-01,  2.14710925e-02, -2.25108107e-02,\n",
       "        -8.51505926e-02,  5.35723064e-04,  9.14427419e-02,\n",
       "        -1.30629838e-01,  1.90252288e-01,  2.82725803e-01,\n",
       "        -3.22449311e-01,  4.40868514e-01, -4.80592021e-01,\n",
       "        -1.48168335e-01,  1.08444827e-01, -1.72632399e-01,\n",
       "         1.32908891e-01,  1.50872106e-01, -1.90595613e-01,\n",
       "        -7.63646448e-02,  3.66411374e-02, -3.59447368e-02,\n",
       "        -3.77877069e-03,  2.16787228e-02, -7.52724927e-03],\n",
       "       [ 8.62278114e-02, -2.88280315e-01,  8.06410302e-02,\n",
       "         5.89700700e-02, -4.94804420e-02,  6.47025361e-02,\n",
       "         1.56288452e-01, -1.16861441e-01, -5.79715533e-02,\n",
       "         8.32456625e-02, -8.60904004e-02, -1.24358837e-01,\n",
       "         1.48425609e-01,  4.11593977e-01, -3.87527205e-01,\n",
       "         5.33655704e-02, -2.92987978e-02, -2.77556298e-02,\n",
       "         5.18224024e-02, -4.36583896e-01,  4.60650668e-01,\n",
       "         1.26484067e-01, -1.02417294e-01,  1.58580197e-01,\n",
       "        -1.34513424e-01,  8.79786039e-03, -1.42763553e-02],\n",
       "       [-3.88368491e-02, -9.03531055e-01,  3.17854976e-02,\n",
       "         3.43974986e-02,  3.62181149e-02, -3.21402126e-02,\n",
       "         8.08932803e-03, -3.60450856e-03,  4.22267945e-03,\n",
       "        -5.87396004e-02,  8.65569700e-02,  1.36410725e-01,\n",
       "        -1.72350216e-01, -2.25740931e-03, -3.36820814e-02,\n",
       "        -3.04858878e-02, -5.45360292e-03, -8.55065453e-02,\n",
       "         4.95670546e-02,  1.97118611e-01, -2.33058101e-01,\n",
       "        -5.54044601e-02,  1.94649693e-02, -7.33450286e-02,\n",
       "         3.74055378e-02, -3.04535108e-02,  4.51715323e-02],\n",
       "       [ 6.21192569e-02, -5.89137594e-02,  1.28972117e-01,\n",
       "         1.85473306e-01,  1.48982936e-01, -1.52653207e-01,\n",
       "        -4.93818483e-01,  4.08964374e-01,  1.13058377e-01,\n",
       "         3.76432432e-01, -7.53017605e-02,  5.83925523e-02,\n",
       "        -1.76297106e-02, -7.51620708e-02,  1.15924913e-01,\n",
       "        -3.90010034e-02,  7.97638452e-02, -1.50860438e-01,\n",
       "         1.91623280e-01, -1.12209018e-01,  1.52971860e-01,\n",
       "        -1.82069503e-01,  2.22832345e-01,  2.58720405e-01,\n",
       "        -2.17957563e-01, -2.48336269e-02,  2.91791984e-02],\n",
       "       [ 1.33167110e-02, -2.00550426e-02,  1.06851375e-01,\n",
       "         9.84265755e-02,  6.04422810e-02, -4.87756521e-02,\n",
       "        -2.87353392e-01,  2.38833461e-01,  4.29570899e-02,\n",
       "         1.39531523e-01, -2.34356307e-02,  2.16054856e-02,\n",
       "        -1.81472650e-02, -2.58081822e-03,  6.03903887e-03,\n",
       "        -5.17781926e-02,  5.52364132e-02, -1.81698952e-02,\n",
       "         2.16281158e-02, -9.11433667e-02,  9.46015874e-02,\n",
       "         4.51148782e-01, -4.47690561e-01, -4.35328581e-01,\n",
       "         4.38786801e-01, -3.94592735e-03,  1.25654320e-02],\n",
       "       [-2.06927504e-01, -3.52475919e-02, -8.17238004e-02,\n",
       "        -1.46142830e-01, -1.50894284e-01,  1.89029076e-01,\n",
       "        -2.59086424e-01,  4.95285852e-01, -2.59470400e-01,\n",
       "        -5.69746227e-01,  1.46990438e-01, -9.95127315e-02,\n",
       "        -4.41193485e-02, -6.51905028e-02, -7.84415772e-02,\n",
       "        -2.94658101e-02, -1.14166270e-01, -2.65602200e-02,\n",
       "        -1.17071860e-01, -1.78810384e-01,  3.51783038e-02,\n",
       "        -1.93092897e-02, -1.24322790e-01,  5.74236581e-02,\n",
       "        -2.01055738e-01,  9.77313505e-03,  1.91045735e-03],\n",
       "       [ 7.40235376e-01, -8.24566660e-04,  2.34485736e-02,\n",
       "         4.85343064e-02,  1.03951441e-01, -3.19908648e-02,\n",
       "        -2.04549597e-01, -1.89332014e-01,  3.60277681e-01,\n",
       "        -3.91452426e-01,  1.00210145e-01, -5.91558454e-02,\n",
       "        -5.31457217e-02, -1.09928245e-01, -2.37332216e-03,\n",
       "        -2.16562103e-02, -9.06453569e-02, -8.66715036e-02,\n",
       "        -2.56300636e-02, -9.27047972e-02, -1.95967700e-02,\n",
       "        -1.23317096e-02, -9.99698576e-02, -1.12026341e-02,\n",
       "        -1.01098933e-01,  3.35764573e-02, -2.61851396e-02],\n",
       "       [-5.20195081e-01, -6.34259290e-02,  3.39205926e-02,\n",
       "         3.12214094e-02,  8.24074542e-02, -6.21694391e-02,\n",
       "        -2.97163205e-01, -2.75845873e-01,  5.41577338e-01,\n",
       "        -2.94812491e-01,  1.02754691e-02, -1.61573147e-01,\n",
       "         2.89819388e-01,  6.36147792e-02,  6.46314618e-02,\n",
       "         5.52084112e-02,  7.30378298e-02,  8.47714019e-02,\n",
       "         4.34748391e-02,  1.64285518e-02,  1.11817689e-01,\n",
       "         3.59305757e-02,  9.23156654e-02,  4.92210619e-02,\n",
       "         7.90251792e-02, -2.46562814e-02,  1.49674238e-02],\n",
       "       [ 1.52570422e-01, -3.78616442e-02, -1.29759818e-01,\n",
       "        -1.06266335e-01, -5.94529160e-01,  5.10819154e-01,\n",
       "        -3.18178939e-01, -1.26466976e-02,  1.84044676e-01,\n",
       "         2.33041898e-01, -8.44018307e-02,  3.43526802e-02,\n",
       "         6.88092800e-02,  1.62402588e-01, -5.92406278e-02,\n",
       "         8.59274087e-02,  1.72345515e-02,  1.24134044e-01,\n",
       "        -2.09720835e-02,  2.20133854e-01, -1.16971894e-01,\n",
       "         7.20434842e-02,  3.11184760e-02,  8.37994196e-02,\n",
       "         1.93625406e-02,  2.00344320e-02, -2.50593128e-02],\n",
       "       [-1.16185034e-03, -2.92651785e-03, -6.48129574e-01,\n",
       "         7.45704911e-01, -1.96712450e-02,  3.69712688e-02,\n",
       "         4.27104166e-02,  2.93151957e-02, -6.05638606e-02,\n",
       "        -7.02185935e-02,  1.25767178e-02, -4.63772330e-02,\n",
       "         6.79603953e-02,  7.37014433e-03,  1.42130180e-02,\n",
       "        -9.43996603e-04,  2.25271589e-02, -1.01716232e-02,\n",
       "         3.17547855e-02,  2.05438649e-02,  1.03929738e-03,\n",
       "         1.87608118e-02,  2.82235051e-03, -1.83885888e-03,\n",
       "         2.34220212e-02, -2.10828567e-02,  1.49204439e-02],\n",
       "       [ 2.20338825e-02, -6.07093071e-03, -1.28539363e-02,\n",
       "         6.10983425e-03, -6.47218779e-01, -7.57786746e-01,\n",
       "        -1.44067518e-02,  1.07514929e-02,  3.61217798e-03,\n",
       "        -4.07875972e-02,  2.26398965e-02, -2.49054589e-02,\n",
       "         1.25089467e-02,  7.85042043e-03, -2.02469326e-02,\n",
       "         1.21271122e-02, -2.45236244e-02,  1.09051966e-02,\n",
       "        -2.33017088e-02, -7.49570775e-03, -4.90080446e-03,\n",
       "         9.28853946e-03, -2.16850517e-02,  3.65037372e-03,\n",
       "        -1.60468859e-02,  7.93871962e-03,  7.38229018e-04],\n",
       "       [ 1.36107099e-02, -2.75154178e-03,  2.39887013e-02,\n",
       "        -3.54998960e-03, -3.46111349e-02,  5.06357876e-02,\n",
       "         1.25408150e-01,  8.79345633e-02,  1.06314352e-01,\n",
       "         2.53740645e-01,  9.10017314e-01, -1.82908876e-01,\n",
       "         1.79422100e-01, -2.88156117e-02,  2.53288354e-02,\n",
       "        -1.25899234e-02,  9.10314720e-03, -3.79060674e-04,\n",
       "        -3.10771558e-03, -1.89538174e-02,  1.54670412e-02,\n",
       "         5.60598767e-03, -9.09276392e-03,  4.48260564e-03,\n",
       "        -7.96938189e-03, -9.68077172e-04,  3.28768368e-03],\n",
       "       [-9.82515598e-03,  1.52906100e-03, -5.90218767e-03,\n",
       "         4.79469205e-03,  6.87893463e-02, -5.48955497e-02,\n",
       "        -5.45786806e-01, -5.52108232e-01, -5.93254918e-01,\n",
       "         6.40577699e-02,  1.73316996e-01, -3.84311157e-02,\n",
       "         2.57580388e-02, -5.83075033e-03, -6.84232661e-03,\n",
       "        -4.14137098e-03, -8.53170596e-03,  7.41249753e-03,\n",
       "        -2.00855745e-02, -6.21550431e-03, -6.45757263e-03,\n",
       "        -1.69344832e-02,  4.26140626e-03, -7.45219374e-03,\n",
       "        -5.22088320e-03, -1.44008837e-03, -7.60256119e-03],\n",
       "       [-8.30639215e-17, -1.42499722e-16,  1.14550766e-16,\n",
       "         2.77165770e-17,  4.04826315e-17, -2.63799430e-16,\n",
       "        -2.53095449e-16, -6.32861325e-16, -5.76230474e-16,\n",
       "         1.89305876e-16,  1.54828620e-15,  6.09351564e-01,\n",
       "         6.09351564e-01, -6.76607219e-02, -6.76607219e-02,\n",
       "        -3.34748118e-01, -3.34748118e-01, -2.78612617e-02,\n",
       "        -2.78612617e-02, -6.72241911e-02, -6.72241911e-02,\n",
       "        -7.18193388e-02, -7.18193388e-02, -4.00379333e-02,\n",
       "        -4.00379333e-02, -6.14399622e-17,  1.06622572e-17],\n",
       "       [-8.01948542e-16,  8.84705572e-17, -1.18034089e-16,\n",
       "         7.55752497e-17, -2.35642245e-17,  2.75330848e-18,\n",
       "         2.10044686e-16,  1.53489888e-16,  3.68509597e-17,\n",
       "        -2.60862228e-16, -1.35943832e-18,  9.66227466e-02,\n",
       "         9.66227466e-02, -4.36824494e-01, -4.36824494e-01,\n",
       "         2.83771254e-01,  2.83771254e-01, -3.71395109e-02,\n",
       "        -3.71395109e-02, -5.27428702e-02, -5.27428702e-02,\n",
       "        -2.46575794e-01, -2.46575794e-01,  3.92888669e-01,\n",
       "         3.92888669e-01,  6.91581103e-17, -2.58715476e-17],\n",
       "       [ 2.23248622e-16, -2.09197434e-16, -1.86247214e-16,\n",
       "        -1.24190009e-16, -2.38212533e-16, -3.71708303e-17,\n",
       "        -2.58109110e-16, -2.56981595e-16,  6.65414252e-17,\n",
       "        -1.24661412e-16,  2.18600015e-16,  1.89982837e-01,\n",
       "         1.89982837e-01, -1.50738036e-01, -1.50738036e-01,\n",
       "         4.33794825e-01,  4.33794825e-01,  2.56396504e-02,\n",
       "         2.56396504e-02, -1.01805918e-01, -1.01805918e-01,\n",
       "         8.72471916e-02,  8.72471916e-02, -4.84120550e-01,\n",
       "        -4.84120550e-01,  1.66783843e-17,  1.72744114e-17],\n",
       "       [ 0.00000000e+00, -8.44840080e-18,  1.15487109e-16,\n",
       "         5.15524848e-17,  2.49260363e-16,  7.25386109e-17,\n",
       "        -5.21695165e-17,  5.94088085e-17, -2.51402139e-16,\n",
       "         1.21406230e-16,  3.46287644e-16,  7.58665532e-02,\n",
       "         7.58665532e-02,  3.64859775e-01,  3.64859775e-01,\n",
       "         1.71525090e-01,  1.71525090e-01, -2.45365572e-01,\n",
       "        -2.45365572e-01, -4.96302389e-01, -4.96302389e-01,\n",
       "        -2.69599020e-02, -2.69599020e-02,  1.56376445e-01,\n",
       "         1.56376445e-01,  3.16781076e-17, -3.31864871e-17],\n",
       "       [-1.18506374e-16,  1.41616731e-17,  1.61058297e-16,\n",
       "        -3.83723094e-17,  1.85166234e-16,  1.84707144e-16,\n",
       "        -9.13273024e-17,  2.93581654e-17, -8.90364729e-17,\n",
       "         2.34565292e-16,  1.59773788e-16,  5.90335894e-02,\n",
       "         5.90335894e-02,  2.71502439e-01,  2.71502439e-01,\n",
       "         1.29390253e-01,  1.29390253e-01, -1.17248050e-01,\n",
       "        -1.17248050e-01,  3.05014148e-01,  3.05014148e-01,\n",
       "        -5.35419084e-01, -5.35419084e-01, -1.12273295e-01,\n",
       "        -1.12273295e-01,  3.65038282e-17, -3.54224866e-19],\n",
       "       [ 0.00000000e+00,  1.38640380e-16, -2.17430148e-16,\n",
       "         9.08242296e-17, -2.61494184e-16, -1.32902769e-16,\n",
       "         6.75963707e-17, -1.54865274e-16, -7.91389829e-18,\n",
       "        -1.54243668e-16, -2.15215597e-16, -5.09113687e-02,\n",
       "        -5.09113687e-02,  6.01633707e-02,  6.01633707e-02,\n",
       "        -4.05999684e-02, -4.05999684e-02,  5.93133269e-01,\n",
       "         5.93133269e-01, -2.67500260e-01, -2.67500260e-01,\n",
       "        -2.60002472e-01, -2.60002472e-01, -3.42825706e-02,\n",
       "        -3.42825706e-02,  1.72188103e-17, -2.72398120e-17]])"
      ]
     },
     "execution_count": 1005,
     "metadata": {},
     "output_type": "execute_result"
    }
   ],
   "source": [
    "# Components of PCA\n",
    "pca.components_"
   ]
  },
  {
   "cell_type": "code",
   "execution_count": 1006,
   "metadata": {},
   "outputs": [
    {
     "data": {
      "text/plain": [
       "array([2.18434006e-01, 1.37415897e-01, 1.02306612e-01, 7.28865374e-02,\n",
       "       4.63585401e-02, 4.57630248e-02, 4.08039437e-02, 3.68106948e-02,\n",
       "       3.57068023e-02, 3.43478197e-02, 3.26326293e-02, 3.06545899e-02,\n",
       "       2.95559527e-02, 2.71695559e-02, 2.49863932e-02, 2.38439924e-02,\n",
       "       2.07861143e-02, 1.49672264e-02, 1.03541640e-02, 7.27440418e-03,\n",
       "       6.94109946e-03, 4.99413886e-32, 3.07797462e-32, 1.54339484e-32,\n",
       "       5.34719221e-33, 2.52332377e-33, 1.13845242e-33])"
      ]
     },
     "execution_count": 1006,
     "metadata": {},
     "output_type": "execute_result"
    }
   ],
   "source": [
    "# Explained Variance Ratio\n",
    "evr = pca.explained_variance_ratio_\n",
    "evr"
   ]
  },
  {
   "cell_type": "code",
   "execution_count": 1007,
   "metadata": {},
   "outputs": [
    {
     "data": {
      "text/plain": [
       "array([0.21843401, 0.3558499 , 0.45815652, 0.53104305, 0.57740159,\n",
       "       0.62316462, 0.66396856, 0.70077926, 0.73648606, 0.77083388,\n",
       "       0.80346651, 0.8341211 , 0.86367705, 0.89084661, 0.915833  ,\n",
       "       0.93967699, 0.96046311, 0.97543033, 0.9857845 , 0.9930589 ,\n",
       "       1.        , 1.        , 1.        , 1.        , 1.        ,\n",
       "       1.        , 1.        ])"
      ]
     },
     "execution_count": 1007,
     "metadata": {},
     "output_type": "execute_result"
    }
   ],
   "source": [
    "var_cum = np.cumsum(evr)\n",
    "var_cum"
   ]
  },
  {
   "cell_type": "markdown",
   "metadata": {},
   "source": [
    "### Scree Plot for Explained Variance"
   ]
  },
  {
   "cell_type": "code",
   "execution_count": 1009,
   "metadata": {},
   "outputs": [
    {
     "data": {
      "image/png": "[encoded data removed]",
      "text/plain": [
       "<Figure size 864x576 with 1 Axes>"
      ]
     },
     "metadata": {
      "needs_background": "light"
     },
     "output_type": "display_data"
    }
   ],
   "source": [
    "fig = plt.figure(figsize=[12,8])\n",
    "plt.vlines(x=15, ymax=1, ymin=0, colors=\"r\", linestyles=\"--\")\n",
    "plt.hlines(y=0.95, xmax=30, xmin=0, colors=\"g\", linestyles=\"--\")\n",
    "plt.plot(var_cum)\n",
    "plt.ylabel(\"Cumulative variance explained\")\n",
    "plt.show()"
   ]
  },
  {
   "cell_type": "markdown",
   "metadata": {},
   "source": [
    "### Perform PCA with 16 components"
   ]
  },
  {
   "cell_type": "code",
   "execution_count": 1013,
   "metadata": {},
   "outputs": [],
   "source": [
    "from sklearn.decomposition import IncrementalPCA"
   ]
  },
  {
   "cell_type": "code",
   "execution_count": 1014,
   "metadata": {},
   "outputs": [
    {
     "data": {
      "text/plain": [
       "IncrementalPCA(n_components=16)"
      ]
     },
     "execution_count": 1014,
     "metadata": {},
     "output_type": "execute_result"
    }
   ],
   "source": [
    "pca_final = IncrementalPCA(n_components = 16)\n",
    "pca_final"
   ]
  },
  {
   "cell_type": "code",
   "execution_count": 1015,
   "metadata": {},
   "outputs": [
    {
     "data": {
      "text/plain": [
       "(5616, 16)"
      ]
     },
     "execution_count": 1015,
     "metadata": {},
     "output_type": "execute_result"
    }
   ],
   "source": [
    "df_train_pca = pca_final.fit_transform(X_train)\n",
    "df_train_pca.shape"
   ]
  },
  {
   "cell_type": "code",
   "execution_count": 1016,
   "metadata": {},
   "outputs": [
    {
     "data": {
      "text/plain": [
       "array([[ 1.00000000e+00, -1.18950446e-05, -7.06296531e-07,\n",
       "        -4.14895022e-05,  5.66549361e-05,  1.01638236e-05,\n",
       "         1.12274166e-04, -5.46622508e-05,  1.68645063e-05,\n",
       "        -3.70627418e-05,  8.05751016e-06, -5.84847883e-05,\n",
       "        -1.08671960e-04, -8.66172500e-05, -5.59641241e-05,\n",
       "        -3.59612261e-05],\n",
       "       [-1.18950446e-05,  1.00000000e+00,  4.44025145e-06,\n",
       "         4.67404095e-05, -1.13884355e-04,  2.96193622e-05,\n",
       "        -1.25586927e-04,  1.77087104e-04,  2.94200000e-06,\n",
       "         7.31132085e-05, -6.07539203e-06,  4.00899327e-05,\n",
       "         1.85865742e-04, -5.54875196e-05,  1.88366929e-04,\n",
       "         3.08883485e-04],\n",
       "       [-7.06296531e-07,  4.44025145e-06,  1.00000000e+00,\n",
       "        -8.12349091e-06, -5.18993285e-06, -1.42060367e-05,\n",
       "        -6.36674938e-05,  4.33306245e-05,  2.05262623e-05,\n",
       "        -1.12976373e-05, -9.90779710e-05, -1.55200329e-05,\n",
       "         4.91584660e-05, -1.07715346e-04,  5.65497359e-05,\n",
       "         1.90635255e-04],\n",
       "       [-4.14895022e-05,  4.67404095e-05, -8.12349091e-06,\n",
       "         1.00000000e+00, -2.23521403e-04,  1.95947132e-05,\n",
       "        -3.21136250e-04,  3.22834364e-04,  8.25214796e-06,\n",
       "         1.31603588e-04,  2.42859853e-05,  1.26479857e-04,\n",
       "         3.64522279e-04,  7.76591760e-05,  3.01291128e-04,\n",
       "         3.93565204e-04],\n",
       "       [ 5.66549361e-05, -1.13884355e-04, -5.18993285e-06,\n",
       "        -2.23521403e-04,  1.00000000e+00, -1.31344634e-04,\n",
       "         6.08753880e-04, -1.10741317e-03,  1.17629816e-05,\n",
       "        -4.70654118e-04,  4.27397500e-05,  2.23654935e-05,\n",
       "        -8.48921987e-04,  6.71137855e-04, -1.19553275e-03,\n",
       "        -2.55562130e-03],\n",
       "       [ 1.01638236e-05,  2.96193622e-05, -1.42060367e-05,\n",
       "         1.95947132e-05, -1.31344634e-04,  1.00000000e+00,\n",
       "         3.80986814e-05,  1.29414838e-04, -1.73743606e-05,\n",
       "         9.24559251e-05,  1.44128433e-04, -4.88685495e-05,\n",
       "         1.23817768e-04, -3.84229646e-05,  1.14985240e-04,\n",
       "         2.41026334e-04],\n",
       "       [ 1.12274166e-04, -1.25586927e-04, -6.36674938e-05,\n",
       "        -3.21136250e-04,  6.08753880e-04,  3.80986814e-05,\n",
       "         1.00000000e+00, -8.62236210e-04,  6.12404944e-07,\n",
       "        -3.18985412e-04,  3.32529856e-04, -2.22371917e-04,\n",
       "        -1.00260376e-03,  2.25628077e-04, -8.49497820e-04,\n",
       "        -1.67228654e-03],\n",
       "       [-5.46622508e-05,  1.77087104e-04,  4.33306245e-05,\n",
       "         3.22834364e-04, -1.10741317e-03,  1.29414838e-04,\n",
       "        -8.62236210e-04,  1.00000000e+00,  3.54561202e-04,\n",
       "         7.16204610e-04, -3.14999152e-04, -2.17467010e-04,\n",
       "         1.10234079e-03, -1.76432063e-03,  2.06819156e-03,\n",
       "         4.61702928e-03],\n",
       "       [ 1.68645063e-05,  2.94200000e-06,  2.05262623e-05,\n",
       "         8.25214796e-06,  1.17629816e-05, -1.73743606e-05,\n",
       "         6.12404944e-07,  3.54561202e-04,  1.00000000e+00,\n",
       "         8.05692481e-05, -2.04494092e-04, -1.69234603e-04,\n",
       "         4.79318894e-05, -4.98503715e-04,  1.24336630e-04,\n",
       "         8.78688230e-04],\n",
       "       [-3.70627418e-05,  7.31132085e-05, -1.12976373e-05,\n",
       "         1.31603588e-04, -4.70654118e-04,  9.24559251e-05,\n",
       "        -3.18985412e-04,  7.16204610e-04,  8.05692481e-05,\n",
       "         1.00000000e+00, -3.94628843e-06, -1.30658759e-04,\n",
       "         4.74764345e-04, -4.48187361e-04,  5.75604415e-04,\n",
       "         1.46651157e-03],\n",
       "       [ 8.05751016e-06, -6.07539203e-06, -9.90779710e-05,\n",
       "         2.42859853e-05,  4.27397500e-05,  1.44128433e-04,\n",
       "         3.32529856e-04, -3.14999152e-04, -2.04494092e-04,\n",
       "        -3.94628843e-06,  1.00000000e+00, -2.23468164e-05,\n",
       "        -1.35493466e-04,  5.98669679e-04, -3.31833806e-04,\n",
       "        -1.21406099e-03],\n",
       "       [-5.84847883e-05,  4.00899327e-05, -1.55200329e-05,\n",
       "         1.26479857e-04,  2.23654935e-05, -4.88685495e-05,\n",
       "        -2.22371917e-04, -2.17467010e-04, -1.69234603e-04,\n",
       "        -1.30658759e-04, -2.23468164e-05,  1.00000000e+00,\n",
       "         4.67001395e-04,  1.41664938e-03, -1.11844333e-05,\n",
       "        -1.24275511e-03],\n",
       "       [-1.08671960e-04,  1.85865742e-04,  4.91584660e-05,\n",
       "         3.64522279e-04, -8.48921987e-04,  1.23817768e-04,\n",
       "        -1.00260376e-03,  1.10234079e-03,  4.79318894e-05,\n",
       "         4.74764345e-04, -1.35493466e-04,  4.67001395e-04,\n",
       "         1.00000000e+00,  1.05505154e-07,  1.11933736e-03,\n",
       "         2.00955300e-03],\n",
       "       [-8.66172500e-05, -5.54875196e-05, -1.07715346e-04,\n",
       "         7.76591760e-05,  6.71137855e-04, -3.84229646e-05,\n",
       "         2.25628077e-04, -1.76432063e-03, -4.98503715e-04,\n",
       "        -4.48187361e-04,  5.98669679e-04,  1.41664938e-03,\n",
       "         1.05505154e-07,  1.00000000e+00, -1.70281980e-03,\n",
       "        -5.36379535e-03],\n",
       "       [-5.59641241e-05,  1.88366929e-04,  5.65497359e-05,\n",
       "         3.01291128e-04, -1.19553275e-03,  1.14985240e-04,\n",
       "        -8.49497820e-04,  2.06819156e-03,  1.24336630e-04,\n",
       "         5.75604415e-04, -3.31833806e-04, -1.11844333e-05,\n",
       "         1.11933736e-03, -1.70281980e-03,  1.00000000e+00,\n",
       "         4.59646926e-03],\n",
       "       [-3.59612261e-05,  3.08883485e-04,  1.90635255e-04,\n",
       "         3.93565204e-04, -2.55562130e-03,  2.41026334e-04,\n",
       "        -1.67228654e-03,  4.61702928e-03,  8.78688230e-04,\n",
       "         1.46651157e-03, -1.21406099e-03, -1.24275511e-03,\n",
       "         2.00955300e-03, -5.36379535e-03,  4.59646926e-03,\n",
       "         1.00000000e+00]])"
      ]
     },
     "execution_count": 1016,
     "metadata": {},
     "output_type": "execute_result"
    }
   ],
   "source": [
    "corr_matrix = np.corrcoef(df_train_pca.T)\n",
    "corr_matrix"
   ]
  },
  {
   "cell_type": "code",
   "execution_count": 1017,
   "metadata": {},
   "outputs": [
    {
     "data": {
      "text/plain": [
       "(16, 16)"
      ]
     },
     "execution_count": 1017,
     "metadata": {},
     "output_type": "execute_result"
    }
   ],
   "source": [
    "corr_matrix.shape"
   ]
  },
  {
   "cell_type": "code",
   "execution_count": 1018,
   "metadata": {},
   "outputs": [
    {
     "data": {
      "text/plain": [
       "<matplotlib.axes._subplots.AxesSubplot at 0x226afb48>"
      ]
     },
     "execution_count": 1018,
     "metadata": {},
     "output_type": "execute_result"
    },
    {
     "data": {
      "image/png": "[encoded data removed]",
      "text/plain": [
       "<Figure size 1080x1080 with 2 Axes>"
      ]
     },
     "metadata": {
      "needs_background": "light"
     },
     "output_type": "display_data"
    }
   ],
   "source": [
    "plt.figure(figsize=[15,15])\n",
    "sns.heatmap(corr_matrix, annot=True)"
   ]
  },
  {
   "cell_type": "markdown",
   "metadata": {},
   "source": [
    "#### Applying Transformation on Test Set"
   ]
  },
  {
   "cell_type": "code",
   "execution_count": 1019,
   "metadata": {},
   "outputs": [
    {
     "data": {
      "text/plain": [
       "(1405, 16)"
      ]
     },
     "execution_count": 1019,
     "metadata": {},
     "output_type": "execute_result"
    }
   ],
   "source": [
    "df_test_pca = pca_final.transform(X_test)\n",
    "df_test_pca.shape"
   ]
  },
  {
   "cell_type": "markdown",
   "metadata": {},
   "source": [
    "### Apply Logistic Regression on data on Principal Components"
   ]
  },
  {
   "cell_type": "code",
   "execution_count": 1020,
   "metadata": {},
   "outputs": [],
   "source": [
    "from sklearn.linear_model import LogisticRegression\n",
    "logistic_pca = LogisticRegression()\n",
    "logistic_model = logistic_pca.fit(df_train_pca, y_train)"
   ]
  },
  {
   "cell_type": "markdown",
   "metadata": {},
   "source": [
    "#### Making Predictions on Test data"
   ]
  },
  {
   "cell_type": "code",
   "execution_count": 1023,
   "metadata": {},
   "outputs": [
    {
     "data": {
      "text/plain": [
       "array([1., 0., 0., ..., 0., 0., 0.])"
      ]
     },
     "execution_count": 1023,
     "metadata": {},
     "output_type": "execute_result"
    }
   ],
   "source": [
    "y_pred_pca = logistic_model.predict(df_test_pca)\n",
    "y_pred_pca"
   ]
  },
  {
   "cell_type": "code",
   "execution_count": 1025,
   "metadata": {},
   "outputs": [
    {
     "data": {
      "text/plain": [
       "array([[0.4550095 , 0.5449905 ],\n",
       "       [0.71863139, 0.28136861],\n",
       "       [0.98577637, 0.01422363],\n",
       "       ...,\n",
       "       [0.81944199, 0.18055801],\n",
       "       [0.78450166, 0.21549834],\n",
       "       [0.70684197, 0.29315803]])"
      ]
     },
     "execution_count": 1025,
     "metadata": {},
     "output_type": "execute_result"
    }
   ],
   "source": [
    "# predicting Probabilities\n",
    "pred_probs_test = logistic_model.predict_proba(df_test_pca)\n",
    "pred_probs_test"
   ]
  },
  {
   "cell_type": "code",
   "execution_count": 1026,
   "metadata": {},
   "outputs": [
    {
     "data": {
      "text/plain": [
       "'0.82'"
      ]
     },
     "execution_count": 1026,
     "metadata": {},
     "output_type": "execute_result"
    }
   ],
   "source": [
    "\"{:2.2}\".format(metrics.roc_auc_score(y_test, pred_probs_test[:,1]))"
   ]
  },
  {
   "cell_type": "code",
   "execution_count": 1028,
   "metadata": {},
   "outputs": [
    {
     "name": "stdout",
     "output_type": "stream",
     "text": [
      "Accuracy Score : 0.7857651245551601\n"
     ]
    }
   ],
   "source": [
    "print(\"Accuracy Score :\", accuracy_score(y_test, y_pred_pca))"
   ]
  },
  {
   "cell_type": "code",
   "execution_count": 1030,
   "metadata": {},
   "outputs": [
    {
     "data": {
      "text/plain": [
       "array([[921, 140],\n",
       "       [161, 183]], dtype=int64)"
      ]
     },
     "execution_count": 1030,
     "metadata": {},
     "output_type": "execute_result"
    }
   ],
   "source": [
    "confusion_matrix(y_test, y_pred_pca)"
   ]
  },
  {
   "cell_type": "code",
   "execution_count": 1032,
   "metadata": {},
   "outputs": [
    {
     "name": "stdout",
     "output_type": "stream",
     "text": [
      "              precision    recall  f1-score   support\n",
      "\n",
      "         0.0       0.85      0.87      0.86      1061\n",
      "         1.0       0.57      0.53      0.55       344\n",
      "\n",
      "    accuracy                           0.79      1405\n",
      "   macro avg       0.71      0.70      0.70      1405\n",
      "weighted avg       0.78      0.79      0.78      1405\n",
      "\n"
     ]
    }
   ],
   "source": [
    "print(classification_report(y_test, y_pred_pca))"
   ]
  },
  {
   "cell_type": "raw",
   "metadata": {},
   "source": [
    "Thanks"
   ]
  },
  {
   "cell_type": "code",
   "execution_count": null,
   "metadata": {},
   "outputs": [],
   "source": []
  }
 ],
 "metadata": {
  "kernelspec": {
   "display_name": "Python 3",
   "language": "python",
   "name": "python3"
  },
  "language_info": {
   "codemirror_mode": {
    "name": "ipython",
    "version": 3
   },
   "file_extension": ".py",
   "mimetype": "text/x-python",
   "name": "python",
   "nbconvert_exporter": "python",
   "pygments_lexer": "ipython3",
   "version": "3.7.7"
  }
 },
 "nbformat": 4,
 "nbformat_minor": 4
}
